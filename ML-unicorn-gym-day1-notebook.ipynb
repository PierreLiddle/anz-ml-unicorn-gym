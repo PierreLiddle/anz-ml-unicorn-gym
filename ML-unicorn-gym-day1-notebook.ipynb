{
 "cells": [
  {
   "cell_type": "markdown",
   "id": "01b27740",
   "metadata": {},
   "source": [
    "# Customer Churn example\n",
    "To illustrate all the steps part of building a model, we'll build a customer churn model out of a Telco customer dataset.\n",
    "We'll look into the existing features available to us and will later build an XGBoost model to predict the \"Churn\" column which is the label/target of interest.\n",
    "\n",
    "The dataset is public and can be found here:\n",
    "https://github.com/IBM/telco-customer-churn-on-icp4d"
   ]
  },
  {
   "cell_type": "markdown",
   "id": "dd099a08",
   "metadata": {},
   "source": [
    "# Jupyter Notebook quick intro"
   ]
  },
  {
   "cell_type": "markdown",
   "id": "5df9b56b",
   "metadata": {},
   "source": [
    "Code vs Markdown Cells (raw only used if you want to export notebook with NBConvert)</br>\n",
    "Shift + Return to execute a cell</br>\n",
    "Tab - auto-completion</br>\n",
    "Jupyter vs JupyterLab vs Sagemaker Studio</br>\n",
    "</br>\n",
    "Escape + ??</br>\n",
    "Escape\tenter command mode</br>\n",
    "Escape + d + d\tdelete selected cell</br>\n",
    "Escape + y\tchange cell to code</br>\n",
    "Escape + m\tchange cell to markdown</br>\n",
    "Escape + r\tchange cell to raw</br>\n",
    "Escape + 1\tchange cell to Heading 1</br>\n",
    "Escape + n\tchange cell to heading n</br>\n",
    "Escape + b\tcreate cell below</br>\n",
    "Escape + a\tInsert cell above</br>"
   ]
  },
  {
   "cell_type": "markdown",
   "id": "fe5a1308",
   "metadata": {},
   "source": [
    "# Let's get started!"
   ]
  },
  {
   "cell_type": "markdown",
   "id": "93ccb691",
   "metadata": {},
   "source": [
    "<img src='img/Screen Shot 2021-09-15 at 12.06.44 pm.png' width=1000 align='left'>"
   ]
  },
  {
   "cell_type": "markdown",
   "id": "a3dab469",
   "metadata": {},
   "source": [
    "## Load the dataset"
   ]
  },
  {
   "cell_type": "code",
   "execution_count": 77,
   "id": "24976b04",
   "metadata": {},
   "outputs": [],
   "source": [
    "import warnings\n",
    "warnings.filterwarnings(\"ignore\")\n",
    "\n",
    "import pandas as pd\n",
    "pd.set_option('display.max_columns', 100)"
   ]
  },
  {
   "cell_type": "code",
   "execution_count": 78,
   "id": "dd0a2e04",
   "metadata": {},
   "outputs": [],
   "source": [
    "data_df = pd.read_csv('./data/Telco-Customer-Churn-with-null-and-outliers.csv')"
   ]
  },
  {
   "cell_type": "markdown",
   "id": "d8bf8efb",
   "metadata": {},
   "source": [
    "## Pandas\n",
    "Most popular python data analysis tool/library. </br>\n",
    "Main object to store/manipulate data = DataFrame (similar in some ways to Spark)"
   ]
  },
  {
   "cell_type": "markdown",
   "id": "70718a0d",
   "metadata": {},
   "source": [
    "## Exploratory Data Analysis (EDA)"
   ]
  },
  {
   "cell_type": "markdown",
   "id": "db7791d4",
   "metadata": {},
   "source": [
    "<img src='img/Screen Shot 2021-09-15 at 12.22.59 pm.png' width=800 align='left'>"
   ]
  },
  {
   "cell_type": "markdown",
   "id": "714c7838",
   "metadata": {},
   "source": [
    "### Getting the shape of the dataset\n",
    "-> 7043 rows and 21 columns/features"
   ]
  },
  {
   "cell_type": "code",
   "execution_count": 79,
   "id": "ac3190c1",
   "metadata": {},
   "outputs": [
    {
     "data": {
      "text/plain": [
       "(7043, 21)"
      ]
     },
     "execution_count": 79,
     "metadata": {},
     "output_type": "execute_result"
    }
   ],
   "source": [
    "data_df.shape"
   ]
  },
  {
   "cell_type": "markdown",
   "id": "1c69e5e4",
   "metadata": {},
   "source": [
    "### Display the first 5 line of the dataset\n",
    "similarly, to display the last 5 lines of the dataset you'd use data_df.tail(5)"
   ]
  },
  {
   "cell_type": "code",
   "execution_count": 80,
   "id": "ca4fede2",
   "metadata": {},
   "outputs": [
    {
     "data": {
      "text/html": [
       "<div>\n",
       "<style scoped>\n",
       "    .dataframe tbody tr th:only-of-type {\n",
       "        vertical-align: middle;\n",
       "    }\n",
       "\n",
       "    .dataframe tbody tr th {\n",
       "        vertical-align: top;\n",
       "    }\n",
       "\n",
       "    .dataframe thead th {\n",
       "        text-align: right;\n",
       "    }\n",
       "</style>\n",
       "<table border=\"1\" class=\"dataframe\">\n",
       "  <thead>\n",
       "    <tr style=\"text-align: right;\">\n",
       "      <th></th>\n",
       "      <th>customerID</th>\n",
       "      <th>gender</th>\n",
       "      <th>SeniorCitizen</th>\n",
       "      <th>Partner</th>\n",
       "      <th>Dependents</th>\n",
       "      <th>tenure</th>\n",
       "      <th>PhoneService</th>\n",
       "      <th>MultipleLines</th>\n",
       "      <th>InternetService</th>\n",
       "      <th>OnlineSecurity</th>\n",
       "      <th>OnlineBackup</th>\n",
       "      <th>DeviceProtection</th>\n",
       "      <th>TechSupport</th>\n",
       "      <th>StreamingTV</th>\n",
       "      <th>StreamingMovies</th>\n",
       "      <th>Contract</th>\n",
       "      <th>PaperlessBilling</th>\n",
       "      <th>PaymentMethod</th>\n",
       "      <th>MonthlyCharges</th>\n",
       "      <th>TotalCharges</th>\n",
       "      <th>Churn</th>\n",
       "    </tr>\n",
       "  </thead>\n",
       "  <tbody>\n",
       "    <tr>\n",
       "      <th>0</th>\n",
       "      <td>7590-VHVEG</td>\n",
       "      <td>Female</td>\n",
       "      <td>0</td>\n",
       "      <td>Yes</td>\n",
       "      <td>No</td>\n",
       "      <td>1.0</td>\n",
       "      <td>No</td>\n",
       "      <td>No phone service</td>\n",
       "      <td>DSL</td>\n",
       "      <td>No</td>\n",
       "      <td>Yes</td>\n",
       "      <td>No</td>\n",
       "      <td>No</td>\n",
       "      <td>No</td>\n",
       "      <td>No</td>\n",
       "      <td>Month-to-month</td>\n",
       "      <td>Yes</td>\n",
       "      <td>Electronic check</td>\n",
       "      <td>29.85</td>\n",
       "      <td>29.85</td>\n",
       "      <td>No</td>\n",
       "    </tr>\n",
       "    <tr>\n",
       "      <th>1</th>\n",
       "      <td>5575-GNVDE</td>\n",
       "      <td>Male</td>\n",
       "      <td>0</td>\n",
       "      <td>No</td>\n",
       "      <td>No</td>\n",
       "      <td>34.0</td>\n",
       "      <td>Yes</td>\n",
       "      <td>No</td>\n",
       "      <td>DSL</td>\n",
       "      <td>Yes</td>\n",
       "      <td>No</td>\n",
       "      <td>Yes</td>\n",
       "      <td>No</td>\n",
       "      <td>No</td>\n",
       "      <td>No</td>\n",
       "      <td>One year</td>\n",
       "      <td>No</td>\n",
       "      <td>Mailed check</td>\n",
       "      <td>56.95</td>\n",
       "      <td>1889.50</td>\n",
       "      <td>No</td>\n",
       "    </tr>\n",
       "    <tr>\n",
       "      <th>2</th>\n",
       "      <td>3668-QPYBK</td>\n",
       "      <td>Male</td>\n",
       "      <td>0</td>\n",
       "      <td>No</td>\n",
       "      <td>No</td>\n",
       "      <td>2.0</td>\n",
       "      <td>Yes</td>\n",
       "      <td>No</td>\n",
       "      <td>DSL</td>\n",
       "      <td>Yes</td>\n",
       "      <td>Yes</td>\n",
       "      <td>No</td>\n",
       "      <td>No</td>\n",
       "      <td>No</td>\n",
       "      <td>No</td>\n",
       "      <td>Month-to-month</td>\n",
       "      <td>Yes</td>\n",
       "      <td>Mailed check</td>\n",
       "      <td>53.85</td>\n",
       "      <td>108.15</td>\n",
       "      <td>Yes</td>\n",
       "    </tr>\n",
       "    <tr>\n",
       "      <th>3</th>\n",
       "      <td>7795-CFOCW</td>\n",
       "      <td>Male</td>\n",
       "      <td>0</td>\n",
       "      <td>No</td>\n",
       "      <td>No</td>\n",
       "      <td>45.0</td>\n",
       "      <td>No</td>\n",
       "      <td>No phone service</td>\n",
       "      <td>DSL</td>\n",
       "      <td>Yes</td>\n",
       "      <td>No</td>\n",
       "      <td>Yes</td>\n",
       "      <td>Yes</td>\n",
       "      <td>No</td>\n",
       "      <td>No</td>\n",
       "      <td>One year</td>\n",
       "      <td>No</td>\n",
       "      <td>Bank transfer (automatic)</td>\n",
       "      <td>42.30</td>\n",
       "      <td>1840.75</td>\n",
       "      <td>No</td>\n",
       "    </tr>\n",
       "    <tr>\n",
       "      <th>4</th>\n",
       "      <td>9237-HQITU</td>\n",
       "      <td>Female</td>\n",
       "      <td>0</td>\n",
       "      <td>No</td>\n",
       "      <td>No</td>\n",
       "      <td>2.0</td>\n",
       "      <td>Yes</td>\n",
       "      <td>No</td>\n",
       "      <td>Fiber optic</td>\n",
       "      <td>No</td>\n",
       "      <td>No</td>\n",
       "      <td>No</td>\n",
       "      <td>No</td>\n",
       "      <td>No</td>\n",
       "      <td>No</td>\n",
       "      <td>Month-to-month</td>\n",
       "      <td>Yes</td>\n",
       "      <td>Electronic check</td>\n",
       "      <td>70.70</td>\n",
       "      <td>151.65</td>\n",
       "      <td>Yes</td>\n",
       "    </tr>\n",
       "  </tbody>\n",
       "</table>\n",
       "</div>"
      ],
      "text/plain": [
       "   customerID  gender  SeniorCitizen Partner Dependents  tenure PhoneService  \\\n",
       "0  7590-VHVEG  Female              0     Yes         No     1.0           No   \n",
       "1  5575-GNVDE    Male              0      No         No    34.0          Yes   \n",
       "2  3668-QPYBK    Male              0      No         No     2.0          Yes   \n",
       "3  7795-CFOCW    Male              0      No         No    45.0           No   \n",
       "4  9237-HQITU  Female              0      No         No     2.0          Yes   \n",
       "\n",
       "      MultipleLines InternetService OnlineSecurity OnlineBackup  \\\n",
       "0  No phone service             DSL             No          Yes   \n",
       "1                No             DSL            Yes           No   \n",
       "2                No             DSL            Yes          Yes   \n",
       "3  No phone service             DSL            Yes           No   \n",
       "4                No     Fiber optic             No           No   \n",
       "\n",
       "  DeviceProtection TechSupport StreamingTV StreamingMovies        Contract  \\\n",
       "0               No          No          No              No  Month-to-month   \n",
       "1              Yes          No          No              No        One year   \n",
       "2               No          No          No              No  Month-to-month   \n",
       "3              Yes         Yes          No              No        One year   \n",
       "4               No          No          No              No  Month-to-month   \n",
       "\n",
       "  PaperlessBilling              PaymentMethod  MonthlyCharges  TotalCharges  \\\n",
       "0              Yes           Electronic check           29.85         29.85   \n",
       "1               No               Mailed check           56.95       1889.50   \n",
       "2              Yes               Mailed check           53.85        108.15   \n",
       "3               No  Bank transfer (automatic)           42.30       1840.75   \n",
       "4              Yes           Electronic check           70.70        151.65   \n",
       "\n",
       "  Churn  \n",
       "0    No  \n",
       "1    No  \n",
       "2   Yes  \n",
       "3    No  \n",
       "4   Yes  "
      ]
     },
     "execution_count": 80,
     "metadata": {},
     "output_type": "execute_result"
    }
   ],
   "source": [
    "data_df.head(5)"
   ]
  },
  {
   "cell_type": "markdown",
   "id": "717479df",
   "metadata": {},
   "source": [
    "### playing with the data"
   ]
  },
  {
   "cell_type": "markdown",
   "id": "8aab2a4f",
   "metadata": {},
   "source": [
    "Select a column only. Note that the below return a pandas series which is a different type of object than a Dataframe."
   ]
  },
  {
   "cell_type": "code",
   "execution_count": 81,
   "id": "96435cb9",
   "metadata": {},
   "outputs": [
    {
     "data": {
      "text/plain": [
       "0    Female\n",
       "1      Male\n",
       "Name: gender, dtype: object"
      ]
     },
     "execution_count": 81,
     "metadata": {},
     "output_type": "execute_result"
    }
   ],
   "source": [
    "#data_df['gender']\n",
    "data_df['gender'].head(2)"
   ]
  },
  {
   "cell_type": "markdown",
   "id": "02b11f2c",
   "metadata": {},
   "source": [
    "Filter a column on a specific value"
   ]
  },
  {
   "cell_type": "code",
   "execution_count": 82,
   "id": "b6ca2b2d",
   "metadata": {},
   "outputs": [
    {
     "data": {
      "text/html": [
       "<div>\n",
       "<style scoped>\n",
       "    .dataframe tbody tr th:only-of-type {\n",
       "        vertical-align: middle;\n",
       "    }\n",
       "\n",
       "    .dataframe tbody tr th {\n",
       "        vertical-align: top;\n",
       "    }\n",
       "\n",
       "    .dataframe thead th {\n",
       "        text-align: right;\n",
       "    }\n",
       "</style>\n",
       "<table border=\"1\" class=\"dataframe\">\n",
       "  <thead>\n",
       "    <tr style=\"text-align: right;\">\n",
       "      <th></th>\n",
       "      <th>customerID</th>\n",
       "      <th>gender</th>\n",
       "      <th>SeniorCitizen</th>\n",
       "      <th>Partner</th>\n",
       "      <th>Dependents</th>\n",
       "      <th>tenure</th>\n",
       "      <th>PhoneService</th>\n",
       "      <th>MultipleLines</th>\n",
       "      <th>InternetService</th>\n",
       "      <th>OnlineSecurity</th>\n",
       "      <th>OnlineBackup</th>\n",
       "      <th>DeviceProtection</th>\n",
       "      <th>TechSupport</th>\n",
       "      <th>StreamingTV</th>\n",
       "      <th>StreamingMovies</th>\n",
       "      <th>Contract</th>\n",
       "      <th>PaperlessBilling</th>\n",
       "      <th>PaymentMethod</th>\n",
       "      <th>MonthlyCharges</th>\n",
       "      <th>TotalCharges</th>\n",
       "      <th>Churn</th>\n",
       "    </tr>\n",
       "  </thead>\n",
       "  <tbody>\n",
       "    <tr>\n",
       "      <th>0</th>\n",
       "      <td>7590-VHVEG</td>\n",
       "      <td>Female</td>\n",
       "      <td>0</td>\n",
       "      <td>Yes</td>\n",
       "      <td>No</td>\n",
       "      <td>1.0</td>\n",
       "      <td>No</td>\n",
       "      <td>No phone service</td>\n",
       "      <td>DSL</td>\n",
       "      <td>No</td>\n",
       "      <td>Yes</td>\n",
       "      <td>No</td>\n",
       "      <td>No</td>\n",
       "      <td>No</td>\n",
       "      <td>No</td>\n",
       "      <td>Month-to-month</td>\n",
       "      <td>Yes</td>\n",
       "      <td>Electronic check</td>\n",
       "      <td>29.85</td>\n",
       "      <td>29.85</td>\n",
       "      <td>No</td>\n",
       "    </tr>\n",
       "    <tr>\n",
       "      <th>4</th>\n",
       "      <td>9237-HQITU</td>\n",
       "      <td>Female</td>\n",
       "      <td>0</td>\n",
       "      <td>No</td>\n",
       "      <td>No</td>\n",
       "      <td>2.0</td>\n",
       "      <td>Yes</td>\n",
       "      <td>No</td>\n",
       "      <td>Fiber optic</td>\n",
       "      <td>No</td>\n",
       "      <td>No</td>\n",
       "      <td>No</td>\n",
       "      <td>No</td>\n",
       "      <td>No</td>\n",
       "      <td>No</td>\n",
       "      <td>Month-to-month</td>\n",
       "      <td>Yes</td>\n",
       "      <td>Electronic check</td>\n",
       "      <td>70.70</td>\n",
       "      <td>151.65</td>\n",
       "      <td>Yes</td>\n",
       "    </tr>\n",
       "  </tbody>\n",
       "</table>\n",
       "</div>"
      ],
      "text/plain": [
       "   customerID  gender  SeniorCitizen Partner Dependents  tenure PhoneService  \\\n",
       "0  7590-VHVEG  Female              0     Yes         No     1.0           No   \n",
       "4  9237-HQITU  Female              0      No         No     2.0          Yes   \n",
       "\n",
       "      MultipleLines InternetService OnlineSecurity OnlineBackup  \\\n",
       "0  No phone service             DSL             No          Yes   \n",
       "4                No     Fiber optic             No           No   \n",
       "\n",
       "  DeviceProtection TechSupport StreamingTV StreamingMovies        Contract  \\\n",
       "0               No          No          No              No  Month-to-month   \n",
       "4               No          No          No              No  Month-to-month   \n",
       "\n",
       "  PaperlessBilling     PaymentMethod  MonthlyCharges  TotalCharges Churn  \n",
       "0              Yes  Electronic check           29.85         29.85    No  \n",
       "4              Yes  Electronic check           70.70        151.65   Yes  "
      ]
     },
     "execution_count": 82,
     "metadata": {},
     "output_type": "execute_result"
    }
   ],
   "source": [
    "data_df[data_df.gender == 'Female'].head(2)"
   ]
  },
  {
   "cell_type": "markdown",
   "id": "45d65ba6",
   "metadata": {},
   "source": [
    "### Get a view of the column type and presence of null values\n",
    "We can notice that Dtype are either int/float so numerical values or object, meaning they are considered as categorical value by pandas.</br>\n",
    "We can also notice that the tenure column/feature has some null value."
   ]
  },
  {
   "cell_type": "code",
   "execution_count": 83,
   "id": "a1380858",
   "metadata": {},
   "outputs": [
    {
     "name": "stdout",
     "output_type": "stream",
     "text": [
      "<class 'pandas.core.frame.DataFrame'>\n",
      "RangeIndex: 7043 entries, 0 to 7042\n",
      "Data columns (total 21 columns):\n",
      " #   Column            Non-Null Count  Dtype  \n",
      "---  ------            --------------  -----  \n",
      " 0   customerID        7043 non-null   object \n",
      " 1   gender            7043 non-null   object \n",
      " 2   SeniorCitizen     7043 non-null   int64  \n",
      " 3   Partner           7043 non-null   object \n",
      " 4   Dependents        7043 non-null   object \n",
      " 5   tenure            6992 non-null   float64\n",
      " 6   PhoneService      7043 non-null   object \n",
      " 7   MultipleLines     7043 non-null   object \n",
      " 8   InternetService   7043 non-null   object \n",
      " 9   OnlineSecurity    7043 non-null   object \n",
      " 10  OnlineBackup      7043 non-null   object \n",
      " 11  DeviceProtection  7043 non-null   object \n",
      " 12  TechSupport       7043 non-null   object \n",
      " 13  StreamingTV       7043 non-null   object \n",
      " 14  StreamingMovies   7043 non-null   object \n",
      " 15  Contract          7043 non-null   object \n",
      " 16  PaperlessBilling  7043 non-null   object \n",
      " 17  PaymentMethod     7043 non-null   object \n",
      " 18  MonthlyCharges    7043 non-null   float64\n",
      " 19  TotalCharges      7032 non-null   float64\n",
      " 20  Churn             7043 non-null   object \n",
      "dtypes: float64(3), int64(1), object(17)\n",
      "memory usage: 1.1+ MB\n"
     ]
    }
   ],
   "source": [
    "data_df.info()"
   ]
  },
  {
   "cell_type": "markdown",
   "id": "221d5408",
   "metadata": {},
   "source": [
    "In case TotalCharges is detected as an object, use the below line to cast it to numeric.the coerce parameter will input a NaN when not able to cast the value into a numeric.\n",
    "\n",
    "#data_df.TotalCharges = pd.to_numeric(data_df.TotalCharges, errors='coerce')"
   ]
  },
  {
   "cell_type": "markdown",
   "id": "160d0176",
   "metadata": {},
   "source": [
    "### For numeric columns, describe() gives you mean, standard deviation, min,max etc"
   ]
  },
  {
   "cell_type": "code",
   "execution_count": 84,
   "id": "e19b4b43",
   "metadata": {},
   "outputs": [
    {
     "data": {
      "text/html": [
       "<div>\n",
       "<style scoped>\n",
       "    .dataframe tbody tr th:only-of-type {\n",
       "        vertical-align: middle;\n",
       "    }\n",
       "\n",
       "    .dataframe tbody tr th {\n",
       "        vertical-align: top;\n",
       "    }\n",
       "\n",
       "    .dataframe thead th {\n",
       "        text-align: right;\n",
       "    }\n",
       "</style>\n",
       "<table border=\"1\" class=\"dataframe\">\n",
       "  <thead>\n",
       "    <tr style=\"text-align: right;\">\n",
       "      <th></th>\n",
       "      <th>SeniorCitizen</th>\n",
       "      <th>tenure</th>\n",
       "      <th>MonthlyCharges</th>\n",
       "      <th>TotalCharges</th>\n",
       "    </tr>\n",
       "  </thead>\n",
       "  <tbody>\n",
       "    <tr>\n",
       "      <th>count</th>\n",
       "      <td>7043.000000</td>\n",
       "      <td>6992.000000</td>\n",
       "      <td>7043.000000</td>\n",
       "      <td>7032.000000</td>\n",
       "    </tr>\n",
       "    <tr>\n",
       "      <th>mean</th>\n",
       "      <td>0.162147</td>\n",
       "      <td>32.356836</td>\n",
       "      <td>64.761692</td>\n",
       "      <td>2291.462607</td>\n",
       "    </tr>\n",
       "    <tr>\n",
       "      <th>std</th>\n",
       "      <td>0.368612</td>\n",
       "      <td>24.548507</td>\n",
       "      <td>30.090047</td>\n",
       "      <td>2299.341231</td>\n",
       "    </tr>\n",
       "    <tr>\n",
       "      <th>min</th>\n",
       "      <td>0.000000</td>\n",
       "      <td>0.000000</td>\n",
       "      <td>18.250000</td>\n",
       "      <td>18.800000</td>\n",
       "    </tr>\n",
       "    <tr>\n",
       "      <th>25%</th>\n",
       "      <td>0.000000</td>\n",
       "      <td>9.000000</td>\n",
       "      <td>35.500000</td>\n",
       "      <td>401.450000</td>\n",
       "    </tr>\n",
       "    <tr>\n",
       "      <th>50%</th>\n",
       "      <td>0.000000</td>\n",
       "      <td>29.000000</td>\n",
       "      <td>70.350000</td>\n",
       "      <td>1398.425000</td>\n",
       "    </tr>\n",
       "    <tr>\n",
       "      <th>75%</th>\n",
       "      <td>0.000000</td>\n",
       "      <td>55.000000</td>\n",
       "      <td>89.850000</td>\n",
       "      <td>3801.400000</td>\n",
       "    </tr>\n",
       "    <tr>\n",
       "      <th>max</th>\n",
       "      <td>1.000000</td>\n",
       "      <td>72.000000</td>\n",
       "      <td>118.750000</td>\n",
       "      <td>22000.000000</td>\n",
       "    </tr>\n",
       "  </tbody>\n",
       "</table>\n",
       "</div>"
      ],
      "text/plain": [
       "       SeniorCitizen       tenure  MonthlyCharges  TotalCharges\n",
       "count    7043.000000  6992.000000     7043.000000   7032.000000\n",
       "mean        0.162147    32.356836       64.761692   2291.462607\n",
       "std         0.368612    24.548507       30.090047   2299.341231\n",
       "min         0.000000     0.000000       18.250000     18.800000\n",
       "25%         0.000000     9.000000       35.500000    401.450000\n",
       "50%         0.000000    29.000000       70.350000   1398.425000\n",
       "75%         0.000000    55.000000       89.850000   3801.400000\n",
       "max         1.000000    72.000000      118.750000  22000.000000"
      ]
     },
     "execution_count": 84,
     "metadata": {},
     "output_type": "execute_result"
    }
   ],
   "source": [
    "data_df.describe()"
   ]
  },
  {
   "cell_type": "markdown",
   "id": "e2b951b8",
   "metadata": {},
   "source": [
    "### Get the different values for a specific categorical feature/column\n",
    "Note: data_df.gender is equivalent to data_df['gender']"
   ]
  },
  {
   "cell_type": "code",
   "execution_count": 85,
   "id": "51b632a2",
   "metadata": {},
   "outputs": [
    {
     "data": {
      "text/plain": [
       "Male      3555\n",
       "Female    3488\n",
       "Name: gender, dtype: int64"
      ]
     },
     "execution_count": 85,
     "metadata": {},
     "output_type": "execute_result"
    }
   ],
   "source": [
    "data_df.gender.value_counts()"
   ]
  },
  {
   "cell_type": "markdown",
   "id": "38a1cf8b",
   "metadata": {},
   "source": [
    "### Get the cardinality of those categorical features\n",
    "Note: will be useful later when encoding those features into numerical representations"
   ]
  },
  {
   "cell_type": "code",
   "execution_count": 86,
   "id": "b5c027fc",
   "metadata": {},
   "outputs": [
    {
     "data": {
      "text/plain": [
       "customerID          7043\n",
       "gender                 2\n",
       "SeniorCitizen          2\n",
       "Partner                2\n",
       "Dependents             2\n",
       "tenure                73\n",
       "PhoneService           2\n",
       "MultipleLines          3\n",
       "InternetService        3\n",
       "OnlineSecurity         3\n",
       "OnlineBackup           3\n",
       "DeviceProtection       3\n",
       "TechSupport            3\n",
       "StreamingTV            3\n",
       "StreamingMovies        3\n",
       "Contract               3\n",
       "PaperlessBilling       2\n",
       "PaymentMethod          4\n",
       "MonthlyCharges      1585\n",
       "TotalCharges        6530\n",
       "Churn                  2\n",
       "dtype: int64"
      ]
     },
     "execution_count": 86,
     "metadata": {},
     "output_type": "execute_result"
    }
   ],
   "source": [
    "cardinality_pd_series = data_df.apply(pd.Series.nunique)\n",
    "cardinality_pd_series"
   ]
  },
  {
   "cell_type": "markdown",
   "id": "5efff120",
   "metadata": {},
   "source": [
    "</br>We notice that a few of those features have yes/no values (cardinality = 2) so we'll turn those into 0/1 values"
   ]
  },
  {
   "cell_type": "code",
   "execution_count": 87,
   "id": "128c1467",
   "metadata": {},
   "outputs": [],
   "source": [
    "list_of_cols_to_transform = ['Partner', 'Dependents', 'PhoneService', 'PaperlessBilling', 'Churn']"
   ]
  },
  {
   "cell_type": "code",
   "execution_count": 88,
   "id": "c79588ca",
   "metadata": {},
   "outputs": [],
   "source": [
    "for col in list_of_cols_to_transform:\n",
    "    data_df[col] = data_df[col].apply(lambda x: 0 if str(x).lower() == 'no' else 1)\n",
    "    data_df[col] = pd.to_numeric(data_df[col])"
   ]
  },
  {
   "cell_type": "code",
   "execution_count": 89,
   "id": "cfb50362",
   "metadata": {},
   "outputs": [],
   "source": [
    "data_df['gender'] = data_df['gender'].apply(lambda x: 0 if str(x).lower() == 'male' else 1)\n",
    "data_df['gender'] = pd.to_numeric(data_df['gender'])"
   ]
  },
  {
   "cell_type": "markdown",
   "id": "9cd6756e",
   "metadata": {},
   "source": [
    "### Now let's draw some graphs!! \n",
    "Notes:</br>\n",
    "Matplotlib is the goto library to draw graph in jupyter notebooks. </br>\n",
    "Seaborn is a wrapper around matplotlib simplifying its usage.</br>\n",
    "The plot method on Series and DataFrame is just a simple wrapper around plt.plot </br>"
   ]
  },
  {
   "cell_type": "code",
   "execution_count": 90,
   "id": "1ec270f4",
   "metadata": {},
   "outputs": [],
   "source": [
    "import matplotlib.pyplot as plt\n",
    "%matplotlib inline\n",
    "\n",
    "import seaborn as sns"
   ]
  },
  {
   "cell_type": "markdown",
   "id": "f567a9b8",
   "metadata": {},
   "source": [
    "### Univariate stats - Simple bar chart to look at one single column/feature"
   ]
  },
  {
   "cell_type": "code",
   "execution_count": 91,
   "id": "69144c84",
   "metadata": {},
   "outputs": [
    {
     "data": {
      "image/png": "[encoded data removed]",
      "text/plain": [
       "<Figure size 432x288 with 1 Axes>"
      ]
     },
     "metadata": {
      "needs_background": "light"
     },
     "output_type": "display_data"
    }
   ],
   "source": [
    "data_df.gender.value_counts().plot.bar()\n",
    "plt.show()"
   ]
  },
  {
   "cell_type": "code",
   "execution_count": 92,
   "id": "af7f0030",
   "metadata": {},
   "outputs": [
    {
     "data": {
      "image/png": "[encoded data removed]",
      "text/plain": [
       "<Figure size 432x288 with 1 Axes>"
      ]
     },
     "metadata": {
      "needs_background": "light"
     },
     "output_type": "display_data"
    }
   ],
   "source": [
    "sns.countplot(x='gender', data=data_df)\n",
    "plt.show()"
   ]
  },
  {
   "cell_type": "markdown",
   "id": "2fe720f6",
   "metadata": {},
   "source": [
    "### Looking at he distribution of the tenure\n",
    "Histograms show distribution of numeric data. Data is divided into \"buckets\" or \"bins\"."
   ]
  },
  {
   "cell_type": "code",
   "execution_count": 93,
   "id": "5bf70b4f",
   "metadata": {},
   "outputs": [
    {
     "data": {
      "image/png": "[encoded data removed]",
      "text/plain": [
       "<Figure size 432x288 with 1 Axes>"
      ]
     },
     "metadata": {
      "needs_background": "light"
     },
     "output_type": "display_data"
    }
   ],
   "source": [
    "sns.distplot(data_df['tenure'], bins=50, kde=False)\n",
    "# equivalent: data_df['tenure'].plot.hist(bins=30)\n",
    "plt.show()"
   ]
  },
  {
   "cell_type": "markdown",
   "id": "0944eabd",
   "metadata": {},
   "source": [
    "### Looking at the composition of certain features"
   ]
  },
  {
   "cell_type": "code",
   "execution_count": 94,
   "id": "db4973b5",
   "metadata": {},
   "outputs": [
    {
     "data": {
      "image/png": "[encoded data removed]",
      "text/plain": [
       "<Figure size 432x288 with 1 Axes>"
      ]
     },
     "metadata": {},
     "output_type": "display_data"
    }
   ],
   "source": [
    "data_df['InternetService'].value_counts().plot.pie(y='InternetService')\n",
    "plt.show()"
   ]
  },
  {
   "cell_type": "markdown",
   "id": "2b2c8aee",
   "metadata": {},
   "source": [
    "### FacetGrid charts with seaborn\n",
    "Note:</br>\n",
    "- useful to identify differences across a combination of categorical features.</br> \n",
    "- be careful if you have high cardinality in those features, it will take a long time.</br>\n",
    "- In that example, we can see that the month to month contracts have a higher Churn ratio, especially the contracts with no internet."
   ]
  },
  {
   "cell_type": "code",
   "execution_count": 95,
   "id": "88b91686",
   "metadata": {},
   "outputs": [
    {
     "data": {
      "image/png": "[encoded data removed]",
      "text/plain": [
       "<Figure size 958.4x475.2 with 9 Axes>"
      ]
     },
     "metadata": {
      "needs_background": "light"
     },
     "output_type": "display_data"
    }
   ],
   "source": [
    "grid = sns.FacetGrid(data_df, col='Contract', row='InternetService', height=2.2, aspect=2)\n",
    "grid.map(sns.countplot, 'Churn')\n",
    "grid.add_legend();\n",
    "plt.show()"
   ]
  },
  {
   "cell_type": "markdown",
   "id": "7c725162",
   "metadata": {},
   "source": [
    "### Looking at the relationship between 2 variables"
   ]
  },
  {
   "cell_type": "markdown",
   "id": "c0862985",
   "metadata": {},
   "source": [
    "#### Scatter plot\n",
    "Shows how strongly pairs of features are related.\n",
    "In that example, we show the obvious correlation between totalcharges and monthly charges as well as few outliers"
   ]
  },
  {
   "cell_type": "code",
   "execution_count": 96,
   "id": "3b9e1ba2",
   "metadata": {},
   "outputs": [
    {
     "data": {
      "image/png": "[encoded data removed]",
      "text/plain": [
       "<Figure size 432x288 with 1 Axes>"
      ]
     },
     "metadata": {
      "needs_background": "light"
     },
     "output_type": "display_data"
    }
   ],
   "source": [
    "#plt.xticks(rotation=90)\n",
    "sns.scatterplot(data=data_df.sample(frac=1), x='TotalCharges', y='MonthlyCharges')\n",
    "plt.show()"
   ]
  },
  {
   "cell_type": "markdown",
   "id": "92fc40b1",
   "metadata": {},
   "source": [
    "<img src='img/Screen Shot 2021-09-15 at 5.48.53 pm.png' width=800 align='left'>"
   ]
  },
  {
   "cell_type": "markdown",
   "id": "371b2f95",
   "metadata": {},
   "source": [
    "<img src='img/Screen Shot 2021-09-15 at 5.48.25 pm.png' width=800 align='left'>"
   ]
  },
  {
   "cell_type": "markdown",
   "id": "5eb6d6d6",
   "metadata": {},
   "source": [
    "### Let's generate a correlation matrix for our dataset"
   ]
  },
  {
   "cell_type": "markdown",
   "id": "635fa6e8",
   "metadata": {},
   "source": [
    "to generate a correlation matrix, we need numerical values so we need to transform our categorical features into numerical one.</br>\n",
    "For that, we generate the one hot encoding representation of those categorical features.</br>"
   ]
  },
  {
   "cell_type": "markdown",
   "id": "eb289240",
   "metadata": {},
   "source": [
    "### Quick side explanation on categorical features encoding\n",
    "we'll use that for the correlation matrix but especially just before training our model once we're done with the feature engineering."
   ]
  },
  {
   "cell_type": "markdown",
   "id": "be6b1465",
   "metadata": {},
   "source": [
    "<img src='img/Screen Shot 2021-09-17 at 11.20.26 am.png' width=800 align='left'>"
   ]
  },
  {
   "cell_type": "markdown",
   "id": "5645d6ab",
   "metadata": {},
   "source": [
    "<img src='img/Screen Shot 2021-09-17 at 11.20.38 am.png' width=800 align='left'>"
   ]
  },
  {
   "cell_type": "markdown",
   "id": "42873b9a",
   "metadata": {},
   "source": [
    "Example:"
   ]
  },
  {
   "cell_type": "markdown",
   "id": "6554a7d8",
   "metadata": {},
   "source": [
    "<img src='img/Screen Shot 2021-10-07 at 6.18.27 pm.png' width=800 align='left'/>"
   ]
  },
  {
   "cell_type": "code",
   "execution_count": 97,
   "id": "bc48b45f",
   "metadata": {},
   "outputs": [],
   "source": [
    "from sklearn.preprocessing import LabelEncoder\n",
    "\n",
    "def encode_categorical_features(df):\n",
    "    #getting a list of categorical columns\n",
    "    categorical_col = []\n",
    "    for col in df.columns:\n",
    "        col_dtype = df[col].dtype\n",
    "        if col_dtype == 'object':\n",
    "            categorical_col.append(col)\n",
    "         \n",
    "    #generating the one hot encoded features        \n",
    "    df = pd.get_dummies(df, columns=categorical_col)\n",
    "                           \n",
    "    print(df.shape)\n",
    "    return df"
   ]
  },
  {
   "cell_type": "code",
   "execution_count": 98,
   "id": "5e9b5971",
   "metadata": {},
   "outputs": [
    {
     "name": "stdout",
     "output_type": "stream",
     "text": [
      "(7043, 41)\n"
     ]
    }
   ],
   "source": [
    "#dropping the customerID as it is of no use for the correlation matrix\n",
    "corr_data_df = encode_categorical_features(data_df.drop('customerID', axis=1))"
   ]
  },
  {
   "cell_type": "code",
   "execution_count": 99,
   "id": "d5de0ec9",
   "metadata": {},
   "outputs": [
    {
     "data": {
      "text/html": [
       "<div>\n",
       "<style scoped>\n",
       "    .dataframe tbody tr th:only-of-type {\n",
       "        vertical-align: middle;\n",
       "    }\n",
       "\n",
       "    .dataframe tbody tr th {\n",
       "        vertical-align: top;\n",
       "    }\n",
       "\n",
       "    .dataframe thead th {\n",
       "        text-align: right;\n",
       "    }\n",
       "</style>\n",
       "<table border=\"1\" class=\"dataframe\">\n",
       "  <thead>\n",
       "    <tr style=\"text-align: right;\">\n",
       "      <th></th>\n",
       "      <th>gender</th>\n",
       "      <th>SeniorCitizen</th>\n",
       "      <th>Partner</th>\n",
       "      <th>Dependents</th>\n",
       "      <th>tenure</th>\n",
       "      <th>PhoneService</th>\n",
       "      <th>PaperlessBilling</th>\n",
       "      <th>MonthlyCharges</th>\n",
       "      <th>TotalCharges</th>\n",
       "      <th>Churn</th>\n",
       "      <th>MultipleLines_No</th>\n",
       "      <th>MultipleLines_No phone service</th>\n",
       "      <th>MultipleLines_Yes</th>\n",
       "      <th>InternetService_DSL</th>\n",
       "      <th>InternetService_Fiber optic</th>\n",
       "      <th>InternetService_No</th>\n",
       "      <th>OnlineSecurity_No</th>\n",
       "      <th>OnlineSecurity_No internet service</th>\n",
       "      <th>OnlineSecurity_Yes</th>\n",
       "      <th>OnlineBackup_No</th>\n",
       "      <th>OnlineBackup_No internet service</th>\n",
       "      <th>OnlineBackup_Yes</th>\n",
       "      <th>DeviceProtection_No</th>\n",
       "      <th>DeviceProtection_No internet service</th>\n",
       "      <th>DeviceProtection_Yes</th>\n",
       "      <th>TechSupport_No</th>\n",
       "      <th>TechSupport_No internet service</th>\n",
       "      <th>TechSupport_Yes</th>\n",
       "      <th>StreamingTV_No</th>\n",
       "      <th>StreamingTV_No internet service</th>\n",
       "      <th>StreamingTV_Yes</th>\n",
       "      <th>StreamingMovies_No</th>\n",
       "      <th>StreamingMovies_No internet service</th>\n",
       "      <th>StreamingMovies_Yes</th>\n",
       "      <th>Contract_Month-to-month</th>\n",
       "      <th>Contract_One year</th>\n",
       "      <th>Contract_Two year</th>\n",
       "      <th>PaymentMethod_Bank transfer (automatic)</th>\n",
       "      <th>PaymentMethod_Credit card (automatic)</th>\n",
       "      <th>PaymentMethod_Electronic check</th>\n",
       "      <th>PaymentMethod_Mailed check</th>\n",
       "    </tr>\n",
       "  </thead>\n",
       "  <tbody>\n",
       "    <tr>\n",
       "      <th>0</th>\n",
       "      <td>1</td>\n",
       "      <td>0</td>\n",
       "      <td>1</td>\n",
       "      <td>0</td>\n",
       "      <td>1.0</td>\n",
       "      <td>0</td>\n",
       "      <td>1</td>\n",
       "      <td>29.85</td>\n",
       "      <td>29.85</td>\n",
       "      <td>0</td>\n",
       "      <td>0</td>\n",
       "      <td>1</td>\n",
       "      <td>0</td>\n",
       "      <td>1</td>\n",
       "      <td>0</td>\n",
       "      <td>0</td>\n",
       "      <td>1</td>\n",
       "      <td>0</td>\n",
       "      <td>0</td>\n",
       "      <td>0</td>\n",
       "      <td>0</td>\n",
       "      <td>1</td>\n",
       "      <td>1</td>\n",
       "      <td>0</td>\n",
       "      <td>0</td>\n",
       "      <td>1</td>\n",
       "      <td>0</td>\n",
       "      <td>0</td>\n",
       "      <td>1</td>\n",
       "      <td>0</td>\n",
       "      <td>0</td>\n",
       "      <td>1</td>\n",
       "      <td>0</td>\n",
       "      <td>0</td>\n",
       "      <td>1</td>\n",
       "      <td>0</td>\n",
       "      <td>0</td>\n",
       "      <td>0</td>\n",
       "      <td>0</td>\n",
       "      <td>1</td>\n",
       "      <td>0</td>\n",
       "    </tr>\n",
       "    <tr>\n",
       "      <th>1</th>\n",
       "      <td>0</td>\n",
       "      <td>0</td>\n",
       "      <td>0</td>\n",
       "      <td>0</td>\n",
       "      <td>34.0</td>\n",
       "      <td>1</td>\n",
       "      <td>0</td>\n",
       "      <td>56.95</td>\n",
       "      <td>1889.50</td>\n",
       "      <td>0</td>\n",
       "      <td>1</td>\n",
       "      <td>0</td>\n",
       "      <td>0</td>\n",
       "      <td>1</td>\n",
       "      <td>0</td>\n",
       "      <td>0</td>\n",
       "      <td>0</td>\n",
       "      <td>0</td>\n",
       "      <td>1</td>\n",
       "      <td>1</td>\n",
       "      <td>0</td>\n",
       "      <td>0</td>\n",
       "      <td>0</td>\n",
       "      <td>0</td>\n",
       "      <td>1</td>\n",
       "      <td>1</td>\n",
       "      <td>0</td>\n",
       "      <td>0</td>\n",
       "      <td>1</td>\n",
       "      <td>0</td>\n",
       "      <td>0</td>\n",
       "      <td>1</td>\n",
       "      <td>0</td>\n",
       "      <td>0</td>\n",
       "      <td>0</td>\n",
       "      <td>1</td>\n",
       "      <td>0</td>\n",
       "      <td>0</td>\n",
       "      <td>0</td>\n",
       "      <td>0</td>\n",
       "      <td>1</td>\n",
       "    </tr>\n",
       "    <tr>\n",
       "      <th>2</th>\n",
       "      <td>0</td>\n",
       "      <td>0</td>\n",
       "      <td>0</td>\n",
       "      <td>0</td>\n",
       "      <td>2.0</td>\n",
       "      <td>1</td>\n",
       "      <td>1</td>\n",
       "      <td>53.85</td>\n",
       "      <td>108.15</td>\n",
       "      <td>1</td>\n",
       "      <td>1</td>\n",
       "      <td>0</td>\n",
       "      <td>0</td>\n",
       "      <td>1</td>\n",
       "      <td>0</td>\n",
       "      <td>0</td>\n",
       "      <td>0</td>\n",
       "      <td>0</td>\n",
       "      <td>1</td>\n",
       "      <td>0</td>\n",
       "      <td>0</td>\n",
       "      <td>1</td>\n",
       "      <td>1</td>\n",
       "      <td>0</td>\n",
       "      <td>0</td>\n",
       "      <td>1</td>\n",
       "      <td>0</td>\n",
       "      <td>0</td>\n",
       "      <td>1</td>\n",
       "      <td>0</td>\n",
       "      <td>0</td>\n",
       "      <td>1</td>\n",
       "      <td>0</td>\n",
       "      <td>0</td>\n",
       "      <td>1</td>\n",
       "      <td>0</td>\n",
       "      <td>0</td>\n",
       "      <td>0</td>\n",
       "      <td>0</td>\n",
       "      <td>0</td>\n",
       "      <td>1</td>\n",
       "    </tr>\n",
       "    <tr>\n",
       "      <th>3</th>\n",
       "      <td>0</td>\n",
       "      <td>0</td>\n",
       "      <td>0</td>\n",
       "      <td>0</td>\n",
       "      <td>45.0</td>\n",
       "      <td>0</td>\n",
       "      <td>0</td>\n",
       "      <td>42.30</td>\n",
       "      <td>1840.75</td>\n",
       "      <td>0</td>\n",
       "      <td>0</td>\n",
       "      <td>1</td>\n",
       "      <td>0</td>\n",
       "      <td>1</td>\n",
       "      <td>0</td>\n",
       "      <td>0</td>\n",
       "      <td>0</td>\n",
       "      <td>0</td>\n",
       "      <td>1</td>\n",
       "      <td>1</td>\n",
       "      <td>0</td>\n",
       "      <td>0</td>\n",
       "      <td>0</td>\n",
       "      <td>0</td>\n",
       "      <td>1</td>\n",
       "      <td>0</td>\n",
       "      <td>0</td>\n",
       "      <td>1</td>\n",
       "      <td>1</td>\n",
       "      <td>0</td>\n",
       "      <td>0</td>\n",
       "      <td>1</td>\n",
       "      <td>0</td>\n",
       "      <td>0</td>\n",
       "      <td>0</td>\n",
       "      <td>1</td>\n",
       "      <td>0</td>\n",
       "      <td>1</td>\n",
       "      <td>0</td>\n",
       "      <td>0</td>\n",
       "      <td>0</td>\n",
       "    </tr>\n",
       "    <tr>\n",
       "      <th>4</th>\n",
       "      <td>1</td>\n",
       "      <td>0</td>\n",
       "      <td>0</td>\n",
       "      <td>0</td>\n",
       "      <td>2.0</td>\n",
       "      <td>1</td>\n",
       "      <td>1</td>\n",
       "      <td>70.70</td>\n",
       "      <td>151.65</td>\n",
       "      <td>1</td>\n",
       "      <td>1</td>\n",
       "      <td>0</td>\n",
       "      <td>0</td>\n",
       "      <td>0</td>\n",
       "      <td>1</td>\n",
       "      <td>0</td>\n",
       "      <td>1</td>\n",
       "      <td>0</td>\n",
       "      <td>0</td>\n",
       "      <td>1</td>\n",
       "      <td>0</td>\n",
       "      <td>0</td>\n",
       "      <td>1</td>\n",
       "      <td>0</td>\n",
       "      <td>0</td>\n",
       "      <td>1</td>\n",
       "      <td>0</td>\n",
       "      <td>0</td>\n",
       "      <td>1</td>\n",
       "      <td>0</td>\n",
       "      <td>0</td>\n",
       "      <td>1</td>\n",
       "      <td>0</td>\n",
       "      <td>0</td>\n",
       "      <td>1</td>\n",
       "      <td>0</td>\n",
       "      <td>0</td>\n",
       "      <td>0</td>\n",
       "      <td>0</td>\n",
       "      <td>1</td>\n",
       "      <td>0</td>\n",
       "    </tr>\n",
       "  </tbody>\n",
       "</table>\n",
       "</div>"
      ],
      "text/plain": [
       "   gender  SeniorCitizen  Partner  Dependents  tenure  PhoneService  \\\n",
       "0       1              0        1           0     1.0             0   \n",
       "1       0              0        0           0    34.0             1   \n",
       "2       0              0        0           0     2.0             1   \n",
       "3       0              0        0           0    45.0             0   \n",
       "4       1              0        0           0     2.0             1   \n",
       "\n",
       "   PaperlessBilling  MonthlyCharges  TotalCharges  Churn  MultipleLines_No  \\\n",
       "0                 1           29.85         29.85      0                 0   \n",
       "1                 0           56.95       1889.50      0                 1   \n",
       "2                 1           53.85        108.15      1                 1   \n",
       "3                 0           42.30       1840.75      0                 0   \n",
       "4                 1           70.70        151.65      1                 1   \n",
       "\n",
       "   MultipleLines_No phone service  MultipleLines_Yes  InternetService_DSL  \\\n",
       "0                               1                  0                    1   \n",
       "1                               0                  0                    1   \n",
       "2                               0                  0                    1   \n",
       "3                               1                  0                    1   \n",
       "4                               0                  0                    0   \n",
       "\n",
       "   InternetService_Fiber optic  InternetService_No  OnlineSecurity_No  \\\n",
       "0                            0                   0                  1   \n",
       "1                            0                   0                  0   \n",
       "2                            0                   0                  0   \n",
       "3                            0                   0                  0   \n",
       "4                            1                   0                  1   \n",
       "\n",
       "   OnlineSecurity_No internet service  OnlineSecurity_Yes  OnlineBackup_No  \\\n",
       "0                                   0                   0                0   \n",
       "1                                   0                   1                1   \n",
       "2                                   0                   1                0   \n",
       "3                                   0                   1                1   \n",
       "4                                   0                   0                1   \n",
       "\n",
       "   OnlineBackup_No internet service  OnlineBackup_Yes  DeviceProtection_No  \\\n",
       "0                                 0                 1                    1   \n",
       "1                                 0                 0                    0   \n",
       "2                                 0                 1                    1   \n",
       "3                                 0                 0                    0   \n",
       "4                                 0                 0                    1   \n",
       "\n",
       "   DeviceProtection_No internet service  DeviceProtection_Yes  TechSupport_No  \\\n",
       "0                                     0                     0               1   \n",
       "1                                     0                     1               1   \n",
       "2                                     0                     0               1   \n",
       "3                                     0                     1               0   \n",
       "4                                     0                     0               1   \n",
       "\n",
       "   TechSupport_No internet service  TechSupport_Yes  StreamingTV_No  \\\n",
       "0                                0                0               1   \n",
       "1                                0                0               1   \n",
       "2                                0                0               1   \n",
       "3                                0                1               1   \n",
       "4                                0                0               1   \n",
       "\n",
       "   StreamingTV_No internet service  StreamingTV_Yes  StreamingMovies_No  \\\n",
       "0                                0                0                   1   \n",
       "1                                0                0                   1   \n",
       "2                                0                0                   1   \n",
       "3                                0                0                   1   \n",
       "4                                0                0                   1   \n",
       "\n",
       "   StreamingMovies_No internet service  StreamingMovies_Yes  \\\n",
       "0                                    0                    0   \n",
       "1                                    0                    0   \n",
       "2                                    0                    0   \n",
       "3                                    0                    0   \n",
       "4                                    0                    0   \n",
       "\n",
       "   Contract_Month-to-month  Contract_One year  Contract_Two year  \\\n",
       "0                        1                  0                  0   \n",
       "1                        0                  1                  0   \n",
       "2                        1                  0                  0   \n",
       "3                        0                  1                  0   \n",
       "4                        1                  0                  0   \n",
       "\n",
       "   PaymentMethod_Bank transfer (automatic)  \\\n",
       "0                                        0   \n",
       "1                                        0   \n",
       "2                                        0   \n",
       "3                                        1   \n",
       "4                                        0   \n",
       "\n",
       "   PaymentMethod_Credit card (automatic)  PaymentMethod_Electronic check  \\\n",
       "0                                      0                               1   \n",
       "1                                      0                               0   \n",
       "2                                      0                               0   \n",
       "3                                      0                               0   \n",
       "4                                      0                               1   \n",
       "\n",
       "   PaymentMethod_Mailed check  \n",
       "0                           0  \n",
       "1                           1  \n",
       "2                           1  \n",
       "3                           0  \n",
       "4                           0  "
      ]
     },
     "execution_count": 99,
     "metadata": {},
     "output_type": "execute_result"
    }
   ],
   "source": [
    "corr_data_df.head(5)"
   ]
  },
  {
   "cell_type": "markdown",
   "id": "bd591eb8",
   "metadata": {},
   "source": [
    "We generate the correlation matrix"
   ]
  },
  {
   "cell_type": "code",
   "execution_count": 100,
   "id": "ddeb5639",
   "metadata": {},
   "outputs": [],
   "source": [
    "corrmat = corr_data_df.corr()"
   ]
  },
  {
   "cell_type": "markdown",
   "id": "7cf14bf2",
   "metadata": {},
   "source": [
    "read more about correlation matrices: \n",
    "https://pandas.pydata.org/docs/reference/api/pandas.DataFrame.corr.html\n",
    "\n",
    "How is the Pearson correlation coefficient calculated?\n",
    "https://en.wikipedia.org/wiki/Pearson_correlation_coefficient\n"
   ]
  },
  {
   "cell_type": "code",
   "execution_count": 101,
   "id": "4a94b1f9",
   "metadata": {},
   "outputs": [
    {
     "data": {
      "text/html": [
       "<div>\n",
       "<style scoped>\n",
       "    .dataframe tbody tr th:only-of-type {\n",
       "        vertical-align: middle;\n",
       "    }\n",
       "\n",
       "    .dataframe tbody tr th {\n",
       "        vertical-align: top;\n",
       "    }\n",
       "\n",
       "    .dataframe thead th {\n",
       "        text-align: right;\n",
       "    }\n",
       "</style>\n",
       "<table border=\"1\" class=\"dataframe\">\n",
       "  <thead>\n",
       "    <tr style=\"text-align: right;\">\n",
       "      <th></th>\n",
       "      <th>gender</th>\n",
       "      <th>SeniorCitizen</th>\n",
       "      <th>Partner</th>\n",
       "      <th>Dependents</th>\n",
       "      <th>tenure</th>\n",
       "      <th>PhoneService</th>\n",
       "      <th>PaperlessBilling</th>\n",
       "      <th>MonthlyCharges</th>\n",
       "      <th>TotalCharges</th>\n",
       "      <th>Churn</th>\n",
       "      <th>MultipleLines_No</th>\n",
       "      <th>MultipleLines_No phone service</th>\n",
       "      <th>MultipleLines_Yes</th>\n",
       "      <th>InternetService_DSL</th>\n",
       "      <th>InternetService_Fiber optic</th>\n",
       "      <th>InternetService_No</th>\n",
       "      <th>OnlineSecurity_No</th>\n",
       "      <th>OnlineSecurity_No internet service</th>\n",
       "      <th>OnlineSecurity_Yes</th>\n",
       "      <th>OnlineBackup_No</th>\n",
       "      <th>OnlineBackup_No internet service</th>\n",
       "      <th>OnlineBackup_Yes</th>\n",
       "      <th>DeviceProtection_No</th>\n",
       "      <th>DeviceProtection_No internet service</th>\n",
       "      <th>DeviceProtection_Yes</th>\n",
       "      <th>TechSupport_No</th>\n",
       "      <th>TechSupport_No internet service</th>\n",
       "      <th>TechSupport_Yes</th>\n",
       "      <th>StreamingTV_No</th>\n",
       "      <th>StreamingTV_No internet service</th>\n",
       "      <th>StreamingTV_Yes</th>\n",
       "      <th>StreamingMovies_No</th>\n",
       "      <th>StreamingMovies_No internet service</th>\n",
       "      <th>StreamingMovies_Yes</th>\n",
       "      <th>Contract_Month-to-month</th>\n",
       "      <th>Contract_One year</th>\n",
       "      <th>Contract_Two year</th>\n",
       "      <th>PaymentMethod_Bank transfer (automatic)</th>\n",
       "      <th>PaymentMethod_Credit card (automatic)</th>\n",
       "      <th>PaymentMethod_Electronic check</th>\n",
       "      <th>PaymentMethod_Mailed check</th>\n",
       "    </tr>\n",
       "  </thead>\n",
       "  <tbody>\n",
       "    <tr>\n",
       "      <th>gender</th>\n",
       "      <td>1.000000</td>\n",
       "      <td>0.001874</td>\n",
       "      <td>0.001808</td>\n",
       "      <td>-0.010517</td>\n",
       "      <td>-0.004910</td>\n",
       "      <td>0.006488</td>\n",
       "      <td>0.011754</td>\n",
       "      <td>0.014569</td>\n",
       "      <td>0.001070</td>\n",
       "      <td>0.008612</td>\n",
       "      <td>-0.004476</td>\n",
       "      <td>-0.006488</td>\n",
       "      <td>0.008414</td>\n",
       "      <td>-0.006568</td>\n",
       "      <td>0.011286</td>\n",
       "      <td>-0.006026</td>\n",
       "      <td>-0.010429</td>\n",
       "      <td>-0.006026</td>\n",
       "      <td>0.017021</td>\n",
       "      <td>-0.008191</td>\n",
       "      <td>-0.006026</td>\n",
       "      <td>0.013773</td>\n",
       "      <td>0.002988</td>\n",
       "      <td>-0.006026</td>\n",
       "      <td>0.002105</td>\n",
       "      <td>-0.003397</td>\n",
       "      <td>-0.006026</td>\n",
       "      <td>0.009212</td>\n",
       "      <td>-0.003267</td>\n",
       "      <td>-0.006026</td>\n",
       "      <td>0.008393</td>\n",
       "      <td>-0.005374</td>\n",
       "      <td>-0.006026</td>\n",
       "      <td>0.010487</td>\n",
       "      <td>0.003386</td>\n",
       "      <td>-0.008026</td>\n",
       "      <td>0.003695</td>\n",
       "      <td>0.016024</td>\n",
       "      <td>-0.001215</td>\n",
       "      <td>-0.000752</td>\n",
       "      <td>-0.013744</td>\n",
       "    </tr>\n",
       "    <tr>\n",
       "      <th>SeniorCitizen</th>\n",
       "      <td>0.001874</td>\n",
       "      <td>1.000000</td>\n",
       "      <td>0.016479</td>\n",
       "      <td>-0.211185</td>\n",
       "      <td>0.014852</td>\n",
       "      <td>0.008576</td>\n",
       "      <td>0.156530</td>\n",
       "      <td>0.220173</td>\n",
       "      <td>0.102979</td>\n",
       "      <td>0.150889</td>\n",
       "      <td>-0.136213</td>\n",
       "      <td>-0.008576</td>\n",
       "      <td>0.142948</td>\n",
       "      <td>-0.108322</td>\n",
       "      <td>0.255338</td>\n",
       "      <td>-0.182742</td>\n",
       "      <td>0.185532</td>\n",
       "      <td>-0.182742</td>\n",
       "      <td>-0.038653</td>\n",
       "      <td>0.087952</td>\n",
       "      <td>-0.182742</td>\n",
       "      <td>0.066572</td>\n",
       "      <td>0.094810</td>\n",
       "      <td>-0.182742</td>\n",
       "      <td>0.059428</td>\n",
       "      <td>0.205620</td>\n",
       "      <td>-0.182742</td>\n",
       "      <td>-0.060625</td>\n",
       "      <td>0.049062</td>\n",
       "      <td>-0.182742</td>\n",
       "      <td>0.105378</td>\n",
       "      <td>0.034210</td>\n",
       "      <td>-0.182742</td>\n",
       "      <td>0.120176</td>\n",
       "      <td>0.138360</td>\n",
       "      <td>-0.046262</td>\n",
       "      <td>-0.117000</td>\n",
       "      <td>-0.016159</td>\n",
       "      <td>-0.024135</td>\n",
       "      <td>0.171718</td>\n",
       "      <td>-0.153477</td>\n",
       "    </tr>\n",
       "    <tr>\n",
       "      <th>Partner</th>\n",
       "      <td>0.001808</td>\n",
       "      <td>0.016479</td>\n",
       "      <td>1.000000</td>\n",
       "      <td>0.452676</td>\n",
       "      <td>0.378780</td>\n",
       "      <td>0.017706</td>\n",
       "      <td>-0.014877</td>\n",
       "      <td>0.096848</td>\n",
       "      <td>0.311125</td>\n",
       "      <td>-0.150448</td>\n",
       "      <td>-0.129929</td>\n",
       "      <td>-0.017706</td>\n",
       "      <td>0.142057</td>\n",
       "      <td>-0.000851</td>\n",
       "      <td>0.000304</td>\n",
       "      <td>0.000615</td>\n",
       "      <td>-0.129936</td>\n",
       "      <td>0.000615</td>\n",
       "      <td>0.143106</td>\n",
       "      <td>-0.136058</td>\n",
       "      <td>0.000615</td>\n",
       "      <td>0.141498</td>\n",
       "      <td>-0.147692</td>\n",
       "      <td>0.000615</td>\n",
       "      <td>0.153786</td>\n",
       "      <td>-0.109443</td>\n",
       "      <td>0.000615</td>\n",
       "      <td>0.119999</td>\n",
       "      <td>-0.124357</td>\n",
       "      <td>0.000615</td>\n",
       "      <td>0.124666</td>\n",
       "      <td>-0.117529</td>\n",
       "      <td>0.000615</td>\n",
       "      <td>0.117412</td>\n",
       "      <td>-0.280865</td>\n",
       "      <td>0.082783</td>\n",
       "      <td>0.248091</td>\n",
       "      <td>0.110706</td>\n",
       "      <td>0.082029</td>\n",
       "      <td>-0.083852</td>\n",
       "      <td>-0.095125</td>\n",
       "    </tr>\n",
       "    <tr>\n",
       "      <th>Dependents</th>\n",
       "      <td>-0.010517</td>\n",
       "      <td>-0.211185</td>\n",
       "      <td>0.452676</td>\n",
       "      <td>1.000000</td>\n",
       "      <td>0.161299</td>\n",
       "      <td>-0.001762</td>\n",
       "      <td>-0.111377</td>\n",
       "      <td>-0.113890</td>\n",
       "      <td>0.061422</td>\n",
       "      <td>-0.164221</td>\n",
       "      <td>0.023198</td>\n",
       "      <td>0.001762</td>\n",
       "      <td>-0.024526</td>\n",
       "      <td>0.052010</td>\n",
       "      <td>-0.165818</td>\n",
       "      <td>0.139812</td>\n",
       "      <td>-0.188434</td>\n",
       "      <td>0.139812</td>\n",
       "      <td>0.080972</td>\n",
       "      <td>-0.138756</td>\n",
       "      <td>0.139812</td>\n",
       "      <td>0.023671</td>\n",
       "      <td>-0.129415</td>\n",
       "      <td>0.139812</td>\n",
       "      <td>0.013963</td>\n",
       "      <td>-0.172645</td>\n",
       "      <td>0.139812</td>\n",
       "      <td>0.063268</td>\n",
       "      <td>-0.101176</td>\n",
       "      <td>0.139812</td>\n",
       "      <td>-0.016558</td>\n",
       "      <td>-0.078198</td>\n",
       "      <td>0.139812</td>\n",
       "      <td>-0.039741</td>\n",
       "      <td>-0.231720</td>\n",
       "      <td>0.068368</td>\n",
       "      <td>0.204613</td>\n",
       "      <td>0.052021</td>\n",
       "      <td>0.060267</td>\n",
       "      <td>-0.150642</td>\n",
       "      <td>0.059071</td>\n",
       "    </tr>\n",
       "    <tr>\n",
       "      <th>tenure</th>\n",
       "      <td>-0.004910</td>\n",
       "      <td>0.014852</td>\n",
       "      <td>0.378780</td>\n",
       "      <td>0.161299</td>\n",
       "      <td>1.000000</td>\n",
       "      <td>0.008329</td>\n",
       "      <td>0.004735</td>\n",
       "      <td>0.248578</td>\n",
       "      <td>0.813324</td>\n",
       "      <td>-0.352447</td>\n",
       "      <td>-0.324129</td>\n",
       "      <td>-0.008329</td>\n",
       "      <td>0.332950</td>\n",
       "      <td>0.014540</td>\n",
       "      <td>0.019025</td>\n",
       "      <td>-0.039771</td>\n",
       "      <td>-0.265439</td>\n",
       "      <td>-0.039771</td>\n",
       "      <td>0.329426</td>\n",
       "      <td>-0.312434</td>\n",
       "      <td>-0.039771</td>\n",
       "      <td>0.360526</td>\n",
       "      <td>-0.312295</td>\n",
       "      <td>-0.039771</td>\n",
       "      <td>0.360614</td>\n",
       "      <td>-0.261866</td>\n",
       "      <td>-0.039771</td>\n",
       "      <td>0.324412</td>\n",
       "      <td>-0.245269</td>\n",
       "      <td>-0.039771</td>\n",
       "      <td>0.280552</td>\n",
       "      <td>-0.251682</td>\n",
       "      <td>-0.039771</td>\n",
       "      <td>0.286064</td>\n",
       "      <td>-0.646069</td>\n",
       "      <td>0.202247</td>\n",
       "      <td>0.559678</td>\n",
       "      <td>0.243068</td>\n",
       "      <td>0.232602</td>\n",
       "      <td>-0.209257</td>\n",
       "      <td>-0.232277</td>\n",
       "    </tr>\n",
       "  </tbody>\n",
       "</table>\n",
       "</div>"
      ],
      "text/plain": [
       "                 gender  SeniorCitizen   Partner  Dependents    tenure  \\\n",
       "gender         1.000000       0.001874  0.001808   -0.010517 -0.004910   \n",
       "SeniorCitizen  0.001874       1.000000  0.016479   -0.211185  0.014852   \n",
       "Partner        0.001808       0.016479  1.000000    0.452676  0.378780   \n",
       "Dependents    -0.010517      -0.211185  0.452676    1.000000  0.161299   \n",
       "tenure        -0.004910       0.014852  0.378780    0.161299  1.000000   \n",
       "\n",
       "               PhoneService  PaperlessBilling  MonthlyCharges  TotalCharges  \\\n",
       "gender             0.006488          0.011754        0.014569      0.001070   \n",
       "SeniorCitizen      0.008576          0.156530        0.220173      0.102979   \n",
       "Partner            0.017706         -0.014877        0.096848      0.311125   \n",
       "Dependents        -0.001762         -0.111377       -0.113890      0.061422   \n",
       "tenure             0.008329          0.004735        0.248578      0.813324   \n",
       "\n",
       "                  Churn  MultipleLines_No  MultipleLines_No phone service  \\\n",
       "gender         0.008612         -0.004476                       -0.006488   \n",
       "SeniorCitizen  0.150889         -0.136213                       -0.008576   \n",
       "Partner       -0.150448         -0.129929                       -0.017706   \n",
       "Dependents    -0.164221          0.023198                        0.001762   \n",
       "tenure        -0.352447         -0.324129                       -0.008329   \n",
       "\n",
       "               MultipleLines_Yes  InternetService_DSL  \\\n",
       "gender                  0.008414            -0.006568   \n",
       "SeniorCitizen           0.142948            -0.108322   \n",
       "Partner                 0.142057            -0.000851   \n",
       "Dependents             -0.024526             0.052010   \n",
       "tenure                  0.332950             0.014540   \n",
       "\n",
       "               InternetService_Fiber optic  InternetService_No  \\\n",
       "gender                            0.011286           -0.006026   \n",
       "SeniorCitizen                     0.255338           -0.182742   \n",
       "Partner                           0.000304            0.000615   \n",
       "Dependents                       -0.165818            0.139812   \n",
       "tenure                            0.019025           -0.039771   \n",
       "\n",
       "               OnlineSecurity_No  OnlineSecurity_No internet service  \\\n",
       "gender                 -0.010429                           -0.006026   \n",
       "SeniorCitizen           0.185532                           -0.182742   \n",
       "Partner                -0.129936                            0.000615   \n",
       "Dependents             -0.188434                            0.139812   \n",
       "tenure                 -0.265439                           -0.039771   \n",
       "\n",
       "               OnlineSecurity_Yes  OnlineBackup_No  \\\n",
       "gender                   0.017021        -0.008191   \n",
       "SeniorCitizen           -0.038653         0.087952   \n",
       "Partner                  0.143106        -0.136058   \n",
       "Dependents               0.080972        -0.138756   \n",
       "tenure                   0.329426        -0.312434   \n",
       "\n",
       "               OnlineBackup_No internet service  OnlineBackup_Yes  \\\n",
       "gender                                -0.006026          0.013773   \n",
       "SeniorCitizen                         -0.182742          0.066572   \n",
       "Partner                                0.000615          0.141498   \n",
       "Dependents                             0.139812          0.023671   \n",
       "tenure                                -0.039771          0.360526   \n",
       "\n",
       "               DeviceProtection_No  DeviceProtection_No internet service  \\\n",
       "gender                    0.002988                             -0.006026   \n",
       "SeniorCitizen             0.094810                             -0.182742   \n",
       "Partner                  -0.147692                              0.000615   \n",
       "Dependents               -0.129415                              0.139812   \n",
       "tenure                   -0.312295                             -0.039771   \n",
       "\n",
       "               DeviceProtection_Yes  TechSupport_No  \\\n",
       "gender                     0.002105       -0.003397   \n",
       "SeniorCitizen              0.059428        0.205620   \n",
       "Partner                    0.153786       -0.109443   \n",
       "Dependents                 0.013963       -0.172645   \n",
       "tenure                     0.360614       -0.261866   \n",
       "\n",
       "               TechSupport_No internet service  TechSupport_Yes  \\\n",
       "gender                               -0.006026         0.009212   \n",
       "SeniorCitizen                        -0.182742        -0.060625   \n",
       "Partner                               0.000615         0.119999   \n",
       "Dependents                            0.139812         0.063268   \n",
       "tenure                               -0.039771         0.324412   \n",
       "\n",
       "               StreamingTV_No  StreamingTV_No internet service  \\\n",
       "gender              -0.003267                        -0.006026   \n",
       "SeniorCitizen        0.049062                        -0.182742   \n",
       "Partner             -0.124357                         0.000615   \n",
       "Dependents          -0.101176                         0.139812   \n",
       "tenure              -0.245269                        -0.039771   \n",
       "\n",
       "               StreamingTV_Yes  StreamingMovies_No  \\\n",
       "gender                0.008393           -0.005374   \n",
       "SeniorCitizen         0.105378            0.034210   \n",
       "Partner               0.124666           -0.117529   \n",
       "Dependents           -0.016558           -0.078198   \n",
       "tenure                0.280552           -0.251682   \n",
       "\n",
       "               StreamingMovies_No internet service  StreamingMovies_Yes  \\\n",
       "gender                                   -0.006026             0.010487   \n",
       "SeniorCitizen                            -0.182742             0.120176   \n",
       "Partner                                   0.000615             0.117412   \n",
       "Dependents                                0.139812            -0.039741   \n",
       "tenure                                   -0.039771             0.286064   \n",
       "\n",
       "               Contract_Month-to-month  Contract_One year  Contract_Two year  \\\n",
       "gender                        0.003386          -0.008026           0.003695   \n",
       "SeniorCitizen                 0.138360          -0.046262          -0.117000   \n",
       "Partner                      -0.280865           0.082783           0.248091   \n",
       "Dependents                   -0.231720           0.068368           0.204613   \n",
       "tenure                       -0.646069           0.202247           0.559678   \n",
       "\n",
       "               PaymentMethod_Bank transfer (automatic)  \\\n",
       "gender                                        0.016024   \n",
       "SeniorCitizen                                -0.016159   \n",
       "Partner                                       0.110706   \n",
       "Dependents                                    0.052021   \n",
       "tenure                                        0.243068   \n",
       "\n",
       "               PaymentMethod_Credit card (automatic)  \\\n",
       "gender                                     -0.001215   \n",
       "SeniorCitizen                              -0.024135   \n",
       "Partner                                     0.082029   \n",
       "Dependents                                  0.060267   \n",
       "tenure                                      0.232602   \n",
       "\n",
       "               PaymentMethod_Electronic check  PaymentMethod_Mailed check  \n",
       "gender                              -0.000752                   -0.013744  \n",
       "SeniorCitizen                        0.171718                   -0.153477  \n",
       "Partner                             -0.083852                   -0.095125  \n",
       "Dependents                          -0.150642                    0.059071  \n",
       "tenure                              -0.209257                   -0.232277  "
      ]
     },
     "execution_count": 101,
     "metadata": {},
     "output_type": "execute_result"
    }
   ],
   "source": [
    "corrmat.head(5)"
   ]
  },
  {
   "cell_type": "markdown",
   "id": "5707feea",
   "metadata": {},
   "source": [
    "We identify the top 5 feature-label pairs with the highest correlation (=Pearson score), positive or negative (absolute value)."
   ]
  },
  {
   "cell_type": "code",
   "execution_count": 102,
   "id": "6cc06e85",
   "metadata": {},
   "outputs": [
    {
     "data": {
      "text/plain": [
       "Contract_Month-to-month        0.405103\n",
       "tenure                         0.352447\n",
       "OnlineSecurity_No              0.342637\n",
       "TechSupport_No                 0.337281\n",
       "InternetService_Fiber optic    0.308020\n",
       "Name: Churn, dtype: float64"
      ]
     },
     "execution_count": 102,
     "metadata": {},
     "output_type": "execute_result"
    }
   ],
   "source": [
    "corrmat['Churn'].apply(lambda x: abs(x)).sort_values(ascending=False).drop('Churn').head(5)"
   ]
  },
  {
   "cell_type": "markdown",
   "id": "39aab0d4",
   "metadata": {},
   "source": [
    "This tells us that those 5 features have the highest linear dependency (direct relationship) with the target amongst all features."
   ]
  },
  {
   "cell_type": "markdown",
   "id": "a2ee60fc",
   "metadata": {},
   "source": [
    "We generate a heatmap to visualise the pairs correlation. "
   ]
  },
  {
   "cell_type": "code",
   "execution_count": 103,
   "id": "e3fb241e",
   "metadata": {},
   "outputs": [
    {
     "data": {
      "image/png": "[encoded data removed]",
      "text/plain": [
       "<Figure size 3600x3600 with 2 Axes>"
      ]
     },
     "metadata": {
      "needs_background": "light"
     },
     "output_type": "display_data"
    }
   ],
   "source": [
    "import numpy as np\n",
    "mask = np.triu(np.ones_like(corrmat, dtype=np.bool))\n",
    "plt.figure(figsize=(50,50))\n",
    "g = sns.heatmap(corrmat,annot=False,cmap=\"RdYlGn\", mask=mask, vmax=.3, center=0,square=True, linewidths=.5, cbar_kws={\"shrink\": .5})"
   ]
  },
  {
   "cell_type": "markdown",
   "id": "ac1ea81a",
   "metadata": {},
   "source": [
    "# Your Turn! explore a bit the dataset by generating few graphs based on what we've seen."
   ]
  },
  {
   "cell_type": "code",
   "execution_count": null,
   "id": "b4fc8885",
   "metadata": {},
   "outputs": [],
   "source": []
  },
  {
   "cell_type": "markdown",
   "id": "ac9fa235",
   "metadata": {},
   "source": [
    "# Imbalanced Dataset"
   ]
  },
  {
   "cell_type": "code",
   "execution_count": 104,
   "id": "3e90a9c8",
   "metadata": {},
   "outputs": [
    {
     "data": {
      "image/png": "[encoded data removed]",
      "text/plain": [
       "<Figure size 432x288 with 1 Axes>"
      ]
     },
     "metadata": {
      "needs_background": "light"
     },
     "output_type": "display_data"
    }
   ],
   "source": [
    "sns.countplot(x='Churn', data=data_df)\n",
    "plt.show()"
   ]
  },
  {
   "cell_type": "markdown",
   "id": "c591e75f",
   "metadata": {},
   "source": [
    "Class imbalance is a surprisingly common problem in machine learning (specifically in classification), occurring in datasets with a disproportionate ratio of observations in each class.</br>\n",
    "\n",
    "That is, the # of samples per class is not equally distributed.</br>\n",
    "\n",
    "The ML model may not work well for the infrequent classes, as there are not enough samples to learn patterns from, would be hard for the classifier to identify / match those patterns </br>\n",
    "\n",
    "Apart from changing performance metrics from accuracy to precision, recall, and/or f1 score, other ways to address class imbalance are basically related to balancing either the the dataset or the way ML alg learn from the dataset:</br>\n"
   ]
  },
  {
   "cell_type": "markdown",
   "id": "2527977b",
   "metadata": {},
   "source": [
    "<img src='img/Screen Shot 2021-09-16 at 2.10.05 pm.png' width=800 align='left'>"
   ]
  },
  {
   "cell_type": "markdown",
   "id": "b8f90987",
   "metadata": {},
   "source": [
    "</br>\n",
    "We'll later use the XGBoost algorithm to build our model. XGBoost has similar mechanism (scale_pos_weight hyperparameter) to handle imbalanced datasets.\n",
    "</br>"
   ]
  },
  {
   "cell_type": "markdown",
   "id": "7534d8aa",
   "metadata": {},
   "source": [
    "# Handling Missing Data"
   ]
  },
  {
   "cell_type": "markdown",
   "id": "67e5ef65",
   "metadata": {},
   "source": [
    "<img src='img/Screen Shot 2021-09-16 at 2.14.05 pm.png' width=800 align='left'>"
   ]
  },
  {
   "cell_type": "code",
   "execution_count": 105,
   "id": "17f98223",
   "metadata": {},
   "outputs": [
    {
     "name": "stdout",
     "output_type": "stream",
     "text": [
      "<class 'pandas.core.frame.DataFrame'>\n",
      "RangeIndex: 7043 entries, 0 to 7042\n",
      "Data columns (total 21 columns):\n",
      " #   Column            Non-Null Count  Dtype  \n",
      "---  ------            --------------  -----  \n",
      " 0   customerID        7043 non-null   object \n",
      " 1   gender            7043 non-null   int64  \n",
      " 2   SeniorCitizen     7043 non-null   int64  \n",
      " 3   Partner           7043 non-null   int64  \n",
      " 4   Dependents        7043 non-null   int64  \n",
      " 5   tenure            6992 non-null   float64\n",
      " 6   PhoneService      7043 non-null   int64  \n",
      " 7   MultipleLines     7043 non-null   object \n",
      " 8   InternetService   7043 non-null   object \n",
      " 9   OnlineSecurity    7043 non-null   object \n",
      " 10  OnlineBackup      7043 non-null   object \n",
      " 11  DeviceProtection  7043 non-null   object \n",
      " 12  TechSupport       7043 non-null   object \n",
      " 13  StreamingTV       7043 non-null   object \n",
      " 14  StreamingMovies   7043 non-null   object \n",
      " 15  Contract          7043 non-null   object \n",
      " 16  PaperlessBilling  7043 non-null   int64  \n",
      " 17  PaymentMethod     7043 non-null   object \n",
      " 18  MonthlyCharges    7043 non-null   float64\n",
      " 19  TotalCharges      7032 non-null   float64\n",
      " 20  Churn             7043 non-null   int64  \n",
      "dtypes: float64(3), int64(7), object(11)\n",
      "memory usage: 1.1+ MB\n"
     ]
    }
   ],
   "source": [
    "data_df.info()"
   ]
  },
  {
   "cell_type": "markdown",
   "id": "e247a7ff",
   "metadata": {},
   "source": [
    "isna() return True/False for each row if value NaN. The below filter the dataframe on "
   ]
  },
  {
   "cell_type": "code",
   "execution_count": 106,
   "id": "cd8fabd7",
   "metadata": {},
   "outputs": [
    {
     "data": {
      "text/html": [
       "<div>\n",
       "<style scoped>\n",
       "    .dataframe tbody tr th:only-of-type {\n",
       "        vertical-align: middle;\n",
       "    }\n",
       "\n",
       "    .dataframe tbody tr th {\n",
       "        vertical-align: top;\n",
       "    }\n",
       "\n",
       "    .dataframe thead th {\n",
       "        text-align: right;\n",
       "    }\n",
       "</style>\n",
       "<table border=\"1\" class=\"dataframe\">\n",
       "  <thead>\n",
       "    <tr style=\"text-align: right;\">\n",
       "      <th></th>\n",
       "      <th>customerID</th>\n",
       "      <th>gender</th>\n",
       "      <th>SeniorCitizen</th>\n",
       "      <th>Partner</th>\n",
       "      <th>Dependents</th>\n",
       "      <th>tenure</th>\n",
       "      <th>PhoneService</th>\n",
       "      <th>MultipleLines</th>\n",
       "      <th>InternetService</th>\n",
       "      <th>OnlineSecurity</th>\n",
       "      <th>OnlineBackup</th>\n",
       "      <th>DeviceProtection</th>\n",
       "      <th>TechSupport</th>\n",
       "      <th>StreamingTV</th>\n",
       "      <th>StreamingMovies</th>\n",
       "      <th>Contract</th>\n",
       "      <th>PaperlessBilling</th>\n",
       "      <th>PaymentMethod</th>\n",
       "      <th>MonthlyCharges</th>\n",
       "      <th>TotalCharges</th>\n",
       "      <th>Churn</th>\n",
       "    </tr>\n",
       "  </thead>\n",
       "  <tbody>\n",
       "    <tr>\n",
       "      <th>90</th>\n",
       "      <td>4767-HZZHQ</td>\n",
       "      <td>0</td>\n",
       "      <td>0</td>\n",
       "      <td>1</td>\n",
       "      <td>1</td>\n",
       "      <td>NaN</td>\n",
       "      <td>1</td>\n",
       "      <td>No</td>\n",
       "      <td>Fiber optic</td>\n",
       "      <td>No</td>\n",
       "      <td>Yes</td>\n",
       "      <td>Yes</td>\n",
       "      <td>No</td>\n",
       "      <td>No</td>\n",
       "      <td>No</td>\n",
       "      <td>Month-to-month</td>\n",
       "      <td>0</td>\n",
       "      <td>Bank transfer (automatic)</td>\n",
       "      <td>82.05</td>\n",
       "      <td>2570.20</td>\n",
       "      <td>0</td>\n",
       "    </tr>\n",
       "    <tr>\n",
       "      <th>123</th>\n",
       "      <td>6497-TILVL</td>\n",
       "      <td>1</td>\n",
       "      <td>0</td>\n",
       "      <td>1</td>\n",
       "      <td>1</td>\n",
       "      <td>NaN</td>\n",
       "      <td>1</td>\n",
       "      <td>No</td>\n",
       "      <td>DSL</td>\n",
       "      <td>Yes</td>\n",
       "      <td>No</td>\n",
       "      <td>No</td>\n",
       "      <td>No</td>\n",
       "      <td>No</td>\n",
       "      <td>No</td>\n",
       "      <td>Month-to-month</td>\n",
       "      <td>0</td>\n",
       "      <td>Mailed check</td>\n",
       "      <td>50.70</td>\n",
       "      <td>350.35</td>\n",
       "      <td>0</td>\n",
       "    </tr>\n",
       "    <tr>\n",
       "      <th>205</th>\n",
       "      <td>7674-YTAFD</td>\n",
       "      <td>1</td>\n",
       "      <td>0</td>\n",
       "      <td>0</td>\n",
       "      <td>0</td>\n",
       "      <td>NaN</td>\n",
       "      <td>1</td>\n",
       "      <td>No</td>\n",
       "      <td>Fiber optic</td>\n",
       "      <td>No</td>\n",
       "      <td>Yes</td>\n",
       "      <td>No</td>\n",
       "      <td>Yes</td>\n",
       "      <td>No</td>\n",
       "      <td>No</td>\n",
       "      <td>One year</td>\n",
       "      <td>1</td>\n",
       "      <td>Bank transfer (automatic)</td>\n",
       "      <td>79.95</td>\n",
       "      <td>2684.85</td>\n",
       "      <td>0</td>\n",
       "    </tr>\n",
       "    <tr>\n",
       "      <th>343</th>\n",
       "      <td>9639-BUJXT</td>\n",
       "      <td>0</td>\n",
       "      <td>0</td>\n",
       "      <td>0</td>\n",
       "      <td>0</td>\n",
       "      <td>NaN</td>\n",
       "      <td>1</td>\n",
       "      <td>No</td>\n",
       "      <td>No</td>\n",
       "      <td>No internet service</td>\n",
       "      <td>No internet service</td>\n",
       "      <td>No internet service</td>\n",
       "      <td>No internet service</td>\n",
       "      <td>No internet service</td>\n",
       "      <td>No internet service</td>\n",
       "      <td>One year</td>\n",
       "      <td>0</td>\n",
       "      <td>Mailed check</td>\n",
       "      <td>20.50</td>\n",
       "      <td>1328.15</td>\n",
       "      <td>0</td>\n",
       "    </tr>\n",
       "    <tr>\n",
       "      <th>443</th>\n",
       "      <td>2937-FTHUR</td>\n",
       "      <td>1</td>\n",
       "      <td>0</td>\n",
       "      <td>0</td>\n",
       "      <td>1</td>\n",
       "      <td>NaN</td>\n",
       "      <td>1</td>\n",
       "      <td>Yes</td>\n",
       "      <td>DSL</td>\n",
       "      <td>Yes</td>\n",
       "      <td>No</td>\n",
       "      <td>No</td>\n",
       "      <td>No</td>\n",
       "      <td>No</td>\n",
       "      <td>Yes</td>\n",
       "      <td>Month-to-month</td>\n",
       "      <td>0</td>\n",
       "      <td>Electronic check</td>\n",
       "      <td>64.80</td>\n",
       "      <td>1166.70</td>\n",
       "      <td>0</td>\n",
       "    </tr>\n",
       "  </tbody>\n",
       "</table>\n",
       "</div>"
      ],
      "text/plain": [
       "     customerID  gender  SeniorCitizen  Partner  Dependents  tenure  \\\n",
       "90   4767-HZZHQ       0              0        1           1     NaN   \n",
       "123  6497-TILVL       1              0        1           1     NaN   \n",
       "205  7674-YTAFD       1              0        0           0     NaN   \n",
       "343  9639-BUJXT       0              0        0           0     NaN   \n",
       "443  2937-FTHUR       1              0        0           1     NaN   \n",
       "\n",
       "     PhoneService MultipleLines InternetService       OnlineSecurity  \\\n",
       "90              1            No     Fiber optic                   No   \n",
       "123             1            No             DSL                  Yes   \n",
       "205             1            No     Fiber optic                   No   \n",
       "343             1            No              No  No internet service   \n",
       "443             1           Yes             DSL                  Yes   \n",
       "\n",
       "            OnlineBackup     DeviceProtection          TechSupport  \\\n",
       "90                   Yes                  Yes                   No   \n",
       "123                   No                   No                   No   \n",
       "205                  Yes                   No                  Yes   \n",
       "343  No internet service  No internet service  No internet service   \n",
       "443                   No                   No                   No   \n",
       "\n",
       "             StreamingTV      StreamingMovies        Contract  \\\n",
       "90                    No                   No  Month-to-month   \n",
       "123                   No                   No  Month-to-month   \n",
       "205                   No                   No        One year   \n",
       "343  No internet service  No internet service        One year   \n",
       "443                   No                  Yes  Month-to-month   \n",
       "\n",
       "     PaperlessBilling              PaymentMethod  MonthlyCharges  \\\n",
       "90                  0  Bank transfer (automatic)           82.05   \n",
       "123                 0               Mailed check           50.70   \n",
       "205                 1  Bank transfer (automatic)           79.95   \n",
       "343                 0               Mailed check           20.50   \n",
       "443                 0           Electronic check           64.80   \n",
       "\n",
       "     TotalCharges  Churn  \n",
       "90        2570.20      0  \n",
       "123        350.35      0  \n",
       "205       2684.85      0  \n",
       "343       1328.15      0  \n",
       "443       1166.70      0  "
      ]
     },
     "execution_count": 106,
     "metadata": {},
     "output_type": "execute_result"
    }
   ],
   "source": [
    "data_df[data_df['tenure'].isna()].head(5)"
   ]
  },
  {
   "cell_type": "markdown",
   "id": "c753c76f",
   "metadata": {},
   "source": [
    "Simply replacing NaN values with the mean tenure"
   ]
  },
  {
   "cell_type": "code",
   "execution_count": 107,
   "id": "144da4cd",
   "metadata": {},
   "outputs": [],
   "source": [
    "data_df['tenure'] = data_df['tenure'].fillna(data_df['tenure'].mean())"
   ]
  },
  {
   "cell_type": "markdown",
   "id": "b158fc26",
   "metadata": {},
   "source": [
    "Now looking at TotalCharges."
   ]
  },
  {
   "cell_type": "code",
   "execution_count": 108,
   "id": "549f489d",
   "metadata": {},
   "outputs": [
    {
     "data": {
      "text/html": [
       "<div>\n",
       "<style scoped>\n",
       "    .dataframe tbody tr th:only-of-type {\n",
       "        vertical-align: middle;\n",
       "    }\n",
       "\n",
       "    .dataframe tbody tr th {\n",
       "        vertical-align: top;\n",
       "    }\n",
       "\n",
       "    .dataframe thead th {\n",
       "        text-align: right;\n",
       "    }\n",
       "</style>\n",
       "<table border=\"1\" class=\"dataframe\">\n",
       "  <thead>\n",
       "    <tr style=\"text-align: right;\">\n",
       "      <th></th>\n",
       "      <th>customerID</th>\n",
       "      <th>gender</th>\n",
       "      <th>SeniorCitizen</th>\n",
       "      <th>Partner</th>\n",
       "      <th>Dependents</th>\n",
       "      <th>tenure</th>\n",
       "      <th>PhoneService</th>\n",
       "      <th>MultipleLines</th>\n",
       "      <th>InternetService</th>\n",
       "      <th>OnlineSecurity</th>\n",
       "      <th>OnlineBackup</th>\n",
       "      <th>DeviceProtection</th>\n",
       "      <th>TechSupport</th>\n",
       "      <th>StreamingTV</th>\n",
       "      <th>StreamingMovies</th>\n",
       "      <th>Contract</th>\n",
       "      <th>PaperlessBilling</th>\n",
       "      <th>PaymentMethod</th>\n",
       "      <th>MonthlyCharges</th>\n",
       "      <th>TotalCharges</th>\n",
       "      <th>Churn</th>\n",
       "    </tr>\n",
       "  </thead>\n",
       "  <tbody>\n",
       "    <tr>\n",
       "      <th>488</th>\n",
       "      <td>4472-LVYGI</td>\n",
       "      <td>1</td>\n",
       "      <td>0</td>\n",
       "      <td>1</td>\n",
       "      <td>1</td>\n",
       "      <td>0.0</td>\n",
       "      <td>0</td>\n",
       "      <td>No phone service</td>\n",
       "      <td>DSL</td>\n",
       "      <td>Yes</td>\n",
       "      <td>No</td>\n",
       "      <td>Yes</td>\n",
       "      <td>Yes</td>\n",
       "      <td>Yes</td>\n",
       "      <td>No</td>\n",
       "      <td>Two year</td>\n",
       "      <td>1</td>\n",
       "      <td>Bank transfer (automatic)</td>\n",
       "      <td>52.55</td>\n",
       "      <td>NaN</td>\n",
       "      <td>0</td>\n",
       "    </tr>\n",
       "    <tr>\n",
       "      <th>753</th>\n",
       "      <td>3115-CZMZD</td>\n",
       "      <td>0</td>\n",
       "      <td>0</td>\n",
       "      <td>0</td>\n",
       "      <td>1</td>\n",
       "      <td>0.0</td>\n",
       "      <td>1</td>\n",
       "      <td>No</td>\n",
       "      <td>No</td>\n",
       "      <td>No internet service</td>\n",
       "      <td>No internet service</td>\n",
       "      <td>No internet service</td>\n",
       "      <td>No internet service</td>\n",
       "      <td>No internet service</td>\n",
       "      <td>No internet service</td>\n",
       "      <td>Two year</td>\n",
       "      <td>0</td>\n",
       "      <td>Mailed check</td>\n",
       "      <td>20.25</td>\n",
       "      <td>NaN</td>\n",
       "      <td>0</td>\n",
       "    </tr>\n",
       "    <tr>\n",
       "      <th>936</th>\n",
       "      <td>5709-LVOEQ</td>\n",
       "      <td>1</td>\n",
       "      <td>0</td>\n",
       "      <td>1</td>\n",
       "      <td>1</td>\n",
       "      <td>0.0</td>\n",
       "      <td>1</td>\n",
       "      <td>No</td>\n",
       "      <td>DSL</td>\n",
       "      <td>Yes</td>\n",
       "      <td>Yes</td>\n",
       "      <td>Yes</td>\n",
       "      <td>No</td>\n",
       "      <td>Yes</td>\n",
       "      <td>Yes</td>\n",
       "      <td>Two year</td>\n",
       "      <td>0</td>\n",
       "      <td>Mailed check</td>\n",
       "      <td>80.85</td>\n",
       "      <td>NaN</td>\n",
       "      <td>0</td>\n",
       "    </tr>\n",
       "    <tr>\n",
       "      <th>1082</th>\n",
       "      <td>4367-NUYAO</td>\n",
       "      <td>0</td>\n",
       "      <td>0</td>\n",
       "      <td>1</td>\n",
       "      <td>1</td>\n",
       "      <td>0.0</td>\n",
       "      <td>1</td>\n",
       "      <td>Yes</td>\n",
       "      <td>No</td>\n",
       "      <td>No internet service</td>\n",
       "      <td>No internet service</td>\n",
       "      <td>No internet service</td>\n",
       "      <td>No internet service</td>\n",
       "      <td>No internet service</td>\n",
       "      <td>No internet service</td>\n",
       "      <td>Two year</td>\n",
       "      <td>0</td>\n",
       "      <td>Mailed check</td>\n",
       "      <td>25.75</td>\n",
       "      <td>NaN</td>\n",
       "      <td>0</td>\n",
       "    </tr>\n",
       "    <tr>\n",
       "      <th>1340</th>\n",
       "      <td>1371-DWPAZ</td>\n",
       "      <td>1</td>\n",
       "      <td>0</td>\n",
       "      <td>1</td>\n",
       "      <td>1</td>\n",
       "      <td>0.0</td>\n",
       "      <td>0</td>\n",
       "      <td>No phone service</td>\n",
       "      <td>DSL</td>\n",
       "      <td>Yes</td>\n",
       "      <td>Yes</td>\n",
       "      <td>Yes</td>\n",
       "      <td>Yes</td>\n",
       "      <td>Yes</td>\n",
       "      <td>No</td>\n",
       "      <td>Two year</td>\n",
       "      <td>0</td>\n",
       "      <td>Credit card (automatic)</td>\n",
       "      <td>56.05</td>\n",
       "      <td>NaN</td>\n",
       "      <td>0</td>\n",
       "    </tr>\n",
       "    <tr>\n",
       "      <th>3331</th>\n",
       "      <td>7644-OMVMY</td>\n",
       "      <td>0</td>\n",
       "      <td>0</td>\n",
       "      <td>1</td>\n",
       "      <td>1</td>\n",
       "      <td>0.0</td>\n",
       "      <td>1</td>\n",
       "      <td>No</td>\n",
       "      <td>No</td>\n",
       "      <td>No internet service</td>\n",
       "      <td>No internet service</td>\n",
       "      <td>No internet service</td>\n",
       "      <td>No internet service</td>\n",
       "      <td>No internet service</td>\n",
       "      <td>No internet service</td>\n",
       "      <td>Two year</td>\n",
       "      <td>0</td>\n",
       "      <td>Mailed check</td>\n",
       "      <td>19.85</td>\n",
       "      <td>NaN</td>\n",
       "      <td>0</td>\n",
       "    </tr>\n",
       "    <tr>\n",
       "      <th>3826</th>\n",
       "      <td>3213-VVOLG</td>\n",
       "      <td>0</td>\n",
       "      <td>0</td>\n",
       "      <td>1</td>\n",
       "      <td>1</td>\n",
       "      <td>0.0</td>\n",
       "      <td>1</td>\n",
       "      <td>Yes</td>\n",
       "      <td>No</td>\n",
       "      <td>No internet service</td>\n",
       "      <td>No internet service</td>\n",
       "      <td>No internet service</td>\n",
       "      <td>No internet service</td>\n",
       "      <td>No internet service</td>\n",
       "      <td>No internet service</td>\n",
       "      <td>Two year</td>\n",
       "      <td>0</td>\n",
       "      <td>Mailed check</td>\n",
       "      <td>25.35</td>\n",
       "      <td>NaN</td>\n",
       "      <td>0</td>\n",
       "    </tr>\n",
       "    <tr>\n",
       "      <th>4380</th>\n",
       "      <td>2520-SGTTA</td>\n",
       "      <td>1</td>\n",
       "      <td>0</td>\n",
       "      <td>1</td>\n",
       "      <td>1</td>\n",
       "      <td>0.0</td>\n",
       "      <td>1</td>\n",
       "      <td>No</td>\n",
       "      <td>No</td>\n",
       "      <td>No internet service</td>\n",
       "      <td>No internet service</td>\n",
       "      <td>No internet service</td>\n",
       "      <td>No internet service</td>\n",
       "      <td>No internet service</td>\n",
       "      <td>No internet service</td>\n",
       "      <td>Two year</td>\n",
       "      <td>0</td>\n",
       "      <td>Mailed check</td>\n",
       "      <td>20.00</td>\n",
       "      <td>NaN</td>\n",
       "      <td>0</td>\n",
       "    </tr>\n",
       "    <tr>\n",
       "      <th>5218</th>\n",
       "      <td>2923-ARZLG</td>\n",
       "      <td>0</td>\n",
       "      <td>0</td>\n",
       "      <td>1</td>\n",
       "      <td>1</td>\n",
       "      <td>0.0</td>\n",
       "      <td>1</td>\n",
       "      <td>No</td>\n",
       "      <td>No</td>\n",
       "      <td>No internet service</td>\n",
       "      <td>No internet service</td>\n",
       "      <td>No internet service</td>\n",
       "      <td>No internet service</td>\n",
       "      <td>No internet service</td>\n",
       "      <td>No internet service</td>\n",
       "      <td>One year</td>\n",
       "      <td>1</td>\n",
       "      <td>Mailed check</td>\n",
       "      <td>19.70</td>\n",
       "      <td>NaN</td>\n",
       "      <td>0</td>\n",
       "    </tr>\n",
       "    <tr>\n",
       "      <th>6670</th>\n",
       "      <td>4075-WKNIU</td>\n",
       "      <td>1</td>\n",
       "      <td>0</td>\n",
       "      <td>1</td>\n",
       "      <td>1</td>\n",
       "      <td>0.0</td>\n",
       "      <td>1</td>\n",
       "      <td>Yes</td>\n",
       "      <td>DSL</td>\n",
       "      <td>No</td>\n",
       "      <td>Yes</td>\n",
       "      <td>Yes</td>\n",
       "      <td>Yes</td>\n",
       "      <td>Yes</td>\n",
       "      <td>No</td>\n",
       "      <td>Two year</td>\n",
       "      <td>0</td>\n",
       "      <td>Mailed check</td>\n",
       "      <td>73.35</td>\n",
       "      <td>NaN</td>\n",
       "      <td>0</td>\n",
       "    </tr>\n",
       "    <tr>\n",
       "      <th>6754</th>\n",
       "      <td>2775-SEFEE</td>\n",
       "      <td>0</td>\n",
       "      <td>0</td>\n",
       "      <td>0</td>\n",
       "      <td>1</td>\n",
       "      <td>0.0</td>\n",
       "      <td>1</td>\n",
       "      <td>Yes</td>\n",
       "      <td>DSL</td>\n",
       "      <td>Yes</td>\n",
       "      <td>Yes</td>\n",
       "      <td>No</td>\n",
       "      <td>Yes</td>\n",
       "      <td>No</td>\n",
       "      <td>No</td>\n",
       "      <td>Two year</td>\n",
       "      <td>1</td>\n",
       "      <td>Bank transfer (automatic)</td>\n",
       "      <td>61.90</td>\n",
       "      <td>NaN</td>\n",
       "      <td>0</td>\n",
       "    </tr>\n",
       "  </tbody>\n",
       "</table>\n",
       "</div>"
      ],
      "text/plain": [
       "      customerID  gender  SeniorCitizen  Partner  Dependents  tenure  \\\n",
       "488   4472-LVYGI       1              0        1           1     0.0   \n",
       "753   3115-CZMZD       0              0        0           1     0.0   \n",
       "936   5709-LVOEQ       1              0        1           1     0.0   \n",
       "1082  4367-NUYAO       0              0        1           1     0.0   \n",
       "1340  1371-DWPAZ       1              0        1           1     0.0   \n",
       "3331  7644-OMVMY       0              0        1           1     0.0   \n",
       "3826  3213-VVOLG       0              0        1           1     0.0   \n",
       "4380  2520-SGTTA       1              0        1           1     0.0   \n",
       "5218  2923-ARZLG       0              0        1           1     0.0   \n",
       "6670  4075-WKNIU       1              0        1           1     0.0   \n",
       "6754  2775-SEFEE       0              0        0           1     0.0   \n",
       "\n",
       "      PhoneService     MultipleLines InternetService       OnlineSecurity  \\\n",
       "488              0  No phone service             DSL                  Yes   \n",
       "753              1                No              No  No internet service   \n",
       "936              1                No             DSL                  Yes   \n",
       "1082             1               Yes              No  No internet service   \n",
       "1340             0  No phone service             DSL                  Yes   \n",
       "3331             1                No              No  No internet service   \n",
       "3826             1               Yes              No  No internet service   \n",
       "4380             1                No              No  No internet service   \n",
       "5218             1                No              No  No internet service   \n",
       "6670             1               Yes             DSL                   No   \n",
       "6754             1               Yes             DSL                  Yes   \n",
       "\n",
       "             OnlineBackup     DeviceProtection          TechSupport  \\\n",
       "488                    No                  Yes                  Yes   \n",
       "753   No internet service  No internet service  No internet service   \n",
       "936                   Yes                  Yes                   No   \n",
       "1082  No internet service  No internet service  No internet service   \n",
       "1340                  Yes                  Yes                  Yes   \n",
       "3331  No internet service  No internet service  No internet service   \n",
       "3826  No internet service  No internet service  No internet service   \n",
       "4380  No internet service  No internet service  No internet service   \n",
       "5218  No internet service  No internet service  No internet service   \n",
       "6670                  Yes                  Yes                  Yes   \n",
       "6754                  Yes                   No                  Yes   \n",
       "\n",
       "              StreamingTV      StreamingMovies  Contract  PaperlessBilling  \\\n",
       "488                   Yes                   No  Two year                 1   \n",
       "753   No internet service  No internet service  Two year                 0   \n",
       "936                   Yes                  Yes  Two year                 0   \n",
       "1082  No internet service  No internet service  Two year                 0   \n",
       "1340                  Yes                   No  Two year                 0   \n",
       "3331  No internet service  No internet service  Two year                 0   \n",
       "3826  No internet service  No internet service  Two year                 0   \n",
       "4380  No internet service  No internet service  Two year                 0   \n",
       "5218  No internet service  No internet service  One year                 1   \n",
       "6670                  Yes                   No  Two year                 0   \n",
       "6754                   No                   No  Two year                 1   \n",
       "\n",
       "                  PaymentMethod  MonthlyCharges  TotalCharges  Churn  \n",
       "488   Bank transfer (automatic)           52.55           NaN      0  \n",
       "753                Mailed check           20.25           NaN      0  \n",
       "936                Mailed check           80.85           NaN      0  \n",
       "1082               Mailed check           25.75           NaN      0  \n",
       "1340    Credit card (automatic)           56.05           NaN      0  \n",
       "3331               Mailed check           19.85           NaN      0  \n",
       "3826               Mailed check           25.35           NaN      0  \n",
       "4380               Mailed check           20.00           NaN      0  \n",
       "5218               Mailed check           19.70           NaN      0  \n",
       "6670               Mailed check           73.35           NaN      0  \n",
       "6754  Bank transfer (automatic)           61.90           NaN      0  "
      ]
     },
     "execution_count": 108,
     "metadata": {},
     "output_type": "execute_result"
    }
   ],
   "source": [
    "data_df[data_df['TotalCharges'].isna()].head(20)"
   ]
  },
  {
   "cell_type": "markdown",
   "id": "2a23601d",
   "metadata": {},
   "source": [
    "We decide to delete those 11 rows."
   ]
  },
  {
   "cell_type": "code",
   "execution_count": 109,
   "id": "74f9fcbf",
   "metadata": {},
   "outputs": [],
   "source": [
    "data_df = data_df[data_df['TotalCharges'].notna()]"
   ]
  },
  {
   "cell_type": "code",
   "execution_count": 110,
   "id": "43eddbee",
   "metadata": {},
   "outputs": [
    {
     "data": {
      "text/plain": [
       "(7032, 21)"
      ]
     },
     "execution_count": 110,
     "metadata": {},
     "output_type": "execute_result"
    }
   ],
   "source": [
    "data_df.shape"
   ]
  },
  {
   "cell_type": "markdown",
   "id": "75f0e27f",
   "metadata": {},
   "source": [
    "Look also at: sklearn.impute</br>\n",
    "https://scikit-learn.org/stable/modules/classes.html#module-sklearn.impute</br>\n",
    "\n",
    "SimpleImputer - does substitution with simple strategies: mean, median, most_frequent, constant.</br>\n",
    "others: IterativeImputer, KNNImputer</br>"
   ]
  },
  {
   "cell_type": "markdown",
   "id": "9d07abbe",
   "metadata": {},
   "source": [
    "# Feature Scaling/Normalisation - (will be covered in more details during the Thursday Tabular ML session)"
   ]
  },
  {
   "cell_type": "markdown",
   "id": "a1b72ab9",
   "metadata": {},
   "source": [
    "<img src='img/Screen Shot 2021-09-16 at 4.51.33 pm.png' width=800 align='left'>"
   ]
  },
  {
   "cell_type": "markdown",
   "id": "6a3a54b2",
   "metadata": {},
   "source": [
    "We won't need it for our XGBoost example but here is the code snippet if you ever need it."
   ]
  },
  {
   "cell_type": "code",
   "execution_count": 111,
   "id": "87d8a103",
   "metadata": {},
   "outputs": [
    {
     "data": {
      "text/plain": [
       "array([0.        , 0.11542289, 0.0005027 ])"
      ]
     },
     "execution_count": 111,
     "metadata": {},
     "output_type": "execute_result"
    }
   ],
   "source": [
    "from sklearn.preprocessing import MinMaxScaler\n",
    "\n",
    "scaler = MinMaxScaler(feature_range=(0, 1))\n",
    "scaled_features_df = scaler.fit_transform(data_df[[\"tenure\", \"MonthlyCharges\", \"TotalCharges\"]])\n",
    "scaled_features_df[0]"
   ]
  },
  {
   "cell_type": "markdown",
   "id": "a14c8e8e",
   "metadata": {},
   "source": [
    "# Dealing with Outliers\n",
    "Outliers = extreme values that deviate from other observations on data.\n",
    "\n",
    "They may indicate a variability in a measurement, experimental errors or a novelty. In other words, an outlier is an observation that diverges from an overall pattern on a sample. \n",
    "\n",
    "Be Careful not to mistake outliers with true data.</br>\n",
    "\n",
    "for \"Univariate\" outliers, we can draw graph, histogram to identify those visually and drop them. using percentile is another method</br>\n",
    "for \"Multivariate\" ones, it's much harder.</br>\n",
    "\n",
    "Why outliers are bad for your model?</br>\n",
    "Data outliers can spoil and mislead the training process resulting in longer training times, less accurate models and ultimately poorer results\n",
    "\n",
    "<b>How to detect outliers?</b>"
   ]
  },
  {
   "cell_type": "markdown",
   "id": "cf44cf1e",
   "metadata": {},
   "source": [
    "### Visually - Histograms/scatterplot"
   ]
  },
  {
   "cell_type": "code",
   "execution_count": 112,
   "id": "333396da",
   "metadata": {},
   "outputs": [
    {
     "data": {
      "image/png": "[encoded data removed]",
      "text/plain": [
       "<Figure size 432x288 with 1 Axes>"
      ]
     },
     "metadata": {
      "needs_background": "light"
     },
     "output_type": "display_data"
    }
   ],
   "source": [
    "sns.distplot(data_df['TotalCharges'], bins=50, kde=False)\n",
    "plt.show()"
   ]
  },
  {
   "cell_type": "code",
   "execution_count": 113,
   "id": "55d8b5e5",
   "metadata": {},
   "outputs": [
    {
     "data": {
      "image/png": "[encoded data removed]",
      "text/plain": [
       "<Figure size 432x288 with 1 Axes>"
      ]
     },
     "metadata": {
      "needs_background": "light"
     },
     "output_type": "display_data"
    }
   ],
   "source": [
    "sns.scatterplot(data=data_df.sample(frac=1), x='TotalCharges', y='MonthlyCharges')\n",
    "plt.show()"
   ]
  },
  {
   "cell_type": "markdown",
   "id": "9dd58879",
   "metadata": {},
   "source": [
    "### Percentiles"
   ]
  },
  {
   "cell_type": "code",
   "execution_count": 114,
   "id": "e393756b",
   "metadata": {},
   "outputs": [
    {
     "name": "stdout",
     "output_type": "stream",
     "text": [
      "99th percentile:8058.7570000000005\n",
      "Number of observations in the 99th percentile:71\n"
     ]
    }
   ],
   "source": [
    "top_percentile = data_df['TotalCharges'].quantile(.99)\n",
    "print(f'99th percentile:{top_percentile}')\n",
    "\n",
    "number_in_to_percentile = data_df[data_df['TotalCharges'] >= top_percentile].shape[0]\n",
    "print(f'Number of observations in the 99th percentile:{number_in_to_percentile}')"
   ]
  },
  {
   "cell_type": "markdown",
   "id": "9605e66e",
   "metadata": {},
   "source": [
    "### Z-score\n",
    "Z-score is a common method to flag if a value is an outlier.</br>\n",
    "Z-Score is essentially how many standard deviations away is my actual value from the mean value.</br>\n",
    "(standard deviation being a measure of how dispersed the data is in relation to the mean)."
   ]
  },
  {
   "cell_type": "markdown",
   "id": "7f27a638",
   "metadata": {},
   "source": [
    "We just create a new column with the z-score for each TotalCharges value"
   ]
  },
  {
   "cell_type": "code",
   "execution_count": 115,
   "id": "bcddba6e",
   "metadata": {},
   "outputs": [
    {
     "name": "stdout",
     "output_type": "stream",
     "text": [
      "mean:2291.4626066552933, standard deviation:2299.341230816595\n"
     ]
    }
   ],
   "source": [
    "std_totalcharges = data_df['TotalCharges'].std()\n",
    "mean_totalcharges = data_df['TotalCharges'].mean()\n",
    "print(f'mean:{mean_totalcharges}, standard deviation:{std_totalcharges}')\n",
    "\n",
    "data_df['TotalCharges_zscore'] = (data_df['TotalCharges'] - mean_totalcharges)/std_totalcharges"
   ]
  },
  {
   "cell_type": "markdown",
   "id": "188cf9e2",
   "metadata": {},
   "source": [
    "We filter the dataframe to keep the observations which are deviating from the mean value by 3 times the standard deviation."
   ]
  },
  {
   "cell_type": "code",
   "execution_count": 116,
   "id": "6c8d1198",
   "metadata": {},
   "outputs": [
    {
     "data": {
      "text/html": [
       "<div>\n",
       "<style scoped>\n",
       "    .dataframe tbody tr th:only-of-type {\n",
       "        vertical-align: middle;\n",
       "    }\n",
       "\n",
       "    .dataframe tbody tr th {\n",
       "        vertical-align: top;\n",
       "    }\n",
       "\n",
       "    .dataframe thead th {\n",
       "        text-align: right;\n",
       "    }\n",
       "</style>\n",
       "<table border=\"1\" class=\"dataframe\">\n",
       "  <thead>\n",
       "    <tr style=\"text-align: right;\">\n",
       "      <th></th>\n",
       "      <th>customerID</th>\n",
       "      <th>gender</th>\n",
       "      <th>SeniorCitizen</th>\n",
       "      <th>Partner</th>\n",
       "      <th>Dependents</th>\n",
       "      <th>tenure</th>\n",
       "      <th>PhoneService</th>\n",
       "      <th>MultipleLines</th>\n",
       "      <th>InternetService</th>\n",
       "      <th>OnlineSecurity</th>\n",
       "      <th>OnlineBackup</th>\n",
       "      <th>DeviceProtection</th>\n",
       "      <th>TechSupport</th>\n",
       "      <th>StreamingTV</th>\n",
       "      <th>StreamingMovies</th>\n",
       "      <th>Contract</th>\n",
       "      <th>PaperlessBilling</th>\n",
       "      <th>PaymentMethod</th>\n",
       "      <th>MonthlyCharges</th>\n",
       "      <th>TotalCharges</th>\n",
       "      <th>Churn</th>\n",
       "      <th>TotalCharges_zscore</th>\n",
       "    </tr>\n",
       "  </thead>\n",
       "  <tbody>\n",
       "    <tr>\n",
       "      <th>45</th>\n",
       "      <td>3714-NTNFO</td>\n",
       "      <td>1</td>\n",
       "      <td>0</td>\n",
       "      <td>0</td>\n",
       "      <td>0</td>\n",
       "      <td>49.0</td>\n",
       "      <td>1</td>\n",
       "      <td>Yes</td>\n",
       "      <td>Fiber optic</td>\n",
       "      <td>No</td>\n",
       "      <td>No</td>\n",
       "      <td>No</td>\n",
       "      <td>No</td>\n",
       "      <td>No</td>\n",
       "      <td>Yes</td>\n",
       "      <td>Month-to-month</td>\n",
       "      <td>1</td>\n",
       "      <td>Electronic check</td>\n",
       "      <td>84.50</td>\n",
       "      <td>20000.0</td>\n",
       "      <td>0</td>\n",
       "      <td>7.701570</td>\n",
       "    </tr>\n",
       "    <tr>\n",
       "      <th>2000</th>\n",
       "      <td>7020-OZKXZ</td>\n",
       "      <td>1</td>\n",
       "      <td>1</td>\n",
       "      <td>0</td>\n",
       "      <td>0</td>\n",
       "      <td>9.0</td>\n",
       "      <td>1</td>\n",
       "      <td>No</td>\n",
       "      <td>Fiber optic</td>\n",
       "      <td>No</td>\n",
       "      <td>No</td>\n",
       "      <td>Yes</td>\n",
       "      <td>No</td>\n",
       "      <td>No</td>\n",
       "      <td>No</td>\n",
       "      <td>Month-to-month</td>\n",
       "      <td>0</td>\n",
       "      <td>Credit card (automatic)</td>\n",
       "      <td>75.50</td>\n",
       "      <td>22000.0</td>\n",
       "      <td>0</td>\n",
       "      <td>8.571384</td>\n",
       "    </tr>\n",
       "    <tr>\n",
       "      <th>3000</th>\n",
       "      <td>7613-LLQFO</td>\n",
       "      <td>0</td>\n",
       "      <td>0</td>\n",
       "      <td>0</td>\n",
       "      <td>0</td>\n",
       "      <td>12.0</td>\n",
       "      <td>1</td>\n",
       "      <td>Yes</td>\n",
       "      <td>Fiber optic</td>\n",
       "      <td>No</td>\n",
       "      <td>No</td>\n",
       "      <td>No</td>\n",
       "      <td>No</td>\n",
       "      <td>Yes</td>\n",
       "      <td>No</td>\n",
       "      <td>Month-to-month</td>\n",
       "      <td>1</td>\n",
       "      <td>Electronic check</td>\n",
       "      <td>84.45</td>\n",
       "      <td>21000.0</td>\n",
       "      <td>1</td>\n",
       "      <td>8.136477</td>\n",
       "    </tr>\n",
       "  </tbody>\n",
       "</table>\n",
       "</div>"
      ],
      "text/plain": [
       "      customerID  gender  SeniorCitizen  Partner  Dependents  tenure  \\\n",
       "45    3714-NTNFO       1              0        0           0    49.0   \n",
       "2000  7020-OZKXZ       1              1        0           0     9.0   \n",
       "3000  7613-LLQFO       0              0        0           0    12.0   \n",
       "\n",
       "      PhoneService MultipleLines InternetService OnlineSecurity OnlineBackup  \\\n",
       "45               1           Yes     Fiber optic             No           No   \n",
       "2000             1            No     Fiber optic             No           No   \n",
       "3000             1           Yes     Fiber optic             No           No   \n",
       "\n",
       "     DeviceProtection TechSupport StreamingTV StreamingMovies        Contract  \\\n",
       "45                 No          No          No             Yes  Month-to-month   \n",
       "2000              Yes          No          No              No  Month-to-month   \n",
       "3000               No          No         Yes              No  Month-to-month   \n",
       "\n",
       "      PaperlessBilling            PaymentMethod  MonthlyCharges  TotalCharges  \\\n",
       "45                   1         Electronic check           84.50       20000.0   \n",
       "2000                 0  Credit card (automatic)           75.50       22000.0   \n",
       "3000                 1         Electronic check           84.45       21000.0   \n",
       "\n",
       "      Churn  TotalCharges_zscore  \n",
       "45        0             7.701570  \n",
       "2000      0             8.571384  \n",
       "3000      1             8.136477  "
      ]
     },
     "execution_count": 116,
     "metadata": {},
     "output_type": "execute_result"
    }
   ],
   "source": [
    "data_df[abs(data_df['TotalCharges_zscore']) > 3]"
   ]
  },
  {
   "cell_type": "markdown",
   "id": "10b0794e",
   "metadata": {},
   "source": [
    "In that case we simply delete those outliers"
   ]
  },
  {
   "cell_type": "code",
   "execution_count": 117,
   "id": "0e4d0ada",
   "metadata": {},
   "outputs": [],
   "source": [
    "data_df = data_df.drop([45,2000,3000], axis=0)"
   ]
  },
  {
   "cell_type": "markdown",
   "id": "1e8bcc5b",
   "metadata": {},
   "source": [
    "Dropping the Z-score column too as we don't need it anymore"
   ]
  },
  {
   "cell_type": "code",
   "execution_count": 118,
   "id": "eb21d23b",
   "metadata": {},
   "outputs": [],
   "source": [
    "data_df = data_df.drop('TotalCharges_zscore', axis=1)"
   ]
  },
  {
   "cell_type": "markdown",
   "id": "ec5a9ba1",
   "metadata": {},
   "source": [
    "# Feature Engineering\n",
    "\n",
    "Your ML model is as good as your data!!</br>\n",
    "\n",
    "Feature engineering is the process of using domain knowledge to extract features (characteristics, properties, attributes) from raw data."
   ]
  },
  {
   "cell_type": "markdown",
   "id": "c91733d4",
   "metadata": {},
   "source": [
    "<img src='img/Screen Shot 2021-09-16 at 4.57.52 pm.png' width=800 align='left'>"
   ]
  },
  {
   "cell_type": "markdown",
   "id": "d0f21b89",
   "metadata": {},
   "source": [
    "<img src='img/Screen Shot 2021-10-08 at 11.24.00 am.png' width=800 align='left'>"
   ]
  },
  {
   "cell_type": "markdown",
   "id": "74075baf",
   "metadata": {},
   "source": [
    "### Feature extraction\n",
    "e.g. date -> week day, month, year, season."
   ]
  },
  {
   "cell_type": "markdown",
   "id": "7b0859dd",
   "metadata": {},
   "source": [
    "We don't have dates in the dataset but the customerID has 2 parts that could potentially have a meaning and might be worth extracting. Let's check!</br>"
   ]
  },
  {
   "cell_type": "code",
   "execution_count": 119,
   "id": "ebaf5810",
   "metadata": {},
   "outputs": [
    {
     "data": {
      "text/plain": [
       "0    7590-VHVEG\n",
       "1    5575-GNVDE\n",
       "Name: customerID, dtype: object"
      ]
     },
     "execution_count": 119,
     "metadata": {},
     "output_type": "execute_result"
    }
   ],
   "source": [
    "data_df['customerID'].head(2)"
   ]
  },
  {
   "cell_type": "markdown",
   "id": "1c4b3b0e",
   "metadata": {},
   "source": [
    "we create 2 new columns with each parts of the ID"
   ]
  },
  {
   "cell_type": "code",
   "execution_count": 120,
   "id": "0f4bfd07",
   "metadata": {},
   "outputs": [],
   "source": [
    "data_df['customerID-part1'] = data_df['customerID'].apply(lambda x: x.split('-')[0])\n",
    "data_df['customerID-part2'] = data_df['customerID'].apply(lambda x: x.split('-')[1])"
   ]
  },
  {
   "cell_type": "markdown",
   "id": "e205120c",
   "metadata": {},
   "source": [
    "We check the cardinality of each feature"
   ]
  },
  {
   "cell_type": "code",
   "execution_count": 121,
   "id": "52953a2b",
   "metadata": {},
   "outputs": [
    {
     "data": {
      "text/plain": [
       "customerID-part1    5076\n",
       "customerID-part2    7026\n",
       "dtype: int64"
      ]
     },
     "execution_count": 121,
     "metadata": {},
     "output_type": "execute_result"
    }
   ],
   "source": [
    "data_df[['customerID-part1', 'customerID-part2']].apply(pd.Series.nunique)"
   ]
  },
  {
   "cell_type": "markdown",
   "id": "bbdaa835",
   "metadata": {},
   "source": [
    "It was worth checking but the high cardinality doesn't suggest it will help the algorithm differentiate 2 records. so we'll ignore that and get rid of the customerID."
   ]
  },
  {
   "cell_type": "code",
   "execution_count": 122,
   "id": "05ba5ba4",
   "metadata": {},
   "outputs": [],
   "source": [
    "data_df = data_df.drop(['customerID', 'customerID-part1', 'customerID-part2'], axis=1)"
   ]
  },
  {
   "cell_type": "markdown",
   "id": "8cef876a",
   "metadata": {},
   "source": [
    "### Feature building/construction\n",
    "eg: Binning of age. helps with making some models more robust and less prone to overfitting but you loose some info -> tradeoff.</br>\n",
    "\n",
    "What can a human interprete from looking at the data that an algorithm wouldn't be able to see?"
   ]
  },
  {
   "cell_type": "code",
   "execution_count": 123,
   "id": "3517a106",
   "metadata": {},
   "outputs": [
    {
     "data": {
      "text/plain": [
       "Fiber optic    3093\n",
       "DSL            2416\n",
       "No             1520\n",
       "Name: InternetService, dtype: int64"
      ]
     },
     "execution_count": 123,
     "metadata": {},
     "output_type": "execute_result"
    }
   ],
   "source": [
    "data_df['InternetService'].value_counts()"
   ]
  },
  {
   "cell_type": "markdown",
   "id": "6fa52eda",
   "metadata": {},
   "source": [
    "We, humans, know that Fiber is around 15 times faster than DSL (6 vs ~90Mbps) but the algorithm won't be able to infer that from that column.</br>\n",
    "Let's assign a number to those categories that represents the speed on a scale (0 for No, 10 for DSL, 150 for Fiber).</br>"
   ]
  },
  {
   "cell_type": "code",
   "execution_count": 124,
   "id": "e7328cc5",
   "metadata": {},
   "outputs": [],
   "source": [
    "data_df['InternetSpeed'] = data_df['InternetService'].apply(lambda x: 0 if x == 'No' else 10 if x == 'DSL' else 150)"
   ]
  },
  {
   "cell_type": "markdown",
   "id": "b7a0b20a",
   "metadata": {},
   "source": [
    "### Feature selection\n",
    "Feature selection is the process of reducing the number of input variables when developing a predictive model. It is desirable to reduce the number of input variables to both reduce the computational cost of modeling and, in some cases, to improve the performance of the model.</br>\n",
    "Indeed, the performance of some models can degrade when including input variables that are not relevant to the target variable."
   ]
  },
  {
   "cell_type": "markdown",
   "id": "ede48bac",
   "metadata": {},
   "source": [
    "Do you remember our correlation matrix? Let's use it again to identify the feature-feature linear dependency and if one is very high that will mean that we can probably drop on of them as they will be redundant to our model."
   ]
  },
  {
   "cell_type": "code",
   "execution_count": 125,
   "id": "15e0ef21",
   "metadata": {},
   "outputs": [
    {
     "name": "stdout",
     "output_type": "stream",
     "text": [
      "InternetService_No  -  OnlineSecurity_No internet service  -  1.0\n",
      "InternetService_No  -  OnlineBackup_No internet service  -  1.0\n",
      "InternetService_No  -  DeviceProtection_No internet service  -  1.0\n",
      "InternetService_No  -  TechSupport_No internet service  -  1.0\n",
      "InternetService_No  -  StreamingTV_No internet service  -  1.0\n",
      "InternetService_No  -  StreamingMovies_No internet service  -  1.0\n",
      "OnlineSecurity_No internet service  -  InternetService_No  -  1.0\n",
      "OnlineSecurity_No internet service  -  OnlineBackup_No internet service  -  1.0\n",
      "OnlineSecurity_No internet service  -  DeviceProtection_No internet service  -  1.0\n",
      "OnlineSecurity_No internet service  -  TechSupport_No internet service  -  1.0\n",
      "OnlineSecurity_No internet service  -  StreamingTV_No internet service  -  1.0\n",
      "OnlineSecurity_No internet service  -  StreamingMovies_No internet service  -  1.0\n",
      "OnlineBackup_No internet service  -  InternetService_No  -  1.0\n",
      "OnlineBackup_No internet service  -  OnlineSecurity_No internet service  -  1.0\n",
      "OnlineBackup_No internet service  -  DeviceProtection_No internet service  -  1.0\n",
      "OnlineBackup_No internet service  -  TechSupport_No internet service  -  1.0\n",
      "OnlineBackup_No internet service  -  StreamingTV_No internet service  -  1.0\n",
      "OnlineBackup_No internet service  -  StreamingMovies_No internet service  -  1.0\n",
      "DeviceProtection_No internet service  -  InternetService_No  -  1.0\n",
      "DeviceProtection_No internet service  -  OnlineSecurity_No internet service  -  1.0\n",
      "DeviceProtection_No internet service  -  OnlineBackup_No internet service  -  1.0\n",
      "DeviceProtection_No internet service  -  TechSupport_No internet service  -  1.0\n",
      "DeviceProtection_No internet service  -  StreamingTV_No internet service  -  1.0\n",
      "DeviceProtection_No internet service  -  StreamingMovies_No internet service  -  1.0\n",
      "TechSupport_No internet service  -  InternetService_No  -  1.0\n",
      "TechSupport_No internet service  -  OnlineSecurity_No internet service  -  1.0\n",
      "TechSupport_No internet service  -  OnlineBackup_No internet service  -  1.0\n",
      "TechSupport_No internet service  -  DeviceProtection_No internet service  -  1.0\n",
      "TechSupport_No internet service  -  StreamingTV_No internet service  -  1.0\n",
      "TechSupport_No internet service  -  StreamingMovies_No internet service  -  1.0\n",
      "StreamingTV_No internet service  -  InternetService_No  -  1.0\n",
      "StreamingTV_No internet service  -  OnlineSecurity_No internet service  -  1.0\n",
      "StreamingTV_No internet service  -  OnlineBackup_No internet service  -  1.0\n",
      "StreamingTV_No internet service  -  DeviceProtection_No internet service  -  1.0\n",
      "StreamingTV_No internet service  -  TechSupport_No internet service  -  1.0\n",
      "StreamingTV_No internet service  -  StreamingMovies_No internet service  -  1.0\n",
      "StreamingMovies_No internet service  -  InternetService_No  -  1.0\n",
      "StreamingMovies_No internet service  -  OnlineSecurity_No internet service  -  1.0\n",
      "StreamingMovies_No internet service  -  OnlineBackup_No internet service  -  1.0\n",
      "StreamingMovies_No internet service  -  DeviceProtection_No internet service  -  1.0\n",
      "StreamingMovies_No internet service  -  TechSupport_No internet service  -  1.0\n",
      "StreamingMovies_No internet service  -  StreamingTV_No internet service  -  1.0\n"
     ]
    }
   ],
   "source": [
    "threshold = 0.99\n",
    "for rowIndex, row in corrmat.iterrows(): #iterate over rows\n",
    "    for columnIndex, value in row.items():\n",
    "        if rowIndex != columnIndex and value > threshold:\n",
    "            print(f\"{rowIndex}  -  {columnIndex}  -  {value}\")"
   ]
  },
  {
   "cell_type": "markdown",
   "id": "2fb8442f",
   "metadata": {},
   "source": [
    "We can see that we have 6 strongly correlated features that are directly connected with the InternetService_No"
   ]
  },
  {
   "cell_type": "markdown",
   "id": "07a5853a",
   "metadata": {},
   "source": [
    "# Encoding Categorical Features"
   ]
  },
  {
   "cell_type": "code",
   "execution_count": 126,
   "id": "a3ba9f2b",
   "metadata": {},
   "outputs": [
    {
     "name": "stdout",
     "output_type": "stream",
     "text": [
      "(7029, 42)\n"
     ]
    }
   ],
   "source": [
    "encoded_data_df = encode_categorical_features(data_df)"
   ]
  },
  {
   "cell_type": "code",
   "execution_count": 127,
   "id": "b61699a3",
   "metadata": {},
   "outputs": [],
   "source": [
    "cols_to_drop = ['OnlineSecurity_No internet service', 'OnlineBackup_No internet service', 'DeviceProtection_No internet service', \n",
    "                'TechSupport_No internet service', 'StreamingTV_No internet service', 'StreamingMovies_No internet service']\n",
    "encoded_data_df = encoded_data_df.drop(cols_to_drop, axis=1)"
   ]
  },
  {
   "cell_type": "code",
   "execution_count": 128,
   "id": "191f9003",
   "metadata": {},
   "outputs": [
    {
     "data": {
      "text/plain": [
       "(7029, 36)"
      ]
     },
     "execution_count": 128,
     "metadata": {},
     "output_type": "execute_result"
    }
   ],
   "source": [
    "encoded_data_df.shape"
   ]
  },
  {
   "cell_type": "code",
   "execution_count": 129,
   "id": "2dd28821",
   "metadata": {},
   "outputs": [
    {
     "data": {
      "text/html": [
       "<div>\n",
       "<style scoped>\n",
       "    .dataframe tbody tr th:only-of-type {\n",
       "        vertical-align: middle;\n",
       "    }\n",
       "\n",
       "    .dataframe tbody tr th {\n",
       "        vertical-align: top;\n",
       "    }\n",
       "\n",
       "    .dataframe thead th {\n",
       "        text-align: right;\n",
       "    }\n",
       "</style>\n",
       "<table border=\"1\" class=\"dataframe\">\n",
       "  <thead>\n",
       "    <tr style=\"text-align: right;\">\n",
       "      <th></th>\n",
       "      <th>gender</th>\n",
       "      <th>SeniorCitizen</th>\n",
       "      <th>Partner</th>\n",
       "      <th>Dependents</th>\n",
       "      <th>tenure</th>\n",
       "      <th>PhoneService</th>\n",
       "      <th>PaperlessBilling</th>\n",
       "      <th>MonthlyCharges</th>\n",
       "      <th>TotalCharges</th>\n",
       "      <th>Churn</th>\n",
       "      <th>InternetSpeed</th>\n",
       "      <th>MultipleLines_No</th>\n",
       "      <th>MultipleLines_No phone service</th>\n",
       "      <th>MultipleLines_Yes</th>\n",
       "      <th>InternetService_DSL</th>\n",
       "      <th>InternetService_Fiber optic</th>\n",
       "      <th>InternetService_No</th>\n",
       "      <th>OnlineSecurity_No</th>\n",
       "      <th>OnlineSecurity_Yes</th>\n",
       "      <th>OnlineBackup_No</th>\n",
       "      <th>OnlineBackup_Yes</th>\n",
       "      <th>DeviceProtection_No</th>\n",
       "      <th>DeviceProtection_Yes</th>\n",
       "      <th>TechSupport_No</th>\n",
       "      <th>TechSupport_Yes</th>\n",
       "      <th>StreamingTV_No</th>\n",
       "      <th>StreamingTV_Yes</th>\n",
       "      <th>StreamingMovies_No</th>\n",
       "      <th>StreamingMovies_Yes</th>\n",
       "      <th>Contract_Month-to-month</th>\n",
       "      <th>Contract_One year</th>\n",
       "      <th>Contract_Two year</th>\n",
       "      <th>PaymentMethod_Bank transfer (automatic)</th>\n",
       "      <th>PaymentMethod_Credit card (automatic)</th>\n",
       "      <th>PaymentMethod_Electronic check</th>\n",
       "      <th>PaymentMethod_Mailed check</th>\n",
       "    </tr>\n",
       "  </thead>\n",
       "  <tbody>\n",
       "    <tr>\n",
       "      <th>0</th>\n",
       "      <td>1</td>\n",
       "      <td>0</td>\n",
       "      <td>1</td>\n",
       "      <td>0</td>\n",
       "      <td>1.0</td>\n",
       "      <td>0</td>\n",
       "      <td>1</td>\n",
       "      <td>29.85</td>\n",
       "      <td>29.85</td>\n",
       "      <td>0</td>\n",
       "      <td>10</td>\n",
       "      <td>0</td>\n",
       "      <td>1</td>\n",
       "      <td>0</td>\n",
       "      <td>1</td>\n",
       "      <td>0</td>\n",
       "      <td>0</td>\n",
       "      <td>1</td>\n",
       "      <td>0</td>\n",
       "      <td>0</td>\n",
       "      <td>1</td>\n",
       "      <td>1</td>\n",
       "      <td>0</td>\n",
       "      <td>1</td>\n",
       "      <td>0</td>\n",
       "      <td>1</td>\n",
       "      <td>0</td>\n",
       "      <td>1</td>\n",
       "      <td>0</td>\n",
       "      <td>1</td>\n",
       "      <td>0</td>\n",
       "      <td>0</td>\n",
       "      <td>0</td>\n",
       "      <td>0</td>\n",
       "      <td>1</td>\n",
       "      <td>0</td>\n",
       "    </tr>\n",
       "    <tr>\n",
       "      <th>1</th>\n",
       "      <td>0</td>\n",
       "      <td>0</td>\n",
       "      <td>0</td>\n",
       "      <td>0</td>\n",
       "      <td>34.0</td>\n",
       "      <td>1</td>\n",
       "      <td>0</td>\n",
       "      <td>56.95</td>\n",
       "      <td>1889.50</td>\n",
       "      <td>0</td>\n",
       "      <td>10</td>\n",
       "      <td>1</td>\n",
       "      <td>0</td>\n",
       "      <td>0</td>\n",
       "      <td>1</td>\n",
       "      <td>0</td>\n",
       "      <td>0</td>\n",
       "      <td>0</td>\n",
       "      <td>1</td>\n",
       "      <td>1</td>\n",
       "      <td>0</td>\n",
       "      <td>0</td>\n",
       "      <td>1</td>\n",
       "      <td>1</td>\n",
       "      <td>0</td>\n",
       "      <td>1</td>\n",
       "      <td>0</td>\n",
       "      <td>1</td>\n",
       "      <td>0</td>\n",
       "      <td>0</td>\n",
       "      <td>1</td>\n",
       "      <td>0</td>\n",
       "      <td>0</td>\n",
       "      <td>0</td>\n",
       "      <td>0</td>\n",
       "      <td>1</td>\n",
       "    </tr>\n",
       "    <tr>\n",
       "      <th>2</th>\n",
       "      <td>0</td>\n",
       "      <td>0</td>\n",
       "      <td>0</td>\n",
       "      <td>0</td>\n",
       "      <td>2.0</td>\n",
       "      <td>1</td>\n",
       "      <td>1</td>\n",
       "      <td>53.85</td>\n",
       "      <td>108.15</td>\n",
       "      <td>1</td>\n",
       "      <td>10</td>\n",
       "      <td>1</td>\n",
       "      <td>0</td>\n",
       "      <td>0</td>\n",
       "      <td>1</td>\n",
       "      <td>0</td>\n",
       "      <td>0</td>\n",
       "      <td>0</td>\n",
       "      <td>1</td>\n",
       "      <td>0</td>\n",
       "      <td>1</td>\n",
       "      <td>1</td>\n",
       "      <td>0</td>\n",
       "      <td>1</td>\n",
       "      <td>0</td>\n",
       "      <td>1</td>\n",
       "      <td>0</td>\n",
       "      <td>1</td>\n",
       "      <td>0</td>\n",
       "      <td>1</td>\n",
       "      <td>0</td>\n",
       "      <td>0</td>\n",
       "      <td>0</td>\n",
       "      <td>0</td>\n",
       "      <td>0</td>\n",
       "      <td>1</td>\n",
       "    </tr>\n",
       "    <tr>\n",
       "      <th>3</th>\n",
       "      <td>0</td>\n",
       "      <td>0</td>\n",
       "      <td>0</td>\n",
       "      <td>0</td>\n",
       "      <td>45.0</td>\n",
       "      <td>0</td>\n",
       "      <td>0</td>\n",
       "      <td>42.30</td>\n",
       "      <td>1840.75</td>\n",
       "      <td>0</td>\n",
       "      <td>10</td>\n",
       "      <td>0</td>\n",
       "      <td>1</td>\n",
       "      <td>0</td>\n",
       "      <td>1</td>\n",
       "      <td>0</td>\n",
       "      <td>0</td>\n",
       "      <td>0</td>\n",
       "      <td>1</td>\n",
       "      <td>1</td>\n",
       "      <td>0</td>\n",
       "      <td>0</td>\n",
       "      <td>1</td>\n",
       "      <td>0</td>\n",
       "      <td>1</td>\n",
       "      <td>1</td>\n",
       "      <td>0</td>\n",
       "      <td>1</td>\n",
       "      <td>0</td>\n",
       "      <td>0</td>\n",
       "      <td>1</td>\n",
       "      <td>0</td>\n",
       "      <td>1</td>\n",
       "      <td>0</td>\n",
       "      <td>0</td>\n",
       "      <td>0</td>\n",
       "    </tr>\n",
       "    <tr>\n",
       "      <th>4</th>\n",
       "      <td>1</td>\n",
       "      <td>0</td>\n",
       "      <td>0</td>\n",
       "      <td>0</td>\n",
       "      <td>2.0</td>\n",
       "      <td>1</td>\n",
       "      <td>1</td>\n",
       "      <td>70.70</td>\n",
       "      <td>151.65</td>\n",
       "      <td>1</td>\n",
       "      <td>150</td>\n",
       "      <td>1</td>\n",
       "      <td>0</td>\n",
       "      <td>0</td>\n",
       "      <td>0</td>\n",
       "      <td>1</td>\n",
       "      <td>0</td>\n",
       "      <td>1</td>\n",
       "      <td>0</td>\n",
       "      <td>1</td>\n",
       "      <td>0</td>\n",
       "      <td>1</td>\n",
       "      <td>0</td>\n",
       "      <td>1</td>\n",
       "      <td>0</td>\n",
       "      <td>1</td>\n",
       "      <td>0</td>\n",
       "      <td>1</td>\n",
       "      <td>0</td>\n",
       "      <td>1</td>\n",
       "      <td>0</td>\n",
       "      <td>0</td>\n",
       "      <td>0</td>\n",
       "      <td>0</td>\n",
       "      <td>1</td>\n",
       "      <td>0</td>\n",
       "    </tr>\n",
       "  </tbody>\n",
       "</table>\n",
       "</div>"
      ],
      "text/plain": [
       "   gender  SeniorCitizen  Partner  Dependents  tenure  PhoneService  \\\n",
       "0       1              0        1           0     1.0             0   \n",
       "1       0              0        0           0    34.0             1   \n",
       "2       0              0        0           0     2.0             1   \n",
       "3       0              0        0           0    45.0             0   \n",
       "4       1              0        0           0     2.0             1   \n",
       "\n",
       "   PaperlessBilling  MonthlyCharges  TotalCharges  Churn  InternetSpeed  \\\n",
       "0                 1           29.85         29.85      0             10   \n",
       "1                 0           56.95       1889.50      0             10   \n",
       "2                 1           53.85        108.15      1             10   \n",
       "3                 0           42.30       1840.75      0             10   \n",
       "4                 1           70.70        151.65      1            150   \n",
       "\n",
       "   MultipleLines_No  MultipleLines_No phone service  MultipleLines_Yes  \\\n",
       "0                 0                               1                  0   \n",
       "1                 1                               0                  0   \n",
       "2                 1                               0                  0   \n",
       "3                 0                               1                  0   \n",
       "4                 1                               0                  0   \n",
       "\n",
       "   InternetService_DSL  InternetService_Fiber optic  InternetService_No  \\\n",
       "0                    1                            0                   0   \n",
       "1                    1                            0                   0   \n",
       "2                    1                            0                   0   \n",
       "3                    1                            0                   0   \n",
       "4                    0                            1                   0   \n",
       "\n",
       "   OnlineSecurity_No  OnlineSecurity_Yes  OnlineBackup_No  OnlineBackup_Yes  \\\n",
       "0                  1                   0                0                 1   \n",
       "1                  0                   1                1                 0   \n",
       "2                  0                   1                0                 1   \n",
       "3                  0                   1                1                 0   \n",
       "4                  1                   0                1                 0   \n",
       "\n",
       "   DeviceProtection_No  DeviceProtection_Yes  TechSupport_No  TechSupport_Yes  \\\n",
       "0                    1                     0               1                0   \n",
       "1                    0                     1               1                0   \n",
       "2                    1                     0               1                0   \n",
       "3                    0                     1               0                1   \n",
       "4                    1                     0               1                0   \n",
       "\n",
       "   StreamingTV_No  StreamingTV_Yes  StreamingMovies_No  StreamingMovies_Yes  \\\n",
       "0               1                0                   1                    0   \n",
       "1               1                0                   1                    0   \n",
       "2               1                0                   1                    0   \n",
       "3               1                0                   1                    0   \n",
       "4               1                0                   1                    0   \n",
       "\n",
       "   Contract_Month-to-month  Contract_One year  Contract_Two year  \\\n",
       "0                        1                  0                  0   \n",
       "1                        0                  1                  0   \n",
       "2                        1                  0                  0   \n",
       "3                        0                  1                  0   \n",
       "4                        1                  0                  0   \n",
       "\n",
       "   PaymentMethod_Bank transfer (automatic)  \\\n",
       "0                                        0   \n",
       "1                                        0   \n",
       "2                                        0   \n",
       "3                                        1   \n",
       "4                                        0   \n",
       "\n",
       "   PaymentMethod_Credit card (automatic)  PaymentMethod_Electronic check  \\\n",
       "0                                      0                               1   \n",
       "1                                      0                               0   \n",
       "2                                      0                               0   \n",
       "3                                      0                               0   \n",
       "4                                      0                               1   \n",
       "\n",
       "   PaymentMethod_Mailed check  \n",
       "0                           0  \n",
       "1                           1  \n",
       "2                           1  \n",
       "3                           0  \n",
       "4                           0  "
      ]
     },
     "execution_count": 129,
     "metadata": {},
     "output_type": "execute_result"
    }
   ],
   "source": [
    "encoded_data_df.head(5)"
   ]
  },
  {
   "cell_type": "markdown",
   "id": "deda6e6b",
   "metadata": {},
   "source": [
    "# Splitting Datasets into Training/Validation/Test"
   ]
  },
  {
   "cell_type": "markdown",
   "id": "6153a763",
   "metadata": {},
   "source": [
    "<img src='img/Screen Shot 2021-09-18 at 11.45.26 am.png' width=800 align='left'>"
   ]
  },
  {
   "cell_type": "markdown",
   "id": "95382937",
   "metadata": {},
   "source": [
    "we use a sklearn function for the split and do not forget shuffling your data before splitting to make sure your observations are evenly distributed across train and test.\n",
    "\n",
    "we aim at doing a 80/10/10 for our train/validation/test sets."
   ]
  },
  {
   "cell_type": "code",
   "execution_count": 130,
   "id": "bf36955d",
   "metadata": {},
   "outputs": [],
   "source": [
    "from sklearn.model_selection import train_test_split\n",
    "\n",
    "#separating our input data from the labels\n",
    "encoded_data_df_Y = encoded_data_df['Churn'].copy()\n",
    "encoded_data_df_X = encoded_data_df.drop('Churn', axis=1)\n",
    "\n",
    "#we do a first 80/20 split between training set and the rest (= val + test) AND we shuffle\n",
    "train_x, rest_x, train_y, rest_y = train_test_split(encoded_data_df_X, encoded_data_df_Y, train_size=0.8, shuffle=True)\n",
    "\n",
    "#we split the previous 20% of the dataset in half to get test and validation, no need to shuffle again\n",
    "val_x, test_x, val_y, test_y,  = train_test_split(rest_x, rest_y, test_size=0.5, shuffle=False)"
   ]
  },
  {
   "cell_type": "code",
   "execution_count": 131,
   "id": "21027dc0",
   "metadata": {},
   "outputs": [
    {
     "name": "stdout",
     "output_type": "stream",
     "text": [
      "train x/y - (5623, 35) / (5623,)\n",
      "val x/y - (703, 35) / (703,)\n",
      "test x/y - (703, 35) / (703,)\n"
     ]
    }
   ],
   "source": [
    "print(f'train x/y - {train_x.shape} / {train_y.shape}')\n",
    "print(f'val x/y - {val_x.shape} / {val_y.shape}')\n",
    "print(f'test x/y - {test_x.shape} / {test_y.shape}')"
   ]
  },
  {
   "cell_type": "markdown",
   "id": "2c1b70d7",
   "metadata": {},
   "source": [
    "# Decision trees & XGBoost - (This will be covered in details during the Thursday Tabular ML session)"
   ]
  },
  {
   "cell_type": "markdown",
   "id": "d513be93",
   "metadata": {},
   "source": [
    "- Xgboost - most popular algorithm for classification models on tabular data\n",
    "- Decision Trees\n",
    "- Ensemble models\n",
    "- bagging vs boosting decision trees"
   ]
  },
  {
   "cell_type": "markdown",
   "id": "2af40f80",
   "metadata": {},
   "source": [
    "<img src='img/Screen Shot 2021-09-19 at 5.54.23 pm.png' width=800 align='left'>"
   ]
  },
  {
   "cell_type": "markdown",
   "id": "cece557c",
   "metadata": {},
   "source": [
    "# Training your model with XGBoost"
   ]
  },
  {
   "cell_type": "code",
   "execution_count": 132,
   "id": "7d5bb38a",
   "metadata": {},
   "outputs": [
    {
     "name": "stdout",
     "output_type": "stream",
     "text": [
      "Looking in indexes: https://pypi.org/simple, https://pip.repos.neuron.amazonaws.com\n",
      "Requirement already satisfied: xgboost in /home/ec2-user/anaconda3/envs/python3/lib/python3.6/site-packages (1.4.2)\n",
      "Requirement already satisfied: scipy in /home/ec2-user/anaconda3/envs/python3/lib/python3.6/site-packages (from xgboost) (1.5.3)\n",
      "Requirement already satisfied: numpy in /home/ec2-user/anaconda3/envs/python3/lib/python3.6/site-packages (from xgboost) (1.19.5)\n"
     ]
    }
   ],
   "source": [
    "!pip install xgboost"
   ]
  },
  {
   "cell_type": "markdown",
   "id": "8ab0a9a7",
   "metadata": {},
   "source": [
    "\n",
    "<b>Classifier configuration notes:</b>\n",
    "- objective: \"binary:logistic\" because it's a binary problem (0,1) that will output a probability. you should use 'multi:softprob' when solving a multiclass problem.\n",
    "- random_state: a way to \"fix\" the randomness within the algorithm to get consistent results from one training round to another\n",
    "- n_estimators: number of sub trees\n",
    "- max_depth: maximum number of \"split\" in our sub trees\n",
    "- min_child_weight: threshold telling the algo to stop trying to split once the sample size in a leaf goes below the given threshold\n",
    "- learning_rate: shrinks the feature weights to make the boosting process more conservative.\n",
    "- scale_pos_weight: it  is our way to put more weight on positive observations to help with unbalanced datasets. We basically tell the algorithm to focus more on the observations that are positive. = sum(negative instances) / sum(positive instances)\n",
    "\n",
    "<b>fit method notes:</b>\n",
    "- eval_metric=\"aucpr\"  (area under the curve precision recall)\n",
    "- early_stopping_rounds: if no improvement is recorded after 10 rounds of tree creation then stop\n",
    "\n",
    "XGBoost documentation:</br>\n",
    "https://xgboost.readthedocs.io/en/latest/python/python_api.html"
   ]
  },
  {
   "cell_type": "code",
   "execution_count": 133,
   "id": "4ecd35b8",
   "metadata": {},
   "outputs": [
    {
     "name": "stdout",
     "output_type": "stream",
     "text": [
      "[0]\tvalidation_0-aucpr:0.62891\n",
      "[1]\tvalidation_0-aucpr:0.65528\n",
      "[2]\tvalidation_0-aucpr:0.64967\n",
      "[3]\tvalidation_0-aucpr:0.66323\n",
      "[4]\tvalidation_0-aucpr:0.67918\n",
      "[5]\tvalidation_0-aucpr:0.68573\n",
      "[6]\tvalidation_0-aucpr:0.69210\n",
      "[7]\tvalidation_0-aucpr:0.69335\n",
      "[8]\tvalidation_0-aucpr:0.69988\n",
      "[9]\tvalidation_0-aucpr:0.69186\n",
      "[10]\tvalidation_0-aucpr:0.69496\n",
      "[11]\tvalidation_0-aucpr:0.69273\n",
      "[12]\tvalidation_0-aucpr:0.69443\n",
      "[13]\tvalidation_0-aucpr:0.69319\n",
      "[14]\tvalidation_0-aucpr:0.69227\n",
      "[15]\tvalidation_0-aucpr:0.68953\n",
      "[16]\tvalidation_0-aucpr:0.68846\n",
      "[17]\tvalidation_0-aucpr:0.68835\n",
      "[18]\tvalidation_0-aucpr:0.69195\n"
     ]
    }
   ],
   "source": [
    "import xgboost as xgb\n",
    "\n",
    "#count(negative instances) / count(positive instances)\n",
    "scale_pos_weight = encoded_data_df['Churn'].value_counts()[0]/encoded_data_df['Churn'].value_counts()[1]\n",
    "\n",
    "#used for evaluation of the trees/estimators\n",
    "eval_set = [(val_x, val_y)]\n",
    "\n",
    "#configure the xgb classifier object\n",
    "xgbClassifier = xgb.XGBClassifier(objective=\"binary:logistic\", \n",
    "                                  random_state=33, \n",
    "                                  n_estimators=50, \n",
    "                                  max_depth=4, \n",
    "                                  learning_rate=0.3, \n",
    "                                  min_child_weight=2, \n",
    "                                  scale_pos_weight=scale_pos_weight,\n",
    "                                  eval_metric='aucpr')\n",
    "\n",
    "# \"fit\" the model on the data = launch the training process.\n",
    "fit_model = xgbClassifier.fit(train_x, train_y, eval_set=eval_set, verbose=True, early_stopping_rounds=10)"
   ]
  },
  {
   "cell_type": "markdown",
   "id": "8f124c9d",
   "metadata": {},
   "source": [
    "We generate predictions for the train dataset to see how it fitted the training data"
   ]
  },
  {
   "cell_type": "code",
   "execution_count": 134,
   "id": "643b971c",
   "metadata": {},
   "outputs": [],
   "source": [
    "pred_train_y = xgbClassifier.predict(train_x)"
   ]
  },
  {
   "cell_type": "markdown",
   "id": "28117208",
   "metadata": {},
   "source": [
    "We generate predictions for the test dataset"
   ]
  },
  {
   "cell_type": "code",
   "execution_count": 135,
   "id": "efeeb533",
   "metadata": {},
   "outputs": [],
   "source": [
    "pred_test_y = xgbClassifier.predict(test_x)"
   ]
  },
  {
   "cell_type": "markdown",
   "id": "da16790f",
   "metadata": {},
   "source": [
    "# Model Evaluation"
   ]
  },
  {
   "cell_type": "markdown",
   "id": "6ed80f12",
   "metadata": {},
   "source": [
    "## Feature importance/weight"
   ]
  },
  {
   "cell_type": "markdown",
   "id": "642eeb5b",
   "metadata": {},
   "source": [
    "You can use plot_important to understand which features are especially important.</br>\n",
    "By default, this method calculate \"importance\" based on the ”weight”. The weight is the number of times a feature appears in a tree."
   ]
  },
  {
   "cell_type": "code",
   "execution_count": 136,
   "id": "ea1ee797",
   "metadata": {},
   "outputs": [
    {
     "data": {
      "image/png": "[encoded data removed]",
      "text/plain": [
       "<Figure size 432x288 with 1 Axes>"
      ]
     },
     "metadata": {
      "needs_background": "light"
     },
     "output_type": "display_data"
    }
   ],
   "source": [
    "xgb.plot_importance(fit_model,max_num_features=20)\n",
    "plt.show()"
   ]
  },
  {
   "cell_type": "markdown",
   "id": "c3e8bad1",
   "metadata": {},
   "source": [
    "## Visual representation of your trees"
   ]
  },
  {
   "cell_type": "code",
   "execution_count": 137,
   "id": "05f8c71c",
   "metadata": {},
   "outputs": [
    {
     "name": "stdout",
     "output_type": "stream",
     "text": [
      "Looking in indexes: https://pypi.org/simple, https://pip.repos.neuron.amazonaws.com\n",
      "Requirement already satisfied: graphviz in /home/ec2-user/anaconda3/envs/python3/lib/python3.6/site-packages (0.17)\n"
     ]
    }
   ],
   "source": [
    "!pip install graphviz"
   ]
  },
  {
   "cell_type": "code",
   "execution_count": 138,
   "id": "8adfe0fe",
   "metadata": {},
   "outputs": [
    {
     "name": "stdout",
     "output_type": "stream",
     "text": [
      "Number of small trees: 19\n",
      "best sub decision tree: 8\n"
     ]
    }
   ],
   "source": [
    "print(f'Number of sub trees: {len(fit_model.get_booster().get_dump())}')\n",
    "print(f'best sub decision tree: {fit_model.best_iteration}')"
   ]
  },
  {
   "cell_type": "code",
   "execution_count": 139,
   "id": "f1ad8f88",
   "metadata": {},
   "outputs": [
    {
     "data": {
      "image/svg+xml": [
       "<?xml version=\"1.0\" encoding=\"UTF-8\" standalone=\"no\"?>\n",
       "<!DOCTYPE svg PUBLIC \"-//W3C//DTD SVG 1.1//EN\"\n",
       " \"http://www.w3.org/Graphics/SVG/1.1/DTD/svg11.dtd\">\n",
       "<!-- Generated by graphviz version 2.46.1 (20210222.2046)\n",
       " -->\n",
       "<!-- Pages: 1 -->\n",
       "<svg width=\"1734pt\" height=\"854pt\"\n",
       " viewBox=\"0.00 0.00 1733.79 854.00\" xmlns=\"http://www.w3.org/2000/svg\" xmlns:xlink=\"http://www.w3.org/1999/xlink\">\n",
       "<g id=\"graph0\" class=\"graph\" transform=\"scale(1 1) rotate(0) translate(4 850)\">\n",
       "<polygon fill=\"white\" stroke=\"transparent\" points=\"-4,4 -4,-850 1729.79,-850 1729.79,4 -4,4\"/>\n",
       "<!-- 0 -->\n",
       "<g id=\"node1\" class=\"node\">\n",
       "<title>0</title>\n",
       "<ellipse fill=\"none\" stroke=\"black\" cx=\"69.54\" cy=\"-458\" rx=\"69.59\" ry=\"18\"/>\n",
       "<text text-anchor=\"middle\" x=\"69.54\" y=\"-454.3\" font-family=\"Times-Roman\" font-size=\"14.00\">tenure&lt;59.5</text>\n",
       "</g>\n",
       "<!-- 1 -->\n",
       "<g id=\"node2\" class=\"node\">\n",
       "<title>1</title>\n",
       "<ellipse fill=\"none\" stroke=\"black\" cx=\"378.48\" cy=\"-543\" rx=\"105.08\" ry=\"18\"/>\n",
       "<text text-anchor=\"middle\" x=\"378.48\" y=\"-539.3\" font-family=\"Times-Roman\" font-size=\"14.00\">PaperlessBilling&lt;0.5</text>\n",
       "</g>\n",
       "<!-- 0&#45;&gt;1 -->\n",
       "<g id=\"edge1\" class=\"edge\">\n",
       "<title>0&#45;&gt;1</title>\n",
       "<path fill=\"none\" stroke=\"#0000ff\" d=\"M117.83,-471.09C169.97,-485.53 254.18,-508.86 312.5,-525.01\"/>\n",
       "<polygon fill=\"#0000ff\" stroke=\"#0000ff\" points=\"311.78,-528.44 322.35,-527.73 313.65,-521.69 311.78,-528.44\"/>\n",
       "<text text-anchor=\"middle\" x=\"201.59\" y=\"-508.8\" font-family=\"Times-Roman\" font-size=\"14.00\">yes, missing</text>\n",
       "</g>\n",
       "<!-- 2 -->\n",
       "<g id=\"node3\" class=\"node\">\n",
       "<title>2</title>\n",
       "<ellipse fill=\"none\" stroke=\"black\" cx=\"378.48\" cy=\"-323\" rx=\"114.28\" ry=\"18\"/>\n",
       "<text text-anchor=\"middle\" x=\"378.48\" y=\"-319.3\" font-family=\"Times-Roman\" font-size=\"14.00\">StreamingTV_Yes&lt;0.5</text>\n",
       "</g>\n",
       "<!-- 0&#45;&gt;2 -->\n",
       "<g id=\"edge2\" class=\"edge\">\n",
       "<title>0&#45;&gt;2</title>\n",
       "<path fill=\"none\" stroke=\"#ff0000\" d=\"M105.75,-442.51C160.87,-418.27 267.62,-371.32 329.65,-344.04\"/>\n",
       "<polygon fill=\"#ff0000\" stroke=\"#ff0000\" points=\"331.09,-347.23 338.84,-340 328.27,-340.82 331.09,-347.23\"/>\n",
       "<text text-anchor=\"middle\" x=\"201.59\" y=\"-421.8\" font-family=\"Times-Roman\" font-size=\"14.00\">no</text>\n",
       "</g>\n",
       "<!-- 3 -->\n",
       "<g id=\"node4\" class=\"node\">\n",
       "<title>3</title>\n",
       "<ellipse fill=\"none\" stroke=\"black\" cx=\"767.35\" cy=\"-693\" rx=\"94.48\" ry=\"18\"/>\n",
       "<text text-anchor=\"middle\" x=\"767.35\" y=\"-689.3\" font-family=\"Times-Roman\" font-size=\"14.00\">SeniorCitizen&lt;0.5</text>\n",
       "</g>\n",
       "<!-- 1&#45;&gt;3 -->\n",
       "<g id=\"edge3\" class=\"edge\">\n",
       "<title>1&#45;&gt;3</title>\n",
       "<path fill=\"none\" stroke=\"#0000ff\" d=\"M421.99,-559.48C493.61,-587.25 638.05,-643.26 715.14,-673.14\"/>\n",
       "<polygon fill=\"#0000ff\" stroke=\"#0000ff\" points=\"714.07,-676.48 724.65,-676.83 716.6,-669.95 714.07,-676.48\"/>\n",
       "<text text-anchor=\"middle\" x=\"555.37\" y=\"-629.8\" font-family=\"Times-Roman\" font-size=\"14.00\">yes, missing</text>\n",
       "</g>\n",
       "<!-- 4 -->\n",
       "<g id=\"node5\" class=\"node\">\n",
       "<title>4</title>\n",
       "<ellipse fill=\"none\" stroke=\"black\" cx=\"767.35\" cy=\"-543\" rx=\"149.47\" ry=\"18\"/>\n",
       "<text text-anchor=\"middle\" x=\"767.35\" y=\"-539.3\" font-family=\"Times-Roman\" font-size=\"14.00\">MonthlyCharges&lt;94.1750031</text>\n",
       "</g>\n",
       "<!-- 1&#45;&gt;4 -->\n",
       "<g id=\"edge4\" class=\"edge\">\n",
       "<title>1&#45;&gt;4</title>\n",
       "<path fill=\"none\" stroke=\"#ff0000\" d=\"M483.92,-543C521.96,-543 565.87,-543 607.56,-543\"/>\n",
       "<polygon fill=\"#ff0000\" stroke=\"#ff0000\" points=\"607.83,-546.5 617.83,-543 607.83,-539.5 607.83,-546.5\"/>\n",
       "<text text-anchor=\"middle\" x=\"555.37\" y=\"-546.8\" font-family=\"Times-Roman\" font-size=\"14.00\">no</text>\n",
       "</g>\n",
       "<!-- 5 -->\n",
       "<g id=\"node18\" class=\"node\">\n",
       "<title>5</title>\n",
       "<ellipse fill=\"none\" stroke=\"black\" cx=\"767.35\" cy=\"-323\" rx=\"120.48\" ry=\"18\"/>\n",
       "<text text-anchor=\"middle\" x=\"767.35\" y=\"-319.3\" font-family=\"Times-Roman\" font-size=\"14.00\">Contract_One year&lt;0.5</text>\n",
       "</g>\n",
       "<!-- 2&#45;&gt;5 -->\n",
       "<g id=\"edge17\" class=\"edge\">\n",
       "<title>2&#45;&gt;5</title>\n",
       "<path fill=\"none\" stroke=\"#0000ff\" d=\"M492.94,-323C538.01,-323 590.12,-323 636.68,-323\"/>\n",
       "<polygon fill=\"#0000ff\" stroke=\"#0000ff\" points=\"636.83,-326.5 646.83,-323 636.83,-319.5 636.83,-326.5\"/>\n",
       "<text text-anchor=\"middle\" x=\"555.37\" y=\"-326.8\" font-family=\"Times-Roman\" font-size=\"14.00\">yes, missing</text>\n",
       "</g>\n",
       "<!-- 6 -->\n",
       "<g id=\"node19\" class=\"node\">\n",
       "<title>6</title>\n",
       "<ellipse fill=\"none\" stroke=\"black\" cx=\"767.35\" cy=\"-163\" rx=\"66.09\" ry=\"18\"/>\n",
       "<text text-anchor=\"middle\" x=\"767.35\" y=\"-159.3\" font-family=\"Times-Roman\" font-size=\"14.00\">gender&lt;0.5</text>\n",
       "</g>\n",
       "<!-- 2&#45;&gt;6 -->\n",
       "<g id=\"edge18\" class=\"edge\">\n",
       "<title>2&#45;&gt;6</title>\n",
       "<path fill=\"none\" stroke=\"#ff0000\" d=\"M420.15,-306.18C492.89,-276.1 644.77,-213.28 720.86,-181.81\"/>\n",
       "<polygon fill=\"#ff0000\" stroke=\"#ff0000\" points=\"722.29,-185.01 730.2,-177.95 719.62,-178.54 722.29,-185.01\"/>\n",
       "<text text-anchor=\"middle\" x=\"555.37\" y=\"-269.8\" font-family=\"Times-Roman\" font-size=\"14.00\">no</text>\n",
       "</g>\n",
       "<!-- 7 -->\n",
       "<g id=\"node6\" class=\"node\">\n",
       "<title>7</title>\n",
       "<ellipse fill=\"none\" stroke=\"black\" cx=\"1214.73\" cy=\"-774\" rx=\"172.77\" ry=\"18\"/>\n",
       "<text text-anchor=\"middle\" x=\"1214.73\" y=\"-770.3\" font-family=\"Times-Roman\" font-size=\"14.00\">PaymentMethod_Mailed check&lt;0.5</text>\n",
       "</g>\n",
       "<!-- 3&#45;&gt;7 -->\n",
       "<g id=\"edge5\" class=\"edge\">\n",
       "<title>3&#45;&gt;7</title>\n",
       "<path fill=\"none\" stroke=\"#0000ff\" d=\"M836.48,-705.39C911.72,-719.07 1033.41,-741.21 1118.17,-756.62\"/>\n",
       "<polygon fill=\"#0000ff\" stroke=\"#0000ff\" points=\"1117.59,-760.07 1128.05,-758.42 1118.84,-753.19 1117.59,-760.07\"/>\n",
       "<text text-anchor=\"middle\" x=\"979.34\" y=\"-741.8\" font-family=\"Times-Roman\" font-size=\"14.00\">yes, missing</text>\n",
       "</g>\n",
       "<!-- 8 -->\n",
       "<g id=\"node7\" class=\"node\">\n",
       "<title>8</title>\n",
       "<ellipse fill=\"none\" stroke=\"black\" cx=\"1214.73\" cy=\"-693\" rx=\"149.47\" ry=\"18\"/>\n",
       "<text text-anchor=\"middle\" x=\"1214.73\" y=\"-689.3\" font-family=\"Times-Roman\" font-size=\"14.00\">MonthlyCharges&lt;63.4499969</text>\n",
       "</g>\n",
       "<!-- 3&#45;&gt;8 -->\n",
       "<g id=\"edge6\" class=\"edge\">\n",
       "<title>3&#45;&gt;8</title>\n",
       "<path fill=\"none\" stroke=\"#ff0000\" d=\"M861.72,-693C917.53,-693 989.92,-693 1054.53,-693\"/>\n",
       "<polygon fill=\"#ff0000\" stroke=\"#ff0000\" points=\"1054.83,-696.5 1064.83,-693 1054.83,-689.5 1054.83,-696.5\"/>\n",
       "<text text-anchor=\"middle\" x=\"979.34\" y=\"-696.8\" font-family=\"Times-Roman\" font-size=\"14.00\">no</text>\n",
       "</g>\n",
       "<!-- 9 -->\n",
       "<g id=\"node12\" class=\"node\">\n",
       "<title>9</title>\n",
       "<ellipse fill=\"none\" stroke=\"black\" cx=\"1214.73\" cy=\"-558\" rx=\"134.58\" ry=\"18\"/>\n",
       "<text text-anchor=\"middle\" x=\"1214.73\" y=\"-554.3\" font-family=\"Times-Roman\" font-size=\"14.00\">TotalCharges&lt;3321.05005</text>\n",
       "</g>\n",
       "<!-- 4&#45;&gt;9 -->\n",
       "<g id=\"edge11\" class=\"edge\">\n",
       "<title>4&#45;&gt;9</title>\n",
       "<path fill=\"none\" stroke=\"#0000ff\" d=\"M911.42,-547.82C963.4,-549.57 1022.05,-551.54 1073.77,-553.29\"/>\n",
       "<polygon fill=\"#0000ff\" stroke=\"#0000ff\" points=\"1073.9,-556.79 1084.01,-553.63 1074.14,-549.8 1073.9,-556.79\"/>\n",
       "<text text-anchor=\"middle\" x=\"979.34\" y=\"-554.8\" font-family=\"Times-Roman\" font-size=\"14.00\">yes, missing</text>\n",
       "</g>\n",
       "<!-- 10 -->\n",
       "<g id=\"node13\" class=\"node\">\n",
       "<title>10</title>\n",
       "<ellipse fill=\"none\" stroke=\"black\" cx=\"1214.73\" cy=\"-504\" rx=\"69.59\" ry=\"18\"/>\n",
       "<text text-anchor=\"middle\" x=\"1214.73\" y=\"-500.3\" font-family=\"Times-Roman\" font-size=\"14.00\">tenure&lt;14.5</text>\n",
       "</g>\n",
       "<!-- 4&#45;&gt;10 -->\n",
       "<g id=\"edge12\" class=\"edge\">\n",
       "<title>4&#45;&gt;10</title>\n",
       "<path fill=\"none\" stroke=\"#ff0000\" d=\"M888.88,-532.45C968.39,-525.48 1070.09,-516.58 1138.33,-510.6\"/>\n",
       "<polygon fill=\"#ff0000\" stroke=\"#ff0000\" points=\"1138.91,-514.06 1148.57,-509.71 1138.3,-507.09 1138.91,-514.06\"/>\n",
       "<text text-anchor=\"middle\" x=\"979.34\" y=\"-531.8\" font-family=\"Times-Roman\" font-size=\"14.00\">no</text>\n",
       "</g>\n",
       "<!-- 15 -->\n",
       "<g id=\"node8\" class=\"node\">\n",
       "<title>15</title>\n",
       "<ellipse fill=\"none\" stroke=\"black\" cx=\"1619.2\" cy=\"-828\" rx=\"106.68\" ry=\"18\"/>\n",
       "<text text-anchor=\"middle\" x=\"1619.2\" y=\"-824.3\" font-family=\"Times-Roman\" font-size=\"14.00\">leaf=&#45;0.0326074176</text>\n",
       "</g>\n",
       "<!-- 7&#45;&gt;15 -->\n",
       "<g id=\"edge7\" class=\"edge\">\n",
       "<title>7&#45;&gt;15</title>\n",
       "<path fill=\"none\" stroke=\"#0000ff\" d=\"M1321.47,-788.19C1384.68,-796.67 1464.25,-807.34 1525.08,-815.51\"/>\n",
       "<polygon fill=\"#0000ff\" stroke=\"#0000ff\" points=\"1524.68,-818.98 1535.06,-816.84 1525.61,-812.05 1524.68,-818.98\"/>\n",
       "<text text-anchor=\"middle\" x=\"1450.11\" y=\"-813.8\" font-family=\"Times-Roman\" font-size=\"14.00\">yes, missing</text>\n",
       "</g>\n",
       "<!-- 16 -->\n",
       "<g id=\"node9\" class=\"node\">\n",
       "<title>16</title>\n",
       "<ellipse fill=\"none\" stroke=\"black\" cx=\"1619.2\" cy=\"-774\" rx=\"100.98\" ry=\"18\"/>\n",
       "<text text-anchor=\"middle\" x=\"1619.2\" y=\"-770.3\" font-family=\"Times-Roman\" font-size=\"14.00\">leaf=&#45;0.110133268</text>\n",
       "</g>\n",
       "<!-- 7&#45;&gt;16 -->\n",
       "<g id=\"edge8\" class=\"edge\">\n",
       "<title>7&#45;&gt;16</title>\n",
       "<path fill=\"none\" stroke=\"#ff0000\" d=\"M1387.87,-774C1428.56,-774 1470.87,-774 1507.96,-774\"/>\n",
       "<polygon fill=\"#ff0000\" stroke=\"#ff0000\" points=\"1508.28,-777.5 1518.28,-774 1508.28,-770.5 1508.28,-777.5\"/>\n",
       "<text text-anchor=\"middle\" x=\"1450.11\" y=\"-777.8\" font-family=\"Times-Roman\" font-size=\"14.00\">no</text>\n",
       "</g>\n",
       "<!-- 17 -->\n",
       "<g id=\"node10\" class=\"node\">\n",
       "<title>17</title>\n",
       "<ellipse fill=\"none\" stroke=\"black\" cx=\"1619.2\" cy=\"-720\" rx=\"97.48\" ry=\"18\"/>\n",
       "<text text-anchor=\"middle\" x=\"1619.2\" y=\"-716.3\" font-family=\"Times-Roman\" font-size=\"14.00\">leaf=0.225739673</text>\n",
       "</g>\n",
       "<!-- 8&#45;&gt;17 -->\n",
       "<g id=\"edge9\" class=\"edge\">\n",
       "<title>8&#45;&gt;17</title>\n",
       "<path fill=\"none\" stroke=\"#0000ff\" d=\"M1345.56,-701.71C1401.13,-705.44 1465.04,-709.73 1517.01,-713.21\"/>\n",
       "<polygon fill=\"#0000ff\" stroke=\"#0000ff\" points=\"1517.03,-716.72 1527.24,-713.9 1517.5,-709.74 1517.03,-716.72\"/>\n",
       "<text text-anchor=\"middle\" x=\"1450.11\" y=\"-714.8\" font-family=\"Times-Roman\" font-size=\"14.00\">yes, missing</text>\n",
       "</g>\n",
       "<!-- 18 -->\n",
       "<g id=\"node11\" class=\"node\">\n",
       "<title>18</title>\n",
       "<ellipse fill=\"none\" stroke=\"black\" cx=\"1619.2\" cy=\"-666\" rx=\"106.68\" ry=\"18\"/>\n",
       "<text text-anchor=\"middle\" x=\"1619.2\" y=\"-662.3\" font-family=\"Times-Roman\" font-size=\"14.00\">leaf=&#45;0.0276301354</text>\n",
       "</g>\n",
       "<!-- 8&#45;&gt;18 -->\n",
       "<g id=\"edge10\" class=\"edge\">\n",
       "<title>8&#45;&gt;18</title>\n",
       "<path fill=\"none\" stroke=\"#ff0000\" d=\"M1345.56,-684.29C1398.65,-680.73 1459.36,-676.66 1509.99,-673.26\"/>\n",
       "<polygon fill=\"#ff0000\" stroke=\"#ff0000\" points=\"1510.24,-676.75 1519.98,-672.59 1509.77,-669.77 1510.24,-676.75\"/>\n",
       "<text text-anchor=\"middle\" x=\"1450.11\" y=\"-682.8\" font-family=\"Times-Roman\" font-size=\"14.00\">no</text>\n",
       "</g>\n",
       "<!-- 19 -->\n",
       "<g id=\"node14\" class=\"node\">\n",
       "<title>19</title>\n",
       "<ellipse fill=\"none\" stroke=\"black\" cx=\"1619.2\" cy=\"-612\" rx=\"103.18\" ry=\"18\"/>\n",
       "<text text-anchor=\"middle\" x=\"1619.2\" y=\"-608.3\" font-family=\"Times-Roman\" font-size=\"14.00\">leaf=0.0416678116</text>\n",
       "</g>\n",
       "<!-- 9&#45;&gt;19 -->\n",
       "<g id=\"edge13\" class=\"edge\">\n",
       "<title>9&#45;&gt;19</title>\n",
       "<path fill=\"none\" stroke=\"#0000ff\" d=\"M1310.34,-570.69C1375.63,-579.45 1461.97,-591.04 1526.6,-599.71\"/>\n",
       "<polygon fill=\"#0000ff\" stroke=\"#0000ff\" points=\"1526.4,-603.21 1536.78,-601.08 1527.33,-596.28 1526.4,-603.21\"/>\n",
       "<text text-anchor=\"middle\" x=\"1450.11\" y=\"-597.8\" font-family=\"Times-Roman\" font-size=\"14.00\">yes, missing</text>\n",
       "</g>\n",
       "<!-- 20 -->\n",
       "<g id=\"node15\" class=\"node\">\n",
       "<title>20</title>\n",
       "<ellipse fill=\"none\" stroke=\"black\" cx=\"1619.2\" cy=\"-558\" rx=\"100.98\" ry=\"18\"/>\n",
       "<text text-anchor=\"middle\" x=\"1619.2\" y=\"-554.3\" font-family=\"Times-Roman\" font-size=\"14.00\">leaf=&#45;0.177574664</text>\n",
       "</g>\n",
       "<!-- 9&#45;&gt;20 -->\n",
       "<g id=\"edge14\" class=\"edge\">\n",
       "<title>9&#45;&gt;20</title>\n",
       "<path fill=\"none\" stroke=\"#ff0000\" d=\"M1349.46,-558C1401.04,-558 1459.3,-558 1508.37,-558\"/>\n",
       "<polygon fill=\"#ff0000\" stroke=\"#ff0000\" points=\"1508.37,-561.5 1518.37,-558 1508.37,-554.5 1508.37,-561.5\"/>\n",
       "<text text-anchor=\"middle\" x=\"1450.11\" y=\"-561.8\" font-family=\"Times-Roman\" font-size=\"14.00\">no</text>\n",
       "</g>\n",
       "<!-- 21 -->\n",
       "<g id=\"node16\" class=\"node\">\n",
       "<title>21</title>\n",
       "<ellipse fill=\"none\" stroke=\"black\" cx=\"1619.2\" cy=\"-504\" rx=\"91.78\" ry=\"18\"/>\n",
       "<text text-anchor=\"middle\" x=\"1619.2\" y=\"-500.3\" font-family=\"Times-Roman\" font-size=\"14.00\">leaf=0.24564828</text>\n",
       "</g>\n",
       "<!-- 10&#45;&gt;21 -->\n",
       "<g id=\"edge15\" class=\"edge\">\n",
       "<title>10&#45;&gt;21</title>\n",
       "<path fill=\"none\" stroke=\"#0000ff\" d=\"M1284.46,-504C1348.46,-504 1444.67,-504 1517.37,-504\"/>\n",
       "<polygon fill=\"#0000ff\" stroke=\"#0000ff\" points=\"1517.46,-507.5 1527.46,-504 1517.46,-500.5 1517.46,-507.5\"/>\n",
       "<text text-anchor=\"middle\" x=\"1450.11\" y=\"-507.8\" font-family=\"Times-Roman\" font-size=\"14.00\">yes, missing</text>\n",
       "</g>\n",
       "<!-- 22 -->\n",
       "<g id=\"node17\" class=\"node\">\n",
       "<title>22</title>\n",
       "<ellipse fill=\"none\" stroke=\"black\" cx=\"1619.2\" cy=\"-450\" rx=\"103.18\" ry=\"18\"/>\n",
       "<text text-anchor=\"middle\" x=\"1619.2\" y=\"-446.3\" font-family=\"Times-Roman\" font-size=\"14.00\">leaf=0.0666766912</text>\n",
       "</g>\n",
       "<!-- 10&#45;&gt;22 -->\n",
       "<g id=\"edge16\" class=\"edge\">\n",
       "<title>10&#45;&gt;22</title>\n",
       "<path fill=\"none\" stroke=\"#ff0000\" d=\"M1276.85,-495.8C1343.25,-486.89 1450.05,-472.56 1526.51,-462.3\"/>\n",
       "<polygon fill=\"#ff0000\" stroke=\"#ff0000\" points=\"1527.17,-465.75 1536.62,-460.95 1526.24,-458.81 1527.17,-465.75\"/>\n",
       "<text text-anchor=\"middle\" x=\"1450.11\" y=\"-480.8\" font-family=\"Times-Roman\" font-size=\"14.00\">no</text>\n",
       "</g>\n",
       "<!-- 11 -->\n",
       "<g id=\"node20\" class=\"node\">\n",
       "<title>11</title>\n",
       "<ellipse fill=\"none\" stroke=\"black\" cx=\"1214.73\" cy=\"-342\" rx=\"66.09\" ry=\"18\"/>\n",
       "<text text-anchor=\"middle\" x=\"1214.73\" y=\"-338.3\" font-family=\"Times-Roman\" font-size=\"14.00\">gender&lt;0.5</text>\n",
       "</g>\n",
       "<!-- 5&#45;&gt;11 -->\n",
       "<g id=\"edge19\" class=\"edge\">\n",
       "<title>5&#45;&gt;11</title>\n",
       "<path fill=\"none\" stroke=\"#0000ff\" d=\"M883.34,-327.91C963.91,-331.34 1069.27,-335.84 1139.1,-338.82\"/>\n",
       "<polygon fill=\"#0000ff\" stroke=\"#0000ff\" points=\"1139,-342.32 1149.14,-339.24 1139.3,-335.32 1139,-342.32\"/>\n",
       "<text text-anchor=\"middle\" x=\"979.34\" y=\"-336.8\" font-family=\"Times-Roman\" font-size=\"14.00\">yes, missing</text>\n",
       "</g>\n",
       "<!-- 12 -->\n",
       "<g id=\"node21\" class=\"node\">\n",
       "<title>12</title>\n",
       "<ellipse fill=\"none\" stroke=\"black\" cx=\"1214.73\" cy=\"-288\" rx=\"111.28\" ry=\"18\"/>\n",
       "<text text-anchor=\"middle\" x=\"1214.73\" y=\"-284.3\" font-family=\"Times-Roman\" font-size=\"14.00\">TotalCharges&lt;5291.5</text>\n",
       "</g>\n",
       "<!-- 5&#45;&gt;12 -->\n",
       "<g id=\"edge20\" class=\"edge\">\n",
       "<title>5&#45;&gt;12</title>\n",
       "<path fill=\"none\" stroke=\"#ff0000\" d=\"M874.18,-314.68C943.58,-309.23 1034.09,-302.12 1104.21,-296.61\"/>\n",
       "<polygon fill=\"#ff0000\" stroke=\"#ff0000\" points=\"1104.71,-300.08 1114.41,-295.81 1104.16,-293.1 1104.71,-300.08\"/>\n",
       "<text text-anchor=\"middle\" x=\"979.34\" y=\"-312.8\" font-family=\"Times-Roman\" font-size=\"14.00\">no</text>\n",
       "</g>\n",
       "<!-- 13 -->\n",
       "<g id=\"node26\" class=\"node\">\n",
       "<title>13</title>\n",
       "<ellipse fill=\"none\" stroke=\"black\" cx=\"1214.73\" cy=\"-163\" rx=\"128.88\" ry=\"18\"/>\n",
       "<text text-anchor=\"middle\" x=\"1214.73\" y=\"-159.3\" font-family=\"Times-Roman\" font-size=\"14.00\">TotalCharges&lt;6857.9751</text>\n",
       "</g>\n",
       "<!-- 6&#45;&gt;13 -->\n",
       "<g id=\"edge25\" class=\"edge\">\n",
       "<title>6&#45;&gt;13</title>\n",
       "<path fill=\"none\" stroke=\"#0000ff\" d=\"M834.07,-163C897.42,-163 995.25,-163 1075.73,-163\"/>\n",
       "<polygon fill=\"#0000ff\" stroke=\"#0000ff\" points=\"1075.96,-166.5 1085.96,-163 1075.96,-159.5 1075.96,-166.5\"/>\n",
       "<text text-anchor=\"middle\" x=\"979.34\" y=\"-166.8\" font-family=\"Times-Roman\" font-size=\"14.00\">yes, missing</text>\n",
       "</g>\n",
       "<!-- 14 -->\n",
       "<g id=\"node27\" class=\"node\">\n",
       "<title>14</title>\n",
       "<ellipse fill=\"none\" stroke=\"black\" cx=\"1214.73\" cy=\"-72\" rx=\"122.68\" ry=\"18\"/>\n",
       "<text text-anchor=\"middle\" x=\"1214.73\" y=\"-68.3\" font-family=\"Times-Roman\" font-size=\"14.00\">TotalCharges&lt;6445.125</text>\n",
       "</g>\n",
       "<!-- 6&#45;&gt;14 -->\n",
       "<g id=\"edge26\" class=\"edge\">\n",
       "<title>6&#45;&gt;14</title>\n",
       "<path fill=\"none\" stroke=\"#ff0000\" d=\"M820.75,-152.29C897.66,-136.58 1041.78,-107.13 1132.48,-88.6\"/>\n",
       "<polygon fill=\"#ff0000\" stroke=\"#ff0000\" points=\"1133.36,-91.99 1142.45,-86.56 1131.96,-85.14 1133.36,-91.99\"/>\n",
       "<text text-anchor=\"middle\" x=\"979.34\" y=\"-131.8\" font-family=\"Times-Roman\" font-size=\"14.00\">no</text>\n",
       "</g>\n",
       "<!-- 23 -->\n",
       "<g id=\"node22\" class=\"node\">\n",
       "<title>23</title>\n",
       "<ellipse fill=\"none\" stroke=\"black\" cx=\"1619.2\" cy=\"-396\" rx=\"100.98\" ry=\"18\"/>\n",
       "<text text-anchor=\"middle\" x=\"1619.2\" y=\"-392.3\" font-family=\"Times-Roman\" font-size=\"14.00\">leaf=&#45;0.409952611</text>\n",
       "</g>\n",
       "<!-- 11&#45;&gt;23 -->\n",
       "<g id=\"edge21\" class=\"edge\">\n",
       "<title>11&#45;&gt;23</title>\n",
       "<path fill=\"none\" stroke=\"#0000ff\" d=\"M1274.68,-349.91C1341.34,-358.85 1450.64,-373.52 1528.03,-383.9\"/>\n",
       "<polygon fill=\"#0000ff\" stroke=\"#0000ff\" points=\"1527.88,-387.41 1538.26,-385.27 1528.81,-380.47 1527.88,-387.41\"/>\n",
       "<text text-anchor=\"middle\" x=\"1450.11\" y=\"-381.8\" font-family=\"Times-Roman\" font-size=\"14.00\">yes, missing</text>\n",
       "</g>\n",
       "<!-- 24 -->\n",
       "<g id=\"node23\" class=\"node\">\n",
       "<title>24</title>\n",
       "<ellipse fill=\"none\" stroke=\"black\" cx=\"1619.2\" cy=\"-342\" rx=\"100.98\" ry=\"18\"/>\n",
       "<text text-anchor=\"middle\" x=\"1619.2\" y=\"-338.3\" font-family=\"Times-Roman\" font-size=\"14.00\">leaf=&#45;0.139241382</text>\n",
       "</g>\n",
       "<!-- 11&#45;&gt;24 -->\n",
       "<g id=\"edge22\" class=\"edge\">\n",
       "<title>11&#45;&gt;24</title>\n",
       "<path fill=\"none\" stroke=\"#ff0000\" d=\"M1281.29,-342C1342.66,-342 1435.55,-342 1508.27,-342\"/>\n",
       "<polygon fill=\"#ff0000\" stroke=\"#ff0000\" points=\"1508.39,-345.5 1518.39,-342 1508.39,-338.5 1508.39,-345.5\"/>\n",
       "<text text-anchor=\"middle\" x=\"1450.11\" y=\"-345.8\" font-family=\"Times-Roman\" font-size=\"14.00\">no</text>\n",
       "</g>\n",
       "<!-- 25 -->\n",
       "<g id=\"node24\" class=\"node\">\n",
       "<title>25</title>\n",
       "<ellipse fill=\"none\" stroke=\"black\" cx=\"1619.2\" cy=\"-288\" rx=\"100.98\" ry=\"18\"/>\n",
       "<text text-anchor=\"middle\" x=\"1619.2\" y=\"-284.3\" font-family=\"Times-Roman\" font-size=\"14.00\">leaf=&#45;0.315803111</text>\n",
       "</g>\n",
       "<!-- 12&#45;&gt;25 -->\n",
       "<g id=\"edge23\" class=\"edge\">\n",
       "<title>12&#45;&gt;25</title>\n",
       "<path fill=\"none\" stroke=\"#0000ff\" d=\"M1325.97,-288C1382.61,-288 1451.44,-288 1508.07,-288\"/>\n",
       "<polygon fill=\"#0000ff\" stroke=\"#0000ff\" points=\"1508.13,-291.5 1518.13,-288 1508.13,-284.5 1508.13,-291.5\"/>\n",
       "<text text-anchor=\"middle\" x=\"1450.11\" y=\"-291.8\" font-family=\"Times-Roman\" font-size=\"14.00\">yes, missing</text>\n",
       "</g>\n",
       "<!-- 26 -->\n",
       "<g id=\"node25\" class=\"node\">\n",
       "<title>26</title>\n",
       "<ellipse fill=\"none\" stroke=\"black\" cx=\"1619.2\" cy=\"-234\" rx=\"97.48\" ry=\"18\"/>\n",
       "<text text-anchor=\"middle\" x=\"1619.2\" y=\"-230.3\" font-family=\"Times-Roman\" font-size=\"14.00\">leaf=0.182523116</text>\n",
       "</g>\n",
       "<!-- 12&#45;&gt;26 -->\n",
       "<g id=\"edge24\" class=\"edge\">\n",
       "<title>12&#45;&gt;26</title>\n",
       "<path fill=\"none\" stroke=\"#ff0000\" d=\"M1301.08,-276.55C1368.24,-267.54 1461.53,-255.02 1529.53,-245.9\"/>\n",
       "<polygon fill=\"#ff0000\" stroke=\"#ff0000\" points=\"1530.35,-249.32 1539.79,-244.52 1529.42,-242.38 1530.35,-249.32\"/>\n",
       "<text text-anchor=\"middle\" x=\"1450.11\" y=\"-264.8\" font-family=\"Times-Roman\" font-size=\"14.00\">no</text>\n",
       "</g>\n",
       "<!-- 27 -->\n",
       "<g id=\"node28\" class=\"node\">\n",
       "<title>27</title>\n",
       "<ellipse fill=\"none\" stroke=\"black\" cx=\"1619.2\" cy=\"-180\" rx=\"106.68\" ry=\"18\"/>\n",
       "<text text-anchor=\"middle\" x=\"1619.2\" y=\"-176.3\" font-family=\"Times-Roman\" font-size=\"14.00\">leaf=&#45;0.0936592892</text>\n",
       "</g>\n",
       "<!-- 13&#45;&gt;27 -->\n",
       "<g id=\"edge27\" class=\"edge\">\n",
       "<title>13&#45;&gt;27</title>\n",
       "<path fill=\"none\" stroke=\"#0000ff\" d=\"M1338.12,-168.17C1391.35,-170.42 1453.32,-173.04 1505.42,-175.24\"/>\n",
       "<polygon fill=\"#0000ff\" stroke=\"#0000ff\" points=\"1505.56,-178.75 1515.7,-175.67 1505.85,-171.75 1505.56,-178.75\"/>\n",
       "<text text-anchor=\"middle\" x=\"1450.11\" y=\"-177.8\" font-family=\"Times-Roman\" font-size=\"14.00\">yes, missing</text>\n",
       "</g>\n",
       "<!-- 28 -->\n",
       "<g id=\"node29\" class=\"node\">\n",
       "<title>28</title>\n",
       "<ellipse fill=\"none\" stroke=\"black\" cx=\"1619.2\" cy=\"-126\" rx=\"97.48\" ry=\"18\"/>\n",
       "<text text-anchor=\"middle\" x=\"1619.2\" y=\"-122.3\" font-family=\"Times-Roman\" font-size=\"14.00\">leaf=0.124688461</text>\n",
       "</g>\n",
       "<!-- 13&#45;&gt;28 -->\n",
       "<g id=\"edge28\" class=\"edge\">\n",
       "<title>13&#45;&gt;28</title>\n",
       "<path fill=\"none\" stroke=\"#ff0000\" d=\"M1322.79,-153.16C1384.54,-147.48 1461.56,-140.4 1521.48,-134.89\"/>\n",
       "<polygon fill=\"#ff0000\" stroke=\"#ff0000\" points=\"1522.06,-138.35 1531.7,-133.95 1521.42,-131.38 1522.06,-138.35\"/>\n",
       "<text text-anchor=\"middle\" x=\"1450.11\" y=\"-147.8\" font-family=\"Times-Roman\" font-size=\"14.00\">no</text>\n",
       "</g>\n",
       "<!-- 29 -->\n",
       "<g id=\"node30\" class=\"node\">\n",
       "<title>29</title>\n",
       "<ellipse fill=\"none\" stroke=\"black\" cx=\"1619.2\" cy=\"-72\" rx=\"106.68\" ry=\"18\"/>\n",
       "<text text-anchor=\"middle\" x=\"1619.2\" y=\"-68.3\" font-family=\"Times-Roman\" font-size=\"14.00\">leaf=&#45;0.0208270494</text>\n",
       "</g>\n",
       "<!-- 14&#45;&gt;29 -->\n",
       "<g id=\"edge29\" class=\"edge\">\n",
       "<title>14&#45;&gt;29</title>\n",
       "<path fill=\"none\" stroke=\"#0000ff\" d=\"M1337.57,-72C1389.85,-72 1450.63,-72 1502.24,-72\"/>\n",
       "<polygon fill=\"#0000ff\" stroke=\"#0000ff\" points=\"1502.43,-75.5 1512.43,-72 1502.43,-68.5 1502.43,-75.5\"/>\n",
       "<text text-anchor=\"middle\" x=\"1450.11\" y=\"-75.8\" font-family=\"Times-Roman\" font-size=\"14.00\">yes, missing</text>\n",
       "</g>\n",
       "<!-- 30 -->\n",
       "<g id=\"node31\" class=\"node\">\n",
       "<title>30</title>\n",
       "<ellipse fill=\"none\" stroke=\"black\" cx=\"1619.2\" cy=\"-18\" rx=\"100.98\" ry=\"18\"/>\n",
       "<text text-anchor=\"middle\" x=\"1619.2\" y=\"-14.3\" font-family=\"Times-Roman\" font-size=\"14.00\">leaf=&#45;0.247585356</text>\n",
       "</g>\n",
       "<!-- 14&#45;&gt;30 -->\n",
       "<g id=\"edge30\" class=\"edge\">\n",
       "<title>14&#45;&gt;30</title>\n",
       "<path fill=\"none\" stroke=\"#ff0000\" d=\"M1305.8,-59.91C1372.03,-51.03 1461.67,-39 1527.95,-30.11\"/>\n",
       "<polygon fill=\"#ff0000\" stroke=\"#ff0000\" points=\"1528.52,-33.56 1537.96,-28.77 1527.59,-26.63 1528.52,-33.56\"/>\n",
       "<text text-anchor=\"middle\" x=\"1450.11\" y=\"-48.8\" font-family=\"Times-Roman\" font-size=\"14.00\">no</text>\n",
       "</g>\n",
       "</g>\n",
       "</svg>\n"
      ],
      "text/plain": [
       "<graphviz.files.Source at 0x7fad4dc1d438>"
      ]
     },
     "execution_count": 139,
     "metadata": {},
     "output_type": "execute_result"
    }
   ],
   "source": [
    "from xgboost import plot_tree\n",
    "#plot_tree(fit_model, num_trees=1, rankdir='LR')\n",
    "xgb.to_graphviz(fit_model, num_trees=fit_model.best_iteration, rankdir='LR')"
   ]
  },
  {
   "cell_type": "markdown",
   "id": "760f2d63",
   "metadata": {},
   "source": [
    "Note that the final probability prediction is obtained by taking sum of leaf values (raw scores) in all the trees and then transforming it between 0 and 1 using a sigmoid function. The leaf value (raw score) can be negative, the value 0 actually represents probability being 1/2."
   ]
  },
  {
   "cell_type": "markdown",
   "id": "b45a98f8",
   "metadata": {},
   "source": [
    "## Confusion matrix"
   ]
  },
  {
   "cell_type": "markdown",
   "id": "a4920eac",
   "metadata": {},
   "source": [
    "= Best way to evaluate the performance of a classifer model"
   ]
  },
  {
   "cell_type": "markdown",
   "id": "233b6370",
   "metadata": {},
   "source": [
    "<img src='img/Screen Shot 2021-09-18 at 12.23.15 pm.png' width=800 align='left'>"
   ]
  },
  {
   "cell_type": "markdown",
   "id": "bc92431f",
   "metadata": {},
   "source": [
    "<img src='img/Screen Shot 2021-09-19 at 6.02.52 pm.png' width=800 align='left'>"
   ]
  },
  {
   "cell_type": "markdown",
   "id": "03d874d0",
   "metadata": {},
   "source": [
    "<img src='img/Screen Shot 2021-09-19 at 6.03.14 pm.png' width=800 align='left'>"
   ]
  },
  {
   "cell_type": "markdown",
   "id": "3dffe3f6",
   "metadata": {},
   "source": [
    "<img src='img/Screen Shot 2021-09-19 at 6.03.21 pm.png' width=800 align='left'>"
   ]
  },
  {
   "cell_type": "markdown",
   "id": "ca8cc226",
   "metadata": {},
   "source": [
    "<img src='img/Screen Shot 2021-09-19 at 6.03.27 pm.png' width=800 align='left'>"
   ]
  },
  {
   "cell_type": "markdown",
   "id": "7e77e4f5",
   "metadata": {},
   "source": [
    "<img src='img/Screen Shot 2021-09-19 at 6.08.02 pm.png' width=800 align='left'>"
   ]
  },
  {
   "cell_type": "code",
   "execution_count": 140,
   "id": "6234a56b",
   "metadata": {},
   "outputs": [],
   "source": [
    "from sklearn.metrics import confusion_matrix\n",
    "from sklearn.metrics import accuracy_score\n",
    "from sklearn.metrics import precision_score\n",
    "from sklearn.metrics import recall_score\n",
    "from sklearn.metrics import f1_score\n",
    "from sklearn.metrics import roc_auc_score"
   ]
  },
  {
   "cell_type": "code",
   "execution_count": 141,
   "id": "44bc7a56",
   "metadata": {},
   "outputs": [],
   "source": [
    "def print_confusion_matrix(test_y, pred_y):\n",
    "    tn, fp, fn, tp = confusion_matrix(test_y, pred_y).ravel()\n",
    "    print(f'{tp} | {fn}')\n",
    "    print(f'_________')\n",
    "    print(f'{fp} | {tn}')\n",
    "    \n",
    "def print_main_eval_metrics(test_y, pred_y):\n",
    "    accuracy = accuracy_score(test_y, pred_y)\n",
    "    precision = precision_score(test_y, pred_y)\n",
    "    recall = recall_score(test_y, pred_y)\n",
    "    f1 = f1_score(test_y, pred_y)\n",
    "    roc_auc = roc_auc_score(test_y, pred_y)\n",
    "    print(f' accuracy:{accuracy}, \\n precision:{precision} \\n recall:{recall} \\n f1:{f1} \\n roc_auc:{roc_auc}')"
   ]
  },
  {
   "cell_type": "markdown",
   "id": "c744c181",
   "metadata": {},
   "source": [
    "Confusion matrix for the test dataset"
   ]
  },
  {
   "cell_type": "code",
   "execution_count": 142,
   "id": "99912080",
   "metadata": {},
   "outputs": [
    {
     "name": "stdout",
     "output_type": "stream",
     "text": [
      "142 | 44\n",
      "_________\n",
      "143 | 374\n"
     ]
    }
   ],
   "source": [
    "print_confusion_matrix(test_y, pred_test_y)"
   ]
  },
  {
   "cell_type": "markdown",
   "id": "dbe5ce06",
   "metadata": {},
   "source": [
    "Main metrics for the test dataset"
   ]
  },
  {
   "cell_type": "code",
   "execution_count": 143,
   "id": "cf362384",
   "metadata": {},
   "outputs": [
    {
     "name": "stdout",
     "output_type": "stream",
     "text": [
      " accuracy:0.7339971550497866, \n",
      " precision:0.4982456140350877 \n",
      " recall:0.7634408602150538 \n",
      " f1:0.6029723991507431 \n",
      " roc_auc:0.7434225577671013\n"
     ]
    }
   ],
   "source": [
    "print_main_eval_metrics(test_y, pred_test_y)"
   ]
  },
  {
   "cell_type": "markdown",
   "id": "4a2eae96",
   "metadata": {},
   "source": [
    "Main metrics for the train dataset - good but not overfitted"
   ]
  },
  {
   "cell_type": "code",
   "execution_count": 144,
   "id": "81edf510",
   "metadata": {},
   "outputs": [
    {
     "name": "stdout",
     "output_type": "stream",
     "text": [
      " accuracy:0.7640049795482838, \n",
      " precision:0.5396757679180887 \n",
      " recall:0.8360872438863186 \n",
      " f1:0.6559502203785326 \n",
      " roc_auc:0.7867784151305073\n"
     ]
    }
   ],
   "source": [
    "print_main_eval_metrics(train_y, pred_train_y)"
   ]
  },
  {
   "cell_type": "markdown",
   "id": "5adc63fd",
   "metadata": {},
   "source": [
    "</br>\n",
    "<b>TIPS - When to use F1, Accuracy, ROC AUC, PR AUC? </b></br>\n",
    "\n",
    "https://neptune.ai/blog/f1-score-accuracy-roc-auc-pr-auc</br>\n",
    "\n",
    "\n",
    "Accuracy – balanced dataset, when every class is equally important to you</br>\n",
    "\n",
    "Precision vs Recall - Maximizing precision will minimize the number of false positives, whereas maximizing the recall will minimize the number of false negatives.</br>\n",
    "\n",
    "For customer churn: more interested in recall than precision. not predicting that a customer will Churn is a big miss but predicting that a customer might churn while they do not will just trigger specific retention campaigns that might be unnecessary.</br>\n",
    "\n",
    "F1 – every binary classification problem where you care more about the Positive class.</br>\n",
    "\n",
    "ROC AUC. – DON’T USE when imbalanced dataset. When you care equally about positive and negative. When you care about ranking predictions.</br>\n",
    "https://towardsdatascience.com/understanding-auc-roc-curve-68b2303cc9c5\n",
    "\n",
    "PR AUC – when heavily imbalanced dataset. When you care more about positive than negative.</br>\n"
   ]
  },
  {
   "cell_type": "markdown",
   "id": "b3506837",
   "metadata": {},
   "source": [
    "## KFold cross validation"
   ]
  },
  {
   "cell_type": "markdown",
   "id": "a5a41603",
   "metadata": {},
   "source": [
    "Problem it solves:</br>\n",
    "Very useful for situation where you have a small dataset. In those cases, splitting your dataset across train/val/test can leave you with little number of observation to feed your model.\n",
    "\n",
    "It ensures that every observation from the original dataset has the chance of appearing in training and test set."
   ]
  },
  {
   "cell_type": "markdown",
   "id": "32deb2f1",
   "metadata": {},
   "source": [
    "<img src='img/Screen Shot 2021-09-18 at 11.45.34 am.png' width=800 align='left'>"
   ]
  },
  {
   "cell_type": "code",
   "execution_count": 154,
   "id": "191b3c8f",
   "metadata": {},
   "outputs": [],
   "source": [
    "from sklearn.model_selection import cross_val_score, cross_val_predict\n",
    "from sklearn.metrics import SCORERS\n",
    "\n",
    "#we create a similar classifier object as previously\n",
    "xgbClassifier_cross_val = xgb.XGBClassifier(objective=\"binary:logistic\", \n",
    "                                  random_state=33, \n",
    "                                  n_estimators=50, \n",
    "                                  max_depth=4, \n",
    "                                  learning_rate=0.3, \n",
    "                                  min_child_weight=2, \n",
    "                                  scale_pos_weight=scale_pos_weight,\n",
    "                                  eval_metric='aucpr')\n",
    "\n",
    "# we use the full dataset this time: encoded_data_df_X and encoded_data_df_Y\n",
    "\n",
    "#we do a cross validation and get the scores first\n",
    "scores = cross_val_score(xgbClassifier_cross_val, encoded_data_df_X, encoded_data_df_Y, cv=5, scoring = \"recall\")\n",
    "\n",
    "#we generate cross-validated estimates for each input data point \n",
    "xval_pred_y = cross_val_predict(xgbClassifier_cross_val, encoded_data_df_X, encoded_data_df_Y, cv=5)\n",
    "\n",
    "#to display the different available metrics, use: SCORERS.keys()"
   ]
  },
  {
   "cell_type": "code",
   "execution_count": 157,
   "id": "1e3f4cf1",
   "metadata": {},
   "outputs": [
    {
     "name": "stdout",
     "output_type": "stream",
     "text": [
      "recall across all iterations: [0.78820375 0.77540107 0.75668449 0.76737968 0.72654155]\n"
     ]
    }
   ],
   "source": [
    "print(f'recall across all iterations: {scores}')"
   ]
  },
  {
   "cell_type": "code",
   "execution_count": 155,
   "id": "eca7aeb0",
   "metadata": {},
   "outputs": [
    {
     "name": "stdout",
     "output_type": "stream",
     "text": [
      "1425 | 443\n",
      "_________\n",
      "1303 | 3858\n"
     ]
    }
   ],
   "source": [
    "print_confusion_matrix(encoded_data_df_Y, xval_pred_y)"
   ]
  },
  {
   "cell_type": "code",
   "execution_count": 156,
   "id": "170415bc",
   "metadata": {},
   "outputs": [
    {
     "name": "stdout",
     "output_type": "stream",
     "text": [
      " accuracy:0.7516005121638925, \n",
      " precision:0.5223607038123167 \n",
      " recall:0.762847965738758 \n",
      " f1:0.6201044386422976 \n",
      " roc_auc:0.7551887571379317\n"
     ]
    }
   ],
   "source": [
    "print_main_eval_metrics(encoded_data_df_Y, xval_pred_y)"
   ]
  },
  {
   "cell_type": "markdown",
   "id": "83b9fcf6",
   "metadata": {},
   "source": [
    "# Intuition about Underfitting and Overfitting"
   ]
  },
  {
   "cell_type": "markdown",
   "id": "c421f5e2",
   "metadata": {},
   "source": [
    "<img src='img/Screen Shot 2021-09-19 at 11.59.58 am.png' width=800 align='left'>"
   ]
  },
  {
   "cell_type": "markdown",
   "id": "2d188891",
   "metadata": {},
   "source": [
    "<img src='img/Screen Shot 2021-09-19 at 12.00.05 pm.png' width=800 align='left'>"
   ]
  },
  {
   "cell_type": "markdown",
   "id": "10b98a79",
   "metadata": {},
   "source": [
    "<img src='img/Screen Shot 2021-09-19 at 12.00.18 pm.png' width=800 align='left'>"
   ]
  },
  {
   "cell_type": "markdown",
   "id": "78de6543",
   "metadata": {},
   "source": [
    "Let's generate an overfitted model!"
   ]
  },
  {
   "cell_type": "code",
   "execution_count": 158,
   "id": "ce178f8f",
   "metadata": {},
   "outputs": [],
   "source": [
    "xgbClassifier_overfit = xgb.XGBClassifier(objective=\"binary:logistic\", random_state=33, max_depth=20, reg_lambda=0, n_estimators=400)\n",
    "overfit_model = xgbClassifier_overfit.fit(train_x, train_y, eval_metric=\"aucpr\")"
   ]
  },
  {
   "cell_type": "markdown",
   "id": "6d99c9f9",
   "metadata": {},
   "source": [
    "We generate predictions on both the train and test set"
   ]
  },
  {
   "cell_type": "code",
   "execution_count": 159,
   "id": "41dbf852",
   "metadata": {},
   "outputs": [
    {
     "name": "stdout",
     "output_type": "stream",
     "text": [
      "Number of sub trees: 400\n"
     ]
    }
   ],
   "source": [
    "print(f'Number of sub trees: {len(overfit_model.get_booster().get_dump())}')"
   ]
  },
  {
   "cell_type": "code",
   "execution_count": 160,
   "id": "f4ca67eb",
   "metadata": {},
   "outputs": [],
   "source": [
    "over_pred_test_y = xgbClassifier_overfit.predict(test_x)\n",
    "over_pred_train_y = xgbClassifier_overfit.predict(train_x)"
   ]
  },
  {
   "cell_type": "markdown",
   "id": "ece4ccee",
   "metadata": {},
   "source": [
    "Eval metrics on the training dataset. We see a close to perfect accuracy and f1 score"
   ]
  },
  {
   "cell_type": "code",
   "execution_count": 161,
   "id": "8ecbc03c",
   "metadata": {},
   "outputs": [
    {
     "name": "stdout",
     "output_type": "stream",
     "text": [
      " accuracy:0.9976880668682198, \n",
      " precision:0.996031746031746 \n",
      " recall:0.9953734302709848 \n",
      " f1:0.9957024793388429 \n",
      " roc_auc:0.9969567881281931\n"
     ]
    }
   ],
   "source": [
    "print_main_eval_metrics(train_y, over_pred_train_y)"
   ]
  },
  {
   "cell_type": "code",
   "execution_count": 162,
   "id": "aa1a36bc",
   "metadata": {},
   "outputs": [
    {
     "name": "stdout",
     "output_type": "stream",
     "text": [
      " accuracy:0.7780938833570412, \n",
      " precision:0.5872093023255814 \n",
      " recall:0.543010752688172 \n",
      " f1:0.5642458100558658 \n",
      " roc_auc:0.7028399991680705\n"
     ]
    }
   ],
   "source": [
    "print_main_eval_metrics(test_y, over_pred_test_y)"
   ]
  },
  {
   "cell_type": "markdown",
   "id": "878ae5d0",
   "metadata": {},
   "source": [
    "# Quick explanation of Regularisation"
   ]
  },
  {
   "cell_type": "markdown",
   "id": "6cd56162",
   "metadata": {},
   "source": [
    "Regularisation is a way to keep our model's parameter/weights \"in check\" and not too large. It helps preventing overfitting.</br>\n",
    "L2 regression is the most known technique.</br>\n",
    "For tree based methods, it means not having too many \"splits\" by defining a minimum gain or other methods.\n",
    "For other types of algorithms, like in linear regression, L2 regression is an additional penalty that is added to the quality metrics (eg: RSS) that forces the algorithm to keep the weights relatively small, and hence avoid "
   ]
  },
  {
   "cell_type": "markdown",
   "id": "50fcf16e",
   "metadata": {},
   "source": [
    "# Hyperparameters tuning - More details on that on Thursday ML Tabular session"
   ]
  },
  {
   "cell_type": "markdown",
   "id": "e28a43a4",
   "metadata": {},
   "source": [
    "<img src='img/Screen Shot 2021-09-19 at 5.37.35 pm.png' width=800 align='left'>"
   ]
  },
  {
   "cell_type": "code",
   "execution_count": 163,
   "id": "4df5cbdd",
   "metadata": {},
   "outputs": [],
   "source": [
    "distributions = dict(C=uniform(loc=0, scale=4),\n",
    "                      penalty=['l2', 'l1'])"
   ]
  },
  {
   "cell_type": "code",
   "execution_count": 170,
   "id": "d0f443f8",
   "metadata": {},
   "outputs": [
    {
     "data": {
      "text/plain": [
       "0.01"
      ]
     },
     "execution_count": 170,
     "metadata": {},
     "output_type": "execute_result"
    }
   ],
   "source": [
    "uniform.ppf(0.01)"
   ]
  },
  {
   "cell_type": "code",
   "execution_count": 180,
   "id": "7c850e2b",
   "metadata": {},
   "outputs": [
    {
     "data": {
      "text/plain": [
       "array([0.75      , 0.83333333, 0.91666667, 1.        , 1.08333333,\n",
       "       1.16666667, 1.25      , 1.33333333, 1.41666667, 1.5       ])"
      ]
     },
     "execution_count": 180,
     "metadata": {},
     "output_type": "execute_result"
    }
   ],
   "source": [
    "np.linspace(0.75, 1.5, 10, dtype=float)"
   ]
  },
  {
   "cell_type": "code",
   "execution_count": null,
   "id": "37a396da",
   "metadata": {},
   "outputs": [
    {
     "name": "stdout",
     "output_type": "stream",
     "text": [
      "Fitting 5 folds for each of 200 candidates, totalling 1000 fits\n"
     ]
    }
   ],
   "source": [
    "from sklearn.model_selection import RandomizedSearchCV, GridSearchCV\n",
    "\n",
    "params = {'max_depth': np.linspace(3,10, 8, dtype=int),\n",
    "          'n_estimators':np.linspace(10,50, 5, dtype=int),\n",
    "         'reg_lambda':np.linspace(0.75, 1.5, 10, dtype=float),\n",
    "         'min_child_weight':np.linspace(1, 2, 10, dtype=float),\n",
    "         'learning_rate':np.linspace(0.2, 0.4, 10, dtype=float)}\n",
    "\n",
    "eval_set = [(val_x, val_y)]\n",
    "\n",
    "xgbClassifier_HPO = xgb.XGBClassifier(objective=\"binary:logistic\", \n",
    "                                  random_state=33, \n",
    "                                  scale_pos_weight=scale_pos_weight,\n",
    "                                  eval_metric='aucpr')\n",
    "\n",
    "search = RandomizedSearchCV(xgbClassifier_HPO, param_distributions=params, random_state=33, n_iter=50,  cv=5, verbose=1, n_jobs=2, return_train_score=True)\n",
    "\n",
    "search.fit(train_x, train_y, eval_set=eval_set, early_stopping_rounds=10)\n"
   ]
  },
  {
   "cell_type": "code",
   "execution_count": 189,
   "id": "d8c3db5c",
   "metadata": {},
   "outputs": [
    {
     "name": "stdout",
     "output_type": "stream",
     "text": [
      "best_params:{'reg_lambda': 0.75, 'n_estimators': 40, 'min_child_weight': 1.3333333333333333, 'max_depth': 7, 'learning_rate': 0.22222222222222224}\n",
      "best_score:0.7552931593515224\n"
     ]
    }
   ],
   "source": [
    "print(f\"best_params:{search.best_params_}\")\n",
    "print(f\"best_score:{search.best_score_}\")"
   ]
  },
  {
   "cell_type": "code",
   "execution_count": 190,
   "id": "f9ac6aba",
   "metadata": {},
   "outputs": [],
   "source": [
    "pred_HPO_test_y = search.best_estimator_.predict(test_x)"
   ]
  },
  {
   "cell_type": "code",
   "execution_count": 191,
   "id": "874976e7",
   "metadata": {},
   "outputs": [
    {
     "name": "stdout",
     "output_type": "stream",
     "text": [
      " accuracy:0.7467994310099573, \n",
      " precision:0.5148148148148148 \n",
      " recall:0.7473118279569892 \n",
      " f1:0.6096491228070176 \n",
      " roc_auc:0.7469634574988041\n"
     ]
    }
   ],
   "source": [
    "print_main_eval_metrics(test_y, pred_HPO_test_y)"
   ]
  },
  {
   "cell_type": "markdown",
   "id": "0ccfbfb4",
   "metadata": {},
   "source": [
    "# CONCLUSION"
   ]
  },
  {
   "cell_type": "markdown",
   "id": "0f5ebc36",
   "metadata": {},
   "source": [
    "XGBoost is the most popular algorithm for tabular classification problems. Other well known approaches: Random Forest (Decision tree with baggin), Logistic regression.\n",
    "\n",
    "For those interested in diving deeper into building model for solving problems related to tabular data -> join Romina's session on Thursday morning. </br>\n",
    "More details on Decision Trees, boosting vs bagging approaches and KNN (K Nearest Neighbour) notably."
   ]
  },
  {
   "cell_type": "markdown",
   "id": "1df5be5c",
   "metadata": {},
   "source": [
    "# Challenge: optimise further your model and post your best recall score in the slack channel!"
   ]
  },
  {
   "cell_type": "code",
   "execution_count": null,
   "id": "4aacec59",
   "metadata": {},
   "outputs": [],
   "source": []
  },
  {
   "cell_type": "markdown",
   "id": "1dfcc5c5",
   "metadata": {},
   "source": [
    "# ....and don't forget to turn off your instance to not incur further costs!"
   ]
  },
  {
   "cell_type": "code",
   "execution_count": null,
   "id": "37fc3274",
   "metadata": {},
   "outputs": [],
   "source": []
  }
 ],
 "metadata": {
  "kernelspec": {
   "display_name": "conda_python3",
   "language": "python",
   "name": "conda_python3"
  },
  "language_info": {
   "codemirror_mode": {
    "name": "ipython",
    "version": 3
   },
   "file_extension": ".py",
   "mimetype": "text/x-python",
   "name": "python",
   "nbconvert_exporter": "python",
   "pygments_lexer": "ipython3",
   "version": "3.6.13"
  }
 },
 "nbformat": 4,
 "nbformat_minor": 5
}
