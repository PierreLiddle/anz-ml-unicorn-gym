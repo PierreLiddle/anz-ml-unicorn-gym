{
 "cells": [
  {
   "cell_type": "markdown",
   "id": "22a6b055",
   "metadata": {},
   "source": [
    "# Customer Churn example\n",
    "To illustrate all the steps part of building a model, we'll build a customer churn model out of a Telco customer dataset.\n",
    "We'll look into the existing features available to us and will later build an XGBoost model to predict the \"Churn\" column which is the label/target of interest.\n",
    "\n",
    "The dataset is public and can be found here:\n",
    "https://github.com/IBM/telco-customer-churn-on-icp4d"
   ]
  },
  {
   "cell_type": "markdown",
   "id": "bc3684bd",
   "metadata": {},
   "source": [
    "# Jupyter Notebook quick intro"
   ]
  },
  {
   "cell_type": "markdown",
   "id": "25a7c34a",
   "metadata": {},
   "source": [
    "Code vs Markdown Cells (raw only used if you want to export notebook with NBConvert)</br>\n",
    "Shift + Return to execute a cell</br>\n",
    "Tab - auto-completion</br>\n",
    "Jupyter vs JupyterLab vs Sagemaker Studio</br>\n",
    "</br>\n",
    "Escape + ??</br>\n",
    "Escape\tenter command mode</br>\n",
    "Escape + d + d\tdelete selected cell</br>\n",
    "Escape + y\tchange cell to code</br>\n",
    "Escape + m\tchange cell to markdown</br>\n",
    "Escape + r\tchange cell to raw</br>\n",
    "Escape + 1\tchange cell to Heading 1</br>\n",
    "Escape + n\tchange cell to heading n</br>\n",
    "Escape + b\tcreate cell below</br>\n",
    "Escape + a\tInsert cell above</br>"
   ]
  },
  {
   "cell_type": "markdown",
   "id": "a7eedbdf",
   "metadata": {},
   "source": [
    "# Let's get started!"
   ]
  },
  {
   "cell_type": "markdown",
   "id": "7b920e5f",
   "metadata": {},
   "source": [
    "<img src='img/Screen Shot 2021-09-15 at 12.06.44 pm.png' width=1000 align='left'>"
   ]
  },
  {
   "cell_type": "markdown",
   "id": "78a899bc",
   "metadata": {},
   "source": [
    "## Load the dataset"
   ]
  },
  {
   "cell_type": "code",
   "execution_count": 1,
   "id": "243cb722",
   "metadata": {},
   "outputs": [],
   "source": [
    "import warnings\n",
    "warnings.filterwarnings(\"ignore\")\n",
    "\n",
    "import pandas as pd\n",
    "pd.set_option('display.max_columns', 100)"
   ]
  },
  {
   "cell_type": "code",
   "execution_count": 4,
   "id": "9c512e1d",
   "metadata": {},
   "outputs": [],
   "source": [
    "data_df = pd.read_csv('./data/Telco-Customer-Churn-with-null-and-outliers.csv')"
   ]
  },
  {
   "cell_type": "markdown",
   "id": "afead5ae",
   "metadata": {},
   "source": [
    "## Pandas\n",
    "Most popular python data analysis tool/library. </br>\n",
    "Main object to store/manipulate data = DataFrame (similar in some ways to Spark)"
   ]
  },
  {
   "cell_type": "markdown",
   "id": "1462305d",
   "metadata": {},
   "source": [
    "## Exploratory Data Analysis (EDA)"
   ]
  },
  {
   "cell_type": "markdown",
   "id": "b404fd63",
   "metadata": {},
   "source": [
    "<img src='img/Screen Shot 2021-09-15 at 12.22.59 pm.png' width=800 align='left'>"
   ]
  },
  {
   "cell_type": "markdown",
   "id": "cc4d5681",
   "metadata": {},
   "source": [
    "### Getting the shape of the dataset\n",
    "-> 7043 rows and 21 columns/features"
   ]
  },
  {
   "cell_type": "code",
   "execution_count": 4,
   "id": "790d8f6c",
   "metadata": {},
   "outputs": [
    {
     "data": {
      "text/plain": [
       "(7043, 21)"
      ]
     },
     "execution_count": 4,
     "metadata": {},
     "output_type": "execute_result"
    }
   ],
   "source": [
    "data_df.shape"
   ]
  },
  {
   "cell_type": "markdown",
   "id": "e89c14de",
   "metadata": {},
   "source": [
    "### Display the first 5 line of the dataset\n",
    "similarly, to display the last 5 lines of the dataset you'd use data_df.tail(5)"
   ]
  },
  {
   "cell_type": "code",
   "execution_count": 5,
   "id": "d087223a",
   "metadata": {},
   "outputs": [
    {
     "data": {
      "text/html": [
       "<div>\n",
       "<style scoped>\n",
       "    .dataframe tbody tr th:only-of-type {\n",
       "        vertical-align: middle;\n",
       "    }\n",
       "\n",
       "    .dataframe tbody tr th {\n",
       "        vertical-align: top;\n",
       "    }\n",
       "\n",
       "    .dataframe thead th {\n",
       "        text-align: right;\n",
       "    }\n",
       "</style>\n",
       "<table border=\"1\" class=\"dataframe\">\n",
       "  <thead>\n",
       "    <tr style=\"text-align: right;\">\n",
       "      <th></th>\n",
       "      <th>customerID</th>\n",
       "      <th>gender</th>\n",
       "      <th>SeniorCitizen</th>\n",
       "      <th>Partner</th>\n",
       "      <th>Dependents</th>\n",
       "      <th>tenure</th>\n",
       "      <th>PhoneService</th>\n",
       "      <th>MultipleLines</th>\n",
       "      <th>InternetService</th>\n",
       "      <th>OnlineSecurity</th>\n",
       "      <th>OnlineBackup</th>\n",
       "      <th>DeviceProtection</th>\n",
       "      <th>TechSupport</th>\n",
       "      <th>StreamingTV</th>\n",
       "      <th>StreamingMovies</th>\n",
       "      <th>Contract</th>\n",
       "      <th>PaperlessBilling</th>\n",
       "      <th>PaymentMethod</th>\n",
       "      <th>MonthlyCharges</th>\n",
       "      <th>TotalCharges</th>\n",
       "      <th>Churn</th>\n",
       "    </tr>\n",
       "  </thead>\n",
       "  <tbody>\n",
       "    <tr>\n",
       "      <th>0</th>\n",
       "      <td>7590-VHVEG</td>\n",
       "      <td>Female</td>\n",
       "      <td>0</td>\n",
       "      <td>Yes</td>\n",
       "      <td>No</td>\n",
       "      <td>1.0</td>\n",
       "      <td>No</td>\n",
       "      <td>No phone service</td>\n",
       "      <td>DSL</td>\n",
       "      <td>No</td>\n",
       "      <td>Yes</td>\n",
       "      <td>No</td>\n",
       "      <td>No</td>\n",
       "      <td>No</td>\n",
       "      <td>No</td>\n",
       "      <td>Month-to-month</td>\n",
       "      <td>Yes</td>\n",
       "      <td>Electronic check</td>\n",
       "      <td>29.85</td>\n",
       "      <td>29.85</td>\n",
       "      <td>No</td>\n",
       "    </tr>\n",
       "    <tr>\n",
       "      <th>1</th>\n",
       "      <td>5575-GNVDE</td>\n",
       "      <td>Male</td>\n",
       "      <td>0</td>\n",
       "      <td>No</td>\n",
       "      <td>No</td>\n",
       "      <td>34.0</td>\n",
       "      <td>Yes</td>\n",
       "      <td>No</td>\n",
       "      <td>DSL</td>\n",
       "      <td>Yes</td>\n",
       "      <td>No</td>\n",
       "      <td>Yes</td>\n",
       "      <td>No</td>\n",
       "      <td>No</td>\n",
       "      <td>No</td>\n",
       "      <td>One year</td>\n",
       "      <td>No</td>\n",
       "      <td>Mailed check</td>\n",
       "      <td>56.95</td>\n",
       "      <td>1889.50</td>\n",
       "      <td>No</td>\n",
       "    </tr>\n",
       "    <tr>\n",
       "      <th>2</th>\n",
       "      <td>3668-QPYBK</td>\n",
       "      <td>Male</td>\n",
       "      <td>0</td>\n",
       "      <td>No</td>\n",
       "      <td>No</td>\n",
       "      <td>2.0</td>\n",
       "      <td>Yes</td>\n",
       "      <td>No</td>\n",
       "      <td>DSL</td>\n",
       "      <td>Yes</td>\n",
       "      <td>Yes</td>\n",
       "      <td>No</td>\n",
       "      <td>No</td>\n",
       "      <td>No</td>\n",
       "      <td>No</td>\n",
       "      <td>Month-to-month</td>\n",
       "      <td>Yes</td>\n",
       "      <td>Mailed check</td>\n",
       "      <td>53.85</td>\n",
       "      <td>108.15</td>\n",
       "      <td>Yes</td>\n",
       "    </tr>\n",
       "    <tr>\n",
       "      <th>3</th>\n",
       "      <td>7795-CFOCW</td>\n",
       "      <td>Male</td>\n",
       "      <td>0</td>\n",
       "      <td>No</td>\n",
       "      <td>No</td>\n",
       "      <td>45.0</td>\n",
       "      <td>No</td>\n",
       "      <td>No phone service</td>\n",
       "      <td>DSL</td>\n",
       "      <td>Yes</td>\n",
       "      <td>No</td>\n",
       "      <td>Yes</td>\n",
       "      <td>Yes</td>\n",
       "      <td>No</td>\n",
       "      <td>No</td>\n",
       "      <td>One year</td>\n",
       "      <td>No</td>\n",
       "      <td>Bank transfer (automatic)</td>\n",
       "      <td>42.30</td>\n",
       "      <td>1840.75</td>\n",
       "      <td>No</td>\n",
       "    </tr>\n",
       "    <tr>\n",
       "      <th>4</th>\n",
       "      <td>9237-HQITU</td>\n",
       "      <td>Female</td>\n",
       "      <td>0</td>\n",
       "      <td>No</td>\n",
       "      <td>No</td>\n",
       "      <td>2.0</td>\n",
       "      <td>Yes</td>\n",
       "      <td>No</td>\n",
       "      <td>Fiber optic</td>\n",
       "      <td>No</td>\n",
       "      <td>No</td>\n",
       "      <td>No</td>\n",
       "      <td>No</td>\n",
       "      <td>No</td>\n",
       "      <td>No</td>\n",
       "      <td>Month-to-month</td>\n",
       "      <td>Yes</td>\n",
       "      <td>Electronic check</td>\n",
       "      <td>70.70</td>\n",
       "      <td>151.65</td>\n",
       "      <td>Yes</td>\n",
       "    </tr>\n",
       "  </tbody>\n",
       "</table>\n",
       "</div>"
      ],
      "text/plain": [
       "   customerID  gender  SeniorCitizen Partner Dependents  tenure PhoneService  \\\n",
       "0  7590-VHVEG  Female              0     Yes         No     1.0           No   \n",
       "1  5575-GNVDE    Male              0      No         No    34.0          Yes   \n",
       "2  3668-QPYBK    Male              0      No         No     2.0          Yes   \n",
       "3  7795-CFOCW    Male              0      No         No    45.0           No   \n",
       "4  9237-HQITU  Female              0      No         No     2.0          Yes   \n",
       "\n",
       "      MultipleLines InternetService OnlineSecurity OnlineBackup  \\\n",
       "0  No phone service             DSL             No          Yes   \n",
       "1                No             DSL            Yes           No   \n",
       "2                No             DSL            Yes          Yes   \n",
       "3  No phone service             DSL            Yes           No   \n",
       "4                No     Fiber optic             No           No   \n",
       "\n",
       "  DeviceProtection TechSupport StreamingTV StreamingMovies        Contract  \\\n",
       "0               No          No          No              No  Month-to-month   \n",
       "1              Yes          No          No              No        One year   \n",
       "2               No          No          No              No  Month-to-month   \n",
       "3              Yes         Yes          No              No        One year   \n",
       "4               No          No          No              No  Month-to-month   \n",
       "\n",
       "  PaperlessBilling              PaymentMethod  MonthlyCharges  TotalCharges  \\\n",
       "0              Yes           Electronic check           29.85         29.85   \n",
       "1               No               Mailed check           56.95       1889.50   \n",
       "2              Yes               Mailed check           53.85        108.15   \n",
       "3               No  Bank transfer (automatic)           42.30       1840.75   \n",
       "4              Yes           Electronic check           70.70        151.65   \n",
       "\n",
       "  Churn  \n",
       "0    No  \n",
       "1    No  \n",
       "2   Yes  \n",
       "3    No  \n",
       "4   Yes  "
      ]
     },
     "execution_count": 5,
     "metadata": {},
     "output_type": "execute_result"
    }
   ],
   "source": [
    "data_df.head(5)"
   ]
  },
  {
   "cell_type": "markdown",
   "id": "e16ce940",
   "metadata": {},
   "source": [
    "### playing with the data"
   ]
  },
  {
   "cell_type": "markdown",
   "id": "b002bf18",
   "metadata": {},
   "source": [
    "Select a column only. Note that the below return a pandas series which is a different type of object than a Dataframe."
   ]
  },
  {
   "cell_type": "code",
   "execution_count": 6,
   "id": "ec15f6de",
   "metadata": {},
   "outputs": [
    {
     "data": {
      "text/plain": [
       "0    Female\n",
       "1      Male\n",
       "Name: gender, dtype: object"
      ]
     },
     "execution_count": 6,
     "metadata": {},
     "output_type": "execute_result"
    }
   ],
   "source": [
    "#data_df['gender']\n",
    "data_df['gender'].head(2)"
   ]
  },
  {
   "cell_type": "markdown",
   "id": "7d348377",
   "metadata": {},
   "source": [
    "Filter a column on a specific value"
   ]
  },
  {
   "cell_type": "code",
   "execution_count": 7,
   "id": "79c7b8df",
   "metadata": {},
   "outputs": [
    {
     "data": {
      "text/html": [
       "<div>\n",
       "<style scoped>\n",
       "    .dataframe tbody tr th:only-of-type {\n",
       "        vertical-align: middle;\n",
       "    }\n",
       "\n",
       "    .dataframe tbody tr th {\n",
       "        vertical-align: top;\n",
       "    }\n",
       "\n",
       "    .dataframe thead th {\n",
       "        text-align: right;\n",
       "    }\n",
       "</style>\n",
       "<table border=\"1\" class=\"dataframe\">\n",
       "  <thead>\n",
       "    <tr style=\"text-align: right;\">\n",
       "      <th></th>\n",
       "      <th>customerID</th>\n",
       "      <th>gender</th>\n",
       "      <th>SeniorCitizen</th>\n",
       "      <th>Partner</th>\n",
       "      <th>Dependents</th>\n",
       "      <th>tenure</th>\n",
       "      <th>PhoneService</th>\n",
       "      <th>MultipleLines</th>\n",
       "      <th>InternetService</th>\n",
       "      <th>OnlineSecurity</th>\n",
       "      <th>OnlineBackup</th>\n",
       "      <th>DeviceProtection</th>\n",
       "      <th>TechSupport</th>\n",
       "      <th>StreamingTV</th>\n",
       "      <th>StreamingMovies</th>\n",
       "      <th>Contract</th>\n",
       "      <th>PaperlessBilling</th>\n",
       "      <th>PaymentMethod</th>\n",
       "      <th>MonthlyCharges</th>\n",
       "      <th>TotalCharges</th>\n",
       "      <th>Churn</th>\n",
       "    </tr>\n",
       "  </thead>\n",
       "  <tbody>\n",
       "    <tr>\n",
       "      <th>0</th>\n",
       "      <td>7590-VHVEG</td>\n",
       "      <td>Female</td>\n",
       "      <td>0</td>\n",
       "      <td>Yes</td>\n",
       "      <td>No</td>\n",
       "      <td>1.0</td>\n",
       "      <td>No</td>\n",
       "      <td>No phone service</td>\n",
       "      <td>DSL</td>\n",
       "      <td>No</td>\n",
       "      <td>Yes</td>\n",
       "      <td>No</td>\n",
       "      <td>No</td>\n",
       "      <td>No</td>\n",
       "      <td>No</td>\n",
       "      <td>Month-to-month</td>\n",
       "      <td>Yes</td>\n",
       "      <td>Electronic check</td>\n",
       "      <td>29.85</td>\n",
       "      <td>29.85</td>\n",
       "      <td>No</td>\n",
       "    </tr>\n",
       "    <tr>\n",
       "      <th>4</th>\n",
       "      <td>9237-HQITU</td>\n",
       "      <td>Female</td>\n",
       "      <td>0</td>\n",
       "      <td>No</td>\n",
       "      <td>No</td>\n",
       "      <td>2.0</td>\n",
       "      <td>Yes</td>\n",
       "      <td>No</td>\n",
       "      <td>Fiber optic</td>\n",
       "      <td>No</td>\n",
       "      <td>No</td>\n",
       "      <td>No</td>\n",
       "      <td>No</td>\n",
       "      <td>No</td>\n",
       "      <td>No</td>\n",
       "      <td>Month-to-month</td>\n",
       "      <td>Yes</td>\n",
       "      <td>Electronic check</td>\n",
       "      <td>70.70</td>\n",
       "      <td>151.65</td>\n",
       "      <td>Yes</td>\n",
       "    </tr>\n",
       "  </tbody>\n",
       "</table>\n",
       "</div>"
      ],
      "text/plain": [
       "   customerID  gender  SeniorCitizen Partner Dependents  tenure PhoneService  \\\n",
       "0  7590-VHVEG  Female              0     Yes         No     1.0           No   \n",
       "4  9237-HQITU  Female              0      No         No     2.0          Yes   \n",
       "\n",
       "      MultipleLines InternetService OnlineSecurity OnlineBackup  \\\n",
       "0  No phone service             DSL             No          Yes   \n",
       "4                No     Fiber optic             No           No   \n",
       "\n",
       "  DeviceProtection TechSupport StreamingTV StreamingMovies        Contract  \\\n",
       "0               No          No          No              No  Month-to-month   \n",
       "4               No          No          No              No  Month-to-month   \n",
       "\n",
       "  PaperlessBilling     PaymentMethod  MonthlyCharges  TotalCharges Churn  \n",
       "0              Yes  Electronic check           29.85         29.85    No  \n",
       "4              Yes  Electronic check           70.70        151.65   Yes  "
      ]
     },
     "execution_count": 7,
     "metadata": {},
     "output_type": "execute_result"
    }
   ],
   "source": [
    "data_df[data_df.gender == 'Female'].head(2)"
   ]
  },
  {
   "cell_type": "markdown",
   "id": "2b3163ca",
   "metadata": {},
   "source": [
    "### Get a view of the column type and presence of null values\n",
    "We can notice that Dtype are either int/float so numerical values or object, meaning they are considered as categorical value by pandas.</br>\n",
    "We can also notice that the tenure column/feature has some null value."
   ]
  },
  {
   "cell_type": "code",
   "execution_count": 8,
   "id": "6ebc9a14",
   "metadata": {},
   "outputs": [
    {
     "name": "stdout",
     "output_type": "stream",
     "text": [
      "<class 'pandas.core.frame.DataFrame'>\n",
      "RangeIndex: 7043 entries, 0 to 7042\n",
      "Data columns (total 21 columns):\n",
      " #   Column            Non-Null Count  Dtype  \n",
      "---  ------            --------------  -----  \n",
      " 0   customerID        7043 non-null   object \n",
      " 1   gender            7043 non-null   object \n",
      " 2   SeniorCitizen     7043 non-null   int64  \n",
      " 3   Partner           7043 non-null   object \n",
      " 4   Dependents        7043 non-null   object \n",
      " 5   tenure            6992 non-null   float64\n",
      " 6   PhoneService      7043 non-null   object \n",
      " 7   MultipleLines     7043 non-null   object \n",
      " 8   InternetService   7043 non-null   object \n",
      " 9   OnlineSecurity    7043 non-null   object \n",
      " 10  OnlineBackup      7043 non-null   object \n",
      " 11  DeviceProtection  7043 non-null   object \n",
      " 12  TechSupport       7043 non-null   object \n",
      " 13  StreamingTV       7043 non-null   object \n",
      " 14  StreamingMovies   7043 non-null   object \n",
      " 15  Contract          7043 non-null   object \n",
      " 16  PaperlessBilling  7043 non-null   object \n",
      " 17  PaymentMethod     7043 non-null   object \n",
      " 18  MonthlyCharges    7043 non-null   float64\n",
      " 19  TotalCharges      7032 non-null   float64\n",
      " 20  Churn             7043 non-null   object \n",
      "dtypes: float64(3), int64(1), object(17)\n",
      "memory usage: 1.1+ MB\n"
     ]
    }
   ],
   "source": [
    "data_df.info()"
   ]
  },
  {
   "cell_type": "markdown",
   "id": "0ed84508",
   "metadata": {},
   "source": [
    "Notes: \n",
    "- for some reasons (a space character), the TotalCharges is not an object so we force/cast the type to fix this.</br>\n",
    "- the coerce parameter will input a NaN when not able to cast the value into a numeric"
   ]
  },
  {
   "cell_type": "code",
   "execution_count": 9,
   "id": "53ea1180",
   "metadata": {},
   "outputs": [],
   "source": [
    "data_df.TotalCharges = pd.to_numeric(data_df.TotalCharges, errors='coerce')"
   ]
  },
  {
   "cell_type": "markdown",
   "id": "4649bf4e",
   "metadata": {},
   "source": [
    "### For numeric columns, describe() gives you mean, standard deviation, min,max etc"
   ]
  },
  {
   "cell_type": "code",
   "execution_count": 10,
   "id": "5fbd3ab0",
   "metadata": {},
   "outputs": [
    {
     "data": {
      "text/html": [
       "<div>\n",
       "<style scoped>\n",
       "    .dataframe tbody tr th:only-of-type {\n",
       "        vertical-align: middle;\n",
       "    }\n",
       "\n",
       "    .dataframe tbody tr th {\n",
       "        vertical-align: top;\n",
       "    }\n",
       "\n",
       "    .dataframe thead th {\n",
       "        text-align: right;\n",
       "    }\n",
       "</style>\n",
       "<table border=\"1\" class=\"dataframe\">\n",
       "  <thead>\n",
       "    <tr style=\"text-align: right;\">\n",
       "      <th></th>\n",
       "      <th>SeniorCitizen</th>\n",
       "      <th>tenure</th>\n",
       "      <th>MonthlyCharges</th>\n",
       "      <th>TotalCharges</th>\n",
       "    </tr>\n",
       "  </thead>\n",
       "  <tbody>\n",
       "    <tr>\n",
       "      <th>count</th>\n",
       "      <td>7043.000000</td>\n",
       "      <td>6992.000000</td>\n",
       "      <td>7043.000000</td>\n",
       "      <td>7032.000000</td>\n",
       "    </tr>\n",
       "    <tr>\n",
       "      <th>mean</th>\n",
       "      <td>0.162147</td>\n",
       "      <td>32.356836</td>\n",
       "      <td>64.761692</td>\n",
       "      <td>2291.462607</td>\n",
       "    </tr>\n",
       "    <tr>\n",
       "      <th>std</th>\n",
       "      <td>0.368612</td>\n",
       "      <td>24.548507</td>\n",
       "      <td>30.090047</td>\n",
       "      <td>2299.341231</td>\n",
       "    </tr>\n",
       "    <tr>\n",
       "      <th>min</th>\n",
       "      <td>0.000000</td>\n",
       "      <td>0.000000</td>\n",
       "      <td>18.250000</td>\n",
       "      <td>18.800000</td>\n",
       "    </tr>\n",
       "    <tr>\n",
       "      <th>25%</th>\n",
       "      <td>0.000000</td>\n",
       "      <td>9.000000</td>\n",
       "      <td>35.500000</td>\n",
       "      <td>401.450000</td>\n",
       "    </tr>\n",
       "    <tr>\n",
       "      <th>50%</th>\n",
       "      <td>0.000000</td>\n",
       "      <td>29.000000</td>\n",
       "      <td>70.350000</td>\n",
       "      <td>1398.425000</td>\n",
       "    </tr>\n",
       "    <tr>\n",
       "      <th>75%</th>\n",
       "      <td>0.000000</td>\n",
       "      <td>55.000000</td>\n",
       "      <td>89.850000</td>\n",
       "      <td>3801.400000</td>\n",
       "    </tr>\n",
       "    <tr>\n",
       "      <th>max</th>\n",
       "      <td>1.000000</td>\n",
       "      <td>72.000000</td>\n",
       "      <td>118.750000</td>\n",
       "      <td>22000.000000</td>\n",
       "    </tr>\n",
       "  </tbody>\n",
       "</table>\n",
       "</div>"
      ],
      "text/plain": [
       "       SeniorCitizen       tenure  MonthlyCharges  TotalCharges\n",
       "count    7043.000000  6992.000000     7043.000000   7032.000000\n",
       "mean        0.162147    32.356836       64.761692   2291.462607\n",
       "std         0.368612    24.548507       30.090047   2299.341231\n",
       "min         0.000000     0.000000       18.250000     18.800000\n",
       "25%         0.000000     9.000000       35.500000    401.450000\n",
       "50%         0.000000    29.000000       70.350000   1398.425000\n",
       "75%         0.000000    55.000000       89.850000   3801.400000\n",
       "max         1.000000    72.000000      118.750000  22000.000000"
      ]
     },
     "execution_count": 10,
     "metadata": {},
     "output_type": "execute_result"
    }
   ],
   "source": [
    "data_df.describe()"
   ]
  },
  {
   "cell_type": "markdown",
   "id": "92944a25",
   "metadata": {},
   "source": [
    "### Get the distribution for a specific categorical feature/column\n",
    "Note: data_df.gender is equivalent to data_df['gender']"
   ]
  },
  {
   "cell_type": "code",
   "execution_count": 11,
   "id": "8a07b76d",
   "metadata": {},
   "outputs": [
    {
     "data": {
      "text/plain": [
       "Male      3555\n",
       "Female    3488\n",
       "Name: gender, dtype: int64"
      ]
     },
     "execution_count": 11,
     "metadata": {},
     "output_type": "execute_result"
    }
   ],
   "source": [
    "data_df.gender.value_counts()"
   ]
  },
  {
   "cell_type": "markdown",
   "id": "4634a37f",
   "metadata": {},
   "source": [
    "### Get the cardinality of those categorical features\n",
    "Note: will be useful later when encoding those features into numerical representations"
   ]
  },
  {
   "cell_type": "code",
   "execution_count": 12,
   "id": "8856f7d7",
   "metadata": {},
   "outputs": [
    {
     "data": {
      "text/plain": [
       "customerID          7043\n",
       "gender                 2\n",
       "SeniorCitizen          2\n",
       "Partner                2\n",
       "Dependents             2\n",
       "tenure                73\n",
       "PhoneService           2\n",
       "MultipleLines          3\n",
       "InternetService        3\n",
       "OnlineSecurity         3\n",
       "OnlineBackup           3\n",
       "DeviceProtection       3\n",
       "TechSupport            3\n",
       "StreamingTV            3\n",
       "StreamingMovies        3\n",
       "Contract               3\n",
       "PaperlessBilling       2\n",
       "PaymentMethod          4\n",
       "MonthlyCharges      1585\n",
       "TotalCharges        6530\n",
       "Churn                  2\n",
       "dtype: int64"
      ]
     },
     "execution_count": 12,
     "metadata": {},
     "output_type": "execute_result"
    }
   ],
   "source": [
    "cardinality_pd_series = data_df.apply(pd.Series.nunique)\n",
    "cardinality_pd_series"
   ]
  },
  {
   "cell_type": "markdown",
   "id": "c4259498",
   "metadata": {},
   "source": [
    "</br>We notice that a few of those features have yes/no values (cardinality = 2) so we'll turn those into 0/1 values"
   ]
  },
  {
   "cell_type": "code",
   "execution_count": 13,
   "id": "d70fde70",
   "metadata": {},
   "outputs": [],
   "source": [
    "list_of_cols_to_transform = ['Partner', 'Dependents', 'PhoneService', 'PaperlessBilling', 'Churn']"
   ]
  },
  {
   "cell_type": "code",
   "execution_count": 14,
   "id": "468e28bb",
   "metadata": {},
   "outputs": [],
   "source": [
    "for col in list_of_cols_to_transform:\n",
    "    data_df[col] = data_df[col].apply(lambda x: 0 if str(x).lower() == 'no' else 1)\n",
    "    data_df[col] = pd.to_numeric(data_df[col])"
   ]
  },
  {
   "cell_type": "code",
   "execution_count": 15,
   "id": "ae0953db",
   "metadata": {},
   "outputs": [],
   "source": [
    "data_df['gender'] = data_df['gender'].apply(lambda x: 0 if str(x).lower() == 'male' else 1)\n",
    "data_df['gender'] = pd.to_numeric(data_df['gender'])"
   ]
  },
  {
   "cell_type": "markdown",
   "id": "5c3b7599",
   "metadata": {},
   "source": [
    "# Your Turn! play and manipulate the data"
   ]
  },
  {
   "cell_type": "code",
   "execution_count": null,
   "id": "aedc1078",
   "metadata": {},
   "outputs": [],
   "source": []
  },
  {
   "cell_type": "markdown",
   "id": "50f83bac",
   "metadata": {},
   "source": [
    "### Now let's draw some graphs!! \n",
    "Notes:</br>\n",
    "Matplotlib is the goto library to draw graph in jupyter notebooks. </br>\n",
    "Seaborn is a wrapper around matplotlib simplifying its usage.</br>\n",
    "The plot method on Series and DataFrame is just a simple wrapper around plt.plot </br>"
   ]
  },
  {
   "cell_type": "code",
   "execution_count": 16,
   "id": "55ac6963",
   "metadata": {},
   "outputs": [],
   "source": [
    "import matplotlib.pyplot as plt\n",
    "%matplotlib inline\n",
    "\n",
    "import seaborn as sns"
   ]
  },
  {
   "cell_type": "markdown",
   "id": "8e0e386e",
   "metadata": {},
   "source": [
    "### Simple bar chart"
   ]
  },
  {
   "cell_type": "code",
   "execution_count": 17,
   "id": "19e95b41",
   "metadata": {},
   "outputs": [
    {
     "data": {
      "image/png": "[encoded data removed]",
      "text/plain": [
       "<Figure size 432x288 with 1 Axes>"
      ]
     },
     "metadata": {
      "needs_background": "light"
     },
     "output_type": "display_data"
    }
   ],
   "source": [
    "data_df.gender.value_counts().plot.bar()\n",
    "plt.show()"
   ]
  },
  {
   "cell_type": "code",
   "execution_count": 18,
   "id": "ccf94089",
   "metadata": {},
   "outputs": [
    {
     "data": {
      "image/png": "[encoded data removed]",
      "text/plain": [
       "<Figure size 432x288 with 1 Axes>"
      ]
     },
     "metadata": {
      "needs_background": "light"
     },
     "output_type": "display_data"
    }
   ],
   "source": [
    "sns.countplot(x='gender', data=data_df)\n",
    "plt.show()"
   ]
  },
  {
   "cell_type": "markdown",
   "id": "d0e2689b",
   "metadata": {},
   "source": [
    "### Looking at he distribution of the tenure\n",
    "Histograms show distribution of numeric data. Data is divided into \"buckets\" or \"bins\"."
   ]
  },
  {
   "cell_type": "code",
   "execution_count": 19,
   "id": "5038cb4d",
   "metadata": {},
   "outputs": [
    {
     "data": {
      "image/png": "[encoded data removed]",
      "text/plain": [
       "<Figure size 432x288 with 1 Axes>"
      ]
     },
     "metadata": {
      "needs_background": "light"
     },
     "output_type": "display_data"
    }
   ],
   "source": [
    "sns.distplot(data_df['tenure'], bins=50, kde=False)\n",
    "# equivalent: data_df['tenure'].plot.hist(bins=30)\n",
    "plt.show()"
   ]
  },
  {
   "cell_type": "markdown",
   "id": "98a0f1c4",
   "metadata": {},
   "source": [
    "### Looking at the composition of certain features"
   ]
  },
  {
   "cell_type": "code",
   "execution_count": 20,
   "id": "a8c852ab",
   "metadata": {},
   "outputs": [
    {
     "data": {
      "image/png": "[encoded data removed]",
      "text/plain": [
       "<Figure size 432x288 with 1 Axes>"
      ]
     },
     "metadata": {},
     "output_type": "display_data"
    }
   ],
   "source": [
    "data_df['InternetService'].value_counts().plot.pie(y='InternetService')\n",
    "plt.show()"
   ]
  },
  {
   "cell_type": "markdown",
   "id": "886c9f58",
   "metadata": {},
   "source": [
    "### FacetGrid charts with seaborn\n",
    "Note:</br>\n",
    "- useful to identify differences across a combination of categorical features.</br> \n",
    "- be careful if you have high cardinality in those features, it will take a long time.</br>\n",
    "- In that example, we can see that the month to month contracts have a higher Churn ratio, especially the contracts with no internet."
   ]
  },
  {
   "cell_type": "code",
   "execution_count": 21,
   "id": "d847f763",
   "metadata": {},
   "outputs": [
    {
     "data": {
      "image/png": "[encoded data removed]",
      "text/plain": [
       "<Figure size 958.4x475.2 with 9 Axes>"
      ]
     },
     "metadata": {
      "needs_background": "light"
     },
     "output_type": "display_data"
    }
   ],
   "source": [
    "grid = sns.FacetGrid(data_df, col='Contract', row='InternetService', height=2.2, aspect=2)\n",
    "grid.map(sns.countplot, 'Churn')\n",
    "grid.add_legend();\n",
    "plt.show()"
   ]
  },
  {
   "cell_type": "markdown",
   "id": "65af606c",
   "metadata": {},
   "source": [
    "### Looking at the relationship between 2 variables"
   ]
  },
  {
   "cell_type": "markdown",
   "id": "b73bf003",
   "metadata": {},
   "source": [
    "#### Scatter plot\n",
    "Shows how strongly pairs of features are related.\n",
    "In that example, we show the obvious correlation between totalcharges and monthly charges as well as few outliers"
   ]
  },
  {
   "cell_type": "code",
   "execution_count": 22,
   "id": "3c8d5a04",
   "metadata": {},
   "outputs": [
    {
     "data": {
      "image/png": "[encoded data removed]",
      "text/plain": [
       "<Figure size 432x288 with 1 Axes>"
      ]
     },
     "metadata": {
      "needs_background": "light"
     },
     "output_type": "display_data"
    }
   ],
   "source": [
    "#plt.xticks(rotation=90)\n",
    "sns.scatterplot(data=data_df.sample(frac=1), x='TotalCharges', y='MonthlyCharges')\n",
    "plt.show()"
   ]
  },
  {
   "cell_type": "markdown",
   "id": "2382bdf5",
   "metadata": {},
   "source": [
    "<img src='img/Screen Shot 2021-09-15 at 5.48.53 pm.png' width=800 align='left'>"
   ]
  },
  {
   "cell_type": "markdown",
   "id": "feb4cc5d",
   "metadata": {},
   "source": [
    "<img src='img/Screen Shot 2021-09-15 at 5.48.25 pm.png' width=800 align='left'>"
   ]
  },
  {
   "cell_type": "markdown",
   "id": "2d75f75a",
   "metadata": {},
   "source": [
    "### Let's generate a correlation matrix for our dataset"
   ]
  },
  {
   "cell_type": "markdown",
   "id": "16501a69",
   "metadata": {},
   "source": [
    "to generate a correlation matrix, we need numerical values so we need to transform our categorical features into numerical one.</br>\n",
    "For that, we generate the one hot encoding representation of those categorical features.</br>"
   ]
  },
  {
   "cell_type": "markdown",
   "id": "b0eea6e5",
   "metadata": {},
   "source": [
    "### Quick side explanation on categorical features encoding\n",
    "we'll use that for the correlation matrix but especially just before training our model once we're done with the feature engineering."
   ]
  },
  {
   "cell_type": "markdown",
   "id": "ab16c236",
   "metadata": {},
   "source": [
    "<img src='img/Screen Shot 2021-09-17 at 11.20.26 am.png' width=800 align='left'>"
   ]
  },
  {
   "cell_type": "markdown",
   "id": "3b4addec",
   "metadata": {},
   "source": [
    "<img src='img/Screen Shot 2021-09-17 at 11.20.38 am.png' width=800 align='left'>"
   ]
  },
  {
   "cell_type": "code",
   "execution_count": 23,
   "id": "2bc882e3",
   "metadata": {},
   "outputs": [],
   "source": [
    "def one_hot_encoding(df):\n",
    "    #getting a list of categorical columns\n",
    "    categorical_col = []\n",
    "    for col in df.columns:\n",
    "        col_dtype = df[col].dtype\n",
    "        if col_dtype == 'object':\n",
    "            categorical_col.append(col)\n",
    "\n",
    "    #generating the one hot encoded features        \n",
    "    df = pd.get_dummies(df, columns=categorical_col)\n",
    "    print(df.shape)\n",
    "    return df"
   ]
  },
  {
   "cell_type": "code",
   "execution_count": 24,
   "id": "6f5e2fcf",
   "metadata": {},
   "outputs": [
    {
     "name": "stdout",
     "output_type": "stream",
     "text": [
      "(7043, 41)\n"
     ]
    }
   ],
   "source": [
    "#dropping the customerID as it is of no use for the correlation matrix\n",
    "corr_data_df = one_hot_encoding(data_df.drop('customerID', axis=1))"
   ]
  },
  {
   "cell_type": "markdown",
   "id": "da8bb081",
   "metadata": {},
   "source": [
    "We generate the correlation matrix"
   ]
  },
  {
   "cell_type": "code",
   "execution_count": 25,
   "id": "4636ab47",
   "metadata": {},
   "outputs": [],
   "source": [
    "corrmat = corr_data_df.corr()"
   ]
  },
  {
   "cell_type": "markdown",
   "id": "48f30bd8",
   "metadata": {},
   "source": [
    "We identify the top 5 feature-label pairs with the highest correlation (=Pearson score), positive or negative (absolute value)."
   ]
  },
  {
   "cell_type": "code",
   "execution_count": 26,
   "id": "3a33c52c",
   "metadata": {},
   "outputs": [
    {
     "data": {
      "text/plain": [
       "Contract_Month-to-month        0.405103\n",
       "tenure                         0.352447\n",
       "OnlineSecurity_No              0.342637\n",
       "TechSupport_No                 0.337281\n",
       "InternetService_Fiber optic    0.308020\n",
       "Name: Churn, dtype: float64"
      ]
     },
     "execution_count": 26,
     "metadata": {},
     "output_type": "execute_result"
    }
   ],
   "source": [
    "corrmat['Churn'].apply(lambda x: abs(x)).sort_values(ascending=False).drop('Churn').head(5)"
   ]
  },
  {
   "cell_type": "markdown",
   "id": "9cbf8437",
   "metadata": {},
   "source": [
    "This tells us that those 5 features have the highest linear dependency (direct relationship) with the target amongst all features."
   ]
  },
  {
   "cell_type": "markdown",
   "id": "646a73ff",
   "metadata": {},
   "source": [
    "We generate a heatmap to visualise the pairs correlation. "
   ]
  },
  {
   "cell_type": "code",
   "execution_count": 27,
   "id": "d76bd99c",
   "metadata": {},
   "outputs": [
    {
     "data": {
      "image/png": "[encoded data removed]",
      "text/plain": [
       "<Figure size 3600x3600 with 2 Axes>"
      ]
     },
     "metadata": {
      "needs_background": "light"
     },
     "output_type": "display_data"
    }
   ],
   "source": [
    "import numpy as np\n",
    "mask = np.triu(np.ones_like(corrmat, dtype=np.bool))\n",
    "plt.figure(figsize=(50,50))\n",
    "g = sns.heatmap(corrmat,annot=False,cmap=\"RdYlGn\", mask=mask, vmax=.3, center=0,square=True, linewidths=.5, cbar_kws={\"shrink\": .5})"
   ]
  },
  {
   "cell_type": "markdown",
   "id": "8ddb98f6",
   "metadata": {},
   "source": [
    "# Your Turn! explore a bit the dataset by generating few graphs based on what we've seen."
   ]
  },
  {
   "cell_type": "code",
   "execution_count": null,
   "id": "15e060b6",
   "metadata": {},
   "outputs": [],
   "source": []
  },
  {
   "cell_type": "markdown",
   "id": "968f60b1",
   "metadata": {},
   "source": [
    "# Imbalanced Dataset"
   ]
  },
  {
   "cell_type": "code",
   "execution_count": 28,
   "id": "f01a5a05",
   "metadata": {},
   "outputs": [
    {
     "data": {
      "image/png": "[encoded data removed]",
      "text/plain": [
       "<Figure size 432x288 with 1 Axes>"
      ]
     },
     "metadata": {
      "needs_background": "light"
     },
     "output_type": "display_data"
    }
   ],
   "source": [
    "sns.countplot(x='Churn', data=data_df)\n",
    "plt.show()"
   ]
  },
  {
   "cell_type": "markdown",
   "id": "897bafc3",
   "metadata": {},
   "source": [
    "Class imbalance is a surprisingly common problem in machine learning (specifically in classification), occurring in datasets with a disproportionate ratio of observations in each class.</br>\n",
    "\n",
    "That is, the # of samples per class is not equally distributed.</br>\n",
    "\n",
    "The ML model may not work well for the infrequent classes, as there are not enough samples to learn patterns from, would be hard for the classifier to identify / match those patterns </br>\n",
    "\n",
    "Apart from changing performance metrics from accuracy to precision, recall, and/or f1 score, other ways to address class imbalance are basically related to balancing either the the dataset or the way ML alg learn from the dataset:</br>\n"
   ]
  },
  {
   "cell_type": "markdown",
   "id": "c37b36b7",
   "metadata": {},
   "source": [
    "<img src='img/Screen Shot 2021-09-16 at 2.10.05 pm.png' width=800 align='left'>"
   ]
  },
  {
   "cell_type": "markdown",
   "id": "95eb72af",
   "metadata": {},
   "source": [
    "</br>\n",
    "We'll later use the XGBoost algorithm to build our model. XGBoost has similar mechanism (scale_pos_weight hyperparameter) to handle imbalanced datasets.\n",
    "</br>"
   ]
  },
  {
   "cell_type": "markdown",
   "id": "6c16209e",
   "metadata": {},
   "source": [
    "# Handling Missing Data"
   ]
  },
  {
   "cell_type": "markdown",
   "id": "0d73e933",
   "metadata": {},
   "source": [
    "<img src='img/Screen Shot 2021-09-16 at 2.14.05 pm.png' width=800 align='left'>"
   ]
  },
  {
   "cell_type": "code",
   "execution_count": 29,
   "id": "2c99f85c",
   "metadata": {},
   "outputs": [
    {
     "name": "stdout",
     "output_type": "stream",
     "text": [
      "<class 'pandas.core.frame.DataFrame'>\n",
      "RangeIndex: 7043 entries, 0 to 7042\n",
      "Data columns (total 21 columns):\n",
      " #   Column            Non-Null Count  Dtype  \n",
      "---  ------            --------------  -----  \n",
      " 0   customerID        7043 non-null   object \n",
      " 1   gender            7043 non-null   int64  \n",
      " 2   SeniorCitizen     7043 non-null   int64  \n",
      " 3   Partner           7043 non-null   int64  \n",
      " 4   Dependents        7043 non-null   int64  \n",
      " 5   tenure            6992 non-null   float64\n",
      " 6   PhoneService      7043 non-null   int64  \n",
      " 7   MultipleLines     7043 non-null   object \n",
      " 8   InternetService   7043 non-null   object \n",
      " 9   OnlineSecurity    7043 non-null   object \n",
      " 10  OnlineBackup      7043 non-null   object \n",
      " 11  DeviceProtection  7043 non-null   object \n",
      " 12  TechSupport       7043 non-null   object \n",
      " 13  StreamingTV       7043 non-null   object \n",
      " 14  StreamingMovies   7043 non-null   object \n",
      " 15  Contract          7043 non-null   object \n",
      " 16  PaperlessBilling  7043 non-null   int64  \n",
      " 17  PaymentMethod     7043 non-null   object \n",
      " 18  MonthlyCharges    7043 non-null   float64\n",
      " 19  TotalCharges      7032 non-null   float64\n",
      " 20  Churn             7043 non-null   int64  \n",
      "dtypes: float64(3), int64(7), object(11)\n",
      "memory usage: 1.1+ MB\n"
     ]
    }
   ],
   "source": [
    "data_df.info()"
   ]
  },
  {
   "cell_type": "markdown",
   "id": "274f6fca",
   "metadata": {},
   "source": [
    "isna() return True/False for each row if value NaN. The below filter the dataframe on "
   ]
  },
  {
   "cell_type": "code",
   "execution_count": 30,
   "id": "a8671a9b",
   "metadata": {},
   "outputs": [
    {
     "data": {
      "text/html": [
       "<div>\n",
       "<style scoped>\n",
       "    .dataframe tbody tr th:only-of-type {\n",
       "        vertical-align: middle;\n",
       "    }\n",
       "\n",
       "    .dataframe tbody tr th {\n",
       "        vertical-align: top;\n",
       "    }\n",
       "\n",
       "    .dataframe thead th {\n",
       "        text-align: right;\n",
       "    }\n",
       "</style>\n",
       "<table border=\"1\" class=\"dataframe\">\n",
       "  <thead>\n",
       "    <tr style=\"text-align: right;\">\n",
       "      <th></th>\n",
       "      <th>customerID</th>\n",
       "      <th>gender</th>\n",
       "      <th>SeniorCitizen</th>\n",
       "      <th>Partner</th>\n",
       "      <th>Dependents</th>\n",
       "      <th>tenure</th>\n",
       "      <th>PhoneService</th>\n",
       "      <th>MultipleLines</th>\n",
       "      <th>InternetService</th>\n",
       "      <th>OnlineSecurity</th>\n",
       "      <th>OnlineBackup</th>\n",
       "      <th>DeviceProtection</th>\n",
       "      <th>TechSupport</th>\n",
       "      <th>StreamingTV</th>\n",
       "      <th>StreamingMovies</th>\n",
       "      <th>Contract</th>\n",
       "      <th>PaperlessBilling</th>\n",
       "      <th>PaymentMethod</th>\n",
       "      <th>MonthlyCharges</th>\n",
       "      <th>TotalCharges</th>\n",
       "      <th>Churn</th>\n",
       "    </tr>\n",
       "  </thead>\n",
       "  <tbody>\n",
       "    <tr>\n",
       "      <th>90</th>\n",
       "      <td>4767-HZZHQ</td>\n",
       "      <td>0</td>\n",
       "      <td>0</td>\n",
       "      <td>1</td>\n",
       "      <td>1</td>\n",
       "      <td>NaN</td>\n",
       "      <td>1</td>\n",
       "      <td>No</td>\n",
       "      <td>Fiber optic</td>\n",
       "      <td>No</td>\n",
       "      <td>Yes</td>\n",
       "      <td>Yes</td>\n",
       "      <td>No</td>\n",
       "      <td>No</td>\n",
       "      <td>No</td>\n",
       "      <td>Month-to-month</td>\n",
       "      <td>0</td>\n",
       "      <td>Bank transfer (automatic)</td>\n",
       "      <td>82.05</td>\n",
       "      <td>2570.20</td>\n",
       "      <td>0</td>\n",
       "    </tr>\n",
       "    <tr>\n",
       "      <th>123</th>\n",
       "      <td>6497-TILVL</td>\n",
       "      <td>1</td>\n",
       "      <td>0</td>\n",
       "      <td>1</td>\n",
       "      <td>1</td>\n",
       "      <td>NaN</td>\n",
       "      <td>1</td>\n",
       "      <td>No</td>\n",
       "      <td>DSL</td>\n",
       "      <td>Yes</td>\n",
       "      <td>No</td>\n",
       "      <td>No</td>\n",
       "      <td>No</td>\n",
       "      <td>No</td>\n",
       "      <td>No</td>\n",
       "      <td>Month-to-month</td>\n",
       "      <td>0</td>\n",
       "      <td>Mailed check</td>\n",
       "      <td>50.70</td>\n",
       "      <td>350.35</td>\n",
       "      <td>0</td>\n",
       "    </tr>\n",
       "    <tr>\n",
       "      <th>205</th>\n",
       "      <td>7674-YTAFD</td>\n",
       "      <td>1</td>\n",
       "      <td>0</td>\n",
       "      <td>0</td>\n",
       "      <td>0</td>\n",
       "      <td>NaN</td>\n",
       "      <td>1</td>\n",
       "      <td>No</td>\n",
       "      <td>Fiber optic</td>\n",
       "      <td>No</td>\n",
       "      <td>Yes</td>\n",
       "      <td>No</td>\n",
       "      <td>Yes</td>\n",
       "      <td>No</td>\n",
       "      <td>No</td>\n",
       "      <td>One year</td>\n",
       "      <td>1</td>\n",
       "      <td>Bank transfer (automatic)</td>\n",
       "      <td>79.95</td>\n",
       "      <td>2684.85</td>\n",
       "      <td>0</td>\n",
       "    </tr>\n",
       "    <tr>\n",
       "      <th>343</th>\n",
       "      <td>9639-BUJXT</td>\n",
       "      <td>0</td>\n",
       "      <td>0</td>\n",
       "      <td>0</td>\n",
       "      <td>0</td>\n",
       "      <td>NaN</td>\n",
       "      <td>1</td>\n",
       "      <td>No</td>\n",
       "      <td>No</td>\n",
       "      <td>No internet service</td>\n",
       "      <td>No internet service</td>\n",
       "      <td>No internet service</td>\n",
       "      <td>No internet service</td>\n",
       "      <td>No internet service</td>\n",
       "      <td>No internet service</td>\n",
       "      <td>One year</td>\n",
       "      <td>0</td>\n",
       "      <td>Mailed check</td>\n",
       "      <td>20.50</td>\n",
       "      <td>1328.15</td>\n",
       "      <td>0</td>\n",
       "    </tr>\n",
       "    <tr>\n",
       "      <th>443</th>\n",
       "      <td>2937-FTHUR</td>\n",
       "      <td>1</td>\n",
       "      <td>0</td>\n",
       "      <td>0</td>\n",
       "      <td>1</td>\n",
       "      <td>NaN</td>\n",
       "      <td>1</td>\n",
       "      <td>Yes</td>\n",
       "      <td>DSL</td>\n",
       "      <td>Yes</td>\n",
       "      <td>No</td>\n",
       "      <td>No</td>\n",
       "      <td>No</td>\n",
       "      <td>No</td>\n",
       "      <td>Yes</td>\n",
       "      <td>Month-to-month</td>\n",
       "      <td>0</td>\n",
       "      <td>Electronic check</td>\n",
       "      <td>64.80</td>\n",
       "      <td>1166.70</td>\n",
       "      <td>0</td>\n",
       "    </tr>\n",
       "  </tbody>\n",
       "</table>\n",
       "</div>"
      ],
      "text/plain": [
       "     customerID  gender  SeniorCitizen  Partner  Dependents  tenure  \\\n",
       "90   4767-HZZHQ       0              0        1           1     NaN   \n",
       "123  6497-TILVL       1              0        1           1     NaN   \n",
       "205  7674-YTAFD       1              0        0           0     NaN   \n",
       "343  9639-BUJXT       0              0        0           0     NaN   \n",
       "443  2937-FTHUR       1              0        0           1     NaN   \n",
       "\n",
       "     PhoneService MultipleLines InternetService       OnlineSecurity  \\\n",
       "90              1            No     Fiber optic                   No   \n",
       "123             1            No             DSL                  Yes   \n",
       "205             1            No     Fiber optic                   No   \n",
       "343             1            No              No  No internet service   \n",
       "443             1           Yes             DSL                  Yes   \n",
       "\n",
       "            OnlineBackup     DeviceProtection          TechSupport  \\\n",
       "90                   Yes                  Yes                   No   \n",
       "123                   No                   No                   No   \n",
       "205                  Yes                   No                  Yes   \n",
       "343  No internet service  No internet service  No internet service   \n",
       "443                   No                   No                   No   \n",
       "\n",
       "             StreamingTV      StreamingMovies        Contract  \\\n",
       "90                    No                   No  Month-to-month   \n",
       "123                   No                   No  Month-to-month   \n",
       "205                   No                   No        One year   \n",
       "343  No internet service  No internet service        One year   \n",
       "443                   No                  Yes  Month-to-month   \n",
       "\n",
       "     PaperlessBilling              PaymentMethod  MonthlyCharges  \\\n",
       "90                  0  Bank transfer (automatic)           82.05   \n",
       "123                 0               Mailed check           50.70   \n",
       "205                 1  Bank transfer (automatic)           79.95   \n",
       "343                 0               Mailed check           20.50   \n",
       "443                 0           Electronic check           64.80   \n",
       "\n",
       "     TotalCharges  Churn  \n",
       "90        2570.20      0  \n",
       "123        350.35      0  \n",
       "205       2684.85      0  \n",
       "343       1328.15      0  \n",
       "443       1166.70      0  "
      ]
     },
     "execution_count": 30,
     "metadata": {},
     "output_type": "execute_result"
    }
   ],
   "source": [
    "data_df[data_df['tenure'].isna()].head(5)"
   ]
  },
  {
   "cell_type": "markdown",
   "id": "f9da1f8e",
   "metadata": {},
   "source": [
    "Simply replacing NaN values with the mean tenure"
   ]
  },
  {
   "cell_type": "code",
   "execution_count": 31,
   "id": "8fc80170",
   "metadata": {},
   "outputs": [],
   "source": [
    "data_df['tenure'] = data_df['tenure'].fillna(data_df['tenure'].mean())"
   ]
  },
  {
   "cell_type": "markdown",
   "id": "2c7d2572",
   "metadata": {},
   "source": [
    "Look also at: sklearn.impute</br>\n",
    "https://scikit-learn.org/stable/modules/classes.html#module-sklearn.impute</br>\n",
    "\n",
    "SimpleImputer - does substitution with simple strategies: mean, median, most_frequent, constant.</br>\n",
    "others: IterativeImputer, KNNImputer</br>"
   ]
  },
  {
   "cell_type": "markdown",
   "id": "4236f419",
   "metadata": {},
   "source": [
    "# Feature Scaling/Normalisation - (will be covered in more details during the Thursday Tabular ML session)"
   ]
  },
  {
   "cell_type": "markdown",
   "id": "42069a2c",
   "metadata": {},
   "source": [
    "<img src='img/Screen Shot 2021-09-16 at 4.51.33 pm.png' width=800 align='left'>"
   ]
  },
  {
   "cell_type": "markdown",
   "id": "d26cbfbb",
   "metadata": {},
   "source": [
    "We won't need it for our XGBoost example but here is the code snippet if you ever need it."
   ]
  },
  {
   "cell_type": "code",
   "execution_count": 32,
   "id": "82a22e04",
   "metadata": {},
   "outputs": [
    {
     "data": {
      "text/plain": [
       "array([0.01388889, 0.11542289, 0.0005027 ])"
      ]
     },
     "execution_count": 32,
     "metadata": {},
     "output_type": "execute_result"
    }
   ],
   "source": [
    "from sklearn.preprocessing import MinMaxScaler\n",
    "\n",
    "scaler = MinMaxScaler(feature_range=(0, 1))\n",
    "scaled_features_df = scaler.fit_transform(data_df[[\"tenure\", \"MonthlyCharges\", \"TotalCharges\"]])\n",
    "scaled_features_df[0]"
   ]
  },
  {
   "cell_type": "markdown",
   "id": "46c6a5be",
   "metadata": {},
   "source": [
    "# Dealing with Outliers\n",
    "Outliers are extreme values that deviate from other observations on data , they may indicate a variability in a measurement, experimental errors or a novelty. In other words, an outlier is an observation that diverges from an overall pattern on a sample. Careful not to mistake outliers with true data.</br>\n",
    "for \"Univariate\" outliers, we can draw graph, histogram to identify those visually and drop them. using percentile is another method</br>\n",
    "for \"Multivariate\" ones, it's much harder.</br>"
   ]
  },
  {
   "cell_type": "code",
   "execution_count": 33,
   "id": "6900cc59",
   "metadata": {},
   "outputs": [
    {
     "data": {
      "image/png": "[encoded data removed]",
      "text/plain": [
       "<Figure size 432x288 with 1 Axes>"
      ]
     },
     "metadata": {
      "needs_background": "light"
     },
     "output_type": "display_data"
    }
   ],
   "source": [
    "sns.distplot(data_df['TotalCharges'], bins=50, kde=False)\n",
    "plt.show()"
   ]
  },
  {
   "cell_type": "code",
   "execution_count": 34,
   "id": "eaecc764",
   "metadata": {},
   "outputs": [
    {
     "name": "stdout",
     "output_type": "stream",
     "text": [
      "Number of observations in the 99th percentile:71\n"
     ]
    }
   ],
   "source": [
    "top_percentile = data_df['TotalCharges'].quantile(.99)\n",
    "number_in_to_percentile = data_df[data_df['TotalCharges'] >= top_percentile].shape[0]\n",
    "print(f'Number of observations in the 99th percentile:{number_in_to_percentile}')"
   ]
  },
  {
   "cell_type": "markdown",
   "id": "f0d6b00a",
   "metadata": {},
   "source": [
    "### Z-score\n",
    "Z-score is a common method to flag if a value is an outlier.</br>\n",
    "Z-Score is essentially how many standard deviations away is my actual value from the mean value.</br>\n",
    "(standard deviation being a measure of how dispersed the data is in relation to the mean)."
   ]
  },
  {
   "cell_type": "markdown",
   "id": "d9c578b2",
   "metadata": {},
   "source": [
    "We just create a new column with the z-score for each TotalCharges value"
   ]
  },
  {
   "cell_type": "code",
   "execution_count": 35,
   "id": "8bdd7992",
   "metadata": {},
   "outputs": [],
   "source": [
    "data_df['TotalCharges_zscore'] = (data_df['TotalCharges'] - data_df['TotalCharges'].mean())/data_df['TotalCharges'].std(ddof=0)"
   ]
  },
  {
   "cell_type": "markdown",
   "id": "190be5a0",
   "metadata": {},
   "source": [
    "We filter the dataframe to keep the observations which are deviating from the mean value by 3 times the standard deviation."
   ]
  },
  {
   "cell_type": "code",
   "execution_count": 36,
   "id": "cdea1dc5",
   "metadata": {},
   "outputs": [
    {
     "data": {
      "text/html": [
       "<div>\n",
       "<style scoped>\n",
       "    .dataframe tbody tr th:only-of-type {\n",
       "        vertical-align: middle;\n",
       "    }\n",
       "\n",
       "    .dataframe tbody tr th {\n",
       "        vertical-align: top;\n",
       "    }\n",
       "\n",
       "    .dataframe thead th {\n",
       "        text-align: right;\n",
       "    }\n",
       "</style>\n",
       "<table border=\"1\" class=\"dataframe\">\n",
       "  <thead>\n",
       "    <tr style=\"text-align: right;\">\n",
       "      <th></th>\n",
       "      <th>customerID</th>\n",
       "      <th>gender</th>\n",
       "      <th>SeniorCitizen</th>\n",
       "      <th>Partner</th>\n",
       "      <th>Dependents</th>\n",
       "      <th>tenure</th>\n",
       "      <th>PhoneService</th>\n",
       "      <th>MultipleLines</th>\n",
       "      <th>InternetService</th>\n",
       "      <th>OnlineSecurity</th>\n",
       "      <th>OnlineBackup</th>\n",
       "      <th>DeviceProtection</th>\n",
       "      <th>TechSupport</th>\n",
       "      <th>StreamingTV</th>\n",
       "      <th>StreamingMovies</th>\n",
       "      <th>Contract</th>\n",
       "      <th>PaperlessBilling</th>\n",
       "      <th>PaymentMethod</th>\n",
       "      <th>MonthlyCharges</th>\n",
       "      <th>TotalCharges</th>\n",
       "      <th>Churn</th>\n",
       "      <th>TotalCharges_zscore</th>\n",
       "    </tr>\n",
       "  </thead>\n",
       "  <tbody>\n",
       "    <tr>\n",
       "      <th>45</th>\n",
       "      <td>3714-NTNFO</td>\n",
       "      <td>1</td>\n",
       "      <td>0</td>\n",
       "      <td>0</td>\n",
       "      <td>0</td>\n",
       "      <td>49.0</td>\n",
       "      <td>1</td>\n",
       "      <td>Yes</td>\n",
       "      <td>Fiber optic</td>\n",
       "      <td>No</td>\n",
       "      <td>No</td>\n",
       "      <td>No</td>\n",
       "      <td>No</td>\n",
       "      <td>No</td>\n",
       "      <td>Yes</td>\n",
       "      <td>Month-to-month</td>\n",
       "      <td>1</td>\n",
       "      <td>Electronic check</td>\n",
       "      <td>84.50</td>\n",
       "      <td>20000.0</td>\n",
       "      <td>0</td>\n",
       "      <td>7.702118</td>\n",
       "    </tr>\n",
       "    <tr>\n",
       "      <th>2000</th>\n",
       "      <td>7020-OZKXZ</td>\n",
       "      <td>1</td>\n",
       "      <td>1</td>\n",
       "      <td>0</td>\n",
       "      <td>0</td>\n",
       "      <td>9.0</td>\n",
       "      <td>1</td>\n",
       "      <td>No</td>\n",
       "      <td>Fiber optic</td>\n",
       "      <td>No</td>\n",
       "      <td>No</td>\n",
       "      <td>Yes</td>\n",
       "      <td>No</td>\n",
       "      <td>No</td>\n",
       "      <td>No</td>\n",
       "      <td>Month-to-month</td>\n",
       "      <td>0</td>\n",
       "      <td>Credit card (automatic)</td>\n",
       "      <td>75.50</td>\n",
       "      <td>22000.0</td>\n",
       "      <td>0</td>\n",
       "      <td>8.571994</td>\n",
       "    </tr>\n",
       "    <tr>\n",
       "      <th>3000</th>\n",
       "      <td>7613-LLQFO</td>\n",
       "      <td>0</td>\n",
       "      <td>0</td>\n",
       "      <td>0</td>\n",
       "      <td>0</td>\n",
       "      <td>12.0</td>\n",
       "      <td>1</td>\n",
       "      <td>Yes</td>\n",
       "      <td>Fiber optic</td>\n",
       "      <td>No</td>\n",
       "      <td>No</td>\n",
       "      <td>No</td>\n",
       "      <td>No</td>\n",
       "      <td>Yes</td>\n",
       "      <td>No</td>\n",
       "      <td>Month-to-month</td>\n",
       "      <td>1</td>\n",
       "      <td>Electronic check</td>\n",
       "      <td>84.45</td>\n",
       "      <td>21000.0</td>\n",
       "      <td>1</td>\n",
       "      <td>8.137056</td>\n",
       "    </tr>\n",
       "  </tbody>\n",
       "</table>\n",
       "</div>"
      ],
      "text/plain": [
       "      customerID  gender  SeniorCitizen  Partner  Dependents  tenure  \\\n",
       "45    3714-NTNFO       1              0        0           0    49.0   \n",
       "2000  7020-OZKXZ       1              1        0           0     9.0   \n",
       "3000  7613-LLQFO       0              0        0           0    12.0   \n",
       "\n",
       "      PhoneService MultipleLines InternetService OnlineSecurity OnlineBackup  \\\n",
       "45               1           Yes     Fiber optic             No           No   \n",
       "2000             1            No     Fiber optic             No           No   \n",
       "3000             1           Yes     Fiber optic             No           No   \n",
       "\n",
       "     DeviceProtection TechSupport StreamingTV StreamingMovies        Contract  \\\n",
       "45                 No          No          No             Yes  Month-to-month   \n",
       "2000              Yes          No          No              No  Month-to-month   \n",
       "3000               No          No         Yes              No  Month-to-month   \n",
       "\n",
       "      PaperlessBilling            PaymentMethod  MonthlyCharges  TotalCharges  \\\n",
       "45                   1         Electronic check           84.50       20000.0   \n",
       "2000                 0  Credit card (automatic)           75.50       22000.0   \n",
       "3000                 1         Electronic check           84.45       21000.0   \n",
       "\n",
       "      Churn  TotalCharges_zscore  \n",
       "45        0             7.702118  \n",
       "2000      0             8.571994  \n",
       "3000      1             8.137056  "
      ]
     },
     "execution_count": 36,
     "metadata": {},
     "output_type": "execute_result"
    }
   ],
   "source": [
    "data_df[abs(data_df['TotalCharges_zscore']) > 3]"
   ]
  },
  {
   "cell_type": "markdown",
   "id": "6ad290f1",
   "metadata": {},
   "source": [
    "In that case we simply delete those outliers"
   ]
  },
  {
   "cell_type": "code",
   "execution_count": 37,
   "id": "90730755",
   "metadata": {},
   "outputs": [],
   "source": [
    "data_df = data_df.drop([45,2000,3000], axis=0)"
   ]
  },
  {
   "cell_type": "markdown",
   "id": "f9ee020a",
   "metadata": {},
   "source": [
    "Dropping the Z-score column too as we don't need it anymore"
   ]
  },
  {
   "cell_type": "code",
   "execution_count": 38,
   "id": "bd04143a",
   "metadata": {},
   "outputs": [],
   "source": [
    "data_df = data_df.drop('TotalCharges_zscore', axis=1)"
   ]
  },
  {
   "cell_type": "markdown",
   "id": "1f55d09c",
   "metadata": {},
   "source": [
    "# Feature Engineering\n",
    "\n",
    "Your ML model is as good as your data!!</br>\n",
    "\n",
    "Feature engineering is the process of using domain knowledge to extract features (characteristics, properties, attributes) from raw data."
   ]
  },
  {
   "cell_type": "markdown",
   "id": "400ae45f",
   "metadata": {},
   "source": [
    "<img src='img/Screen Shot 2021-09-16 at 4.57.52 pm.png' width=800 align='left'>"
   ]
  },
  {
   "cell_type": "markdown",
   "id": "3e0a825e",
   "metadata": {},
   "source": [
    "### Feature selection\n",
    "Feature selection is the process of reducing the number of input variables when developing a predictive model. It is desirable to reduce the number of input variables to both reduce the computational cost of modeling and, in some cases, to improve the performance of the model.</br>\n",
    "Indeed, the performance of some models can degrade when including input variables that are not relevant to the target variable."
   ]
  },
  {
   "cell_type": "markdown",
   "id": "f135bc6e",
   "metadata": {},
   "source": [
    "Do you remember our correlation matrix? Let's use it again to identify the feature-feature linear dependency and if one is very high that will mean that we can probably drop on of them as they will be redundant to our model."
   ]
  },
  {
   "cell_type": "code",
   "execution_count": 39,
   "id": "fd62595c",
   "metadata": {},
   "outputs": [
    {
     "name": "stdout",
     "output_type": "stream",
     "text": [
      "InternetService_No  -  OnlineSecurity_No internet service  -  1.0\n",
      "InternetService_No  -  OnlineBackup_No internet service  -  1.0\n",
      "InternetService_No  -  DeviceProtection_No internet service  -  1.0\n",
      "InternetService_No  -  TechSupport_No internet service  -  1.0\n",
      "InternetService_No  -  StreamingTV_No internet service  -  1.0\n",
      "InternetService_No  -  StreamingMovies_No internet service  -  1.0\n",
      "OnlineSecurity_No internet service  -  InternetService_No  -  1.0\n",
      "OnlineSecurity_No internet service  -  OnlineBackup_No internet service  -  1.0\n",
      "OnlineSecurity_No internet service  -  DeviceProtection_No internet service  -  1.0\n",
      "OnlineSecurity_No internet service  -  TechSupport_No internet service  -  1.0\n",
      "OnlineSecurity_No internet service  -  StreamingTV_No internet service  -  1.0\n",
      "OnlineSecurity_No internet service  -  StreamingMovies_No internet service  -  1.0\n",
      "OnlineBackup_No internet service  -  InternetService_No  -  1.0\n",
      "OnlineBackup_No internet service  -  OnlineSecurity_No internet service  -  1.0\n",
      "OnlineBackup_No internet service  -  DeviceProtection_No internet service  -  1.0\n",
      "OnlineBackup_No internet service  -  TechSupport_No internet service  -  1.0\n",
      "OnlineBackup_No internet service  -  StreamingTV_No internet service  -  1.0\n",
      "OnlineBackup_No internet service  -  StreamingMovies_No internet service  -  1.0\n",
      "DeviceProtection_No internet service  -  InternetService_No  -  1.0\n",
      "DeviceProtection_No internet service  -  OnlineSecurity_No internet service  -  1.0\n",
      "DeviceProtection_No internet service  -  OnlineBackup_No internet service  -  1.0\n",
      "DeviceProtection_No internet service  -  TechSupport_No internet service  -  1.0\n",
      "DeviceProtection_No internet service  -  StreamingTV_No internet service  -  1.0\n",
      "DeviceProtection_No internet service  -  StreamingMovies_No internet service  -  1.0\n",
      "TechSupport_No internet service  -  InternetService_No  -  1.0\n",
      "TechSupport_No internet service  -  OnlineSecurity_No internet service  -  1.0\n",
      "TechSupport_No internet service  -  OnlineBackup_No internet service  -  1.0\n",
      "TechSupport_No internet service  -  DeviceProtection_No internet service  -  1.0\n",
      "TechSupport_No internet service  -  StreamingTV_No internet service  -  1.0\n",
      "TechSupport_No internet service  -  StreamingMovies_No internet service  -  1.0\n",
      "StreamingTV_No internet service  -  InternetService_No  -  1.0\n",
      "StreamingTV_No internet service  -  OnlineSecurity_No internet service  -  1.0\n",
      "StreamingTV_No internet service  -  OnlineBackup_No internet service  -  1.0\n",
      "StreamingTV_No internet service  -  DeviceProtection_No internet service  -  1.0\n",
      "StreamingTV_No internet service  -  TechSupport_No internet service  -  1.0\n",
      "StreamingTV_No internet service  -  StreamingMovies_No internet service  -  1.0\n",
      "StreamingMovies_No internet service  -  InternetService_No  -  1.0\n",
      "StreamingMovies_No internet service  -  OnlineSecurity_No internet service  -  1.0\n",
      "StreamingMovies_No internet service  -  OnlineBackup_No internet service  -  1.0\n",
      "StreamingMovies_No internet service  -  DeviceProtection_No internet service  -  1.0\n",
      "StreamingMovies_No internet service  -  TechSupport_No internet service  -  1.0\n",
      "StreamingMovies_No internet service  -  StreamingTV_No internet service  -  1.0\n"
     ]
    }
   ],
   "source": [
    "threshold = 0.99\n",
    "for rowIndex, row in corrmat.iterrows(): #iterate over rows\n",
    "    for columnIndex, value in row.items():\n",
    "        if rowIndex != columnIndex and value > threshold:\n",
    "            print(f\"{rowIndex}  -  {columnIndex}  -  {value}\")"
   ]
  },
  {
   "cell_type": "markdown",
   "id": "25c32518",
   "metadata": {},
   "source": [
    "We can see that we have 5 strongly correlated features that are directly connected with the InternetService_No"
   ]
  },
  {
   "cell_type": "markdown",
   "id": "6df6719f",
   "metadata": {},
   "source": [
    "### Feature extraction\n",
    "e.g. date -> week day, month, year, season."
   ]
  },
  {
   "cell_type": "markdown",
   "id": "dac071b4",
   "metadata": {},
   "source": [
    "We don't have dates in the dataset but the customerID has 2 parts that could potentially have a meaning and might be worth extracting. Let's check!</br>"
   ]
  },
  {
   "cell_type": "code",
   "execution_count": 40,
   "id": "4e08f6bb",
   "metadata": {},
   "outputs": [
    {
     "data": {
      "text/plain": [
       "0    7590-VHVEG\n",
       "1    5575-GNVDE\n",
       "Name: customerID, dtype: object"
      ]
     },
     "execution_count": 40,
     "metadata": {},
     "output_type": "execute_result"
    }
   ],
   "source": [
    "data_df['customerID'].head(2)"
   ]
  },
  {
   "cell_type": "markdown",
   "id": "6372fbfa",
   "metadata": {},
   "source": [
    "we create 2 new columns with each parts of the ID"
   ]
  },
  {
   "cell_type": "code",
   "execution_count": 41,
   "id": "e73f556c",
   "metadata": {},
   "outputs": [],
   "source": [
    "data_df['customerID-part1'] = data_df['customerID'].apply(lambda x: x.split('-')[0])\n",
    "data_df['customerID-part2'] = data_df['customerID'].apply(lambda x: x.split('-')[1])"
   ]
  },
  {
   "cell_type": "markdown",
   "id": "ec8b5249",
   "metadata": {},
   "source": [
    "We check the cardinality of each feature"
   ]
  },
  {
   "cell_type": "code",
   "execution_count": 42,
   "id": "45b2c259",
   "metadata": {},
   "outputs": [
    {
     "data": {
      "text/plain": [
       "customerID-part1    5082\n",
       "customerID-part2    7037\n",
       "dtype: int64"
      ]
     },
     "execution_count": 42,
     "metadata": {},
     "output_type": "execute_result"
    }
   ],
   "source": [
    "data_df[['customerID-part1', 'customerID-part2']].apply(pd.Series.nunique)"
   ]
  },
  {
   "cell_type": "markdown",
   "id": "014ca402",
   "metadata": {},
   "source": [
    "It was worth checking but the high cardinality doesn't suggest it will help the algorithm differentiate 2 records. so we'll ignore that and get rid of the customerID."
   ]
  },
  {
   "cell_type": "code",
   "execution_count": 43,
   "id": "e02dd8aa",
   "metadata": {},
   "outputs": [],
   "source": [
    "data_df = data_df.drop(['customerID', 'customerID-part1', 'customerID-part2'], axis=1)"
   ]
  },
  {
   "cell_type": "markdown",
   "id": "4d4b2f32",
   "metadata": {},
   "source": [
    "### Feature building/construction\n",
    "eg: Binning of age. helps with making some models more robust and less prone to overfitting but you loose some info -> tradeoff.</br>\n",
    "\n",
    "What can a human interprete from looking at the data that an algorithm wouldn't be able to see?"
   ]
  },
  {
   "cell_type": "code",
   "execution_count": 44,
   "id": "e79e44f2",
   "metadata": {},
   "outputs": [
    {
     "data": {
      "text/plain": [
       "Fiber optic    3093\n",
       "DSL            2421\n",
       "No             1526\n",
       "Name: InternetService, dtype: int64"
      ]
     },
     "execution_count": 44,
     "metadata": {},
     "output_type": "execute_result"
    }
   ],
   "source": [
    "data_df['InternetService'].value_counts()"
   ]
  },
  {
   "cell_type": "markdown",
   "id": "17f84b92",
   "metadata": {},
   "source": [
    "We, humans, know that Fiber is around 15 times faster than DSL (6 vs ~90Mbps) but the algorithm won't be able to infer that from that column.</br>\n",
    "Let's assign a number to those categories that represents the speed on a scale (0 for No, 10 for DSL, 150 for Fiber).</br>"
   ]
  },
  {
   "cell_type": "code",
   "execution_count": 45,
   "id": "de1b2635",
   "metadata": {},
   "outputs": [],
   "source": [
    "data_df['InternetSpeed'] = data_df['InternetService'].apply(lambda x: 0 if x == 'No' else 10 if x == 'DSL' else 150)"
   ]
  },
  {
   "cell_type": "markdown",
   "id": "4c664e73",
   "metadata": {},
   "source": [
    "# Encoding Categorical Features"
   ]
  },
  {
   "cell_type": "code",
   "execution_count": 46,
   "id": "bbcb6f48",
   "metadata": {},
   "outputs": [
    {
     "name": "stdout",
     "output_type": "stream",
     "text": [
      "(7040, 42)\n"
     ]
    }
   ],
   "source": [
    "encoded_data_df = one_hot_encoding(data_df)"
   ]
  },
  {
   "cell_type": "code",
   "execution_count": 47,
   "id": "f4e60d38",
   "metadata": {},
   "outputs": [],
   "source": [
    "cols_to_drop = ['OnlineSecurity_No internet service', 'OnlineBackup_No internet service', 'OnlineBackup_No internet service', \n",
    "               'DeviceProtection_No internet service', 'TechSupport_No internet service', 'StreamingTV_No internet service', 'StreamingMovies_No internet service']\n",
    "encoded_data_df = encoded_data_df.drop(cols_to_drop, axis=1)"
   ]
  },
  {
   "cell_type": "code",
   "execution_count": 48,
   "id": "00537e53",
   "metadata": {},
   "outputs": [
    {
     "data": {
      "text/html": [
       "<div>\n",
       "<style scoped>\n",
       "    .dataframe tbody tr th:only-of-type {\n",
       "        vertical-align: middle;\n",
       "    }\n",
       "\n",
       "    .dataframe tbody tr th {\n",
       "        vertical-align: top;\n",
       "    }\n",
       "\n",
       "    .dataframe thead th {\n",
       "        text-align: right;\n",
       "    }\n",
       "</style>\n",
       "<table border=\"1\" class=\"dataframe\">\n",
       "  <thead>\n",
       "    <tr style=\"text-align: right;\">\n",
       "      <th></th>\n",
       "      <th>gender</th>\n",
       "      <th>SeniorCitizen</th>\n",
       "      <th>Partner</th>\n",
       "      <th>Dependents</th>\n",
       "      <th>tenure</th>\n",
       "      <th>PhoneService</th>\n",
       "      <th>PaperlessBilling</th>\n",
       "      <th>MonthlyCharges</th>\n",
       "      <th>TotalCharges</th>\n",
       "      <th>Churn</th>\n",
       "      <th>InternetSpeed</th>\n",
       "      <th>MultipleLines_No</th>\n",
       "      <th>MultipleLines_No phone service</th>\n",
       "      <th>MultipleLines_Yes</th>\n",
       "      <th>InternetService_DSL</th>\n",
       "      <th>InternetService_Fiber optic</th>\n",
       "      <th>InternetService_No</th>\n",
       "      <th>OnlineSecurity_No</th>\n",
       "      <th>OnlineSecurity_Yes</th>\n",
       "      <th>OnlineBackup_No</th>\n",
       "      <th>OnlineBackup_Yes</th>\n",
       "      <th>DeviceProtection_No</th>\n",
       "      <th>DeviceProtection_Yes</th>\n",
       "      <th>TechSupport_No</th>\n",
       "      <th>TechSupport_Yes</th>\n",
       "      <th>StreamingTV_No</th>\n",
       "      <th>StreamingTV_Yes</th>\n",
       "      <th>StreamingMovies_No</th>\n",
       "      <th>StreamingMovies_Yes</th>\n",
       "      <th>Contract_Month-to-month</th>\n",
       "      <th>Contract_One year</th>\n",
       "      <th>Contract_Two year</th>\n",
       "      <th>PaymentMethod_Bank transfer (automatic)</th>\n",
       "      <th>PaymentMethod_Credit card (automatic)</th>\n",
       "      <th>PaymentMethod_Electronic check</th>\n",
       "      <th>PaymentMethod_Mailed check</th>\n",
       "    </tr>\n",
       "  </thead>\n",
       "  <tbody>\n",
       "    <tr>\n",
       "      <th>0</th>\n",
       "      <td>1</td>\n",
       "      <td>0</td>\n",
       "      <td>1</td>\n",
       "      <td>0</td>\n",
       "      <td>1.0</td>\n",
       "      <td>0</td>\n",
       "      <td>1</td>\n",
       "      <td>29.85</td>\n",
       "      <td>29.85</td>\n",
       "      <td>0</td>\n",
       "      <td>10</td>\n",
       "      <td>0</td>\n",
       "      <td>1</td>\n",
       "      <td>0</td>\n",
       "      <td>1</td>\n",
       "      <td>0</td>\n",
       "      <td>0</td>\n",
       "      <td>1</td>\n",
       "      <td>0</td>\n",
       "      <td>0</td>\n",
       "      <td>1</td>\n",
       "      <td>1</td>\n",
       "      <td>0</td>\n",
       "      <td>1</td>\n",
       "      <td>0</td>\n",
       "      <td>1</td>\n",
       "      <td>0</td>\n",
       "      <td>1</td>\n",
       "      <td>0</td>\n",
       "      <td>1</td>\n",
       "      <td>0</td>\n",
       "      <td>0</td>\n",
       "      <td>0</td>\n",
       "      <td>0</td>\n",
       "      <td>1</td>\n",
       "      <td>0</td>\n",
       "    </tr>\n",
       "    <tr>\n",
       "      <th>1</th>\n",
       "      <td>0</td>\n",
       "      <td>0</td>\n",
       "      <td>0</td>\n",
       "      <td>0</td>\n",
       "      <td>34.0</td>\n",
       "      <td>1</td>\n",
       "      <td>0</td>\n",
       "      <td>56.95</td>\n",
       "      <td>1889.50</td>\n",
       "      <td>0</td>\n",
       "      <td>10</td>\n",
       "      <td>1</td>\n",
       "      <td>0</td>\n",
       "      <td>0</td>\n",
       "      <td>1</td>\n",
       "      <td>0</td>\n",
       "      <td>0</td>\n",
       "      <td>0</td>\n",
       "      <td>1</td>\n",
       "      <td>1</td>\n",
       "      <td>0</td>\n",
       "      <td>0</td>\n",
       "      <td>1</td>\n",
       "      <td>1</td>\n",
       "      <td>0</td>\n",
       "      <td>1</td>\n",
       "      <td>0</td>\n",
       "      <td>1</td>\n",
       "      <td>0</td>\n",
       "      <td>0</td>\n",
       "      <td>1</td>\n",
       "      <td>0</td>\n",
       "      <td>0</td>\n",
       "      <td>0</td>\n",
       "      <td>0</td>\n",
       "      <td>1</td>\n",
       "    </tr>\n",
       "    <tr>\n",
       "      <th>2</th>\n",
       "      <td>0</td>\n",
       "      <td>0</td>\n",
       "      <td>0</td>\n",
       "      <td>0</td>\n",
       "      <td>2.0</td>\n",
       "      <td>1</td>\n",
       "      <td>1</td>\n",
       "      <td>53.85</td>\n",
       "      <td>108.15</td>\n",
       "      <td>1</td>\n",
       "      <td>10</td>\n",
       "      <td>1</td>\n",
       "      <td>0</td>\n",
       "      <td>0</td>\n",
       "      <td>1</td>\n",
       "      <td>0</td>\n",
       "      <td>0</td>\n",
       "      <td>0</td>\n",
       "      <td>1</td>\n",
       "      <td>0</td>\n",
       "      <td>1</td>\n",
       "      <td>1</td>\n",
       "      <td>0</td>\n",
       "      <td>1</td>\n",
       "      <td>0</td>\n",
       "      <td>1</td>\n",
       "      <td>0</td>\n",
       "      <td>1</td>\n",
       "      <td>0</td>\n",
       "      <td>1</td>\n",
       "      <td>0</td>\n",
       "      <td>0</td>\n",
       "      <td>0</td>\n",
       "      <td>0</td>\n",
       "      <td>0</td>\n",
       "      <td>1</td>\n",
       "    </tr>\n",
       "    <tr>\n",
       "      <th>3</th>\n",
       "      <td>0</td>\n",
       "      <td>0</td>\n",
       "      <td>0</td>\n",
       "      <td>0</td>\n",
       "      <td>45.0</td>\n",
       "      <td>0</td>\n",
       "      <td>0</td>\n",
       "      <td>42.30</td>\n",
       "      <td>1840.75</td>\n",
       "      <td>0</td>\n",
       "      <td>10</td>\n",
       "      <td>0</td>\n",
       "      <td>1</td>\n",
       "      <td>0</td>\n",
       "      <td>1</td>\n",
       "      <td>0</td>\n",
       "      <td>0</td>\n",
       "      <td>0</td>\n",
       "      <td>1</td>\n",
       "      <td>1</td>\n",
       "      <td>0</td>\n",
       "      <td>0</td>\n",
       "      <td>1</td>\n",
       "      <td>0</td>\n",
       "      <td>1</td>\n",
       "      <td>1</td>\n",
       "      <td>0</td>\n",
       "      <td>1</td>\n",
       "      <td>0</td>\n",
       "      <td>0</td>\n",
       "      <td>1</td>\n",
       "      <td>0</td>\n",
       "      <td>1</td>\n",
       "      <td>0</td>\n",
       "      <td>0</td>\n",
       "      <td>0</td>\n",
       "    </tr>\n",
       "    <tr>\n",
       "      <th>4</th>\n",
       "      <td>1</td>\n",
       "      <td>0</td>\n",
       "      <td>0</td>\n",
       "      <td>0</td>\n",
       "      <td>2.0</td>\n",
       "      <td>1</td>\n",
       "      <td>1</td>\n",
       "      <td>70.70</td>\n",
       "      <td>151.65</td>\n",
       "      <td>1</td>\n",
       "      <td>150</td>\n",
       "      <td>1</td>\n",
       "      <td>0</td>\n",
       "      <td>0</td>\n",
       "      <td>0</td>\n",
       "      <td>1</td>\n",
       "      <td>0</td>\n",
       "      <td>1</td>\n",
       "      <td>0</td>\n",
       "      <td>1</td>\n",
       "      <td>0</td>\n",
       "      <td>1</td>\n",
       "      <td>0</td>\n",
       "      <td>1</td>\n",
       "      <td>0</td>\n",
       "      <td>1</td>\n",
       "      <td>0</td>\n",
       "      <td>1</td>\n",
       "      <td>0</td>\n",
       "      <td>1</td>\n",
       "      <td>0</td>\n",
       "      <td>0</td>\n",
       "      <td>0</td>\n",
       "      <td>0</td>\n",
       "      <td>1</td>\n",
       "      <td>0</td>\n",
       "    </tr>\n",
       "  </tbody>\n",
       "</table>\n",
       "</div>"
      ],
      "text/plain": [
       "   gender  SeniorCitizen  Partner  Dependents  tenure  PhoneService  \\\n",
       "0       1              0        1           0     1.0             0   \n",
       "1       0              0        0           0    34.0             1   \n",
       "2       0              0        0           0     2.0             1   \n",
       "3       0              0        0           0    45.0             0   \n",
       "4       1              0        0           0     2.0             1   \n",
       "\n",
       "   PaperlessBilling  MonthlyCharges  TotalCharges  Churn  InternetSpeed  \\\n",
       "0                 1           29.85         29.85      0             10   \n",
       "1                 0           56.95       1889.50      0             10   \n",
       "2                 1           53.85        108.15      1             10   \n",
       "3                 0           42.30       1840.75      0             10   \n",
       "4                 1           70.70        151.65      1            150   \n",
       "\n",
       "   MultipleLines_No  MultipleLines_No phone service  MultipleLines_Yes  \\\n",
       "0                 0                               1                  0   \n",
       "1                 1                               0                  0   \n",
       "2                 1                               0                  0   \n",
       "3                 0                               1                  0   \n",
       "4                 1                               0                  0   \n",
       "\n",
       "   InternetService_DSL  InternetService_Fiber optic  InternetService_No  \\\n",
       "0                    1                            0                   0   \n",
       "1                    1                            0                   0   \n",
       "2                    1                            0                   0   \n",
       "3                    1                            0                   0   \n",
       "4                    0                            1                   0   \n",
       "\n",
       "   OnlineSecurity_No  OnlineSecurity_Yes  OnlineBackup_No  OnlineBackup_Yes  \\\n",
       "0                  1                   0                0                 1   \n",
       "1                  0                   1                1                 0   \n",
       "2                  0                   1                0                 1   \n",
       "3                  0                   1                1                 0   \n",
       "4                  1                   0                1                 0   \n",
       "\n",
       "   DeviceProtection_No  DeviceProtection_Yes  TechSupport_No  TechSupport_Yes  \\\n",
       "0                    1                     0               1                0   \n",
       "1                    0                     1               1                0   \n",
       "2                    1                     0               1                0   \n",
       "3                    0                     1               0                1   \n",
       "4                    1                     0               1                0   \n",
       "\n",
       "   StreamingTV_No  StreamingTV_Yes  StreamingMovies_No  StreamingMovies_Yes  \\\n",
       "0               1                0                   1                    0   \n",
       "1               1                0                   1                    0   \n",
       "2               1                0                   1                    0   \n",
       "3               1                0                   1                    0   \n",
       "4               1                0                   1                    0   \n",
       "\n",
       "   Contract_Month-to-month  Contract_One year  Contract_Two year  \\\n",
       "0                        1                  0                  0   \n",
       "1                        0                  1                  0   \n",
       "2                        1                  0                  0   \n",
       "3                        0                  1                  0   \n",
       "4                        1                  0                  0   \n",
       "\n",
       "   PaymentMethod_Bank transfer (automatic)  \\\n",
       "0                                        0   \n",
       "1                                        0   \n",
       "2                                        0   \n",
       "3                                        1   \n",
       "4                                        0   \n",
       "\n",
       "   PaymentMethod_Credit card (automatic)  PaymentMethod_Electronic check  \\\n",
       "0                                      0                               1   \n",
       "1                                      0                               0   \n",
       "2                                      0                               0   \n",
       "3                                      0                               0   \n",
       "4                                      0                               1   \n",
       "\n",
       "   PaymentMethod_Mailed check  \n",
       "0                           0  \n",
       "1                           1  \n",
       "2                           1  \n",
       "3                           0  \n",
       "4                           0  "
      ]
     },
     "execution_count": 48,
     "metadata": {},
     "output_type": "execute_result"
    }
   ],
   "source": [
    "encoded_data_df.head(5)"
   ]
  },
  {
   "cell_type": "markdown",
   "id": "93b52797",
   "metadata": {},
   "source": [
    "# Splitting Datasets into Training/Validation/Test"
   ]
  },
  {
   "cell_type": "markdown",
   "id": "2333384d",
   "metadata": {},
   "source": [
    "<img src='img/Screen Shot 2021-09-18 at 11.45.26 am.png' width=800 align='left'>"
   ]
  },
  {
   "cell_type": "markdown",
   "id": "58555114",
   "metadata": {},
   "source": [
    "we use a sklearn function for the split and do not forget shuffling your data before splitting to make sure your observations are evenly distributed across train and test."
   ]
  },
  {
   "cell_type": "code",
   "execution_count": 49,
   "id": "0f84d363",
   "metadata": {},
   "outputs": [],
   "source": [
    "from sklearn.model_selection import train_test_split\n",
    "train_df, test_df = train_test_split(encoded_data_df, test_size=0.2, shuffle=True)"
   ]
  },
  {
   "cell_type": "code",
   "execution_count": 50,
   "id": "e8ab925c",
   "metadata": {},
   "outputs": [
    {
     "name": "stdout",
     "output_type": "stream",
     "text": [
      "(5632, 36)\n",
      "(1408, 36)\n"
     ]
    }
   ],
   "source": [
    "print(train_df.shape)\n",
    "print(test_df.shape)"
   ]
  },
  {
   "cell_type": "markdown",
   "id": "f2cf2c60",
   "metadata": {},
   "source": [
    "We now separate our features from the target/label in preparation for training"
   ]
  },
  {
   "cell_type": "code",
   "execution_count": 51,
   "id": "b4823caf",
   "metadata": {},
   "outputs": [],
   "source": [
    "train_y = train_df['Churn'].copy()\n",
    "train_x = train_df.drop('Churn', axis=1)\n",
    "\n",
    "test_y = test_df['Churn'].copy()\n",
    "test_x = test_df.drop('Churn', axis=1)"
   ]
  },
  {
   "cell_type": "markdown",
   "id": "3406dfab",
   "metadata": {},
   "source": [
    "# Decision trees & XGBoost - (This will be covered in details during the Thursday Tabular ML session)"
   ]
  },
  {
   "cell_type": "markdown",
   "id": "4c22a6d2",
   "metadata": {},
   "source": [
    "<img src='img/Screen Shot 2021-09-19 at 5.54.23 pm.png' width=800 align='left'>"
   ]
  },
  {
   "cell_type": "markdown",
   "id": "2bba2668",
   "metadata": {},
   "source": [
    "# Training your model with XGBoost\n",
    "XGBoost documentation:</br>\n",
    "https://xgboost.readthedocs.io/en/latest/python/python_api.html"
   ]
  },
  {
   "cell_type": "code",
   "execution_count": 52,
   "id": "7f7eec9f",
   "metadata": {},
   "outputs": [
    {
     "name": "stdout",
     "output_type": "stream",
     "text": [
      "Looking in indexes: https://pypi.org/simple, https://pip.repos.neuron.amazonaws.com\n",
      "Requirement already satisfied: xgboost in /home/ec2-user/anaconda3/envs/python3/lib/python3.6/site-packages (1.4.2)\n",
      "Requirement already satisfied: scipy in /home/ec2-user/anaconda3/envs/python3/lib/python3.6/site-packages (from xgboost) (1.5.3)\n",
      "Requirement already satisfied: numpy in /home/ec2-user/anaconda3/envs/python3/lib/python3.6/site-packages (from xgboost) (1.19.5)\n",
      "\u001b[33mWARNING: You are using pip version 21.1.3; however, version 21.2.4 is available.\n",
      "You should consider upgrading via the '/home/ec2-user/anaconda3/envs/python3/bin/python -m pip install --upgrade pip' command.\u001b[0m\n"
     ]
    }
   ],
   "source": [
    "!pip install xgboost"
   ]
  },
  {
   "cell_type": "markdown",
   "id": "a9eca3b0",
   "metadata": {},
   "source": [
    "</br>\n",
    "The default objective for XGBoost is 'binary:logistic' which is for binary classification.</br>\n",
    "Note that you should use 'multi:softprob' when solving a multiclass problem."
   ]
  },
  {
   "cell_type": "code",
   "execution_count": null,
   "id": "199f3501",
   "metadata": {},
   "outputs": [],
   "source": []
  },
  {
   "cell_type": "code",
   "execution_count": 53,
   "id": "a1862463",
   "metadata": {},
   "outputs": [
    {
     "name": "stdout",
     "output_type": "stream",
     "text": [
      "[0]\tvalidation_0-aucpr:0.64182\n",
      "[1]\tvalidation_0-aucpr:0.65422\n",
      "[2]\tvalidation_0-aucpr:0.65781\n",
      "[3]\tvalidation_0-aucpr:0.65553\n",
      "[4]\tvalidation_0-aucpr:0.65667\n",
      "[5]\tvalidation_0-aucpr:0.65383\n",
      "[6]\tvalidation_0-aucpr:0.66594\n",
      "[7]\tvalidation_0-aucpr:0.67215\n",
      "[8]\tvalidation_0-aucpr:0.67252\n",
      "[9]\tvalidation_0-aucpr:0.67358\n",
      "[10]\tvalidation_0-aucpr:0.67356\n",
      "[11]\tvalidation_0-aucpr:0.67622\n",
      "[12]\tvalidation_0-aucpr:0.67747\n",
      "[13]\tvalidation_0-aucpr:0.67932\n",
      "[14]\tvalidation_0-aucpr:0.67944\n",
      "[15]\tvalidation_0-aucpr:0.67801\n",
      "[16]\tvalidation_0-aucpr:0.67498\n",
      "[17]\tvalidation_0-aucpr:0.67454\n",
      "[18]\tvalidation_0-aucpr:0.67815\n",
      "[19]\tvalidation_0-aucpr:0.67827\n",
      "[20]\tvalidation_0-aucpr:0.67851\n",
      "[21]\tvalidation_0-aucpr:0.67635\n",
      "[22]\tvalidation_0-aucpr:0.67444\n",
      "[23]\tvalidation_0-aucpr:0.67333\n",
      "[24]\tvalidation_0-aucpr:0.67268\n"
     ]
    }
   ],
   "source": [
    "import xgboost as xgb\n",
    "\n",
    "#scale_pos_weight is our way to put more weight on positive observations to help with unbalanced datasets. We basicall tell the algorithm to focus more on the observations that are positive.\n",
    "#sum(negative instances) / sum(positive instances)\n",
    "scale_pos_weight = encoded_data_df['Churn'].value_counts()[0]/encoded_data_df['Churn'].value_counts()[1]\n",
    "\n",
    "eval_set = [(test_x, test_y)]\n",
    "xgbClassifier = xgb.XGBClassifier(objective=\"binary:logistic\", \n",
    "                                  random_state=33, \n",
    "                                  n_estimators=50, \n",
    "                                  max_depth=4, \n",
    "                                  learning_rate=0.3, \n",
    "                                  min_child_weight=2, \n",
    "                                  scale_pos_weight=scale_pos_weight)\n",
    "fit_model = xgbClassifier.fit(train_x, train_y, eval_set=eval_set, eval_metric=\"aucpr\", verbose=True, early_stopping_rounds=10)"
   ]
  },
  {
   "cell_type": "markdown",
   "id": "070d3b7a",
   "metadata": {},
   "source": [
    "We generate predictions for the train dataset to see how it fitted the training data"
   ]
  },
  {
   "cell_type": "code",
   "execution_count": 54,
   "id": "ef9bc540",
   "metadata": {},
   "outputs": [],
   "source": [
    "pred_train_y = xgbClassifier.predict(train_x)"
   ]
  },
  {
   "cell_type": "markdown",
   "id": "663491a1",
   "metadata": {},
   "source": [
    "We generate predictions for the test dataset"
   ]
  },
  {
   "cell_type": "code",
   "execution_count": 55,
   "id": "71084e9e",
   "metadata": {},
   "outputs": [],
   "source": [
    "pred_test_y = xgbClassifier.predict(test_x)"
   ]
  },
  {
   "cell_type": "markdown",
   "id": "403750bc",
   "metadata": {},
   "source": [
    "# Model Evaluation"
   ]
  },
  {
   "cell_type": "markdown",
   "id": "bcde338c",
   "metadata": {},
   "source": [
    "You can use plot_important to understand which features are especially important.</br>\n",
    "By default, this method calculate \"importance\" based on the ”weight”. The weight is the number of times a feature appears in a tree."
   ]
  },
  {
   "cell_type": "code",
   "execution_count": 56,
   "id": "7c718c2e",
   "metadata": {},
   "outputs": [
    {
     "data": {
      "image/png": "[encoded data removed]",
      "text/plain": [
       "<Figure size 432x288 with 1 Axes>"
      ]
     },
     "metadata": {
      "needs_background": "light"
     },
     "output_type": "display_data"
    }
   ],
   "source": [
    "xgb.plot_importance(fit_model,max_num_features=20)\n",
    "plt.rcParams[\"figure.figsize\"] = (5,10)\n",
    "plt.show()"
   ]
  },
  {
   "cell_type": "code",
   "execution_count": 57,
   "id": "6d729ccb",
   "metadata": {},
   "outputs": [
    {
     "name": "stdout",
     "output_type": "stream",
     "text": [
      "Looking in indexes: https://pypi.org/simple, https://pip.repos.neuron.amazonaws.com\n",
      "Requirement already satisfied: graphviz in /home/ec2-user/anaconda3/envs/python3/lib/python3.6/site-packages (0.17)\n",
      "\u001b[33mWARNING: You are using pip version 21.1.3; however, version 21.2.4 is available.\n",
      "You should consider upgrading via the '/home/ec2-user/anaconda3/envs/python3/bin/python -m pip install --upgrade pip' command.\u001b[0m\n"
     ]
    }
   ],
   "source": [
    "!pip install graphviz"
   ]
  },
  {
   "cell_type": "code",
   "execution_count": 58,
   "id": "8ea5a910",
   "metadata": {},
   "outputs": [
    {
     "data": {
      "image/svg+xml": [
       "<?xml version=\"1.0\" encoding=\"UTF-8\" standalone=\"no\"?>\n",
       "<!DOCTYPE svg PUBLIC \"-//W3C//DTD SVG 1.1//EN\"\n",
       " \"http://www.w3.org/Graphics/SVG/1.1/DTD/svg11.dtd\">\n",
       "<!-- Generated by graphviz version 2.46.1 (20210222.2046)\n",
       " -->\n",
       "<!-- Pages: 1 -->\n",
       "<svg width=\"1838pt\" height=\"854pt\"\n",
       " viewBox=\"0.00 0.00 1837.78 854.00\" xmlns=\"http://www.w3.org/2000/svg\" xmlns:xlink=\"http://www.w3.org/1999/xlink\">\n",
       "<g id=\"graph0\" class=\"graph\" transform=\"scale(1 1) rotate(0) translate(4 850)\">\n",
       "<polygon fill=\"white\" stroke=\"transparent\" points=\"-4,4 -4,-850 1833.78,-850 1833.78,4 -4,4\"/>\n",
       "<!-- 0 -->\n",
       "<g id=\"node1\" class=\"node\">\n",
       "<title>0</title>\n",
       "<ellipse fill=\"none\" stroke=\"black\" cx=\"152.74\" cy=\"-458\" rx=\"152.97\" ry=\"18\"/>\n",
       "<text text-anchor=\"middle\" x=\"152.74\" y=\"-454.3\" font-family=\"Times-Roman\" font-size=\"14.00\">Contract_Month&#45;to&#45;month&lt;0.5</text>\n",
       "</g>\n",
       "<!-- 1 -->\n",
       "<g id=\"node2\" class=\"node\">\n",
       "<title>1</title>\n",
       "<ellipse fill=\"none\" stroke=\"black\" cx=\"527.31\" cy=\"-543\" rx=\"96.68\" ry=\"18\"/>\n",
       "<text text-anchor=\"middle\" x=\"527.31\" y=\"-539.3\" font-family=\"Times-Roman\" font-size=\"14.00\">InternetSpeed&lt;80</text>\n",
       "</g>\n",
       "<!-- 0&#45;&gt;1 -->\n",
       "<g id=\"edge1\" class=\"edge\">\n",
       "<title>0&#45;&gt;1</title>\n",
       "<path fill=\"none\" stroke=\"#0000ff\" d=\"M223.82,-473.99C290.08,-489.11 389.01,-511.68 455.51,-526.85\"/>\n",
       "<polygon fill=\"#0000ff\" stroke=\"#0000ff\" points=\"454.96,-530.31 465.49,-529.12 456.52,-523.49 454.96,-530.31\"/>\n",
       "<text text-anchor=\"middle\" x=\"367.97\" y=\"-518.8\" font-family=\"Times-Roman\" font-size=\"14.00\">yes, missing</text>\n",
       "</g>\n",
       "<!-- 2 -->\n",
       "<g id=\"node3\" class=\"node\">\n",
       "<title>2</title>\n",
       "<ellipse fill=\"none\" stroke=\"black\" cx=\"527.31\" cy=\"-323\" rx=\"96.68\" ry=\"18\"/>\n",
       "<text text-anchor=\"middle\" x=\"527.31\" y=\"-319.3\" font-family=\"Times-Roman\" font-size=\"14.00\">InternetSpeed&lt;80</text>\n",
       "</g>\n",
       "<!-- 0&#45;&gt;2 -->\n",
       "<g id=\"edge2\" class=\"edge\">\n",
       "<title>0&#45;&gt;2</title>\n",
       "<path fill=\"none\" stroke=\"#ff0000\" d=\"M200.92,-440.9C270.35,-415.74 399.68,-368.89 472.64,-342.45\"/>\n",
       "<polygon fill=\"#ff0000\" stroke=\"#ff0000\" points=\"473.91,-345.71 482.12,-339.01 471.52,-339.13 473.91,-345.71\"/>\n",
       "<text text-anchor=\"middle\" x=\"367.97\" y=\"-397.8\" font-family=\"Times-Roman\" font-size=\"14.00\">no</text>\n",
       "</g>\n",
       "<!-- 3 -->\n",
       "<g id=\"node4\" class=\"node\">\n",
       "<title>3</title>\n",
       "<ellipse fill=\"none\" stroke=\"black\" cx=\"869.4\" cy=\"-693\" rx=\"120.48\" ry=\"18\"/>\n",
       "<text text-anchor=\"middle\" x=\"869.4\" y=\"-689.3\" font-family=\"Times-Roman\" font-size=\"14.00\">Contract_One year&lt;0.5</text>\n",
       "</g>\n",
       "<!-- 1&#45;&gt;3 -->\n",
       "<g id=\"edge3\" class=\"edge\">\n",
       "<title>1&#45;&gt;3</title>\n",
       "<path fill=\"none\" stroke=\"#0000ff\" d=\"M566.01,-559.63C628.19,-587.05 752.18,-641.74 820.49,-671.87\"/>\n",
       "<polygon fill=\"#0000ff\" stroke=\"#0000ff\" points=\"819.19,-675.12 829.75,-675.95 822.01,-668.72 819.19,-675.12\"/>\n",
       "<text text-anchor=\"middle\" x=\"686.66\" y=\"-634.8\" font-family=\"Times-Roman\" font-size=\"14.00\">yes, missing</text>\n",
       "</g>\n",
       "<!-- 4 -->\n",
       "<g id=\"node5\" class=\"node\">\n",
       "<title>4</title>\n",
       "<ellipse fill=\"none\" stroke=\"black\" cx=\"869.4\" cy=\"-543\" rx=\"120.48\" ry=\"18\"/>\n",
       "<text text-anchor=\"middle\" x=\"869.4\" y=\"-539.3\" font-family=\"Times-Roman\" font-size=\"14.00\">Contract_One year&lt;0.5</text>\n",
       "</g>\n",
       "<!-- 1&#45;&gt;4 -->\n",
       "<g id=\"edge4\" class=\"edge\">\n",
       "<title>1&#45;&gt;4</title>\n",
       "<path fill=\"none\" stroke=\"#ff0000\" d=\"M624.4,-543C659.92,-543 700.79,-543 738.8,-543\"/>\n",
       "<polygon fill=\"#ff0000\" stroke=\"#ff0000\" points=\"738.91,-546.5 748.91,-543 738.91,-539.5 738.91,-546.5\"/>\n",
       "<text text-anchor=\"middle\" x=\"686.66\" y=\"-546.8\" font-family=\"Times-Roman\" font-size=\"14.00\">no</text>\n",
       "</g>\n",
       "<!-- 5 -->\n",
       "<g id=\"node18\" class=\"node\">\n",
       "<title>5</title>\n",
       "<ellipse fill=\"none\" stroke=\"black\" cx=\"869.4\" cy=\"-323\" rx=\"63.89\" ry=\"18\"/>\n",
       "<text text-anchor=\"middle\" x=\"869.4\" y=\"-319.3\" font-family=\"Times-Roman\" font-size=\"14.00\">tenure&lt;5.5</text>\n",
       "</g>\n",
       "<!-- 2&#45;&gt;5 -->\n",
       "<g id=\"edge17\" class=\"edge\">\n",
       "<title>2&#45;&gt;5</title>\n",
       "<path fill=\"none\" stroke=\"#0000ff\" d=\"M624.4,-323C678.7,-323 745.5,-323 795.47,-323\"/>\n",
       "<polygon fill=\"#0000ff\" stroke=\"#0000ff\" points=\"795.54,-326.5 805.54,-323 795.54,-319.5 795.54,-326.5\"/>\n",
       "<text text-anchor=\"middle\" x=\"686.66\" y=\"-326.8\" font-family=\"Times-Roman\" font-size=\"14.00\">yes, missing</text>\n",
       "</g>\n",
       "<!-- 6 -->\n",
       "<g id=\"node19\" class=\"node\">\n",
       "<title>6</title>\n",
       "<ellipse fill=\"none\" stroke=\"black\" cx=\"869.4\" cy=\"-163\" rx=\"69.59\" ry=\"18\"/>\n",
       "<text text-anchor=\"middle\" x=\"869.4\" y=\"-159.3\" font-family=\"Times-Roman\" font-size=\"14.00\">tenure&lt;15.5</text>\n",
       "</g>\n",
       "<!-- 2&#45;&gt;6 -->\n",
       "<g id=\"edge18\" class=\"edge\">\n",
       "<title>2&#45;&gt;6</title>\n",
       "<path fill=\"none\" stroke=\"#ff0000\" d=\"M564.07,-306.18C627.18,-276.49 758.06,-214.91 825.76,-183.06\"/>\n",
       "<polygon fill=\"#ff0000\" stroke=\"#ff0000\" points=\"827.33,-186.19 834.88,-178.77 824.35,-179.86 827.33,-186.19\"/>\n",
       "<text text-anchor=\"middle\" x=\"686.66\" y=\"-269.8\" font-family=\"Times-Roman\" font-size=\"14.00\">no</text>\n",
       "</g>\n",
       "<!-- 7 -->\n",
       "<g id=\"node6\" class=\"node\">\n",
       "<title>7</title>\n",
       "<ellipse fill=\"none\" stroke=\"black\" cx=\"1303.12\" cy=\"-774\" rx=\"94.48\" ry=\"18\"/>\n",
       "<text text-anchor=\"middle\" x=\"1303.12\" y=\"-770.3\" font-family=\"Times-Roman\" font-size=\"14.00\">SeniorCitizen&lt;0.5</text>\n",
       "</g>\n",
       "<!-- 3&#45;&gt;7 -->\n",
       "<g id=\"edge5\" class=\"edge\">\n",
       "<title>3&#45;&gt;7</title>\n",
       "<path fill=\"none\" stroke=\"#0000ff\" d=\"M945.1,-707.02C1023.44,-721.72 1145.96,-744.7 1225.14,-759.56\"/>\n",
       "<polygon fill=\"#0000ff\" stroke=\"#0000ff\" points=\"1224.58,-763.01 1235.06,-761.42 1225.87,-756.13 1224.58,-763.01\"/>\n",
       "<text text-anchor=\"middle\" x=\"1052.13\" y=\"-736.8\" font-family=\"Times-Roman\" font-size=\"14.00\">yes, missing</text>\n",
       "</g>\n",
       "<!-- 8 -->\n",
       "<g id=\"node7\" class=\"node\">\n",
       "<title>8</title>\n",
       "<ellipse fill=\"none\" stroke=\"black\" cx=\"1303.12\" cy=\"-693\" rx=\"133.78\" ry=\"18\"/>\n",
       "<text text-anchor=\"middle\" x=\"1303.12\" y=\"-689.3\" font-family=\"Times-Roman\" font-size=\"14.00\">StreamingMovies_Yes&lt;0.5</text>\n",
       "</g>\n",
       "<!-- 3&#45;&gt;8 -->\n",
       "<g id=\"edge6\" class=\"edge\">\n",
       "<title>3&#45;&gt;8</title>\n",
       "<path fill=\"none\" stroke=\"#ff0000\" d=\"M989.79,-693C1042.19,-693 1104.12,-693 1158.97,-693\"/>\n",
       "<polygon fill=\"#ff0000\" stroke=\"#ff0000\" points=\"1159.12,-696.5 1169.12,-693 1159.12,-689.5 1159.12,-696.5\"/>\n",
       "<text text-anchor=\"middle\" x=\"1052.13\" y=\"-696.8\" font-family=\"Times-Roman\" font-size=\"14.00\">no</text>\n",
       "</g>\n",
       "<!-- 9 -->\n",
       "<g id=\"node12\" class=\"node\">\n",
       "<title>9</title>\n",
       "<ellipse fill=\"none\" stroke=\"black\" cx=\"1303.12\" cy=\"-558\" rx=\"69.59\" ry=\"18\"/>\n",
       "<text text-anchor=\"middle\" x=\"1303.12\" y=\"-554.3\" font-family=\"Times-Roman\" font-size=\"14.00\">tenure&lt;71.5</text>\n",
       "</g>\n",
       "<!-- 4&#45;&gt;9 -->\n",
       "<g id=\"edge11\" class=\"edge\">\n",
       "<title>4&#45;&gt;9</title>\n",
       "<path fill=\"none\" stroke=\"#0000ff\" d=\"M986.66,-547.04C1061.81,-549.65 1157.58,-552.98 1223.78,-555.28\"/>\n",
       "<polygon fill=\"#0000ff\" stroke=\"#0000ff\" points=\"1224.03,-558.79 1234.15,-555.64 1224.28,-551.79 1224.03,-558.79\"/>\n",
       "<text text-anchor=\"middle\" x=\"1052.13\" y=\"-553.8\" font-family=\"Times-Roman\" font-size=\"14.00\">yes, missing</text>\n",
       "</g>\n",
       "<!-- 10 -->\n",
       "<g id=\"node13\" class=\"node\">\n",
       "<title>10</title>\n",
       "<ellipse fill=\"none\" stroke=\"black\" cx=\"1303.12\" cy=\"-504\" rx=\"131.08\" ry=\"18\"/>\n",
       "<text text-anchor=\"middle\" x=\"1303.12\" y=\"-500.3\" font-family=\"Times-Roman\" font-size=\"14.00\">StreamingMovies_No&lt;0.5</text>\n",
       "</g>\n",
       "<!-- 4&#45;&gt;10 -->\n",
       "<g id=\"edge12\" class=\"edge\">\n",
       "<title>4&#45;&gt;10</title>\n",
       "<path fill=\"none\" stroke=\"#ff0000\" d=\"M965.97,-532.21C979.94,-530.73 994.15,-529.29 1007.63,-528 1063.28,-522.69 1124.92,-517.55 1177.36,-513.4\"/>\n",
       "<polygon fill=\"#ff0000\" stroke=\"#ff0000\" points=\"1177.68,-516.89 1187.38,-512.61 1177.13,-509.91 1177.68,-516.89\"/>\n",
       "<text text-anchor=\"middle\" x=\"1052.13\" y=\"-531.8\" font-family=\"Times-Roman\" font-size=\"14.00\">no</text>\n",
       "</g>\n",
       "<!-- 15 -->\n",
       "<g id=\"node8\" class=\"node\">\n",
       "<title>15</title>\n",
       "<ellipse fill=\"none\" stroke=\"black\" cx=\"1723.19\" cy=\"-828\" rx=\"100.98\" ry=\"18\"/>\n",
       "<text text-anchor=\"middle\" x=\"1723.19\" y=\"-824.3\" font-family=\"Times-Roman\" font-size=\"14.00\">leaf=&#45;0.560557902</text>\n",
       "</g>\n",
       "<!-- 7&#45;&gt;15 -->\n",
       "<g id=\"edge7\" class=\"edge\">\n",
       "<title>7&#45;&gt;15</title>\n",
       "<path fill=\"none\" stroke=\"#0000ff\" d=\"M1381.77,-784.03C1452.25,-793.13 1556.24,-806.57 1630.72,-816.19\"/>\n",
       "<polygon fill=\"#0000ff\" stroke=\"#0000ff\" points=\"1630.66,-819.71 1641.03,-817.52 1631.56,-812.76 1630.66,-819.71\"/>\n",
       "<text text-anchor=\"middle\" x=\"1554.1\" y=\"-813.8\" font-family=\"Times-Roman\" font-size=\"14.00\">yes, missing</text>\n",
       "</g>\n",
       "<!-- 16 -->\n",
       "<g id=\"node9\" class=\"node\">\n",
       "<title>16</title>\n",
       "<ellipse fill=\"none\" stroke=\"black\" cx=\"1723.19\" cy=\"-774\" rx=\"100.98\" ry=\"18\"/>\n",
       "<text text-anchor=\"middle\" x=\"1723.19\" y=\"-770.3\" font-family=\"Times-Roman\" font-size=\"14.00\">leaf=&#45;0.376097798</text>\n",
       "</g>\n",
       "<!-- 7&#45;&gt;16 -->\n",
       "<g id=\"edge8\" class=\"edge\">\n",
       "<title>7&#45;&gt;16</title>\n",
       "<path fill=\"none\" stroke=\"#ff0000\" d=\"M1397.42,-774C1460.94,-774 1545.28,-774 1612.1,-774\"/>\n",
       "<polygon fill=\"#ff0000\" stroke=\"#ff0000\" points=\"1612.24,-777.5 1622.24,-774 1612.24,-770.5 1612.24,-777.5\"/>\n",
       "<text text-anchor=\"middle\" x=\"1554.1\" y=\"-777.8\" font-family=\"Times-Roman\" font-size=\"14.00\">no</text>\n",
       "</g>\n",
       "<!-- 17 -->\n",
       "<g id=\"node10\" class=\"node\">\n",
       "<title>17</title>\n",
       "<ellipse fill=\"none\" stroke=\"black\" cx=\"1723.19\" cy=\"-720\" rx=\"100.98\" ry=\"18\"/>\n",
       "<text text-anchor=\"middle\" x=\"1723.19\" y=\"-716.3\" font-family=\"Times-Roman\" font-size=\"14.00\">leaf=&#45;0.470264584</text>\n",
       "</g>\n",
       "<!-- 8&#45;&gt;17 -->\n",
       "<g id=\"edge9\" class=\"edge\">\n",
       "<title>8&#45;&gt;17</title>\n",
       "<path fill=\"none\" stroke=\"#0000ff\" d=\"M1424.2,-700.76C1485.44,-704.71 1559.19,-709.47 1618,-713.27\"/>\n",
       "<polygon fill=\"#0000ff\" stroke=\"#0000ff\" points=\"1617.85,-716.77 1628.05,-713.92 1618.3,-709.78 1617.85,-716.77\"/>\n",
       "<text text-anchor=\"middle\" x=\"1554.1\" y=\"-714.8\" font-family=\"Times-Roman\" font-size=\"14.00\">yes, missing</text>\n",
       "</g>\n",
       "<!-- 18 -->\n",
       "<g id=\"node11\" class=\"node\">\n",
       "<title>18</title>\n",
       "<ellipse fill=\"none\" stroke=\"black\" cx=\"1723.19\" cy=\"-666\" rx=\"100.98\" ry=\"18\"/>\n",
       "<text text-anchor=\"middle\" x=\"1723.19\" y=\"-662.3\" font-family=\"Times-Roman\" font-size=\"14.00\">leaf=&#45;0.206479207</text>\n",
       "</g>\n",
       "<!-- 8&#45;&gt;18 -->\n",
       "<g id=\"edge10\" class=\"edge\">\n",
       "<title>8&#45;&gt;18</title>\n",
       "<path fill=\"none\" stroke=\"#ff0000\" d=\"M1424.2,-685.24C1485.44,-681.29 1559.19,-676.53 1618,-672.73\"/>\n",
       "<polygon fill=\"#ff0000\" stroke=\"#ff0000\" points=\"1618.3,-676.22 1628.05,-672.08 1617.85,-669.23 1618.3,-676.22\"/>\n",
       "<text text-anchor=\"middle\" x=\"1554.1\" y=\"-682.8\" font-family=\"Times-Roman\" font-size=\"14.00\">no</text>\n",
       "</g>\n",
       "<!-- 19 -->\n",
       "<g id=\"node14\" class=\"node\">\n",
       "<title>19</title>\n",
       "<ellipse fill=\"none\" stroke=\"black\" cx=\"1723.19\" cy=\"-612\" rx=\"94.78\" ry=\"18\"/>\n",
       "<text text-anchor=\"middle\" x=\"1723.19\" y=\"-608.3\" font-family=\"Times-Roman\" font-size=\"14.00\">leaf=&#45;0.31305936</text>\n",
       "</g>\n",
       "<!-- 9&#45;&gt;19 -->\n",
       "<g id=\"edge13\" class=\"edge\">\n",
       "<title>9&#45;&gt;19</title>\n",
       "<path fill=\"none\" stroke=\"#0000ff\" d=\"M1365.81,-565.97C1436.71,-575.13 1553.62,-590.23 1634.09,-600.62\"/>\n",
       "<polygon fill=\"#0000ff\" stroke=\"#0000ff\" points=\"1633.84,-604.12 1644.21,-601.93 1634.74,-597.18 1633.84,-604.12\"/>\n",
       "<text text-anchor=\"middle\" x=\"1554.1\" y=\"-597.8\" font-family=\"Times-Roman\" font-size=\"14.00\">yes, missing</text>\n",
       "</g>\n",
       "<!-- 20 -->\n",
       "<g id=\"node15\" class=\"node\">\n",
       "<title>20</title>\n",
       "<ellipse fill=\"none\" stroke=\"black\" cx=\"1723.19\" cy=\"-558\" rx=\"100.98\" ry=\"18\"/>\n",
       "<text text-anchor=\"middle\" x=\"1723.19\" y=\"-554.3\" font-family=\"Times-Roman\" font-size=\"14.00\">leaf=&#45;0.552220583</text>\n",
       "</g>\n",
       "<!-- 9&#45;&gt;20 -->\n",
       "<g id=\"edge14\" class=\"edge\">\n",
       "<title>9&#45;&gt;20</title>\n",
       "<path fill=\"none\" stroke=\"#ff0000\" d=\"M1372.69,-558C1437.64,-558 1536.28,-558 1612.23,-558\"/>\n",
       "<polygon fill=\"#ff0000\" stroke=\"#ff0000\" points=\"1612.31,-561.5 1622.31,-558 1612.31,-554.5 1612.31,-561.5\"/>\n",
       "<text text-anchor=\"middle\" x=\"1554.1\" y=\"-561.8\" font-family=\"Times-Roman\" font-size=\"14.00\">no</text>\n",
       "</g>\n",
       "<!-- 21 -->\n",
       "<g id=\"node16\" class=\"node\">\n",
       "<title>21</title>\n",
       "<ellipse fill=\"none\" stroke=\"black\" cx=\"1723.19\" cy=\"-504\" rx=\"106.68\" ry=\"18\"/>\n",
       "<text text-anchor=\"middle\" x=\"1723.19\" y=\"-500.3\" font-family=\"Times-Roman\" font-size=\"14.00\">leaf=&#45;0.0481539741</text>\n",
       "</g>\n",
       "<!-- 10&#45;&gt;21 -->\n",
       "<g id=\"edge15\" class=\"edge\">\n",
       "<title>10&#45;&gt;21</title>\n",
       "<path fill=\"none\" stroke=\"#0000ff\" d=\"M1434.68,-504C1489.6,-504 1552.97,-504 1606.22,-504\"/>\n",
       "<polygon fill=\"#0000ff\" stroke=\"#0000ff\" points=\"1606.39,-507.5 1616.39,-504 1606.39,-500.5 1606.39,-507.5\"/>\n",
       "<text text-anchor=\"middle\" x=\"1554.1\" y=\"-507.8\" font-family=\"Times-Roman\" font-size=\"14.00\">yes, missing</text>\n",
       "</g>\n",
       "<!-- 22 -->\n",
       "<g id=\"node17\" class=\"node\">\n",
       "<title>22</title>\n",
       "<ellipse fill=\"none\" stroke=\"black\" cx=\"1723.19\" cy=\"-450\" rx=\"100.98\" ry=\"18\"/>\n",
       "<text text-anchor=\"middle\" x=\"1723.19\" y=\"-446.3\" font-family=\"Times-Roman\" font-size=\"14.00\">leaf=&#45;0.335049897</text>\n",
       "</g>\n",
       "<!-- 10&#45;&gt;22 -->\n",
       "<g id=\"edge16\" class=\"edge\">\n",
       "<title>10&#45;&gt;22</title>\n",
       "<path fill=\"none\" stroke=\"#ff0000\" d=\"M1399.25,-491.71C1468.83,-482.72 1562.67,-470.6 1631.25,-461.75\"/>\n",
       "<polygon fill=\"#ff0000\" stroke=\"#ff0000\" points=\"1631.72,-465.22 1641.18,-460.46 1630.82,-458.27 1631.72,-465.22\"/>\n",
       "<text text-anchor=\"middle\" x=\"1554.1\" y=\"-480.8\" font-family=\"Times-Roman\" font-size=\"14.00\">no</text>\n",
       "</g>\n",
       "<!-- 11 -->\n",
       "<g id=\"node20\" class=\"node\">\n",
       "<title>11</title>\n",
       "<ellipse fill=\"none\" stroke=\"black\" cx=\"1303.12\" cy=\"-342\" rx=\"108.58\" ry=\"18\"/>\n",
       "<text text-anchor=\"middle\" x=\"1303.12\" y=\"-338.3\" font-family=\"Times-Roman\" font-size=\"14.00\">TechSupport_No&lt;0.5</text>\n",
       "</g>\n",
       "<!-- 5&#45;&gt;11 -->\n",
       "<g id=\"edge19\" class=\"edge\">\n",
       "<title>5&#45;&gt;11</title>\n",
       "<path fill=\"none\" stroke=\"#0000ff\" d=\"M932.71,-325.74C999.22,-328.67 1106.05,-333.37 1187.75,-336.97\"/>\n",
       "<polygon fill=\"#0000ff\" stroke=\"#0000ff\" points=\"1187.95,-340.48 1198.09,-337.42 1188.26,-333.49 1187.95,-340.48\"/>\n",
       "<text text-anchor=\"middle\" x=\"1052.13\" y=\"-335.8\" font-family=\"Times-Roman\" font-size=\"14.00\">yes, missing</text>\n",
       "</g>\n",
       "<!-- 12 -->\n",
       "<g id=\"node21\" class=\"node\">\n",
       "<title>12</title>\n",
       "<ellipse fill=\"none\" stroke=\"black\" cx=\"1303.12\" cy=\"-288\" rx=\"96.38\" ry=\"18\"/>\n",
       "<text text-anchor=\"middle\" x=\"1303.12\" y=\"-284.3\" font-family=\"Times-Roman\" font-size=\"14.00\">PhoneService&lt;0.5</text>\n",
       "</g>\n",
       "<!-- 5&#45;&gt;12 -->\n",
       "<g id=\"edge20\" class=\"edge\">\n",
       "<title>5&#45;&gt;12</title>\n",
       "<path fill=\"none\" stroke=\"#ff0000\" d=\"M929.82,-317.11C953.96,-314.79 982.12,-312.16 1007.63,-310 1072.45,-304.51 1145.36,-299.06 1202.41,-294.95\"/>\n",
       "<polygon fill=\"#ff0000\" stroke=\"#ff0000\" points=\"1202.79,-298.44 1212.51,-294.23 1202.29,-291.45 1202.79,-298.44\"/>\n",
       "<text text-anchor=\"middle\" x=\"1052.13\" y=\"-313.8\" font-family=\"Times-Roman\" font-size=\"14.00\">no</text>\n",
       "</g>\n",
       "<!-- 13 -->\n",
       "<g id=\"node26\" class=\"node\">\n",
       "<title>13</title>\n",
       "<ellipse fill=\"none\" stroke=\"black\" cx=\"1303.12\" cy=\"-163\" rx=\"96.68\" ry=\"18\"/>\n",
       "<text text-anchor=\"middle\" x=\"1303.12\" y=\"-159.3\" font-family=\"Times-Roman\" font-size=\"14.00\">TotalCharges&lt;120</text>\n",
       "</g>\n",
       "<!-- 6&#45;&gt;13 -->\n",
       "<g id=\"edge25\" class=\"edge\">\n",
       "<title>6&#45;&gt;13</title>\n",
       "<path fill=\"none\" stroke=\"#0000ff\" d=\"M939.28,-163C1008.45,-163 1115.98,-163 1196.04,-163\"/>\n",
       "<polygon fill=\"#0000ff\" stroke=\"#0000ff\" points=\"1196.16,-166.5 1206.16,-163 1196.16,-159.5 1196.16,-166.5\"/>\n",
       "<text text-anchor=\"middle\" x=\"1052.13\" y=\"-166.8\" font-family=\"Times-Roman\" font-size=\"14.00\">yes, missing</text>\n",
       "</g>\n",
       "<!-- 14 -->\n",
       "<g id=\"node27\" class=\"node\">\n",
       "<title>14</title>\n",
       "<ellipse fill=\"none\" stroke=\"black\" cx=\"1303.12\" cy=\"-72\" rx=\"188.47\" ry=\"18\"/>\n",
       "<text text-anchor=\"middle\" x=\"1303.12\" y=\"-68.3\" font-family=\"Times-Roman\" font-size=\"14.00\">PaymentMethod_Electronic check&lt;0.5</text>\n",
       "</g>\n",
       "<!-- 6&#45;&gt;14 -->\n",
       "<g id=\"edge26\" class=\"edge\">\n",
       "<title>6&#45;&gt;14</title>\n",
       "<path fill=\"none\" stroke=\"#ff0000\" d=\"M923.77,-151.75C996.43,-136.43 1127.4,-108.83 1214.56,-90.46\"/>\n",
       "<polygon fill=\"#ff0000\" stroke=\"#ff0000\" points=\"1215.37,-93.86 1224.44,-88.37 1213.93,-87.01 1215.37,-93.86\"/>\n",
       "<text text-anchor=\"middle\" x=\"1052.13\" y=\"-136.8\" font-family=\"Times-Roman\" font-size=\"14.00\">no</text>\n",
       "</g>\n",
       "<!-- 23 -->\n",
       "<g id=\"node22\" class=\"node\">\n",
       "<title>23</title>\n",
       "<ellipse fill=\"none\" stroke=\"black\" cx=\"1723.19\" cy=\"-396\" rx=\"103.18\" ry=\"18\"/>\n",
       "<text text-anchor=\"middle\" x=\"1723.19\" y=\"-392.3\" font-family=\"Times-Roman\" font-size=\"14.00\">leaf=0.0438111462</text>\n",
       "</g>\n",
       "<!-- 11&#45;&gt;23 -->\n",
       "<g id=\"edge21\" class=\"edge\">\n",
       "<title>11&#45;&gt;23</title>\n",
       "<path fill=\"none\" stroke=\"#0000ff\" d=\"M1389.23,-352.99C1459.11,-362.02 1557.93,-374.78 1629.75,-384.06\"/>\n",
       "<polygon fill=\"#0000ff\" stroke=\"#0000ff\" points=\"1629.33,-387.53 1639.7,-385.34 1630.23,-380.59 1629.33,-387.53\"/>\n",
       "<text text-anchor=\"middle\" x=\"1554.1\" y=\"-381.8\" font-family=\"Times-Roman\" font-size=\"14.00\">yes, missing</text>\n",
       "</g>\n",
       "<!-- 24 -->\n",
       "<g id=\"node23\" class=\"node\">\n",
       "<title>24</title>\n",
       "<ellipse fill=\"none\" stroke=\"black\" cx=\"1723.19\" cy=\"-342\" rx=\"97.48\" ry=\"18\"/>\n",
       "<text text-anchor=\"middle\" x=\"1723.19\" y=\"-338.3\" font-family=\"Times-Roman\" font-size=\"14.00\">leaf=0.321246296</text>\n",
       "</g>\n",
       "<!-- 11&#45;&gt;24 -->\n",
       "<g id=\"edge22\" class=\"edge\">\n",
       "<title>11&#45;&gt;24</title>\n",
       "<path fill=\"none\" stroke=\"#ff0000\" d=\"M1411.78,-342C1474.35,-342 1552.9,-342 1615.33,-342\"/>\n",
       "<polygon fill=\"#ff0000\" stroke=\"#ff0000\" points=\"1615.6,-345.5 1625.6,-342 1615.6,-338.5 1615.6,-345.5\"/>\n",
       "<text text-anchor=\"middle\" x=\"1554.1\" y=\"-345.8\" font-family=\"Times-Roman\" font-size=\"14.00\">no</text>\n",
       "</g>\n",
       "<!-- 25 -->\n",
       "<g id=\"node24\" class=\"node\">\n",
       "<title>25</title>\n",
       "<ellipse fill=\"none\" stroke=\"black\" cx=\"1723.19\" cy=\"-288\" rx=\"103.18\" ry=\"18\"/>\n",
       "<text text-anchor=\"middle\" x=\"1723.19\" y=\"-284.3\" font-family=\"Times-Roman\" font-size=\"14.00\">leaf=0.0584468469</text>\n",
       "</g>\n",
       "<!-- 12&#45;&gt;25 -->\n",
       "<g id=\"edge23\" class=\"edge\">\n",
       "<title>12&#45;&gt;25</title>\n",
       "<path fill=\"none\" stroke=\"#0000ff\" d=\"M1399.51,-288C1461.84,-288 1543.55,-288 1609.15,-288\"/>\n",
       "<polygon fill=\"#0000ff\" stroke=\"#0000ff\" points=\"1609.54,-291.5 1619.54,-288 1609.54,-284.5 1609.54,-291.5\"/>\n",
       "<text text-anchor=\"middle\" x=\"1554.1\" y=\"-291.8\" font-family=\"Times-Roman\" font-size=\"14.00\">yes, missing</text>\n",
       "</g>\n",
       "<!-- 26 -->\n",
       "<g id=\"node25\" class=\"node\">\n",
       "<title>26</title>\n",
       "<ellipse fill=\"none\" stroke=\"black\" cx=\"1723.19\" cy=\"-234\" rx=\"100.98\" ry=\"18\"/>\n",
       "<text text-anchor=\"middle\" x=\"1723.19\" y=\"-230.3\" font-family=\"Times-Roman\" font-size=\"14.00\">leaf=&#45;0.224317819</text>\n",
       "</g>\n",
       "<!-- 12&#45;&gt;26 -->\n",
       "<g id=\"edge24\" class=\"edge\">\n",
       "<title>12&#45;&gt;26</title>\n",
       "<path fill=\"none\" stroke=\"#ff0000\" d=\"M1382.75,-277.84C1453.24,-268.74 1556.65,-255.38 1630.8,-245.81\"/>\n",
       "<polygon fill=\"#ff0000\" stroke=\"#ff0000\" points=\"1631.59,-249.23 1641.06,-244.48 1630.69,-242.29 1631.59,-249.23\"/>\n",
       "<text text-anchor=\"middle\" x=\"1554.1\" y=\"-264.8\" font-family=\"Times-Roman\" font-size=\"14.00\">no</text>\n",
       "</g>\n",
       "<!-- 27 -->\n",
       "<g id=\"node28\" class=\"node\">\n",
       "<title>27</title>\n",
       "<ellipse fill=\"none\" stroke=\"black\" cx=\"1723.19\" cy=\"-180\" rx=\"97.48\" ry=\"18\"/>\n",
       "<text text-anchor=\"middle\" x=\"1723.19\" y=\"-176.3\" font-family=\"Times-Roman\" font-size=\"14.00\">leaf=0.528545499</text>\n",
       "</g>\n",
       "<!-- 13&#45;&gt;27 -->\n",
       "<g id=\"edge27\" class=\"edge\">\n",
       "<title>13&#45;&gt;27</title>\n",
       "<path fill=\"none\" stroke=\"#ff0000\" d=\"M1397.94,-166.82C1463.09,-169.46 1549.95,-173 1617.37,-175.74\"/>\n",
       "<polygon fill=\"#ff0000\" stroke=\"#ff0000\" points=\"1617.46,-179.24 1627.6,-176.15 1617.75,-172.25 1617.46,-179.24\"/>\n",
       "<text text-anchor=\"middle\" x=\"1554.1\" y=\"-177.8\" font-family=\"Times-Roman\" font-size=\"14.00\">yes</text>\n",
       "</g>\n",
       "<!-- 28 -->\n",
       "<g id=\"node29\" class=\"node\">\n",
       "<title>28</title>\n",
       "<ellipse fill=\"none\" stroke=\"black\" cx=\"1723.19\" cy=\"-126\" rx=\"91.78\" ry=\"18\"/>\n",
       "<text text-anchor=\"middle\" x=\"1723.19\" y=\"-122.3\" font-family=\"Times-Roman\" font-size=\"14.00\">leaf=0.39967224</text>\n",
       "</g>\n",
       "<!-- 13&#45;&gt;28 -->\n",
       "<g id=\"edge28\" class=\"edge\">\n",
       "<title>13&#45;&gt;28</title>\n",
       "<path fill=\"none\" stroke=\"#0000ff\" d=\"M1390.74,-155.33C1460.27,-149.18 1557.7,-140.56 1628.93,-134.25\"/>\n",
       "<polygon fill=\"#0000ff\" stroke=\"#0000ff\" points=\"1629.59,-137.71 1639.24,-133.34 1628.97,-130.74 1629.59,-137.71\"/>\n",
       "<text text-anchor=\"middle\" x=\"1554.1\" y=\"-147.8\" font-family=\"Times-Roman\" font-size=\"14.00\">no, missing</text>\n",
       "</g>\n",
       "<!-- 29 -->\n",
       "<g id=\"node30\" class=\"node\">\n",
       "<title>29</title>\n",
       "<ellipse fill=\"none\" stroke=\"black\" cx=\"1723.19\" cy=\"-72\" rx=\"103.18\" ry=\"18\"/>\n",
       "<text text-anchor=\"middle\" x=\"1723.19\" y=\"-68.3\" font-family=\"Times-Roman\" font-size=\"14.00\">leaf=0.0824308097</text>\n",
       "</g>\n",
       "<!-- 14&#45;&gt;29 -->\n",
       "<g id=\"edge29\" class=\"edge\">\n",
       "<title>14&#45;&gt;29</title>\n",
       "<path fill=\"none\" stroke=\"#0000ff\" d=\"M1491.75,-72C1531.93,-72 1573.18,-72 1609.47,-72\"/>\n",
       "<polygon fill=\"#0000ff\" stroke=\"#0000ff\" points=\"1609.57,-75.5 1619.57,-72 1609.57,-68.5 1609.57,-75.5\"/>\n",
       "<text text-anchor=\"middle\" x=\"1554.1\" y=\"-75.8\" font-family=\"Times-Roman\" font-size=\"14.00\">yes, missing</text>\n",
       "</g>\n",
       "<!-- 30 -->\n",
       "<g id=\"node31\" class=\"node\">\n",
       "<title>30</title>\n",
       "<ellipse fill=\"none\" stroke=\"black\" cx=\"1723.19\" cy=\"-18\" rx=\"97.48\" ry=\"18\"/>\n",
       "<text text-anchor=\"middle\" x=\"1723.19\" y=\"-14.3\" font-family=\"Times-Roman\" font-size=\"14.00\">leaf=0.269102812</text>\n",
       "</g>\n",
       "<!-- 14&#45;&gt;30 -->\n",
       "<g id=\"edge30\" class=\"edge\">\n",
       "<title>14&#45;&gt;30</title>\n",
       "<path fill=\"none\" stroke=\"#ff0000\" d=\"M1415.88,-57.56C1483.84,-48.79 1569.46,-37.73 1632.88,-29.54\"/>\n",
       "<polygon fill=\"#ff0000\" stroke=\"#ff0000\" points=\"1633.4,-33 1642.87,-28.25 1632.5,-26.06 1633.4,-33\"/>\n",
       "<text text-anchor=\"middle\" x=\"1554.1\" y=\"-48.8\" font-family=\"Times-Roman\" font-size=\"14.00\">no</text>\n",
       "</g>\n",
       "</g>\n",
       "</svg>\n"
      ],
      "text/plain": [
       "<graphviz.files.Source at 0x7fb5dd384860>"
      ]
     },
     "execution_count": 58,
     "metadata": {},
     "output_type": "execute_result"
    }
   ],
   "source": [
    "from xgboost import plot_tree\n",
    "#plot_tree(fit_model, num_trees=1, rankdir='LR')\n",
    "xgb.to_graphviz(fit_model, num_trees=0, rankdir='LR')"
   ]
  },
  {
   "cell_type": "markdown",
   "id": "1b3526dd",
   "metadata": {},
   "source": [
    "Note that the final probability prediction is obtained by taking sum of leaf values (raw scores) in all the trees and then transforming it between 0 and 1 using a sigmoid function. The leaf value (raw score) can be negative, the value 0 actually represents probability being 1/2."
   ]
  },
  {
   "cell_type": "markdown",
   "id": "def75838",
   "metadata": {},
   "source": [
    "### Confusion matrix"
   ]
  },
  {
   "cell_type": "markdown",
   "id": "2d49b0a2",
   "metadata": {},
   "source": [
    "<img src='img/Screen Shot 2021-09-18 at 12.23.15 pm.png' width=800 align='left'>"
   ]
  },
  {
   "cell_type": "markdown",
   "id": "0617f69a",
   "metadata": {},
   "source": [
    "<img src='img/Screen Shot 2021-09-19 at 6.02.52 pm.png' width=800 align='left'>"
   ]
  },
  {
   "cell_type": "markdown",
   "id": "e8221600",
   "metadata": {},
   "source": [
    "<img src='img/Screen Shot 2021-09-19 at 6.03.14 pm.png' width=800 align='left'>"
   ]
  },
  {
   "cell_type": "markdown",
   "id": "ee235b83",
   "metadata": {},
   "source": [
    "<img src='img/Screen Shot 2021-09-19 at 6.03.21 pm.png' width=800 align='left'>"
   ]
  },
  {
   "cell_type": "markdown",
   "id": "bdb481a8",
   "metadata": {},
   "source": [
    "<img src='img/Screen Shot 2021-09-19 at 6.03.27 pm.png' width=800 align='left'>"
   ]
  },
  {
   "cell_type": "markdown",
   "id": "fb09816a",
   "metadata": {},
   "source": [
    "<img src='img/Screen Shot 2021-09-19 at 6.08.02 pm.png' width=800 align='left'>"
   ]
  },
  {
   "cell_type": "code",
   "execution_count": 59,
   "id": "aaf6b8bc",
   "metadata": {},
   "outputs": [],
   "source": [
    "from sklearn.metrics import confusion_matrix\n",
    "from sklearn.metrics import accuracy_score\n",
    "from sklearn.metrics import precision_score\n",
    "from sklearn.metrics import recall_score\n",
    "from sklearn.metrics import f1_score\n",
    "from sklearn.metrics import roc_auc_score"
   ]
  },
  {
   "cell_type": "code",
   "execution_count": 60,
   "id": "8f6ba6fb",
   "metadata": {},
   "outputs": [],
   "source": [
    "def print_confusion_matrix(test_y, pred_y):\n",
    "    tn, fp, fn, tp = confusion_matrix(test_y, pred_y).ravel()\n",
    "    print(f'{tp} | {fn}')\n",
    "    print(f'_________')\n",
    "    print(f'{fp} | {tn}')\n",
    "    \n",
    "def print_main_eval_metrics(test_y, pred_y):\n",
    "    accuracy = accuracy_score(test_y, pred_y)\n",
    "    precision = precision_score(test_y, pred_y)\n",
    "    recall = recall_score(test_y, pred_y)\n",
    "    f1 = f1_score(test_y, pred_y)\n",
    "    roc_auc = roc_auc_score(test_y, pred_y)\n",
    "    print(f' accuracy:{accuracy}, \\n precision:{precision} \\n recall:{recall} \\n f1:{f1} \\n roc_auc:{roc_auc}')"
   ]
  },
  {
   "cell_type": "markdown",
   "id": "b88f30c9",
   "metadata": {},
   "source": [
    "Confusion matrix for the test dataset"
   ]
  },
  {
   "cell_type": "code",
   "execution_count": 61,
   "id": "5bfa6b2c",
   "metadata": {},
   "outputs": [
    {
     "name": "stdout",
     "output_type": "stream",
     "text": [
      "299 | 76\n",
      "_________\n",
      "285 | 748\n"
     ]
    }
   ],
   "source": [
    "print_confusion_matrix(test_y, pred_test_y)"
   ]
  },
  {
   "cell_type": "markdown",
   "id": "9087b223",
   "metadata": {},
   "source": [
    "Main metrics for the test dataset"
   ]
  },
  {
   "cell_type": "code",
   "execution_count": 62,
   "id": "527eb88c",
   "metadata": {},
   "outputs": [
    {
     "name": "stdout",
     "output_type": "stream",
     "text": [
      " accuracy:0.7436079545454546, \n",
      " precision:0.511986301369863 \n",
      " recall:0.7973333333333333 \n",
      " f1:0.6235662148070907 \n",
      " roc_auc:0.7607189415940626\n"
     ]
    }
   ],
   "source": [
    "print_main_eval_metrics(test_y, pred_test_y)"
   ]
  },
  {
   "cell_type": "markdown",
   "id": "443ca438",
   "metadata": {},
   "source": [
    "Main metrics for the train dataset - good but not overfitted"
   ]
  },
  {
   "cell_type": "code",
   "execution_count": 63,
   "id": "d674be75",
   "metadata": {},
   "outputs": [
    {
     "name": "stdout",
     "output_type": "stream",
     "text": [
      " accuracy:0.77734375, \n",
      " precision:0.5534197586052749 \n",
      " recall:0.8292029470864032 \n",
      " f1:0.6638069705093834 \n",
      " roc_auc:0.7939201495518993\n"
     ]
    }
   ],
   "source": [
    "print_main_eval_metrics(train_y, pred_train_y)"
   ]
  },
  {
   "cell_type": "markdown",
   "id": "f1bd69ee",
   "metadata": {},
   "source": [
    "</br>\n",
    "<b>TIPS - When to use F1, Accuracy, ROC AUC, PR AUC? </b></br>\n",
    "\n",
    "https://neptune.ai/blog/f1-score-accuracy-roc-auc-pr-auc</br>\n",
    "\n",
    "\n",
    "Accuracy – balanced dataset, when every class is equally important to you</br>\n",
    "\n",
    "Precision vs Recall - Maximizing precision will minimize the number of false positives, whereas maximizing the recall will minimize the number of false negatives.</br>\n",
    "\n",
    "For customer churn: more interested in recall than precision. not predicting that a customer will Churn is a big miss but predicting that a customer might churn while they do not will just trigger specific retention campaigns that might be unnecessary.</br>\n",
    "\n",
    "F1 – every binary classification problem where you care more about the Positive class.</br>\n",
    "\n",
    "ROC AUC. – DON’T USE when imbalanced dataset. When you care equally about positive and negative. When you care about ranking predictions.</br>\n",
    "https://towardsdatascience.com/understanding-auc-roc-curve-68b2303cc9c5\n",
    "\n",
    "PR AUC – when heavily imbalanced dataset. When you care more about positive than negative.</br>\n"
   ]
  },
  {
   "cell_type": "markdown",
   "id": "1b96666b",
   "metadata": {},
   "source": [
    "<img src='img/Screen Shot 2021-09-18 at 11.45.34 am.png' width=800 align='left'>"
   ]
  },
  {
   "cell_type": "code",
   "execution_count": 64,
   "id": "847d9075",
   "metadata": {},
   "outputs": [],
   "source": [
    "from sklearn.model_selection import cross_val_score\n",
    "import xgboost as xgb\n",
    "xgbClassifier = xgb.XGBClassifier(objective=\"binary:logistic\", random_state=42, eval_metric='aucpr')\n",
    "\n",
    "scores = cross_val_score(xgbClassifier, train_x, train_y, cv=15, scoring = \"average_precision\")\n",
    "#sklearn.metrics.SCORERS.keys()"
   ]
  },
  {
   "cell_type": "code",
   "execution_count": 65,
   "id": "f658514c",
   "metadata": {},
   "outputs": [
    {
     "name": "stdout",
     "output_type": "stream",
     "text": [
      "average precision across all rounds: 0.624517554279668\n"
     ]
    }
   ],
   "source": [
    "print(f'average precision across all rounds: {scores.mean()}')"
   ]
  },
  {
   "cell_type": "markdown",
   "id": "7463ac68",
   "metadata": {},
   "source": [
    "# Underfitting/Overfitting"
   ]
  },
  {
   "cell_type": "markdown",
   "id": "743c5892",
   "metadata": {},
   "source": [
    "<img src='img/Screen Shot 2021-09-19 at 11.59.58 am.png' width=800 align='left'>"
   ]
  },
  {
   "cell_type": "markdown",
   "id": "90611286",
   "metadata": {},
   "source": [
    "<img src='img/Screen Shot 2021-09-19 at 12.00.05 pm.png' width=800 align='left'>"
   ]
  },
  {
   "cell_type": "markdown",
   "id": "0360ffe2",
   "metadata": {},
   "source": [
    "<img src='img/Screen Shot 2021-09-19 at 12.00.18 pm.png' width=800 align='left'>"
   ]
  },
  {
   "cell_type": "markdown",
   "id": "d7d2841d",
   "metadata": {},
   "source": [
    "Let's generate an overfitted model!"
   ]
  },
  {
   "cell_type": "code",
   "execution_count": 66,
   "id": "e5dc2f04",
   "metadata": {},
   "outputs": [
    {
     "data": {
      "text/plain": [
       "XGBClassifier(base_score=0.5, booster='gbtree', colsample_bylevel=1,\n",
       "              colsample_bynode=1, colsample_bytree=1, gamma=0, gpu_id=-1,\n",
       "              importance_type='gain', interaction_constraints='',\n",
       "              learning_rate=0.300000012, max_delta_step=0, max_depth=20,\n",
       "              min_child_weight=1, missing=nan, monotone_constraints='()',\n",
       "              n_estimators=400, n_jobs=4, num_parallel_tree=1, random_state=42,\n",
       "              reg_alpha=0, reg_lambda=0, scale_pos_weight=1, subsample=1,\n",
       "              tree_method='exact', validate_parameters=1, verbosity=None)"
      ]
     },
     "execution_count": 66,
     "metadata": {},
     "output_type": "execute_result"
    }
   ],
   "source": [
    "xgbClassifier_overfit = xgb.XGBClassifier(objective=\"binary:logistic\", random_state=42, max_depth=20, reg_lambda=0, n_estimators=400)\n",
    "xgbClassifier_overfit.fit(train_x, train_y, eval_metric=\"aucpr\")"
   ]
  },
  {
   "cell_type": "markdown",
   "id": "2de76da6",
   "metadata": {},
   "source": [
    "We generate predictions on both the train and test set"
   ]
  },
  {
   "cell_type": "code",
   "execution_count": 67,
   "id": "871d6f52",
   "metadata": {},
   "outputs": [],
   "source": [
    "over_pred_test_y = xgbClassifier_overfit.predict(test_x)\n",
    "over_pred_train_y = xgbClassifier_overfit.predict(train_x)"
   ]
  },
  {
   "cell_type": "markdown",
   "id": "f7641148",
   "metadata": {},
   "source": [
    "Eval metrics on the training dataset. We see a close to perfect accuracy and f1 score"
   ]
  },
  {
   "cell_type": "code",
   "execution_count": 68,
   "id": "6855514b",
   "metadata": {},
   "outputs": [
    {
     "name": "stdout",
     "output_type": "stream",
     "text": [
      " accuracy:0.9975142045454546, \n",
      " precision:0.9953114534494307 \n",
      " recall:0.9953114534494307 \n",
      " f1:0.9953114534494307 \n",
      " roc_auc:0.9968101118418935\n"
     ]
    }
   ],
   "source": [
    "print_main_eval_metrics(train_y, over_pred_train_y)"
   ]
  },
  {
   "cell_type": "code",
   "execution_count": 69,
   "id": "544f2b7c",
   "metadata": {},
   "outputs": [
    {
     "name": "stdout",
     "output_type": "stream",
     "text": [
      " accuracy:0.7642045454545454, \n",
      " precision:0.5626822157434402 \n",
      " recall:0.5146666666666667 \n",
      " f1:0.5376044568245126 \n",
      " roc_auc:0.684729267505647\n"
     ]
    }
   ],
   "source": [
    "print_main_eval_metrics(test_y, over_pred_test_y)"
   ]
  },
  {
   "cell_type": "markdown",
   "id": "c4096df5",
   "metadata": {},
   "source": [
    "# Quick explanation of Regularisation"
   ]
  },
  {
   "cell_type": "markdown",
   "id": "004e2e41",
   "metadata": {},
   "source": [
    "Regularisation is a way to keep our model's parameter/weights \"in check\" and not too large. It helps preventing overfitting.</br>\n",
    "L2 regression is the most known technique.</br>\n",
    "For tree based methods, it means not having too many \"splits\" by defining a minimum gain or other methods.\n",
    "For other types of algorithms, like in linear regression, L2 regression is an additional penalty that is added to the quality metrics (eg: RSS) that forces the algorithm to keep the weights relatively small, and hence avoid "
   ]
  },
  {
   "cell_type": "markdown",
   "id": "8869ca8a",
   "metadata": {},
   "source": [
    "# Hyperparameters tuning - More details on that on Thursday ML Tabular session"
   ]
  },
  {
   "cell_type": "markdown",
   "id": "f519140e",
   "metadata": {},
   "source": [
    "<img src='img/Screen Shot 2021-09-19 at 5.37.35 pm.png' width=800 align='left'>"
   ]
  },
  {
   "cell_type": "code",
   "execution_count": 70,
   "id": "fc4d931d",
   "metadata": {},
   "outputs": [
    {
     "name": "stdout",
     "output_type": "stream",
     "text": [
      "Fitting 5 folds for each of 120 candidates, totalling 600 fits\n",
      "[0]\tvalidation_0-aucpr:0.64182\n",
      "[1]\tvalidation_0-aucpr:0.65422\n",
      "[2]\tvalidation_0-aucpr:0.65782\n",
      "[3]\tvalidation_0-aucpr:0.65504\n",
      "[4]\tvalidation_0-aucpr:0.65670\n",
      "[5]\tvalidation_0-aucpr:0.65382\n",
      "[6]\tvalidation_0-aucpr:0.66603\n",
      "[7]\tvalidation_0-aucpr:0.67243\n",
      "[8]\tvalidation_0-aucpr:0.67035\n",
      "[9]\tvalidation_0-aucpr:0.67441\n",
      "[10]\tvalidation_0-aucpr:0.67666\n",
      "[11]\tvalidation_0-aucpr:0.67843\n",
      "[12]\tvalidation_0-aucpr:0.67758\n",
      "[13]\tvalidation_0-aucpr:0.67697\n",
      "[14]\tvalidation_0-aucpr:0.67557\n",
      "[15]\tvalidation_0-aucpr:0.67666\n",
      "[16]\tvalidation_0-aucpr:0.67646\n",
      "[17]\tvalidation_0-aucpr:0.67526\n",
      "[18]\tvalidation_0-aucpr:0.67546\n",
      "[19]\tvalidation_0-aucpr:0.67311\n"
     ]
    },
    {
     "data": {
      "text/plain": [
       "RandomizedSearchCV(cv=5,\n",
       "                   estimator=XGBClassifier(base_score=None, booster=None,\n",
       "                                           colsample_bylevel=None,\n",
       "                                           colsample_bynode=None,\n",
       "                                           colsample_bytree=None,\n",
       "                                           eval_metric='aucpr', gamma=None,\n",
       "                                           gpu_id=None, importance_type='gain',\n",
       "                                           interaction_constraints=None,\n",
       "                                           learning_rate=None,\n",
       "                                           max_delta_step=None, max_depth=None,\n",
       "                                           min_child_weight=None, missing=nan,\n",
       "                                           monotone_constraints=No...\n",
       "                                           random_state=42, reg_alpha=None,\n",
       "                                           reg_lambda=None,\n",
       "                                           scale_pos_weight=2.7687366167023555,\n",
       "                                           subsample=None, tree_method=None,\n",
       "                                           validate_parameters=None,\n",
       "                                           verbosity=None),\n",
       "                   n_iter=200, n_jobs=2,\n",
       "                   param_distributions={'max_depth': [3, 4, 5, 6, 7],\n",
       "                                        'min_child_weight': [1, 2],\n",
       "                                        'n_estimators': [20, 30, 40, 50],\n",
       "                                        'reg_lambda': [0.75, 1, 1.25]},\n",
       "                   random_state=42, return_train_score=True, verbose=1)"
      ]
     },
     "execution_count": 70,
     "metadata": {},
     "output_type": "execute_result"
    }
   ],
   "source": [
    "from sklearn.model_selection import RandomizedSearchCV, GridSearchCV\n",
    "from scipy.stats import uniform\n",
    "from random import randint\n",
    "\n",
    "params = {'max_depth':[3,4,5,6,7],\n",
    "          'n_estimators':[20, 30, 40, 50],\n",
    "         'reg_lambda':[0.75, 1, 1.25],\n",
    "         'min_child_weight':[1,2]}\n",
    "\n",
    "eval_set = [(test_x, test_y)]\n",
    "\n",
    "xgbClassifier_HPO = xgb.XGBClassifier(objective=\"binary:logistic\", random_state=42, eval_metric='aucpr', scale_pos_weight=scale_pos_weight)\n",
    "search = RandomizedSearchCV(xgbClassifier_HPO, param_distributions=params, random_state=3, n_iter=50,  cv=5, verbose=1, n_jobs=2, return_train_score=True)\n",
    "\n",
    "search.fit(train_x, train_y, eval_set=eval_set, eval_metric=\"aucpr\", early_stopping_rounds=10)\n"
   ]
  },
  {
   "cell_type": "code",
   "execution_count": 71,
   "id": "7692ef73",
   "metadata": {},
   "outputs": [
    {
     "name": "stdout",
     "output_type": "stream",
     "text": [
      "best_params:{'reg_lambda': 0.75, 'n_estimators': 20, 'min_child_weight': 2, 'max_depth': 4}\n",
      "best_score:0.754973120609739\n"
     ]
    }
   ],
   "source": [
    "print(f\"best_params:{search.best_params_}\")\n",
    "print(f\"best_score:{search.best_score_}\")"
   ]
  },
  {
   "cell_type": "markdown",
   "id": "d423e5a5",
   "metadata": {},
   "source": [
    "# CONCLUSION"
   ]
  },
  {
   "cell_type": "markdown",
   "id": "76a94b9e",
   "metadata": {},
   "source": [
    "XGBoost is the most popular algorithm for tabular classification problems. Other well known approaches: Random Forest (Decision tree with baggin), Logistic regression.\n",
    "\n",
    "hyperparameter tuning.\n",
    "\n",
    "More details on Decision Trees, boosting vs bagging approaches and KNN (K Nearest Neighbour) on Thursday during the ML Tabular session."
   ]
  },
  {
   "cell_type": "markdown",
   "id": "084fae4b",
   "metadata": {},
   "source": [
    "# Your Turn! Play a bit with different parameters to see if you can improve the metrics"
   ]
  },
  {
   "cell_type": "code",
   "execution_count": null,
   "id": "d475ab34",
   "metadata": {},
   "outputs": [],
   "source": []
  }
 ],
 "metadata": {
  "kernelspec": {
   "display_name": "conda_python3",
   "language": "python",
   "name": "conda_python3"
  },
  "language_info": {
   "codemirror_mode": {
    "name": "ipython",
    "version": 3
   },
   "file_extension": ".py",
   "mimetype": "text/x-python",
   "name": "python",
   "nbconvert_exporter": "python",
   "pygments_lexer": "ipython3",
   "version": "3.6.13"
  }
 },
 "nbformat": 4,
 "nbformat_minor": 5
}
