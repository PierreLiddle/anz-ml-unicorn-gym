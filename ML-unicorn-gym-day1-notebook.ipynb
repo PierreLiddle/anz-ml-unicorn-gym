{
 "cells": [
  {
   "cell_type": "markdown",
   "id": "64e399c9",
   "metadata": {},
   "source": [
    "# Customer Churn example\n",
    "To illustrate all the steps part of building a model, we'll build a customer churn model out of a Telco customer dataset.\n",
    "We'll look into the existing features available to us and will later build an XGBoost model to predict the \"Churn\" column which is the label/target of interest.\n",
    "\n",
    "The dataset is public and can be found here:\n",
    "https://github.com/IBM/telco-customer-churn-on-icp4d"
   ]
  },
  {
   "cell_type": "markdown",
   "id": "1fb8d9ec",
   "metadata": {},
   "source": [
    "# Jupyter Notebook quick intro"
   ]
  },
  {
   "cell_type": "markdown",
   "id": "05ce62f2",
   "metadata": {},
   "source": [
    "Code vs Markdown Cells (raw only used if you want to export notebook with NBConvert)</br>\n",
    "Shift + Return to execute a cell</br>\n",
    "Tab - auto-completion</br>\n",
    "Jupyter vs JupyterLab vs Sagemaker Studio</br>\n",
    "</br>\n",
    "Escape + ??</br>\n",
    "Escape\tenter command mode</br>\n",
    "Escape + d + d\tdelete selected cell</br>\n",
    "Escape + y\tchange cell to code</br>\n",
    "Escape + m\tchange cell to markdown</br>\n",
    "Escape + r\tchange cell to raw</br>\n",
    "Escape + 1\tchange cell to Heading 1</br>\n",
    "Escape + n\tchange cell to heading n</br>\n",
    "Escape + b\tcreate cell below</br>\n",
    "Escape + a\tInsert cell above</br>"
   ]
  },
  {
   "cell_type": "markdown",
   "id": "9d7e08ac",
   "metadata": {},
   "source": [
    "# Let's get started!"
   ]
  },
  {
   "cell_type": "markdown",
   "id": "3e68ab10",
   "metadata": {},
   "source": [
    "<img src='img/Screen Shot 2021-09-15 at 12.06.44 pm.png' width=1000 align='left'>"
   ]
  },
  {
   "cell_type": "markdown",
   "id": "48c10ddb",
   "metadata": {},
   "source": [
    "## Load the dataset"
   ]
  },
  {
   "cell_type": "code",
   "execution_count": 1,
   "id": "dd9024d1",
   "metadata": {},
   "outputs": [],
   "source": [
    "import warnings\n",
    "warnings.filterwarnings(\"ignore\")\n",
    "\n",
    "import pandas as pd\n",
    "pd.set_option('display.max_columns', 100)"
   ]
  },
  {
   "cell_type": "code",
   "execution_count": 2,
   "id": "4c6774a7",
   "metadata": {},
   "outputs": [],
   "source": [
    "data_df = pd.read_csv('./data/Telco-Customer-Churn-with-null-and-outliers.csv')"
   ]
  },
  {
   "cell_type": "markdown",
   "id": "5e8a4d1a",
   "metadata": {},
   "source": [
    "## Pandas\n",
    "Most popular python data analysis tool/library. </br>\n",
    "Main object to store/manipulate data = DataFrame (similar in some ways to Spark)"
   ]
  },
  {
   "cell_type": "markdown",
   "id": "ea593467",
   "metadata": {},
   "source": [
    "## Exploratory Data Analysis (EDA)"
   ]
  },
  {
   "cell_type": "markdown",
   "id": "9fbf2136",
   "metadata": {},
   "source": [
    "<img src='img/Screen Shot 2021-09-15 at 12.22.59 pm.png' width=800 align='left'>"
   ]
  },
  {
   "cell_type": "markdown",
   "id": "d1a91654",
   "metadata": {},
   "source": [
    "### Getting the shape of the dataset\n",
    "-> 7043 rows and 21 columns/features"
   ]
  },
  {
   "cell_type": "code",
   "execution_count": 3,
   "id": "a7855d63",
   "metadata": {},
   "outputs": [
    {
     "data": {
      "text/plain": [
       "(7043, 21)"
      ]
     },
     "execution_count": 3,
     "metadata": {},
     "output_type": "execute_result"
    }
   ],
   "source": [
    "data_df.shape"
   ]
  },
  {
   "cell_type": "markdown",
   "id": "801c2a0e",
   "metadata": {},
   "source": [
    "### Display the first 5 line of the dataset\n",
    "similarly, to display the last 5 lines of the dataset you'd use data_df.tail(5)"
   ]
  },
  {
   "cell_type": "code",
   "execution_count": 4,
   "id": "43692244",
   "metadata": {},
   "outputs": [
    {
     "data": {
      "text/html": [
       "<div>\n",
       "<style scoped>\n",
       "    .dataframe tbody tr th:only-of-type {\n",
       "        vertical-align: middle;\n",
       "    }\n",
       "\n",
       "    .dataframe tbody tr th {\n",
       "        vertical-align: top;\n",
       "    }\n",
       "\n",
       "    .dataframe thead th {\n",
       "        text-align: right;\n",
       "    }\n",
       "</style>\n",
       "<table border=\"1\" class=\"dataframe\">\n",
       "  <thead>\n",
       "    <tr style=\"text-align: right;\">\n",
       "      <th></th>\n",
       "      <th>customerID</th>\n",
       "      <th>gender</th>\n",
       "      <th>SeniorCitizen</th>\n",
       "      <th>Partner</th>\n",
       "      <th>Dependents</th>\n",
       "      <th>tenure</th>\n",
       "      <th>PhoneService</th>\n",
       "      <th>MultipleLines</th>\n",
       "      <th>InternetService</th>\n",
       "      <th>OnlineSecurity</th>\n",
       "      <th>OnlineBackup</th>\n",
       "      <th>DeviceProtection</th>\n",
       "      <th>TechSupport</th>\n",
       "      <th>StreamingTV</th>\n",
       "      <th>StreamingMovies</th>\n",
       "      <th>Contract</th>\n",
       "      <th>PaperlessBilling</th>\n",
       "      <th>PaymentMethod</th>\n",
       "      <th>MonthlyCharges</th>\n",
       "      <th>TotalCharges</th>\n",
       "      <th>Churn</th>\n",
       "    </tr>\n",
       "  </thead>\n",
       "  <tbody>\n",
       "    <tr>\n",
       "      <th>0</th>\n",
       "      <td>7590-VHVEG</td>\n",
       "      <td>Female</td>\n",
       "      <td>0</td>\n",
       "      <td>Yes</td>\n",
       "      <td>No</td>\n",
       "      <td>1.0</td>\n",
       "      <td>No</td>\n",
       "      <td>No phone service</td>\n",
       "      <td>DSL</td>\n",
       "      <td>No</td>\n",
       "      <td>Yes</td>\n",
       "      <td>No</td>\n",
       "      <td>No</td>\n",
       "      <td>No</td>\n",
       "      <td>No</td>\n",
       "      <td>Month-to-month</td>\n",
       "      <td>Yes</td>\n",
       "      <td>Electronic check</td>\n",
       "      <td>29.85</td>\n",
       "      <td>29.85</td>\n",
       "      <td>No</td>\n",
       "    </tr>\n",
       "    <tr>\n",
       "      <th>1</th>\n",
       "      <td>5575-GNVDE</td>\n",
       "      <td>Male</td>\n",
       "      <td>0</td>\n",
       "      <td>No</td>\n",
       "      <td>No</td>\n",
       "      <td>34.0</td>\n",
       "      <td>Yes</td>\n",
       "      <td>No</td>\n",
       "      <td>DSL</td>\n",
       "      <td>Yes</td>\n",
       "      <td>No</td>\n",
       "      <td>Yes</td>\n",
       "      <td>No</td>\n",
       "      <td>No</td>\n",
       "      <td>No</td>\n",
       "      <td>One year</td>\n",
       "      <td>No</td>\n",
       "      <td>Mailed check</td>\n",
       "      <td>56.95</td>\n",
       "      <td>1889.50</td>\n",
       "      <td>No</td>\n",
       "    </tr>\n",
       "    <tr>\n",
       "      <th>2</th>\n",
       "      <td>3668-QPYBK</td>\n",
       "      <td>Male</td>\n",
       "      <td>0</td>\n",
       "      <td>No</td>\n",
       "      <td>No</td>\n",
       "      <td>2.0</td>\n",
       "      <td>Yes</td>\n",
       "      <td>No</td>\n",
       "      <td>DSL</td>\n",
       "      <td>Yes</td>\n",
       "      <td>Yes</td>\n",
       "      <td>No</td>\n",
       "      <td>No</td>\n",
       "      <td>No</td>\n",
       "      <td>No</td>\n",
       "      <td>Month-to-month</td>\n",
       "      <td>Yes</td>\n",
       "      <td>Mailed check</td>\n",
       "      <td>53.85</td>\n",
       "      <td>108.15</td>\n",
       "      <td>Yes</td>\n",
       "    </tr>\n",
       "    <tr>\n",
       "      <th>3</th>\n",
       "      <td>7795-CFOCW</td>\n",
       "      <td>Male</td>\n",
       "      <td>0</td>\n",
       "      <td>No</td>\n",
       "      <td>No</td>\n",
       "      <td>45.0</td>\n",
       "      <td>No</td>\n",
       "      <td>No phone service</td>\n",
       "      <td>DSL</td>\n",
       "      <td>Yes</td>\n",
       "      <td>No</td>\n",
       "      <td>Yes</td>\n",
       "      <td>Yes</td>\n",
       "      <td>No</td>\n",
       "      <td>No</td>\n",
       "      <td>One year</td>\n",
       "      <td>No</td>\n",
       "      <td>Bank transfer (automatic)</td>\n",
       "      <td>42.30</td>\n",
       "      <td>1840.75</td>\n",
       "      <td>No</td>\n",
       "    </tr>\n",
       "    <tr>\n",
       "      <th>4</th>\n",
       "      <td>9237-HQITU</td>\n",
       "      <td>Female</td>\n",
       "      <td>0</td>\n",
       "      <td>No</td>\n",
       "      <td>No</td>\n",
       "      <td>2.0</td>\n",
       "      <td>Yes</td>\n",
       "      <td>No</td>\n",
       "      <td>Fiber optic</td>\n",
       "      <td>No</td>\n",
       "      <td>No</td>\n",
       "      <td>No</td>\n",
       "      <td>No</td>\n",
       "      <td>No</td>\n",
       "      <td>No</td>\n",
       "      <td>Month-to-month</td>\n",
       "      <td>Yes</td>\n",
       "      <td>Electronic check</td>\n",
       "      <td>70.70</td>\n",
       "      <td>151.65</td>\n",
       "      <td>Yes</td>\n",
       "    </tr>\n",
       "  </tbody>\n",
       "</table>\n",
       "</div>"
      ],
      "text/plain": [
       "   customerID  gender  SeniorCitizen Partner Dependents  tenure PhoneService  \\\n",
       "0  7590-VHVEG  Female              0     Yes         No     1.0           No   \n",
       "1  5575-GNVDE    Male              0      No         No    34.0          Yes   \n",
       "2  3668-QPYBK    Male              0      No         No     2.0          Yes   \n",
       "3  7795-CFOCW    Male              0      No         No    45.0           No   \n",
       "4  9237-HQITU  Female              0      No         No     2.0          Yes   \n",
       "\n",
       "      MultipleLines InternetService OnlineSecurity OnlineBackup  \\\n",
       "0  No phone service             DSL             No          Yes   \n",
       "1                No             DSL            Yes           No   \n",
       "2                No             DSL            Yes          Yes   \n",
       "3  No phone service             DSL            Yes           No   \n",
       "4                No     Fiber optic             No           No   \n",
       "\n",
       "  DeviceProtection TechSupport StreamingTV StreamingMovies        Contract  \\\n",
       "0               No          No          No              No  Month-to-month   \n",
       "1              Yes          No          No              No        One year   \n",
       "2               No          No          No              No  Month-to-month   \n",
       "3              Yes         Yes          No              No        One year   \n",
       "4               No          No          No              No  Month-to-month   \n",
       "\n",
       "  PaperlessBilling              PaymentMethod  MonthlyCharges  TotalCharges  \\\n",
       "0              Yes           Electronic check           29.85         29.85   \n",
       "1               No               Mailed check           56.95       1889.50   \n",
       "2              Yes               Mailed check           53.85        108.15   \n",
       "3               No  Bank transfer (automatic)           42.30       1840.75   \n",
       "4              Yes           Electronic check           70.70        151.65   \n",
       "\n",
       "  Churn  \n",
       "0    No  \n",
       "1    No  \n",
       "2   Yes  \n",
       "3    No  \n",
       "4   Yes  "
      ]
     },
     "execution_count": 4,
     "metadata": {},
     "output_type": "execute_result"
    }
   ],
   "source": [
    "data_df.head(5)"
   ]
  },
  {
   "cell_type": "markdown",
   "id": "768e6fbf",
   "metadata": {},
   "source": [
    "### playing with the data"
   ]
  },
  {
   "cell_type": "markdown",
   "id": "883b979c",
   "metadata": {},
   "source": [
    "Select a column only. Note that the below return a pandas series which is a different type of object than a Dataframe."
   ]
  },
  {
   "cell_type": "code",
   "execution_count": 5,
   "id": "b9098d4a",
   "metadata": {},
   "outputs": [
    {
     "data": {
      "text/plain": [
       "0    Female\n",
       "1      Male\n",
       "Name: gender, dtype: object"
      ]
     },
     "execution_count": 5,
     "metadata": {},
     "output_type": "execute_result"
    }
   ],
   "source": [
    "#data_df['gender']\n",
    "data_df['gender'].head(2)"
   ]
  },
  {
   "cell_type": "markdown",
   "id": "e2e7f7b4",
   "metadata": {},
   "source": [
    "Filter a column on a specific value"
   ]
  },
  {
   "cell_type": "code",
   "execution_count": 6,
   "id": "693c1815",
   "metadata": {},
   "outputs": [
    {
     "data": {
      "text/html": [
       "<div>\n",
       "<style scoped>\n",
       "    .dataframe tbody tr th:only-of-type {\n",
       "        vertical-align: middle;\n",
       "    }\n",
       "\n",
       "    .dataframe tbody tr th {\n",
       "        vertical-align: top;\n",
       "    }\n",
       "\n",
       "    .dataframe thead th {\n",
       "        text-align: right;\n",
       "    }\n",
       "</style>\n",
       "<table border=\"1\" class=\"dataframe\">\n",
       "  <thead>\n",
       "    <tr style=\"text-align: right;\">\n",
       "      <th></th>\n",
       "      <th>customerID</th>\n",
       "      <th>gender</th>\n",
       "      <th>SeniorCitizen</th>\n",
       "      <th>Partner</th>\n",
       "      <th>Dependents</th>\n",
       "      <th>tenure</th>\n",
       "      <th>PhoneService</th>\n",
       "      <th>MultipleLines</th>\n",
       "      <th>InternetService</th>\n",
       "      <th>OnlineSecurity</th>\n",
       "      <th>OnlineBackup</th>\n",
       "      <th>DeviceProtection</th>\n",
       "      <th>TechSupport</th>\n",
       "      <th>StreamingTV</th>\n",
       "      <th>StreamingMovies</th>\n",
       "      <th>Contract</th>\n",
       "      <th>PaperlessBilling</th>\n",
       "      <th>PaymentMethod</th>\n",
       "      <th>MonthlyCharges</th>\n",
       "      <th>TotalCharges</th>\n",
       "      <th>Churn</th>\n",
       "    </tr>\n",
       "  </thead>\n",
       "  <tbody>\n",
       "    <tr>\n",
       "      <th>0</th>\n",
       "      <td>7590-VHVEG</td>\n",
       "      <td>Female</td>\n",
       "      <td>0</td>\n",
       "      <td>Yes</td>\n",
       "      <td>No</td>\n",
       "      <td>1.0</td>\n",
       "      <td>No</td>\n",
       "      <td>No phone service</td>\n",
       "      <td>DSL</td>\n",
       "      <td>No</td>\n",
       "      <td>Yes</td>\n",
       "      <td>No</td>\n",
       "      <td>No</td>\n",
       "      <td>No</td>\n",
       "      <td>No</td>\n",
       "      <td>Month-to-month</td>\n",
       "      <td>Yes</td>\n",
       "      <td>Electronic check</td>\n",
       "      <td>29.85</td>\n",
       "      <td>29.85</td>\n",
       "      <td>No</td>\n",
       "    </tr>\n",
       "    <tr>\n",
       "      <th>4</th>\n",
       "      <td>9237-HQITU</td>\n",
       "      <td>Female</td>\n",
       "      <td>0</td>\n",
       "      <td>No</td>\n",
       "      <td>No</td>\n",
       "      <td>2.0</td>\n",
       "      <td>Yes</td>\n",
       "      <td>No</td>\n",
       "      <td>Fiber optic</td>\n",
       "      <td>No</td>\n",
       "      <td>No</td>\n",
       "      <td>No</td>\n",
       "      <td>No</td>\n",
       "      <td>No</td>\n",
       "      <td>No</td>\n",
       "      <td>Month-to-month</td>\n",
       "      <td>Yes</td>\n",
       "      <td>Electronic check</td>\n",
       "      <td>70.70</td>\n",
       "      <td>151.65</td>\n",
       "      <td>Yes</td>\n",
       "    </tr>\n",
       "  </tbody>\n",
       "</table>\n",
       "</div>"
      ],
      "text/plain": [
       "   customerID  gender  SeniorCitizen Partner Dependents  tenure PhoneService  \\\n",
       "0  7590-VHVEG  Female              0     Yes         No     1.0           No   \n",
       "4  9237-HQITU  Female              0      No         No     2.0          Yes   \n",
       "\n",
       "      MultipleLines InternetService OnlineSecurity OnlineBackup  \\\n",
       "0  No phone service             DSL             No          Yes   \n",
       "4                No     Fiber optic             No           No   \n",
       "\n",
       "  DeviceProtection TechSupport StreamingTV StreamingMovies        Contract  \\\n",
       "0               No          No          No              No  Month-to-month   \n",
       "4               No          No          No              No  Month-to-month   \n",
       "\n",
       "  PaperlessBilling     PaymentMethod  MonthlyCharges  TotalCharges Churn  \n",
       "0              Yes  Electronic check           29.85         29.85    No  \n",
       "4              Yes  Electronic check           70.70        151.65   Yes  "
      ]
     },
     "execution_count": 6,
     "metadata": {},
     "output_type": "execute_result"
    }
   ],
   "source": [
    "data_df[data_df.gender == 'Female'].head(2)"
   ]
  },
  {
   "cell_type": "markdown",
   "id": "563a0b13",
   "metadata": {},
   "source": [
    "### Get a view of the column type and presence of null values\n",
    "We can notice that Dtype are either int/float so numerical values or object, meaning they are considered as categorical value by pandas.</br>\n",
    "We can also notice that the tenure column/feature has some null value."
   ]
  },
  {
   "cell_type": "code",
   "execution_count": 7,
   "id": "80ef7e19",
   "metadata": {},
   "outputs": [
    {
     "name": "stdout",
     "output_type": "stream",
     "text": [
      "<class 'pandas.core.frame.DataFrame'>\n",
      "RangeIndex: 7043 entries, 0 to 7042\n",
      "Data columns (total 21 columns):\n",
      " #   Column            Non-Null Count  Dtype  \n",
      "---  ------            --------------  -----  \n",
      " 0   customerID        7043 non-null   object \n",
      " 1   gender            7043 non-null   object \n",
      " 2   SeniorCitizen     7043 non-null   int64  \n",
      " 3   Partner           7043 non-null   object \n",
      " 4   Dependents        7043 non-null   object \n",
      " 5   tenure            6992 non-null   float64\n",
      " 6   PhoneService      7043 non-null   object \n",
      " 7   MultipleLines     7043 non-null   object \n",
      " 8   InternetService   7043 non-null   object \n",
      " 9   OnlineSecurity    7043 non-null   object \n",
      " 10  OnlineBackup      7043 non-null   object \n",
      " 11  DeviceProtection  7043 non-null   object \n",
      " 12  TechSupport       7043 non-null   object \n",
      " 13  StreamingTV       7043 non-null   object \n",
      " 14  StreamingMovies   7043 non-null   object \n",
      " 15  Contract          7043 non-null   object \n",
      " 16  PaperlessBilling  7043 non-null   object \n",
      " 17  PaymentMethod     7043 non-null   object \n",
      " 18  MonthlyCharges    7043 non-null   float64\n",
      " 19  TotalCharges      7032 non-null   float64\n",
      " 20  Churn             7043 non-null   object \n",
      "dtypes: float64(3), int64(1), object(17)\n",
      "memory usage: 1.1+ MB\n"
     ]
    }
   ],
   "source": [
    "data_df.info()"
   ]
  },
  {
   "cell_type": "markdown",
   "id": "b06118d2",
   "metadata": {},
   "source": [
    "In case TotalCharges is detected as an object, use the below line to cast it to numeric.the coerce parameter will input a NaN when not able to cast the value into a numeric.\n",
    "\n",
    "#data_df.TotalCharges = pd.to_numeric(data_df.TotalCharges, errors='coerce')"
   ]
  },
  {
   "cell_type": "markdown",
   "id": "3ad82882",
   "metadata": {},
   "source": [
    "### For numeric columns, describe() gives you mean, standard deviation, min,max etc"
   ]
  },
  {
   "cell_type": "code",
   "execution_count": 8,
   "id": "6fe4eb93",
   "metadata": {},
   "outputs": [
    {
     "data": {
      "text/html": [
       "<div>\n",
       "<style scoped>\n",
       "    .dataframe tbody tr th:only-of-type {\n",
       "        vertical-align: middle;\n",
       "    }\n",
       "\n",
       "    .dataframe tbody tr th {\n",
       "        vertical-align: top;\n",
       "    }\n",
       "\n",
       "    .dataframe thead th {\n",
       "        text-align: right;\n",
       "    }\n",
       "</style>\n",
       "<table border=\"1\" class=\"dataframe\">\n",
       "  <thead>\n",
       "    <tr style=\"text-align: right;\">\n",
       "      <th></th>\n",
       "      <th>SeniorCitizen</th>\n",
       "      <th>tenure</th>\n",
       "      <th>MonthlyCharges</th>\n",
       "      <th>TotalCharges</th>\n",
       "    </tr>\n",
       "  </thead>\n",
       "  <tbody>\n",
       "    <tr>\n",
       "      <th>count</th>\n",
       "      <td>7043.000000</td>\n",
       "      <td>6992.000000</td>\n",
       "      <td>7043.000000</td>\n",
       "      <td>7032.000000</td>\n",
       "    </tr>\n",
       "    <tr>\n",
       "      <th>mean</th>\n",
       "      <td>0.162147</td>\n",
       "      <td>32.356836</td>\n",
       "      <td>64.761692</td>\n",
       "      <td>2291.462607</td>\n",
       "    </tr>\n",
       "    <tr>\n",
       "      <th>std</th>\n",
       "      <td>0.368612</td>\n",
       "      <td>24.548507</td>\n",
       "      <td>30.090047</td>\n",
       "      <td>2299.341231</td>\n",
       "    </tr>\n",
       "    <tr>\n",
       "      <th>min</th>\n",
       "      <td>0.000000</td>\n",
       "      <td>0.000000</td>\n",
       "      <td>18.250000</td>\n",
       "      <td>18.800000</td>\n",
       "    </tr>\n",
       "    <tr>\n",
       "      <th>25%</th>\n",
       "      <td>0.000000</td>\n",
       "      <td>9.000000</td>\n",
       "      <td>35.500000</td>\n",
       "      <td>401.450000</td>\n",
       "    </tr>\n",
       "    <tr>\n",
       "      <th>50%</th>\n",
       "      <td>0.000000</td>\n",
       "      <td>29.000000</td>\n",
       "      <td>70.350000</td>\n",
       "      <td>1398.425000</td>\n",
       "    </tr>\n",
       "    <tr>\n",
       "      <th>75%</th>\n",
       "      <td>0.000000</td>\n",
       "      <td>55.000000</td>\n",
       "      <td>89.850000</td>\n",
       "      <td>3801.400000</td>\n",
       "    </tr>\n",
       "    <tr>\n",
       "      <th>max</th>\n",
       "      <td>1.000000</td>\n",
       "      <td>72.000000</td>\n",
       "      <td>118.750000</td>\n",
       "      <td>22000.000000</td>\n",
       "    </tr>\n",
       "  </tbody>\n",
       "</table>\n",
       "</div>"
      ],
      "text/plain": [
       "       SeniorCitizen       tenure  MonthlyCharges  TotalCharges\n",
       "count    7043.000000  6992.000000     7043.000000   7032.000000\n",
       "mean        0.162147    32.356836       64.761692   2291.462607\n",
       "std         0.368612    24.548507       30.090047   2299.341231\n",
       "min         0.000000     0.000000       18.250000     18.800000\n",
       "25%         0.000000     9.000000       35.500000    401.450000\n",
       "50%         0.000000    29.000000       70.350000   1398.425000\n",
       "75%         0.000000    55.000000       89.850000   3801.400000\n",
       "max         1.000000    72.000000      118.750000  22000.000000"
      ]
     },
     "execution_count": 8,
     "metadata": {},
     "output_type": "execute_result"
    }
   ],
   "source": [
    "data_df.describe()"
   ]
  },
  {
   "cell_type": "markdown",
   "id": "512cd7ef",
   "metadata": {},
   "source": [
    "### Get the different values for a specific categorical feature/column\n",
    "Note: data_df.gender is equivalent to data_df['gender']"
   ]
  },
  {
   "cell_type": "code",
   "execution_count": 9,
   "id": "ede02e79",
   "metadata": {},
   "outputs": [
    {
     "data": {
      "text/plain": [
       "Male      3555\n",
       "Female    3488\n",
       "Name: gender, dtype: int64"
      ]
     },
     "execution_count": 9,
     "metadata": {},
     "output_type": "execute_result"
    }
   ],
   "source": [
    "data_df.gender.value_counts()"
   ]
  },
  {
   "cell_type": "markdown",
   "id": "f831498d",
   "metadata": {},
   "source": [
    "### Get the cardinality of those categorical features\n",
    "Note: will be useful later when encoding those features into numerical representations"
   ]
  },
  {
   "cell_type": "code",
   "execution_count": 10,
   "id": "52d6a080",
   "metadata": {},
   "outputs": [
    {
     "data": {
      "text/plain": [
       "customerID          7043\n",
       "gender                 2\n",
       "SeniorCitizen          2\n",
       "Partner                2\n",
       "Dependents             2\n",
       "tenure                73\n",
       "PhoneService           2\n",
       "MultipleLines          3\n",
       "InternetService        3\n",
       "OnlineSecurity         3\n",
       "OnlineBackup           3\n",
       "DeviceProtection       3\n",
       "TechSupport            3\n",
       "StreamingTV            3\n",
       "StreamingMovies        3\n",
       "Contract               3\n",
       "PaperlessBilling       2\n",
       "PaymentMethod          4\n",
       "MonthlyCharges      1585\n",
       "TotalCharges        6530\n",
       "Churn                  2\n",
       "dtype: int64"
      ]
     },
     "execution_count": 10,
     "metadata": {},
     "output_type": "execute_result"
    }
   ],
   "source": [
    "cardinality_pd_series = data_df.apply(pd.Series.nunique)\n",
    "cardinality_pd_series"
   ]
  },
  {
   "cell_type": "markdown",
   "id": "348480fd",
   "metadata": {},
   "source": [
    "</br>We notice that a few of those features have yes/no values (cardinality = 2) so we'll turn those into 0/1 values"
   ]
  },
  {
   "cell_type": "code",
   "execution_count": 11,
   "id": "de748bbd",
   "metadata": {},
   "outputs": [],
   "source": [
    "list_of_cols_to_transform = ['Partner', 'Dependents', 'PhoneService', 'PaperlessBilling', 'Churn']"
   ]
  },
  {
   "cell_type": "code",
   "execution_count": 12,
   "id": "2bbeb87a",
   "metadata": {},
   "outputs": [],
   "source": [
    "for col in list_of_cols_to_transform:\n",
    "    data_df[col] = data_df[col].apply(lambda x: 0 if str(x).lower() == 'no' else 1)\n",
    "    data_df[col] = pd.to_numeric(data_df[col])"
   ]
  },
  {
   "cell_type": "code",
   "execution_count": 13,
   "id": "b15a23fd",
   "metadata": {},
   "outputs": [],
   "source": [
    "data_df['gender'] = data_df['gender'].apply(lambda x: 0 if str(x).lower() == 'male' else 1)\n",
    "data_df['gender'] = pd.to_numeric(data_df['gender'])"
   ]
  },
  {
   "cell_type": "markdown",
   "id": "f17d5769",
   "metadata": {},
   "source": [
    "### Now let's draw some graphs!! \n",
    "Notes:</br>\n",
    "Matplotlib is the goto library to draw graph in jupyter notebooks. </br>\n",
    "Seaborn is a wrapper around matplotlib simplifying its usage.</br>\n",
    "The plot method on Series and DataFrame is just a simple wrapper around plt.plot </br>"
   ]
  },
  {
   "cell_type": "code",
   "execution_count": 14,
   "id": "0b0db7aa",
   "metadata": {},
   "outputs": [],
   "source": [
    "import matplotlib.pyplot as plt\n",
    "%matplotlib inline\n",
    "\n",
    "import seaborn as sns"
   ]
  },
  {
   "cell_type": "markdown",
   "id": "b2fe8f2c",
   "metadata": {},
   "source": [
    "### Univariate stats - Simple bar chart to look at one single column/feature"
   ]
  },
  {
   "cell_type": "code",
   "execution_count": 15,
   "id": "6e706e4f",
   "metadata": {},
   "outputs": [
    {
     "data": {
      "image/png": "[encoded data removed]",
      "text/plain": [
       "<Figure size 432x288 with 1 Axes>"
      ]
     },
     "metadata": {
      "needs_background": "light"
     },
     "output_type": "display_data"
    }
   ],
   "source": [
    "data_df.gender.value_counts().plot.bar()\n",
    "plt.show()"
   ]
  },
  {
   "cell_type": "code",
   "execution_count": 16,
   "id": "1d07a3de",
   "metadata": {},
   "outputs": [
    {
     "data": {
      "image/png": "[encoded data removed]",
      "text/plain": [
       "<Figure size 432x288 with 1 Axes>"
      ]
     },
     "metadata": {
      "needs_background": "light"
     },
     "output_type": "display_data"
    }
   ],
   "source": [
    "sns.countplot(x='gender', data=data_df)\n",
    "plt.show()"
   ]
  },
  {
   "cell_type": "markdown",
   "id": "7806207b",
   "metadata": {},
   "source": [
    "### Looking at he distribution of the tenure\n",
    "Histograms show distribution of numeric data. Data is divided into \"buckets\" or \"bins\"."
   ]
  },
  {
   "cell_type": "code",
   "execution_count": 17,
   "id": "da9b1cb4",
   "metadata": {},
   "outputs": [
    {
     "data": {
      "image/png": "[encoded data removed]",
      "text/plain": [
       "<Figure size 432x288 with 1 Axes>"
      ]
     },
     "metadata": {
      "needs_background": "light"
     },
     "output_type": "display_data"
    }
   ],
   "source": [
    "sns.distplot(data_df['tenure'], bins=50, kde=False)\n",
    "# equivalent: data_df['tenure'].plot.hist(bins=30)\n",
    "plt.show()"
   ]
  },
  {
   "cell_type": "markdown",
   "id": "b5b4c5ef",
   "metadata": {},
   "source": [
    "### Looking at the composition of certain features"
   ]
  },
  {
   "cell_type": "code",
   "execution_count": 18,
   "id": "be83b954",
   "metadata": {},
   "outputs": [
    {
     "data": {
      "image/png": "[encoded data removed]",
      "text/plain": [
       "<Figure size 432x288 with 1 Axes>"
      ]
     },
     "metadata": {},
     "output_type": "display_data"
    }
   ],
   "source": [
    "data_df['InternetService'].value_counts().plot.pie(y='InternetService')\n",
    "plt.show()"
   ]
  },
  {
   "cell_type": "markdown",
   "id": "5d636aea",
   "metadata": {},
   "source": [
    "### FacetGrid charts with seaborn\n",
    "Note:</br>\n",
    "- useful to identify differences across a combination of categorical features.</br> \n",
    "- be careful if you have high cardinality in those features, it will take a long time.</br>\n",
    "- In that example, we can see that the month to month contracts have a higher Churn ratio, especially the contracts with no internet."
   ]
  },
  {
   "cell_type": "code",
   "execution_count": 19,
   "id": "ed3458d4",
   "metadata": {},
   "outputs": [
    {
     "data": {
      "image/png": "[encoded data removed]",
      "text/plain": [
       "<Figure size 958.4x475.2 with 9 Axes>"
      ]
     },
     "metadata": {
      "needs_background": "light"
     },
     "output_type": "display_data"
    }
   ],
   "source": [
    "grid = sns.FacetGrid(data_df, col='Contract', row='InternetService', height=2.2, aspect=2)\n",
    "grid.map(sns.countplot, 'Churn')\n",
    "grid.add_legend();\n",
    "plt.show()"
   ]
  },
  {
   "cell_type": "markdown",
   "id": "bc7ed767",
   "metadata": {},
   "source": [
    "### Looking at the relationship between 2 variables"
   ]
  },
  {
   "cell_type": "markdown",
   "id": "8bd29558",
   "metadata": {},
   "source": [
    "#### Scatter plot\n",
    "Shows how strongly pairs of features are related.\n",
    "In that example, we show the obvious correlation between totalcharges and monthly charges as well as few outliers"
   ]
  },
  {
   "cell_type": "code",
   "execution_count": 20,
   "id": "dc6df379",
   "metadata": {},
   "outputs": [
    {
     "data": {
      "image/png": "[encoded data removed]",
      "text/plain": [
       "<Figure size 432x288 with 1 Axes>"
      ]
     },
     "metadata": {
      "needs_background": "light"
     },
     "output_type": "display_data"
    }
   ],
   "source": [
    "#plt.xticks(rotation=90)\n",
    "sns.scatterplot(data=data_df.sample(frac=1), x='TotalCharges', y='MonthlyCharges')\n",
    "plt.show()"
   ]
  },
  {
   "cell_type": "markdown",
   "id": "6ea0f3b7",
   "metadata": {},
   "source": [
    "<img src='img/Screen Shot 2021-09-15 at 5.48.53 pm.png' width=800 align='left'>"
   ]
  },
  {
   "cell_type": "markdown",
   "id": "3a25371d",
   "metadata": {},
   "source": [
    "<img src='img/Screen Shot 2021-09-15 at 5.48.25 pm.png' width=800 align='left'>"
   ]
  },
  {
   "cell_type": "markdown",
   "id": "58885b2e",
   "metadata": {},
   "source": [
    "### Let's generate a correlation matrix for our dataset"
   ]
  },
  {
   "cell_type": "markdown",
   "id": "28505afe",
   "metadata": {},
   "source": [
    "to generate a correlation matrix, we need numerical values so we need to transform our categorical features into numerical one.</br>\n",
    "For that, we generate the one hot encoding representation of those categorical features.</br>"
   ]
  },
  {
   "cell_type": "markdown",
   "id": "e67ef583",
   "metadata": {},
   "source": [
    "### Quick side explanation on categorical features encoding\n",
    "we'll use that for the correlation matrix but especially just before training our model once we're done with the feature engineering."
   ]
  },
  {
   "cell_type": "markdown",
   "id": "b70f3e8c",
   "metadata": {},
   "source": [
    "<img src='img/Screen Shot 2021-09-17 at 11.20.26 am.png' width=800 align='left'>"
   ]
  },
  {
   "cell_type": "markdown",
   "id": "52371b18",
   "metadata": {},
   "source": [
    "<img src='img/Screen Shot 2021-09-17 at 11.20.38 am.png' width=800 align='left'>"
   ]
  },
  {
   "cell_type": "markdown",
   "id": "9e8d7ff0",
   "metadata": {},
   "source": [
    "Example:"
   ]
  },
  {
   "cell_type": "markdown",
   "id": "df914e9f",
   "metadata": {},
   "source": [
    "<img src='img/Screen Shot 2021-10-07 at 6.18.27 pm.png' width=800 align='left'/>"
   ]
  },
  {
   "cell_type": "code",
   "execution_count": 21,
   "id": "228c4c3e",
   "metadata": {},
   "outputs": [],
   "source": [
    "from sklearn.preprocessing import LabelEncoder\n",
    "\n",
    "def encode_categorical_features(df):\n",
    "    #getting a list of categorical columns\n",
    "    categorical_col = []\n",
    "    for col in df.columns:\n",
    "        col_dtype = df[col].dtype\n",
    "        if col_dtype == 'object':\n",
    "            categorical_col.append(col)\n",
    "         \n",
    "    #generating the one hot encoded features        \n",
    "    df = pd.get_dummies(df, columns=categorical_col)\n",
    "                           \n",
    "    print(df.shape)\n",
    "    return df"
   ]
  },
  {
   "cell_type": "code",
   "execution_count": 22,
   "id": "9d027118",
   "metadata": {},
   "outputs": [
    {
     "name": "stdout",
     "output_type": "stream",
     "text": [
      "(7043, 41)\n"
     ]
    }
   ],
   "source": [
    "#dropping the customerID as it is of no use for the correlation matrix\n",
    "corr_data_df = encode_categorical_features(data_df.drop('customerID', axis=1))"
   ]
  },
  {
   "cell_type": "code",
   "execution_count": 23,
   "id": "ac87a122",
   "metadata": {},
   "outputs": [
    {
     "data": {
      "text/html": [
       "<div>\n",
       "<style scoped>\n",
       "    .dataframe tbody tr th:only-of-type {\n",
       "        vertical-align: middle;\n",
       "    }\n",
       "\n",
       "    .dataframe tbody tr th {\n",
       "        vertical-align: top;\n",
       "    }\n",
       "\n",
       "    .dataframe thead th {\n",
       "        text-align: right;\n",
       "    }\n",
       "</style>\n",
       "<table border=\"1\" class=\"dataframe\">\n",
       "  <thead>\n",
       "    <tr style=\"text-align: right;\">\n",
       "      <th></th>\n",
       "      <th>gender</th>\n",
       "      <th>SeniorCitizen</th>\n",
       "      <th>Partner</th>\n",
       "      <th>Dependents</th>\n",
       "      <th>tenure</th>\n",
       "      <th>PhoneService</th>\n",
       "      <th>PaperlessBilling</th>\n",
       "      <th>MonthlyCharges</th>\n",
       "      <th>TotalCharges</th>\n",
       "      <th>Churn</th>\n",
       "      <th>MultipleLines_No</th>\n",
       "      <th>MultipleLines_No phone service</th>\n",
       "      <th>MultipleLines_Yes</th>\n",
       "      <th>InternetService_DSL</th>\n",
       "      <th>InternetService_Fiber optic</th>\n",
       "      <th>InternetService_No</th>\n",
       "      <th>OnlineSecurity_No</th>\n",
       "      <th>OnlineSecurity_No internet service</th>\n",
       "      <th>OnlineSecurity_Yes</th>\n",
       "      <th>OnlineBackup_No</th>\n",
       "      <th>OnlineBackup_No internet service</th>\n",
       "      <th>OnlineBackup_Yes</th>\n",
       "      <th>DeviceProtection_No</th>\n",
       "      <th>DeviceProtection_No internet service</th>\n",
       "      <th>DeviceProtection_Yes</th>\n",
       "      <th>TechSupport_No</th>\n",
       "      <th>TechSupport_No internet service</th>\n",
       "      <th>TechSupport_Yes</th>\n",
       "      <th>StreamingTV_No</th>\n",
       "      <th>StreamingTV_No internet service</th>\n",
       "      <th>StreamingTV_Yes</th>\n",
       "      <th>StreamingMovies_No</th>\n",
       "      <th>StreamingMovies_No internet service</th>\n",
       "      <th>StreamingMovies_Yes</th>\n",
       "      <th>Contract_Month-to-month</th>\n",
       "      <th>Contract_One year</th>\n",
       "      <th>Contract_Two year</th>\n",
       "      <th>PaymentMethod_Bank transfer (automatic)</th>\n",
       "      <th>PaymentMethod_Credit card (automatic)</th>\n",
       "      <th>PaymentMethod_Electronic check</th>\n",
       "      <th>PaymentMethod_Mailed check</th>\n",
       "    </tr>\n",
       "  </thead>\n",
       "  <tbody>\n",
       "    <tr>\n",
       "      <th>0</th>\n",
       "      <td>1</td>\n",
       "      <td>0</td>\n",
       "      <td>1</td>\n",
       "      <td>0</td>\n",
       "      <td>1.0</td>\n",
       "      <td>0</td>\n",
       "      <td>1</td>\n",
       "      <td>29.85</td>\n",
       "      <td>29.85</td>\n",
       "      <td>0</td>\n",
       "      <td>0</td>\n",
       "      <td>1</td>\n",
       "      <td>0</td>\n",
       "      <td>1</td>\n",
       "      <td>0</td>\n",
       "      <td>0</td>\n",
       "      <td>1</td>\n",
       "      <td>0</td>\n",
       "      <td>0</td>\n",
       "      <td>0</td>\n",
       "      <td>0</td>\n",
       "      <td>1</td>\n",
       "      <td>1</td>\n",
       "      <td>0</td>\n",
       "      <td>0</td>\n",
       "      <td>1</td>\n",
       "      <td>0</td>\n",
       "      <td>0</td>\n",
       "      <td>1</td>\n",
       "      <td>0</td>\n",
       "      <td>0</td>\n",
       "      <td>1</td>\n",
       "      <td>0</td>\n",
       "      <td>0</td>\n",
       "      <td>1</td>\n",
       "      <td>0</td>\n",
       "      <td>0</td>\n",
       "      <td>0</td>\n",
       "      <td>0</td>\n",
       "      <td>1</td>\n",
       "      <td>0</td>\n",
       "    </tr>\n",
       "    <tr>\n",
       "      <th>1</th>\n",
       "      <td>0</td>\n",
       "      <td>0</td>\n",
       "      <td>0</td>\n",
       "      <td>0</td>\n",
       "      <td>34.0</td>\n",
       "      <td>1</td>\n",
       "      <td>0</td>\n",
       "      <td>56.95</td>\n",
       "      <td>1889.50</td>\n",
       "      <td>0</td>\n",
       "      <td>1</td>\n",
       "      <td>0</td>\n",
       "      <td>0</td>\n",
       "      <td>1</td>\n",
       "      <td>0</td>\n",
       "      <td>0</td>\n",
       "      <td>0</td>\n",
       "      <td>0</td>\n",
       "      <td>1</td>\n",
       "      <td>1</td>\n",
       "      <td>0</td>\n",
       "      <td>0</td>\n",
       "      <td>0</td>\n",
       "      <td>0</td>\n",
       "      <td>1</td>\n",
       "      <td>1</td>\n",
       "      <td>0</td>\n",
       "      <td>0</td>\n",
       "      <td>1</td>\n",
       "      <td>0</td>\n",
       "      <td>0</td>\n",
       "      <td>1</td>\n",
       "      <td>0</td>\n",
       "      <td>0</td>\n",
       "      <td>0</td>\n",
       "      <td>1</td>\n",
       "      <td>0</td>\n",
       "      <td>0</td>\n",
       "      <td>0</td>\n",
       "      <td>0</td>\n",
       "      <td>1</td>\n",
       "    </tr>\n",
       "    <tr>\n",
       "      <th>2</th>\n",
       "      <td>0</td>\n",
       "      <td>0</td>\n",
       "      <td>0</td>\n",
       "      <td>0</td>\n",
       "      <td>2.0</td>\n",
       "      <td>1</td>\n",
       "      <td>1</td>\n",
       "      <td>53.85</td>\n",
       "      <td>108.15</td>\n",
       "      <td>1</td>\n",
       "      <td>1</td>\n",
       "      <td>0</td>\n",
       "      <td>0</td>\n",
       "      <td>1</td>\n",
       "      <td>0</td>\n",
       "      <td>0</td>\n",
       "      <td>0</td>\n",
       "      <td>0</td>\n",
       "      <td>1</td>\n",
       "      <td>0</td>\n",
       "      <td>0</td>\n",
       "      <td>1</td>\n",
       "      <td>1</td>\n",
       "      <td>0</td>\n",
       "      <td>0</td>\n",
       "      <td>1</td>\n",
       "      <td>0</td>\n",
       "      <td>0</td>\n",
       "      <td>1</td>\n",
       "      <td>0</td>\n",
       "      <td>0</td>\n",
       "      <td>1</td>\n",
       "      <td>0</td>\n",
       "      <td>0</td>\n",
       "      <td>1</td>\n",
       "      <td>0</td>\n",
       "      <td>0</td>\n",
       "      <td>0</td>\n",
       "      <td>0</td>\n",
       "      <td>0</td>\n",
       "      <td>1</td>\n",
       "    </tr>\n",
       "    <tr>\n",
       "      <th>3</th>\n",
       "      <td>0</td>\n",
       "      <td>0</td>\n",
       "      <td>0</td>\n",
       "      <td>0</td>\n",
       "      <td>45.0</td>\n",
       "      <td>0</td>\n",
       "      <td>0</td>\n",
       "      <td>42.30</td>\n",
       "      <td>1840.75</td>\n",
       "      <td>0</td>\n",
       "      <td>0</td>\n",
       "      <td>1</td>\n",
       "      <td>0</td>\n",
       "      <td>1</td>\n",
       "      <td>0</td>\n",
       "      <td>0</td>\n",
       "      <td>0</td>\n",
       "      <td>0</td>\n",
       "      <td>1</td>\n",
       "      <td>1</td>\n",
       "      <td>0</td>\n",
       "      <td>0</td>\n",
       "      <td>0</td>\n",
       "      <td>0</td>\n",
       "      <td>1</td>\n",
       "      <td>0</td>\n",
       "      <td>0</td>\n",
       "      <td>1</td>\n",
       "      <td>1</td>\n",
       "      <td>0</td>\n",
       "      <td>0</td>\n",
       "      <td>1</td>\n",
       "      <td>0</td>\n",
       "      <td>0</td>\n",
       "      <td>0</td>\n",
       "      <td>1</td>\n",
       "      <td>0</td>\n",
       "      <td>1</td>\n",
       "      <td>0</td>\n",
       "      <td>0</td>\n",
       "      <td>0</td>\n",
       "    </tr>\n",
       "    <tr>\n",
       "      <th>4</th>\n",
       "      <td>1</td>\n",
       "      <td>0</td>\n",
       "      <td>0</td>\n",
       "      <td>0</td>\n",
       "      <td>2.0</td>\n",
       "      <td>1</td>\n",
       "      <td>1</td>\n",
       "      <td>70.70</td>\n",
       "      <td>151.65</td>\n",
       "      <td>1</td>\n",
       "      <td>1</td>\n",
       "      <td>0</td>\n",
       "      <td>0</td>\n",
       "      <td>0</td>\n",
       "      <td>1</td>\n",
       "      <td>0</td>\n",
       "      <td>1</td>\n",
       "      <td>0</td>\n",
       "      <td>0</td>\n",
       "      <td>1</td>\n",
       "      <td>0</td>\n",
       "      <td>0</td>\n",
       "      <td>1</td>\n",
       "      <td>0</td>\n",
       "      <td>0</td>\n",
       "      <td>1</td>\n",
       "      <td>0</td>\n",
       "      <td>0</td>\n",
       "      <td>1</td>\n",
       "      <td>0</td>\n",
       "      <td>0</td>\n",
       "      <td>1</td>\n",
       "      <td>0</td>\n",
       "      <td>0</td>\n",
       "      <td>1</td>\n",
       "      <td>0</td>\n",
       "      <td>0</td>\n",
       "      <td>0</td>\n",
       "      <td>0</td>\n",
       "      <td>1</td>\n",
       "      <td>0</td>\n",
       "    </tr>\n",
       "  </tbody>\n",
       "</table>\n",
       "</div>"
      ],
      "text/plain": [
       "   gender  SeniorCitizen  Partner  Dependents  tenure  PhoneService  \\\n",
       "0       1              0        1           0     1.0             0   \n",
       "1       0              0        0           0    34.0             1   \n",
       "2       0              0        0           0     2.0             1   \n",
       "3       0              0        0           0    45.0             0   \n",
       "4       1              0        0           0     2.0             1   \n",
       "\n",
       "   PaperlessBilling  MonthlyCharges  TotalCharges  Churn  MultipleLines_No  \\\n",
       "0                 1           29.85         29.85      0                 0   \n",
       "1                 0           56.95       1889.50      0                 1   \n",
       "2                 1           53.85        108.15      1                 1   \n",
       "3                 0           42.30       1840.75      0                 0   \n",
       "4                 1           70.70        151.65      1                 1   \n",
       "\n",
       "   MultipleLines_No phone service  MultipleLines_Yes  InternetService_DSL  \\\n",
       "0                               1                  0                    1   \n",
       "1                               0                  0                    1   \n",
       "2                               0                  0                    1   \n",
       "3                               1                  0                    1   \n",
       "4                               0                  0                    0   \n",
       "\n",
       "   InternetService_Fiber optic  InternetService_No  OnlineSecurity_No  \\\n",
       "0                            0                   0                  1   \n",
       "1                            0                   0                  0   \n",
       "2                            0                   0                  0   \n",
       "3                            0                   0                  0   \n",
       "4                            1                   0                  1   \n",
       "\n",
       "   OnlineSecurity_No internet service  OnlineSecurity_Yes  OnlineBackup_No  \\\n",
       "0                                   0                   0                0   \n",
       "1                                   0                   1                1   \n",
       "2                                   0                   1                0   \n",
       "3                                   0                   1                1   \n",
       "4                                   0                   0                1   \n",
       "\n",
       "   OnlineBackup_No internet service  OnlineBackup_Yes  DeviceProtection_No  \\\n",
       "0                                 0                 1                    1   \n",
       "1                                 0                 0                    0   \n",
       "2                                 0                 1                    1   \n",
       "3                                 0                 0                    0   \n",
       "4                                 0                 0                    1   \n",
       "\n",
       "   DeviceProtection_No internet service  DeviceProtection_Yes  TechSupport_No  \\\n",
       "0                                     0                     0               1   \n",
       "1                                     0                     1               1   \n",
       "2                                     0                     0               1   \n",
       "3                                     0                     1               0   \n",
       "4                                     0                     0               1   \n",
       "\n",
       "   TechSupport_No internet service  TechSupport_Yes  StreamingTV_No  \\\n",
       "0                                0                0               1   \n",
       "1                                0                0               1   \n",
       "2                                0                0               1   \n",
       "3                                0                1               1   \n",
       "4                                0                0               1   \n",
       "\n",
       "   StreamingTV_No internet service  StreamingTV_Yes  StreamingMovies_No  \\\n",
       "0                                0                0                   1   \n",
       "1                                0                0                   1   \n",
       "2                                0                0                   1   \n",
       "3                                0                0                   1   \n",
       "4                                0                0                   1   \n",
       "\n",
       "   StreamingMovies_No internet service  StreamingMovies_Yes  \\\n",
       "0                                    0                    0   \n",
       "1                                    0                    0   \n",
       "2                                    0                    0   \n",
       "3                                    0                    0   \n",
       "4                                    0                    0   \n",
       "\n",
       "   Contract_Month-to-month  Contract_One year  Contract_Two year  \\\n",
       "0                        1                  0                  0   \n",
       "1                        0                  1                  0   \n",
       "2                        1                  0                  0   \n",
       "3                        0                  1                  0   \n",
       "4                        1                  0                  0   \n",
       "\n",
       "   PaymentMethod_Bank transfer (automatic)  \\\n",
       "0                                        0   \n",
       "1                                        0   \n",
       "2                                        0   \n",
       "3                                        1   \n",
       "4                                        0   \n",
       "\n",
       "   PaymentMethod_Credit card (automatic)  PaymentMethod_Electronic check  \\\n",
       "0                                      0                               1   \n",
       "1                                      0                               0   \n",
       "2                                      0                               0   \n",
       "3                                      0                               0   \n",
       "4                                      0                               1   \n",
       "\n",
       "   PaymentMethod_Mailed check  \n",
       "0                           0  \n",
       "1                           1  \n",
       "2                           1  \n",
       "3                           0  \n",
       "4                           0  "
      ]
     },
     "execution_count": 23,
     "metadata": {},
     "output_type": "execute_result"
    }
   ],
   "source": [
    "corr_data_df.head(5)"
   ]
  },
  {
   "cell_type": "markdown",
   "id": "e5b3e86d",
   "metadata": {},
   "source": [
    "We generate the correlation matrix"
   ]
  },
  {
   "cell_type": "code",
   "execution_count": 24,
   "id": "8aee207c",
   "metadata": {},
   "outputs": [],
   "source": [
    "corrmat = corr_data_df.corr()"
   ]
  },
  {
   "cell_type": "markdown",
   "id": "88af3500",
   "metadata": {},
   "source": [
    "read more about correlation matrices: \n",
    "https://pandas.pydata.org/docs/reference/api/pandas.DataFrame.corr.html\n",
    "\n",
    "How is the Pearson correlation coefficient calculated?\n",
    "https://en.wikipedia.org/wiki/Pearson_correlation_coefficient\n"
   ]
  },
  {
   "cell_type": "code",
   "execution_count": 25,
   "id": "6fbd53b2",
   "metadata": {},
   "outputs": [
    {
     "data": {
      "text/html": [
       "<div>\n",
       "<style scoped>\n",
       "    .dataframe tbody tr th:only-of-type {\n",
       "        vertical-align: middle;\n",
       "    }\n",
       "\n",
       "    .dataframe tbody tr th {\n",
       "        vertical-align: top;\n",
       "    }\n",
       "\n",
       "    .dataframe thead th {\n",
       "        text-align: right;\n",
       "    }\n",
       "</style>\n",
       "<table border=\"1\" class=\"dataframe\">\n",
       "  <thead>\n",
       "    <tr style=\"text-align: right;\">\n",
       "      <th></th>\n",
       "      <th>gender</th>\n",
       "      <th>SeniorCitizen</th>\n",
       "      <th>Partner</th>\n",
       "      <th>Dependents</th>\n",
       "      <th>tenure</th>\n",
       "      <th>PhoneService</th>\n",
       "      <th>PaperlessBilling</th>\n",
       "      <th>MonthlyCharges</th>\n",
       "      <th>TotalCharges</th>\n",
       "      <th>Churn</th>\n",
       "      <th>MultipleLines_No</th>\n",
       "      <th>MultipleLines_No phone service</th>\n",
       "      <th>MultipleLines_Yes</th>\n",
       "      <th>InternetService_DSL</th>\n",
       "      <th>InternetService_Fiber optic</th>\n",
       "      <th>InternetService_No</th>\n",
       "      <th>OnlineSecurity_No</th>\n",
       "      <th>OnlineSecurity_No internet service</th>\n",
       "      <th>OnlineSecurity_Yes</th>\n",
       "      <th>OnlineBackup_No</th>\n",
       "      <th>OnlineBackup_No internet service</th>\n",
       "      <th>OnlineBackup_Yes</th>\n",
       "      <th>DeviceProtection_No</th>\n",
       "      <th>DeviceProtection_No internet service</th>\n",
       "      <th>DeviceProtection_Yes</th>\n",
       "      <th>TechSupport_No</th>\n",
       "      <th>TechSupport_No internet service</th>\n",
       "      <th>TechSupport_Yes</th>\n",
       "      <th>StreamingTV_No</th>\n",
       "      <th>StreamingTV_No internet service</th>\n",
       "      <th>StreamingTV_Yes</th>\n",
       "      <th>StreamingMovies_No</th>\n",
       "      <th>StreamingMovies_No internet service</th>\n",
       "      <th>StreamingMovies_Yes</th>\n",
       "      <th>Contract_Month-to-month</th>\n",
       "      <th>Contract_One year</th>\n",
       "      <th>Contract_Two year</th>\n",
       "      <th>PaymentMethod_Bank transfer (automatic)</th>\n",
       "      <th>PaymentMethod_Credit card (automatic)</th>\n",
       "      <th>PaymentMethod_Electronic check</th>\n",
       "      <th>PaymentMethod_Mailed check</th>\n",
       "    </tr>\n",
       "  </thead>\n",
       "  <tbody>\n",
       "    <tr>\n",
       "      <th>gender</th>\n",
       "      <td>1.000000</td>\n",
       "      <td>0.001874</td>\n",
       "      <td>0.001808</td>\n",
       "      <td>-0.010517</td>\n",
       "      <td>-0.004910</td>\n",
       "      <td>0.006488</td>\n",
       "      <td>0.011754</td>\n",
       "      <td>0.014569</td>\n",
       "      <td>0.001070</td>\n",
       "      <td>0.008612</td>\n",
       "      <td>-0.004476</td>\n",
       "      <td>-0.006488</td>\n",
       "      <td>0.008414</td>\n",
       "      <td>-0.006568</td>\n",
       "      <td>0.011286</td>\n",
       "      <td>-0.006026</td>\n",
       "      <td>-0.010429</td>\n",
       "      <td>-0.006026</td>\n",
       "      <td>0.017021</td>\n",
       "      <td>-0.008191</td>\n",
       "      <td>-0.006026</td>\n",
       "      <td>0.013773</td>\n",
       "      <td>0.002988</td>\n",
       "      <td>-0.006026</td>\n",
       "      <td>0.002105</td>\n",
       "      <td>-0.003397</td>\n",
       "      <td>-0.006026</td>\n",
       "      <td>0.009212</td>\n",
       "      <td>-0.003267</td>\n",
       "      <td>-0.006026</td>\n",
       "      <td>0.008393</td>\n",
       "      <td>-0.005374</td>\n",
       "      <td>-0.006026</td>\n",
       "      <td>0.010487</td>\n",
       "      <td>0.003386</td>\n",
       "      <td>-0.008026</td>\n",
       "      <td>0.003695</td>\n",
       "      <td>0.016024</td>\n",
       "      <td>-0.001215</td>\n",
       "      <td>-0.000752</td>\n",
       "      <td>-0.013744</td>\n",
       "    </tr>\n",
       "    <tr>\n",
       "      <th>SeniorCitizen</th>\n",
       "      <td>0.001874</td>\n",
       "      <td>1.000000</td>\n",
       "      <td>0.016479</td>\n",
       "      <td>-0.211185</td>\n",
       "      <td>0.014852</td>\n",
       "      <td>0.008576</td>\n",
       "      <td>0.156530</td>\n",
       "      <td>0.220173</td>\n",
       "      <td>0.102979</td>\n",
       "      <td>0.150889</td>\n",
       "      <td>-0.136213</td>\n",
       "      <td>-0.008576</td>\n",
       "      <td>0.142948</td>\n",
       "      <td>-0.108322</td>\n",
       "      <td>0.255338</td>\n",
       "      <td>-0.182742</td>\n",
       "      <td>0.185532</td>\n",
       "      <td>-0.182742</td>\n",
       "      <td>-0.038653</td>\n",
       "      <td>0.087952</td>\n",
       "      <td>-0.182742</td>\n",
       "      <td>0.066572</td>\n",
       "      <td>0.094810</td>\n",
       "      <td>-0.182742</td>\n",
       "      <td>0.059428</td>\n",
       "      <td>0.205620</td>\n",
       "      <td>-0.182742</td>\n",
       "      <td>-0.060625</td>\n",
       "      <td>0.049062</td>\n",
       "      <td>-0.182742</td>\n",
       "      <td>0.105378</td>\n",
       "      <td>0.034210</td>\n",
       "      <td>-0.182742</td>\n",
       "      <td>0.120176</td>\n",
       "      <td>0.138360</td>\n",
       "      <td>-0.046262</td>\n",
       "      <td>-0.117000</td>\n",
       "      <td>-0.016159</td>\n",
       "      <td>-0.024135</td>\n",
       "      <td>0.171718</td>\n",
       "      <td>-0.153477</td>\n",
       "    </tr>\n",
       "    <tr>\n",
       "      <th>Partner</th>\n",
       "      <td>0.001808</td>\n",
       "      <td>0.016479</td>\n",
       "      <td>1.000000</td>\n",
       "      <td>0.452676</td>\n",
       "      <td>0.378780</td>\n",
       "      <td>0.017706</td>\n",
       "      <td>-0.014877</td>\n",
       "      <td>0.096848</td>\n",
       "      <td>0.311125</td>\n",
       "      <td>-0.150448</td>\n",
       "      <td>-0.129929</td>\n",
       "      <td>-0.017706</td>\n",
       "      <td>0.142057</td>\n",
       "      <td>-0.000851</td>\n",
       "      <td>0.000304</td>\n",
       "      <td>0.000615</td>\n",
       "      <td>-0.129936</td>\n",
       "      <td>0.000615</td>\n",
       "      <td>0.143106</td>\n",
       "      <td>-0.136058</td>\n",
       "      <td>0.000615</td>\n",
       "      <td>0.141498</td>\n",
       "      <td>-0.147692</td>\n",
       "      <td>0.000615</td>\n",
       "      <td>0.153786</td>\n",
       "      <td>-0.109443</td>\n",
       "      <td>0.000615</td>\n",
       "      <td>0.119999</td>\n",
       "      <td>-0.124357</td>\n",
       "      <td>0.000615</td>\n",
       "      <td>0.124666</td>\n",
       "      <td>-0.117529</td>\n",
       "      <td>0.000615</td>\n",
       "      <td>0.117412</td>\n",
       "      <td>-0.280865</td>\n",
       "      <td>0.082783</td>\n",
       "      <td>0.248091</td>\n",
       "      <td>0.110706</td>\n",
       "      <td>0.082029</td>\n",
       "      <td>-0.083852</td>\n",
       "      <td>-0.095125</td>\n",
       "    </tr>\n",
       "    <tr>\n",
       "      <th>Dependents</th>\n",
       "      <td>-0.010517</td>\n",
       "      <td>-0.211185</td>\n",
       "      <td>0.452676</td>\n",
       "      <td>1.000000</td>\n",
       "      <td>0.161299</td>\n",
       "      <td>-0.001762</td>\n",
       "      <td>-0.111377</td>\n",
       "      <td>-0.113890</td>\n",
       "      <td>0.061422</td>\n",
       "      <td>-0.164221</td>\n",
       "      <td>0.023198</td>\n",
       "      <td>0.001762</td>\n",
       "      <td>-0.024526</td>\n",
       "      <td>0.052010</td>\n",
       "      <td>-0.165818</td>\n",
       "      <td>0.139812</td>\n",
       "      <td>-0.188434</td>\n",
       "      <td>0.139812</td>\n",
       "      <td>0.080972</td>\n",
       "      <td>-0.138756</td>\n",
       "      <td>0.139812</td>\n",
       "      <td>0.023671</td>\n",
       "      <td>-0.129415</td>\n",
       "      <td>0.139812</td>\n",
       "      <td>0.013963</td>\n",
       "      <td>-0.172645</td>\n",
       "      <td>0.139812</td>\n",
       "      <td>0.063268</td>\n",
       "      <td>-0.101176</td>\n",
       "      <td>0.139812</td>\n",
       "      <td>-0.016558</td>\n",
       "      <td>-0.078198</td>\n",
       "      <td>0.139812</td>\n",
       "      <td>-0.039741</td>\n",
       "      <td>-0.231720</td>\n",
       "      <td>0.068368</td>\n",
       "      <td>0.204613</td>\n",
       "      <td>0.052021</td>\n",
       "      <td>0.060267</td>\n",
       "      <td>-0.150642</td>\n",
       "      <td>0.059071</td>\n",
       "    </tr>\n",
       "    <tr>\n",
       "      <th>tenure</th>\n",
       "      <td>-0.004910</td>\n",
       "      <td>0.014852</td>\n",
       "      <td>0.378780</td>\n",
       "      <td>0.161299</td>\n",
       "      <td>1.000000</td>\n",
       "      <td>0.008329</td>\n",
       "      <td>0.004735</td>\n",
       "      <td>0.248578</td>\n",
       "      <td>0.813324</td>\n",
       "      <td>-0.352447</td>\n",
       "      <td>-0.324129</td>\n",
       "      <td>-0.008329</td>\n",
       "      <td>0.332950</td>\n",
       "      <td>0.014540</td>\n",
       "      <td>0.019025</td>\n",
       "      <td>-0.039771</td>\n",
       "      <td>-0.265439</td>\n",
       "      <td>-0.039771</td>\n",
       "      <td>0.329426</td>\n",
       "      <td>-0.312434</td>\n",
       "      <td>-0.039771</td>\n",
       "      <td>0.360526</td>\n",
       "      <td>-0.312295</td>\n",
       "      <td>-0.039771</td>\n",
       "      <td>0.360614</td>\n",
       "      <td>-0.261866</td>\n",
       "      <td>-0.039771</td>\n",
       "      <td>0.324412</td>\n",
       "      <td>-0.245269</td>\n",
       "      <td>-0.039771</td>\n",
       "      <td>0.280552</td>\n",
       "      <td>-0.251682</td>\n",
       "      <td>-0.039771</td>\n",
       "      <td>0.286064</td>\n",
       "      <td>-0.646069</td>\n",
       "      <td>0.202247</td>\n",
       "      <td>0.559678</td>\n",
       "      <td>0.243068</td>\n",
       "      <td>0.232602</td>\n",
       "      <td>-0.209257</td>\n",
       "      <td>-0.232277</td>\n",
       "    </tr>\n",
       "  </tbody>\n",
       "</table>\n",
       "</div>"
      ],
      "text/plain": [
       "                 gender  SeniorCitizen   Partner  Dependents    tenure  \\\n",
       "gender         1.000000       0.001874  0.001808   -0.010517 -0.004910   \n",
       "SeniorCitizen  0.001874       1.000000  0.016479   -0.211185  0.014852   \n",
       "Partner        0.001808       0.016479  1.000000    0.452676  0.378780   \n",
       "Dependents    -0.010517      -0.211185  0.452676    1.000000  0.161299   \n",
       "tenure        -0.004910       0.014852  0.378780    0.161299  1.000000   \n",
       "\n",
       "               PhoneService  PaperlessBilling  MonthlyCharges  TotalCharges  \\\n",
       "gender             0.006488          0.011754        0.014569      0.001070   \n",
       "SeniorCitizen      0.008576          0.156530        0.220173      0.102979   \n",
       "Partner            0.017706         -0.014877        0.096848      0.311125   \n",
       "Dependents        -0.001762         -0.111377       -0.113890      0.061422   \n",
       "tenure             0.008329          0.004735        0.248578      0.813324   \n",
       "\n",
       "                  Churn  MultipleLines_No  MultipleLines_No phone service  \\\n",
       "gender         0.008612         -0.004476                       -0.006488   \n",
       "SeniorCitizen  0.150889         -0.136213                       -0.008576   \n",
       "Partner       -0.150448         -0.129929                       -0.017706   \n",
       "Dependents    -0.164221          0.023198                        0.001762   \n",
       "tenure        -0.352447         -0.324129                       -0.008329   \n",
       "\n",
       "               MultipleLines_Yes  InternetService_DSL  \\\n",
       "gender                  0.008414            -0.006568   \n",
       "SeniorCitizen           0.142948            -0.108322   \n",
       "Partner                 0.142057            -0.000851   \n",
       "Dependents             -0.024526             0.052010   \n",
       "tenure                  0.332950             0.014540   \n",
       "\n",
       "               InternetService_Fiber optic  InternetService_No  \\\n",
       "gender                            0.011286           -0.006026   \n",
       "SeniorCitizen                     0.255338           -0.182742   \n",
       "Partner                           0.000304            0.000615   \n",
       "Dependents                       -0.165818            0.139812   \n",
       "tenure                            0.019025           -0.039771   \n",
       "\n",
       "               OnlineSecurity_No  OnlineSecurity_No internet service  \\\n",
       "gender                 -0.010429                           -0.006026   \n",
       "SeniorCitizen           0.185532                           -0.182742   \n",
       "Partner                -0.129936                            0.000615   \n",
       "Dependents             -0.188434                            0.139812   \n",
       "tenure                 -0.265439                           -0.039771   \n",
       "\n",
       "               OnlineSecurity_Yes  OnlineBackup_No  \\\n",
       "gender                   0.017021        -0.008191   \n",
       "SeniorCitizen           -0.038653         0.087952   \n",
       "Partner                  0.143106        -0.136058   \n",
       "Dependents               0.080972        -0.138756   \n",
       "tenure                   0.329426        -0.312434   \n",
       "\n",
       "               OnlineBackup_No internet service  OnlineBackup_Yes  \\\n",
       "gender                                -0.006026          0.013773   \n",
       "SeniorCitizen                         -0.182742          0.066572   \n",
       "Partner                                0.000615          0.141498   \n",
       "Dependents                             0.139812          0.023671   \n",
       "tenure                                -0.039771          0.360526   \n",
       "\n",
       "               DeviceProtection_No  DeviceProtection_No internet service  \\\n",
       "gender                    0.002988                             -0.006026   \n",
       "SeniorCitizen             0.094810                             -0.182742   \n",
       "Partner                  -0.147692                              0.000615   \n",
       "Dependents               -0.129415                              0.139812   \n",
       "tenure                   -0.312295                             -0.039771   \n",
       "\n",
       "               DeviceProtection_Yes  TechSupport_No  \\\n",
       "gender                     0.002105       -0.003397   \n",
       "SeniorCitizen              0.059428        0.205620   \n",
       "Partner                    0.153786       -0.109443   \n",
       "Dependents                 0.013963       -0.172645   \n",
       "tenure                     0.360614       -0.261866   \n",
       "\n",
       "               TechSupport_No internet service  TechSupport_Yes  \\\n",
       "gender                               -0.006026         0.009212   \n",
       "SeniorCitizen                        -0.182742        -0.060625   \n",
       "Partner                               0.000615         0.119999   \n",
       "Dependents                            0.139812         0.063268   \n",
       "tenure                               -0.039771         0.324412   \n",
       "\n",
       "               StreamingTV_No  StreamingTV_No internet service  \\\n",
       "gender              -0.003267                        -0.006026   \n",
       "SeniorCitizen        0.049062                        -0.182742   \n",
       "Partner             -0.124357                         0.000615   \n",
       "Dependents          -0.101176                         0.139812   \n",
       "tenure              -0.245269                        -0.039771   \n",
       "\n",
       "               StreamingTV_Yes  StreamingMovies_No  \\\n",
       "gender                0.008393           -0.005374   \n",
       "SeniorCitizen         0.105378            0.034210   \n",
       "Partner               0.124666           -0.117529   \n",
       "Dependents           -0.016558           -0.078198   \n",
       "tenure                0.280552           -0.251682   \n",
       "\n",
       "               StreamingMovies_No internet service  StreamingMovies_Yes  \\\n",
       "gender                                   -0.006026             0.010487   \n",
       "SeniorCitizen                            -0.182742             0.120176   \n",
       "Partner                                   0.000615             0.117412   \n",
       "Dependents                                0.139812            -0.039741   \n",
       "tenure                                   -0.039771             0.286064   \n",
       "\n",
       "               Contract_Month-to-month  Contract_One year  Contract_Two year  \\\n",
       "gender                        0.003386          -0.008026           0.003695   \n",
       "SeniorCitizen                 0.138360          -0.046262          -0.117000   \n",
       "Partner                      -0.280865           0.082783           0.248091   \n",
       "Dependents                   -0.231720           0.068368           0.204613   \n",
       "tenure                       -0.646069           0.202247           0.559678   \n",
       "\n",
       "               PaymentMethod_Bank transfer (automatic)  \\\n",
       "gender                                        0.016024   \n",
       "SeniorCitizen                                -0.016159   \n",
       "Partner                                       0.110706   \n",
       "Dependents                                    0.052021   \n",
       "tenure                                        0.243068   \n",
       "\n",
       "               PaymentMethod_Credit card (automatic)  \\\n",
       "gender                                     -0.001215   \n",
       "SeniorCitizen                              -0.024135   \n",
       "Partner                                     0.082029   \n",
       "Dependents                                  0.060267   \n",
       "tenure                                      0.232602   \n",
       "\n",
       "               PaymentMethod_Electronic check  PaymentMethod_Mailed check  \n",
       "gender                              -0.000752                   -0.013744  \n",
       "SeniorCitizen                        0.171718                   -0.153477  \n",
       "Partner                             -0.083852                   -0.095125  \n",
       "Dependents                          -0.150642                    0.059071  \n",
       "tenure                              -0.209257                   -0.232277  "
      ]
     },
     "execution_count": 25,
     "metadata": {},
     "output_type": "execute_result"
    }
   ],
   "source": [
    "corrmat.head(5)"
   ]
  },
  {
   "cell_type": "markdown",
   "id": "eb1bc336",
   "metadata": {},
   "source": [
    "We identify the top 5 feature-label pairs with the highest correlation (=Pearson score), positive or negative (absolute value)."
   ]
  },
  {
   "cell_type": "code",
   "execution_count": 26,
   "id": "608bb7d1",
   "metadata": {},
   "outputs": [
    {
     "data": {
      "text/plain": [
       "Contract_Month-to-month        0.405103\n",
       "tenure                         0.352447\n",
       "OnlineSecurity_No              0.342637\n",
       "TechSupport_No                 0.337281\n",
       "InternetService_Fiber optic    0.308020\n",
       "Name: Churn, dtype: float64"
      ]
     },
     "execution_count": 26,
     "metadata": {},
     "output_type": "execute_result"
    }
   ],
   "source": [
    "corrmat['Churn'].apply(lambda x: abs(x)).sort_values(ascending=False).drop('Churn').head(5)"
   ]
  },
  {
   "cell_type": "markdown",
   "id": "1f390364",
   "metadata": {},
   "source": [
    "This tells us that those 5 features have the highest linear dependency (direct relationship) with the target amongst all features."
   ]
  },
  {
   "cell_type": "markdown",
   "id": "4171205c",
   "metadata": {},
   "source": [
    "We generate a heatmap to visualise the pairs correlation. "
   ]
  },
  {
   "cell_type": "code",
   "execution_count": 27,
   "id": "53c788ad",
   "metadata": {},
   "outputs": [
    {
     "data": {
      "image/png": "[encoded data removed]",
      "text/plain": [
       "<Figure size 3600x3600 with 2 Axes>"
      ]
     },
     "metadata": {
      "needs_background": "light"
     },
     "output_type": "display_data"
    }
   ],
   "source": [
    "import numpy as np\n",
    "mask = np.triu(np.ones_like(corrmat, dtype=np.bool))\n",
    "plt.figure(figsize=(50,50))\n",
    "g = sns.heatmap(corrmat,annot=False,cmap=\"RdYlGn\", mask=mask, vmax=.3, center=0,square=True, linewidths=.5, cbar_kws={\"shrink\": .5})"
   ]
  },
  {
   "cell_type": "markdown",
   "id": "f32ee0e0",
   "metadata": {},
   "source": [
    "# Your Turn! explore a bit the dataset by generating few graphs based on what we've seen."
   ]
  },
  {
   "cell_type": "code",
   "execution_count": null,
   "id": "69d2a80e",
   "metadata": {},
   "outputs": [],
   "source": []
  },
  {
   "cell_type": "markdown",
   "id": "1542034a",
   "metadata": {},
   "source": [
    "# Imbalanced Dataset"
   ]
  },
  {
   "cell_type": "code",
   "execution_count": 28,
   "id": "5361bc51",
   "metadata": {},
   "outputs": [
    {
     "data": {
      "image/png": "[encoded data removed]",
      "text/plain": [
       "<Figure size 432x288 with 1 Axes>"
      ]
     },
     "metadata": {
      "needs_background": "light"
     },
     "output_type": "display_data"
    }
   ],
   "source": [
    "sns.countplot(x='Churn', data=data_df)\n",
    "plt.show()"
   ]
  },
  {
   "cell_type": "markdown",
   "id": "f5888e88",
   "metadata": {},
   "source": [
    "Class imbalance is a surprisingly common problem in machine learning (specifically in classification), occurring in datasets with a disproportionate ratio of observations in each class.</br>\n",
    "\n",
    "That is, the # of samples per class is not equally distributed.</br>\n",
    "\n",
    "The ML model may not work well for the infrequent classes, as there are not enough samples to learn patterns from, would be hard for the classifier to identify / match those patterns </br>\n",
    "\n",
    "Apart from changing performance metrics from accuracy to precision, recall, and/or f1 score, other ways to address class imbalance are basically related to balancing either the the dataset or the way ML alg learn from the dataset:</br>\n"
   ]
  },
  {
   "cell_type": "markdown",
   "id": "815725c6",
   "metadata": {},
   "source": [
    "<img src='img/Screen Shot 2021-09-16 at 2.10.05 pm.png' width=800 align='left'>"
   ]
  },
  {
   "cell_type": "markdown",
   "id": "7eb0fcb5",
   "metadata": {},
   "source": [
    "</br>\n",
    "We'll later use the XGBoost algorithm to build our model. XGBoost has similar mechanism (scale_pos_weight hyperparameter) to handle imbalanced datasets.\n",
    "</br>"
   ]
  },
  {
   "cell_type": "markdown",
   "id": "4386ebc8",
   "metadata": {},
   "source": [
    "# Handling Missing Data"
   ]
  },
  {
   "cell_type": "markdown",
   "id": "fd102729",
   "metadata": {},
   "source": [
    "<img src='img/Screen Shot 2021-09-16 at 2.14.05 pm.png' width=800 align='left'>"
   ]
  },
  {
   "cell_type": "code",
   "execution_count": 29,
   "id": "d5e82ef9",
   "metadata": {},
   "outputs": [
    {
     "name": "stdout",
     "output_type": "stream",
     "text": [
      "<class 'pandas.core.frame.DataFrame'>\n",
      "RangeIndex: 7043 entries, 0 to 7042\n",
      "Data columns (total 21 columns):\n",
      " #   Column            Non-Null Count  Dtype  \n",
      "---  ------            --------------  -----  \n",
      " 0   customerID        7043 non-null   object \n",
      " 1   gender            7043 non-null   int64  \n",
      " 2   SeniorCitizen     7043 non-null   int64  \n",
      " 3   Partner           7043 non-null   int64  \n",
      " 4   Dependents        7043 non-null   int64  \n",
      " 5   tenure            6992 non-null   float64\n",
      " 6   PhoneService      7043 non-null   int64  \n",
      " 7   MultipleLines     7043 non-null   object \n",
      " 8   InternetService   7043 non-null   object \n",
      " 9   OnlineSecurity    7043 non-null   object \n",
      " 10  OnlineBackup      7043 non-null   object \n",
      " 11  DeviceProtection  7043 non-null   object \n",
      " 12  TechSupport       7043 non-null   object \n",
      " 13  StreamingTV       7043 non-null   object \n",
      " 14  StreamingMovies   7043 non-null   object \n",
      " 15  Contract          7043 non-null   object \n",
      " 16  PaperlessBilling  7043 non-null   int64  \n",
      " 17  PaymentMethod     7043 non-null   object \n",
      " 18  MonthlyCharges    7043 non-null   float64\n",
      " 19  TotalCharges      7032 non-null   float64\n",
      " 20  Churn             7043 non-null   int64  \n",
      "dtypes: float64(3), int64(7), object(11)\n",
      "memory usage: 1.1+ MB\n"
     ]
    }
   ],
   "source": [
    "data_df.info()"
   ]
  },
  {
   "cell_type": "markdown",
   "id": "dced2263",
   "metadata": {},
   "source": [
    "isna() return True/False for each row if value NaN. The below filter the dataframe on "
   ]
  },
  {
   "cell_type": "code",
   "execution_count": 30,
   "id": "cb4a64ba",
   "metadata": {},
   "outputs": [
    {
     "data": {
      "text/html": [
       "<div>\n",
       "<style scoped>\n",
       "    .dataframe tbody tr th:only-of-type {\n",
       "        vertical-align: middle;\n",
       "    }\n",
       "\n",
       "    .dataframe tbody tr th {\n",
       "        vertical-align: top;\n",
       "    }\n",
       "\n",
       "    .dataframe thead th {\n",
       "        text-align: right;\n",
       "    }\n",
       "</style>\n",
       "<table border=\"1\" class=\"dataframe\">\n",
       "  <thead>\n",
       "    <tr style=\"text-align: right;\">\n",
       "      <th></th>\n",
       "      <th>customerID</th>\n",
       "      <th>gender</th>\n",
       "      <th>SeniorCitizen</th>\n",
       "      <th>Partner</th>\n",
       "      <th>Dependents</th>\n",
       "      <th>tenure</th>\n",
       "      <th>PhoneService</th>\n",
       "      <th>MultipleLines</th>\n",
       "      <th>InternetService</th>\n",
       "      <th>OnlineSecurity</th>\n",
       "      <th>OnlineBackup</th>\n",
       "      <th>DeviceProtection</th>\n",
       "      <th>TechSupport</th>\n",
       "      <th>StreamingTV</th>\n",
       "      <th>StreamingMovies</th>\n",
       "      <th>Contract</th>\n",
       "      <th>PaperlessBilling</th>\n",
       "      <th>PaymentMethod</th>\n",
       "      <th>MonthlyCharges</th>\n",
       "      <th>TotalCharges</th>\n",
       "      <th>Churn</th>\n",
       "    </tr>\n",
       "  </thead>\n",
       "  <tbody>\n",
       "    <tr>\n",
       "      <th>90</th>\n",
       "      <td>4767-HZZHQ</td>\n",
       "      <td>0</td>\n",
       "      <td>0</td>\n",
       "      <td>1</td>\n",
       "      <td>1</td>\n",
       "      <td>NaN</td>\n",
       "      <td>1</td>\n",
       "      <td>No</td>\n",
       "      <td>Fiber optic</td>\n",
       "      <td>No</td>\n",
       "      <td>Yes</td>\n",
       "      <td>Yes</td>\n",
       "      <td>No</td>\n",
       "      <td>No</td>\n",
       "      <td>No</td>\n",
       "      <td>Month-to-month</td>\n",
       "      <td>0</td>\n",
       "      <td>Bank transfer (automatic)</td>\n",
       "      <td>82.05</td>\n",
       "      <td>2570.20</td>\n",
       "      <td>0</td>\n",
       "    </tr>\n",
       "    <tr>\n",
       "      <th>123</th>\n",
       "      <td>6497-TILVL</td>\n",
       "      <td>1</td>\n",
       "      <td>0</td>\n",
       "      <td>1</td>\n",
       "      <td>1</td>\n",
       "      <td>NaN</td>\n",
       "      <td>1</td>\n",
       "      <td>No</td>\n",
       "      <td>DSL</td>\n",
       "      <td>Yes</td>\n",
       "      <td>No</td>\n",
       "      <td>No</td>\n",
       "      <td>No</td>\n",
       "      <td>No</td>\n",
       "      <td>No</td>\n",
       "      <td>Month-to-month</td>\n",
       "      <td>0</td>\n",
       "      <td>Mailed check</td>\n",
       "      <td>50.70</td>\n",
       "      <td>350.35</td>\n",
       "      <td>0</td>\n",
       "    </tr>\n",
       "    <tr>\n",
       "      <th>205</th>\n",
       "      <td>7674-YTAFD</td>\n",
       "      <td>1</td>\n",
       "      <td>0</td>\n",
       "      <td>0</td>\n",
       "      <td>0</td>\n",
       "      <td>NaN</td>\n",
       "      <td>1</td>\n",
       "      <td>No</td>\n",
       "      <td>Fiber optic</td>\n",
       "      <td>No</td>\n",
       "      <td>Yes</td>\n",
       "      <td>No</td>\n",
       "      <td>Yes</td>\n",
       "      <td>No</td>\n",
       "      <td>No</td>\n",
       "      <td>One year</td>\n",
       "      <td>1</td>\n",
       "      <td>Bank transfer (automatic)</td>\n",
       "      <td>79.95</td>\n",
       "      <td>2684.85</td>\n",
       "      <td>0</td>\n",
       "    </tr>\n",
       "    <tr>\n",
       "      <th>343</th>\n",
       "      <td>9639-BUJXT</td>\n",
       "      <td>0</td>\n",
       "      <td>0</td>\n",
       "      <td>0</td>\n",
       "      <td>0</td>\n",
       "      <td>NaN</td>\n",
       "      <td>1</td>\n",
       "      <td>No</td>\n",
       "      <td>No</td>\n",
       "      <td>No internet service</td>\n",
       "      <td>No internet service</td>\n",
       "      <td>No internet service</td>\n",
       "      <td>No internet service</td>\n",
       "      <td>No internet service</td>\n",
       "      <td>No internet service</td>\n",
       "      <td>One year</td>\n",
       "      <td>0</td>\n",
       "      <td>Mailed check</td>\n",
       "      <td>20.50</td>\n",
       "      <td>1328.15</td>\n",
       "      <td>0</td>\n",
       "    </tr>\n",
       "    <tr>\n",
       "      <th>443</th>\n",
       "      <td>2937-FTHUR</td>\n",
       "      <td>1</td>\n",
       "      <td>0</td>\n",
       "      <td>0</td>\n",
       "      <td>1</td>\n",
       "      <td>NaN</td>\n",
       "      <td>1</td>\n",
       "      <td>Yes</td>\n",
       "      <td>DSL</td>\n",
       "      <td>Yes</td>\n",
       "      <td>No</td>\n",
       "      <td>No</td>\n",
       "      <td>No</td>\n",
       "      <td>No</td>\n",
       "      <td>Yes</td>\n",
       "      <td>Month-to-month</td>\n",
       "      <td>0</td>\n",
       "      <td>Electronic check</td>\n",
       "      <td>64.80</td>\n",
       "      <td>1166.70</td>\n",
       "      <td>0</td>\n",
       "    </tr>\n",
       "  </tbody>\n",
       "</table>\n",
       "</div>"
      ],
      "text/plain": [
       "     customerID  gender  SeniorCitizen  Partner  Dependents  tenure  \\\n",
       "90   4767-HZZHQ       0              0        1           1     NaN   \n",
       "123  6497-TILVL       1              0        1           1     NaN   \n",
       "205  7674-YTAFD       1              0        0           0     NaN   \n",
       "343  9639-BUJXT       0              0        0           0     NaN   \n",
       "443  2937-FTHUR       1              0        0           1     NaN   \n",
       "\n",
       "     PhoneService MultipleLines InternetService       OnlineSecurity  \\\n",
       "90              1            No     Fiber optic                   No   \n",
       "123             1            No             DSL                  Yes   \n",
       "205             1            No     Fiber optic                   No   \n",
       "343             1            No              No  No internet service   \n",
       "443             1           Yes             DSL                  Yes   \n",
       "\n",
       "            OnlineBackup     DeviceProtection          TechSupport  \\\n",
       "90                   Yes                  Yes                   No   \n",
       "123                   No                   No                   No   \n",
       "205                  Yes                   No                  Yes   \n",
       "343  No internet service  No internet service  No internet service   \n",
       "443                   No                   No                   No   \n",
       "\n",
       "             StreamingTV      StreamingMovies        Contract  \\\n",
       "90                    No                   No  Month-to-month   \n",
       "123                   No                   No  Month-to-month   \n",
       "205                   No                   No        One year   \n",
       "343  No internet service  No internet service        One year   \n",
       "443                   No                  Yes  Month-to-month   \n",
       "\n",
       "     PaperlessBilling              PaymentMethod  MonthlyCharges  \\\n",
       "90                  0  Bank transfer (automatic)           82.05   \n",
       "123                 0               Mailed check           50.70   \n",
       "205                 1  Bank transfer (automatic)           79.95   \n",
       "343                 0               Mailed check           20.50   \n",
       "443                 0           Electronic check           64.80   \n",
       "\n",
       "     TotalCharges  Churn  \n",
       "90        2570.20      0  \n",
       "123        350.35      0  \n",
       "205       2684.85      0  \n",
       "343       1328.15      0  \n",
       "443       1166.70      0  "
      ]
     },
     "execution_count": 30,
     "metadata": {},
     "output_type": "execute_result"
    }
   ],
   "source": [
    "data_df[data_df['tenure'].isna()].head(5)"
   ]
  },
  {
   "cell_type": "markdown",
   "id": "a375d373",
   "metadata": {},
   "source": [
    "Simply replacing NaN values with the mean tenure"
   ]
  },
  {
   "cell_type": "code",
   "execution_count": 31,
   "id": "70c5b4f0",
   "metadata": {},
   "outputs": [],
   "source": [
    "data_df['tenure'] = data_df['tenure'].fillna(data_df['tenure'].mean())"
   ]
  },
  {
   "cell_type": "markdown",
   "id": "e071e63c",
   "metadata": {},
   "source": [
    "Now looking at TotalCharges."
   ]
  },
  {
   "cell_type": "code",
   "execution_count": 32,
   "id": "e7c979b9",
   "metadata": {},
   "outputs": [
    {
     "data": {
      "text/html": [
       "<div>\n",
       "<style scoped>\n",
       "    .dataframe tbody tr th:only-of-type {\n",
       "        vertical-align: middle;\n",
       "    }\n",
       "\n",
       "    .dataframe tbody tr th {\n",
       "        vertical-align: top;\n",
       "    }\n",
       "\n",
       "    .dataframe thead th {\n",
       "        text-align: right;\n",
       "    }\n",
       "</style>\n",
       "<table border=\"1\" class=\"dataframe\">\n",
       "  <thead>\n",
       "    <tr style=\"text-align: right;\">\n",
       "      <th></th>\n",
       "      <th>customerID</th>\n",
       "      <th>gender</th>\n",
       "      <th>SeniorCitizen</th>\n",
       "      <th>Partner</th>\n",
       "      <th>Dependents</th>\n",
       "      <th>tenure</th>\n",
       "      <th>PhoneService</th>\n",
       "      <th>MultipleLines</th>\n",
       "      <th>InternetService</th>\n",
       "      <th>OnlineSecurity</th>\n",
       "      <th>OnlineBackup</th>\n",
       "      <th>DeviceProtection</th>\n",
       "      <th>TechSupport</th>\n",
       "      <th>StreamingTV</th>\n",
       "      <th>StreamingMovies</th>\n",
       "      <th>Contract</th>\n",
       "      <th>PaperlessBilling</th>\n",
       "      <th>PaymentMethod</th>\n",
       "      <th>MonthlyCharges</th>\n",
       "      <th>TotalCharges</th>\n",
       "      <th>Churn</th>\n",
       "    </tr>\n",
       "  </thead>\n",
       "  <tbody>\n",
       "    <tr>\n",
       "      <th>488</th>\n",
       "      <td>4472-LVYGI</td>\n",
       "      <td>1</td>\n",
       "      <td>0</td>\n",
       "      <td>1</td>\n",
       "      <td>1</td>\n",
       "      <td>0.0</td>\n",
       "      <td>0</td>\n",
       "      <td>No phone service</td>\n",
       "      <td>DSL</td>\n",
       "      <td>Yes</td>\n",
       "      <td>No</td>\n",
       "      <td>Yes</td>\n",
       "      <td>Yes</td>\n",
       "      <td>Yes</td>\n",
       "      <td>No</td>\n",
       "      <td>Two year</td>\n",
       "      <td>1</td>\n",
       "      <td>Bank transfer (automatic)</td>\n",
       "      <td>52.55</td>\n",
       "      <td>NaN</td>\n",
       "      <td>0</td>\n",
       "    </tr>\n",
       "    <tr>\n",
       "      <th>753</th>\n",
       "      <td>3115-CZMZD</td>\n",
       "      <td>0</td>\n",
       "      <td>0</td>\n",
       "      <td>0</td>\n",
       "      <td>1</td>\n",
       "      <td>0.0</td>\n",
       "      <td>1</td>\n",
       "      <td>No</td>\n",
       "      <td>No</td>\n",
       "      <td>No internet service</td>\n",
       "      <td>No internet service</td>\n",
       "      <td>No internet service</td>\n",
       "      <td>No internet service</td>\n",
       "      <td>No internet service</td>\n",
       "      <td>No internet service</td>\n",
       "      <td>Two year</td>\n",
       "      <td>0</td>\n",
       "      <td>Mailed check</td>\n",
       "      <td>20.25</td>\n",
       "      <td>NaN</td>\n",
       "      <td>0</td>\n",
       "    </tr>\n",
       "    <tr>\n",
       "      <th>936</th>\n",
       "      <td>5709-LVOEQ</td>\n",
       "      <td>1</td>\n",
       "      <td>0</td>\n",
       "      <td>1</td>\n",
       "      <td>1</td>\n",
       "      <td>0.0</td>\n",
       "      <td>1</td>\n",
       "      <td>No</td>\n",
       "      <td>DSL</td>\n",
       "      <td>Yes</td>\n",
       "      <td>Yes</td>\n",
       "      <td>Yes</td>\n",
       "      <td>No</td>\n",
       "      <td>Yes</td>\n",
       "      <td>Yes</td>\n",
       "      <td>Two year</td>\n",
       "      <td>0</td>\n",
       "      <td>Mailed check</td>\n",
       "      <td>80.85</td>\n",
       "      <td>NaN</td>\n",
       "      <td>0</td>\n",
       "    </tr>\n",
       "    <tr>\n",
       "      <th>1082</th>\n",
       "      <td>4367-NUYAO</td>\n",
       "      <td>0</td>\n",
       "      <td>0</td>\n",
       "      <td>1</td>\n",
       "      <td>1</td>\n",
       "      <td>0.0</td>\n",
       "      <td>1</td>\n",
       "      <td>Yes</td>\n",
       "      <td>No</td>\n",
       "      <td>No internet service</td>\n",
       "      <td>No internet service</td>\n",
       "      <td>No internet service</td>\n",
       "      <td>No internet service</td>\n",
       "      <td>No internet service</td>\n",
       "      <td>No internet service</td>\n",
       "      <td>Two year</td>\n",
       "      <td>0</td>\n",
       "      <td>Mailed check</td>\n",
       "      <td>25.75</td>\n",
       "      <td>NaN</td>\n",
       "      <td>0</td>\n",
       "    </tr>\n",
       "    <tr>\n",
       "      <th>1340</th>\n",
       "      <td>1371-DWPAZ</td>\n",
       "      <td>1</td>\n",
       "      <td>0</td>\n",
       "      <td>1</td>\n",
       "      <td>1</td>\n",
       "      <td>0.0</td>\n",
       "      <td>0</td>\n",
       "      <td>No phone service</td>\n",
       "      <td>DSL</td>\n",
       "      <td>Yes</td>\n",
       "      <td>Yes</td>\n",
       "      <td>Yes</td>\n",
       "      <td>Yes</td>\n",
       "      <td>Yes</td>\n",
       "      <td>No</td>\n",
       "      <td>Two year</td>\n",
       "      <td>0</td>\n",
       "      <td>Credit card (automatic)</td>\n",
       "      <td>56.05</td>\n",
       "      <td>NaN</td>\n",
       "      <td>0</td>\n",
       "    </tr>\n",
       "    <tr>\n",
       "      <th>3331</th>\n",
       "      <td>7644-OMVMY</td>\n",
       "      <td>0</td>\n",
       "      <td>0</td>\n",
       "      <td>1</td>\n",
       "      <td>1</td>\n",
       "      <td>0.0</td>\n",
       "      <td>1</td>\n",
       "      <td>No</td>\n",
       "      <td>No</td>\n",
       "      <td>No internet service</td>\n",
       "      <td>No internet service</td>\n",
       "      <td>No internet service</td>\n",
       "      <td>No internet service</td>\n",
       "      <td>No internet service</td>\n",
       "      <td>No internet service</td>\n",
       "      <td>Two year</td>\n",
       "      <td>0</td>\n",
       "      <td>Mailed check</td>\n",
       "      <td>19.85</td>\n",
       "      <td>NaN</td>\n",
       "      <td>0</td>\n",
       "    </tr>\n",
       "    <tr>\n",
       "      <th>3826</th>\n",
       "      <td>3213-VVOLG</td>\n",
       "      <td>0</td>\n",
       "      <td>0</td>\n",
       "      <td>1</td>\n",
       "      <td>1</td>\n",
       "      <td>0.0</td>\n",
       "      <td>1</td>\n",
       "      <td>Yes</td>\n",
       "      <td>No</td>\n",
       "      <td>No internet service</td>\n",
       "      <td>No internet service</td>\n",
       "      <td>No internet service</td>\n",
       "      <td>No internet service</td>\n",
       "      <td>No internet service</td>\n",
       "      <td>No internet service</td>\n",
       "      <td>Two year</td>\n",
       "      <td>0</td>\n",
       "      <td>Mailed check</td>\n",
       "      <td>25.35</td>\n",
       "      <td>NaN</td>\n",
       "      <td>0</td>\n",
       "    </tr>\n",
       "    <tr>\n",
       "      <th>4380</th>\n",
       "      <td>2520-SGTTA</td>\n",
       "      <td>1</td>\n",
       "      <td>0</td>\n",
       "      <td>1</td>\n",
       "      <td>1</td>\n",
       "      <td>0.0</td>\n",
       "      <td>1</td>\n",
       "      <td>No</td>\n",
       "      <td>No</td>\n",
       "      <td>No internet service</td>\n",
       "      <td>No internet service</td>\n",
       "      <td>No internet service</td>\n",
       "      <td>No internet service</td>\n",
       "      <td>No internet service</td>\n",
       "      <td>No internet service</td>\n",
       "      <td>Two year</td>\n",
       "      <td>0</td>\n",
       "      <td>Mailed check</td>\n",
       "      <td>20.00</td>\n",
       "      <td>NaN</td>\n",
       "      <td>0</td>\n",
       "    </tr>\n",
       "    <tr>\n",
       "      <th>5218</th>\n",
       "      <td>2923-ARZLG</td>\n",
       "      <td>0</td>\n",
       "      <td>0</td>\n",
       "      <td>1</td>\n",
       "      <td>1</td>\n",
       "      <td>0.0</td>\n",
       "      <td>1</td>\n",
       "      <td>No</td>\n",
       "      <td>No</td>\n",
       "      <td>No internet service</td>\n",
       "      <td>No internet service</td>\n",
       "      <td>No internet service</td>\n",
       "      <td>No internet service</td>\n",
       "      <td>No internet service</td>\n",
       "      <td>No internet service</td>\n",
       "      <td>One year</td>\n",
       "      <td>1</td>\n",
       "      <td>Mailed check</td>\n",
       "      <td>19.70</td>\n",
       "      <td>NaN</td>\n",
       "      <td>0</td>\n",
       "    </tr>\n",
       "    <tr>\n",
       "      <th>6670</th>\n",
       "      <td>4075-WKNIU</td>\n",
       "      <td>1</td>\n",
       "      <td>0</td>\n",
       "      <td>1</td>\n",
       "      <td>1</td>\n",
       "      <td>0.0</td>\n",
       "      <td>1</td>\n",
       "      <td>Yes</td>\n",
       "      <td>DSL</td>\n",
       "      <td>No</td>\n",
       "      <td>Yes</td>\n",
       "      <td>Yes</td>\n",
       "      <td>Yes</td>\n",
       "      <td>Yes</td>\n",
       "      <td>No</td>\n",
       "      <td>Two year</td>\n",
       "      <td>0</td>\n",
       "      <td>Mailed check</td>\n",
       "      <td>73.35</td>\n",
       "      <td>NaN</td>\n",
       "      <td>0</td>\n",
       "    </tr>\n",
       "    <tr>\n",
       "      <th>6754</th>\n",
       "      <td>2775-SEFEE</td>\n",
       "      <td>0</td>\n",
       "      <td>0</td>\n",
       "      <td>0</td>\n",
       "      <td>1</td>\n",
       "      <td>0.0</td>\n",
       "      <td>1</td>\n",
       "      <td>Yes</td>\n",
       "      <td>DSL</td>\n",
       "      <td>Yes</td>\n",
       "      <td>Yes</td>\n",
       "      <td>No</td>\n",
       "      <td>Yes</td>\n",
       "      <td>No</td>\n",
       "      <td>No</td>\n",
       "      <td>Two year</td>\n",
       "      <td>1</td>\n",
       "      <td>Bank transfer (automatic)</td>\n",
       "      <td>61.90</td>\n",
       "      <td>NaN</td>\n",
       "      <td>0</td>\n",
       "    </tr>\n",
       "  </tbody>\n",
       "</table>\n",
       "</div>"
      ],
      "text/plain": [
       "      customerID  gender  SeniorCitizen  Partner  Dependents  tenure  \\\n",
       "488   4472-LVYGI       1              0        1           1     0.0   \n",
       "753   3115-CZMZD       0              0        0           1     0.0   \n",
       "936   5709-LVOEQ       1              0        1           1     0.0   \n",
       "1082  4367-NUYAO       0              0        1           1     0.0   \n",
       "1340  1371-DWPAZ       1              0        1           1     0.0   \n",
       "3331  7644-OMVMY       0              0        1           1     0.0   \n",
       "3826  3213-VVOLG       0              0        1           1     0.0   \n",
       "4380  2520-SGTTA       1              0        1           1     0.0   \n",
       "5218  2923-ARZLG       0              0        1           1     0.0   \n",
       "6670  4075-WKNIU       1              0        1           1     0.0   \n",
       "6754  2775-SEFEE       0              0        0           1     0.0   \n",
       "\n",
       "      PhoneService     MultipleLines InternetService       OnlineSecurity  \\\n",
       "488              0  No phone service             DSL                  Yes   \n",
       "753              1                No              No  No internet service   \n",
       "936              1                No             DSL                  Yes   \n",
       "1082             1               Yes              No  No internet service   \n",
       "1340             0  No phone service             DSL                  Yes   \n",
       "3331             1                No              No  No internet service   \n",
       "3826             1               Yes              No  No internet service   \n",
       "4380             1                No              No  No internet service   \n",
       "5218             1                No              No  No internet service   \n",
       "6670             1               Yes             DSL                   No   \n",
       "6754             1               Yes             DSL                  Yes   \n",
       "\n",
       "             OnlineBackup     DeviceProtection          TechSupport  \\\n",
       "488                    No                  Yes                  Yes   \n",
       "753   No internet service  No internet service  No internet service   \n",
       "936                   Yes                  Yes                   No   \n",
       "1082  No internet service  No internet service  No internet service   \n",
       "1340                  Yes                  Yes                  Yes   \n",
       "3331  No internet service  No internet service  No internet service   \n",
       "3826  No internet service  No internet service  No internet service   \n",
       "4380  No internet service  No internet service  No internet service   \n",
       "5218  No internet service  No internet service  No internet service   \n",
       "6670                  Yes                  Yes                  Yes   \n",
       "6754                  Yes                   No                  Yes   \n",
       "\n",
       "              StreamingTV      StreamingMovies  Contract  PaperlessBilling  \\\n",
       "488                   Yes                   No  Two year                 1   \n",
       "753   No internet service  No internet service  Two year                 0   \n",
       "936                   Yes                  Yes  Two year                 0   \n",
       "1082  No internet service  No internet service  Two year                 0   \n",
       "1340                  Yes                   No  Two year                 0   \n",
       "3331  No internet service  No internet service  Two year                 0   \n",
       "3826  No internet service  No internet service  Two year                 0   \n",
       "4380  No internet service  No internet service  Two year                 0   \n",
       "5218  No internet service  No internet service  One year                 1   \n",
       "6670                  Yes                   No  Two year                 0   \n",
       "6754                   No                   No  Two year                 1   \n",
       "\n",
       "                  PaymentMethod  MonthlyCharges  TotalCharges  Churn  \n",
       "488   Bank transfer (automatic)           52.55           NaN      0  \n",
       "753                Mailed check           20.25           NaN      0  \n",
       "936                Mailed check           80.85           NaN      0  \n",
       "1082               Mailed check           25.75           NaN      0  \n",
       "1340    Credit card (automatic)           56.05           NaN      0  \n",
       "3331               Mailed check           19.85           NaN      0  \n",
       "3826               Mailed check           25.35           NaN      0  \n",
       "4380               Mailed check           20.00           NaN      0  \n",
       "5218               Mailed check           19.70           NaN      0  \n",
       "6670               Mailed check           73.35           NaN      0  \n",
       "6754  Bank transfer (automatic)           61.90           NaN      0  "
      ]
     },
     "execution_count": 32,
     "metadata": {},
     "output_type": "execute_result"
    }
   ],
   "source": [
    "data_df[data_df['TotalCharges'].isna()].head(20)"
   ]
  },
  {
   "cell_type": "markdown",
   "id": "c20215e0",
   "metadata": {},
   "source": [
    "We decide to delete those 11 rows."
   ]
  },
  {
   "cell_type": "code",
   "execution_count": 33,
   "id": "49fd3754",
   "metadata": {},
   "outputs": [],
   "source": [
    "data_df = data_df[data_df['TotalCharges'].notna()]"
   ]
  },
  {
   "cell_type": "code",
   "execution_count": 34,
   "id": "7e430bc6",
   "metadata": {},
   "outputs": [
    {
     "data": {
      "text/plain": [
       "(7032, 21)"
      ]
     },
     "execution_count": 34,
     "metadata": {},
     "output_type": "execute_result"
    }
   ],
   "source": [
    "data_df.shape"
   ]
  },
  {
   "cell_type": "markdown",
   "id": "e56e8f2f",
   "metadata": {},
   "source": [
    "Look also at: sklearn.impute</br>\n",
    "https://scikit-learn.org/stable/modules/classes.html#module-sklearn.impute</br>\n",
    "\n",
    "SimpleImputer - does substitution with simple strategies: mean, median, most_frequent, constant.</br>\n",
    "others: IterativeImputer, KNNImputer</br>"
   ]
  },
  {
   "cell_type": "markdown",
   "id": "ebcf196a",
   "metadata": {},
   "source": [
    "# Feature Scaling/Normalisation - (will be covered in more details during the Thursday Tabular ML session)"
   ]
  },
  {
   "cell_type": "markdown",
   "id": "9d066793",
   "metadata": {},
   "source": [
    "<img src='img/Screen Shot 2021-09-16 at 4.51.33 pm.png' width=800 align='left'>"
   ]
  },
  {
   "cell_type": "markdown",
   "id": "1441c04c",
   "metadata": {},
   "source": [
    "We won't need it for our XGBoost example but here is the code snippet if you ever need it."
   ]
  },
  {
   "cell_type": "code",
   "execution_count": 35,
   "id": "43cff04f",
   "metadata": {},
   "outputs": [
    {
     "data": {
      "text/plain": [
       "array([0.        , 0.11542289, 0.0005027 ])"
      ]
     },
     "execution_count": 35,
     "metadata": {},
     "output_type": "execute_result"
    }
   ],
   "source": [
    "from sklearn.preprocessing import MinMaxScaler\n",
    "\n",
    "scaler = MinMaxScaler(feature_range=(0, 1))\n",
    "scaled_features_df = scaler.fit_transform(data_df[[\"tenure\", \"MonthlyCharges\", \"TotalCharges\"]])\n",
    "scaled_features_df[0]"
   ]
  },
  {
   "cell_type": "markdown",
   "id": "b7fb5f0a",
   "metadata": {},
   "source": [
    "# Dealing with Outliers\n",
    "Outliers = extreme values that deviate from other observations on data.\n",
    "\n",
    "They may indicate a variability in a measurement, experimental errors or a novelty. In other words, an outlier is an observation that diverges from an overall pattern on a sample. \n",
    "\n",
    "Be Careful not to mistake outliers with true data.</br>\n",
    "\n",
    "for \"Univariate\" outliers, we can draw graph, histogram to identify those visually and drop them. using percentile is another method</br>\n",
    "for \"Multivariate\" ones, it's much harder.</br>\n",
    "\n",
    "Why outliers are bad for your model?</br>\n",
    "Data outliers can spoil and mislead the training process resulting in longer training times, less accurate models and ultimately poorer results\n",
    "\n",
    "<b>How to detect outliers?</b>"
   ]
  },
  {
   "cell_type": "markdown",
   "id": "ebd4d4dc",
   "metadata": {},
   "source": [
    "### Visually - Histograms/scatterplot"
   ]
  },
  {
   "cell_type": "code",
   "execution_count": 36,
   "id": "a16729fa",
   "metadata": {},
   "outputs": [
    {
     "data": {
      "image/png": "[encoded data removed]",
      "text/plain": [
       "<Figure size 432x288 with 1 Axes>"
      ]
     },
     "metadata": {
      "needs_background": "light"
     },
     "output_type": "display_data"
    }
   ],
   "source": [
    "sns.distplot(data_df['TotalCharges'], bins=50, kde=False)\n",
    "plt.show()"
   ]
  },
  {
   "cell_type": "code",
   "execution_count": 37,
   "id": "f09d88c0",
   "metadata": {},
   "outputs": [
    {
     "data": {
      "image/png": "[encoded data removed]",
      "text/plain": [
       "<Figure size 432x288 with 1 Axes>"
      ]
     },
     "metadata": {
      "needs_background": "light"
     },
     "output_type": "display_data"
    }
   ],
   "source": [
    "sns.scatterplot(data=data_df.sample(frac=1), x='TotalCharges', y='MonthlyCharges')\n",
    "plt.show()"
   ]
  },
  {
   "cell_type": "markdown",
   "id": "78ae6497",
   "metadata": {},
   "source": [
    "### Percentiles"
   ]
  },
  {
   "cell_type": "code",
   "execution_count": 38,
   "id": "5ff6292a",
   "metadata": {},
   "outputs": [
    {
     "name": "stdout",
     "output_type": "stream",
     "text": [
      "99th percentile:8058.7570000000005\n",
      "Number of observations in the 99th percentile:71\n"
     ]
    }
   ],
   "source": [
    "top_percentile = data_df['TotalCharges'].quantile(.99)\n",
    "print(f'99th percentile:{top_percentile}')\n",
    "\n",
    "number_in_to_percentile = data_df[data_df['TotalCharges'] >= top_percentile].shape[0]\n",
    "print(f'Number of observations in the 99th percentile:{number_in_to_percentile}')"
   ]
  },
  {
   "cell_type": "markdown",
   "id": "93723a70",
   "metadata": {},
   "source": [
    "### Z-score\n",
    "Z-score is a common method to flag if a value is an outlier.</br>\n",
    "Z-Score is essentially how many standard deviations away is my actual value from the mean value.</br>\n",
    "(standard deviation being a measure of how dispersed the data is in relation to the mean)."
   ]
  },
  {
   "cell_type": "markdown",
   "id": "74b83241",
   "metadata": {},
   "source": [
    "We just create a new column with the z-score for each TotalCharges value"
   ]
  },
  {
   "cell_type": "code",
   "execution_count": 39,
   "id": "cd409701",
   "metadata": {},
   "outputs": [
    {
     "name": "stdout",
     "output_type": "stream",
     "text": [
      "mean:2291.4626066552933, standard deviation:2299.341230816595\n"
     ]
    }
   ],
   "source": [
    "std_totalcharges = data_df['TotalCharges'].std()\n",
    "mean_totalcharges = data_df['TotalCharges'].mean()\n",
    "print(f'mean:{mean_totalcharges}, standard deviation:{std_totalcharges}')\n",
    "\n",
    "data_df['TotalCharges_zscore'] = (data_df['TotalCharges'] - mean_totalcharges)/std_totalcharges"
   ]
  },
  {
   "cell_type": "markdown",
   "id": "ba703bcf",
   "metadata": {},
   "source": [
    "We filter the dataframe to keep the observations which are deviating from the mean value by 3 times the standard deviation."
   ]
  },
  {
   "cell_type": "code",
   "execution_count": 40,
   "id": "2505d170",
   "metadata": {},
   "outputs": [
    {
     "data": {
      "text/html": [
       "<div>\n",
       "<style scoped>\n",
       "    .dataframe tbody tr th:only-of-type {\n",
       "        vertical-align: middle;\n",
       "    }\n",
       "\n",
       "    .dataframe tbody tr th {\n",
       "        vertical-align: top;\n",
       "    }\n",
       "\n",
       "    .dataframe thead th {\n",
       "        text-align: right;\n",
       "    }\n",
       "</style>\n",
       "<table border=\"1\" class=\"dataframe\">\n",
       "  <thead>\n",
       "    <tr style=\"text-align: right;\">\n",
       "      <th></th>\n",
       "      <th>customerID</th>\n",
       "      <th>gender</th>\n",
       "      <th>SeniorCitizen</th>\n",
       "      <th>Partner</th>\n",
       "      <th>Dependents</th>\n",
       "      <th>tenure</th>\n",
       "      <th>PhoneService</th>\n",
       "      <th>MultipleLines</th>\n",
       "      <th>InternetService</th>\n",
       "      <th>OnlineSecurity</th>\n",
       "      <th>OnlineBackup</th>\n",
       "      <th>DeviceProtection</th>\n",
       "      <th>TechSupport</th>\n",
       "      <th>StreamingTV</th>\n",
       "      <th>StreamingMovies</th>\n",
       "      <th>Contract</th>\n",
       "      <th>PaperlessBilling</th>\n",
       "      <th>PaymentMethod</th>\n",
       "      <th>MonthlyCharges</th>\n",
       "      <th>TotalCharges</th>\n",
       "      <th>Churn</th>\n",
       "      <th>TotalCharges_zscore</th>\n",
       "    </tr>\n",
       "  </thead>\n",
       "  <tbody>\n",
       "    <tr>\n",
       "      <th>45</th>\n",
       "      <td>3714-NTNFO</td>\n",
       "      <td>1</td>\n",
       "      <td>0</td>\n",
       "      <td>0</td>\n",
       "      <td>0</td>\n",
       "      <td>49.0</td>\n",
       "      <td>1</td>\n",
       "      <td>Yes</td>\n",
       "      <td>Fiber optic</td>\n",
       "      <td>No</td>\n",
       "      <td>No</td>\n",
       "      <td>No</td>\n",
       "      <td>No</td>\n",
       "      <td>No</td>\n",
       "      <td>Yes</td>\n",
       "      <td>Month-to-month</td>\n",
       "      <td>1</td>\n",
       "      <td>Electronic check</td>\n",
       "      <td>84.50</td>\n",
       "      <td>20000.0</td>\n",
       "      <td>0</td>\n",
       "      <td>7.701570</td>\n",
       "    </tr>\n",
       "    <tr>\n",
       "      <th>2000</th>\n",
       "      <td>7020-OZKXZ</td>\n",
       "      <td>1</td>\n",
       "      <td>1</td>\n",
       "      <td>0</td>\n",
       "      <td>0</td>\n",
       "      <td>9.0</td>\n",
       "      <td>1</td>\n",
       "      <td>No</td>\n",
       "      <td>Fiber optic</td>\n",
       "      <td>No</td>\n",
       "      <td>No</td>\n",
       "      <td>Yes</td>\n",
       "      <td>No</td>\n",
       "      <td>No</td>\n",
       "      <td>No</td>\n",
       "      <td>Month-to-month</td>\n",
       "      <td>0</td>\n",
       "      <td>Credit card (automatic)</td>\n",
       "      <td>75.50</td>\n",
       "      <td>22000.0</td>\n",
       "      <td>0</td>\n",
       "      <td>8.571384</td>\n",
       "    </tr>\n",
       "    <tr>\n",
       "      <th>3000</th>\n",
       "      <td>7613-LLQFO</td>\n",
       "      <td>0</td>\n",
       "      <td>0</td>\n",
       "      <td>0</td>\n",
       "      <td>0</td>\n",
       "      <td>12.0</td>\n",
       "      <td>1</td>\n",
       "      <td>Yes</td>\n",
       "      <td>Fiber optic</td>\n",
       "      <td>No</td>\n",
       "      <td>No</td>\n",
       "      <td>No</td>\n",
       "      <td>No</td>\n",
       "      <td>Yes</td>\n",
       "      <td>No</td>\n",
       "      <td>Month-to-month</td>\n",
       "      <td>1</td>\n",
       "      <td>Electronic check</td>\n",
       "      <td>84.45</td>\n",
       "      <td>21000.0</td>\n",
       "      <td>1</td>\n",
       "      <td>8.136477</td>\n",
       "    </tr>\n",
       "  </tbody>\n",
       "</table>\n",
       "</div>"
      ],
      "text/plain": [
       "      customerID  gender  SeniorCitizen  Partner  Dependents  tenure  \\\n",
       "45    3714-NTNFO       1              0        0           0    49.0   \n",
       "2000  7020-OZKXZ       1              1        0           0     9.0   \n",
       "3000  7613-LLQFO       0              0        0           0    12.0   \n",
       "\n",
       "      PhoneService MultipleLines InternetService OnlineSecurity OnlineBackup  \\\n",
       "45               1           Yes     Fiber optic             No           No   \n",
       "2000             1            No     Fiber optic             No           No   \n",
       "3000             1           Yes     Fiber optic             No           No   \n",
       "\n",
       "     DeviceProtection TechSupport StreamingTV StreamingMovies        Contract  \\\n",
       "45                 No          No          No             Yes  Month-to-month   \n",
       "2000              Yes          No          No              No  Month-to-month   \n",
       "3000               No          No         Yes              No  Month-to-month   \n",
       "\n",
       "      PaperlessBilling            PaymentMethod  MonthlyCharges  TotalCharges  \\\n",
       "45                   1         Electronic check           84.50       20000.0   \n",
       "2000                 0  Credit card (automatic)           75.50       22000.0   \n",
       "3000                 1         Electronic check           84.45       21000.0   \n",
       "\n",
       "      Churn  TotalCharges_zscore  \n",
       "45        0             7.701570  \n",
       "2000      0             8.571384  \n",
       "3000      1             8.136477  "
      ]
     },
     "execution_count": 40,
     "metadata": {},
     "output_type": "execute_result"
    }
   ],
   "source": [
    "data_df[abs(data_df['TotalCharges_zscore']) > 3]"
   ]
  },
  {
   "cell_type": "markdown",
   "id": "90f1a00f",
   "metadata": {},
   "source": [
    "In that case we simply delete those outliers"
   ]
  },
  {
   "cell_type": "code",
   "execution_count": 41,
   "id": "ccb44e5a",
   "metadata": {},
   "outputs": [],
   "source": [
    "data_df = data_df.drop([45,2000,3000], axis=0)"
   ]
  },
  {
   "cell_type": "markdown",
   "id": "233cfeb9",
   "metadata": {},
   "source": [
    "Dropping the Z-score column too as we don't need it anymore"
   ]
  },
  {
   "cell_type": "code",
   "execution_count": 42,
   "id": "89bd94ba",
   "metadata": {},
   "outputs": [],
   "source": [
    "data_df = data_df.drop('TotalCharges_zscore', axis=1)"
   ]
  },
  {
   "cell_type": "markdown",
   "id": "65b84f97",
   "metadata": {},
   "source": [
    "# Feature Engineering\n",
    "\n",
    "Your ML model is as good as your data!!</br>\n",
    "\n",
    "Feature engineering is the process of using domain knowledge to extract features (characteristics, properties, attributes) from raw data."
   ]
  },
  {
   "cell_type": "markdown",
   "id": "057da313",
   "metadata": {},
   "source": [
    "<img src='img/Screen Shot 2021-09-16 at 4.57.52 pm.png' width=800 align='left'>"
   ]
  },
  {
   "cell_type": "markdown",
   "id": "1bde286a",
   "metadata": {},
   "source": [
    "<img src='img/Screen Shot 2021-10-08 at 11.24.00 am.png' width=800 align='left'>"
   ]
  },
  {
   "cell_type": "markdown",
   "id": "371e8adb",
   "metadata": {},
   "source": [
    "### Feature extraction\n",
    "e.g. date -> week day, month, year, season."
   ]
  },
  {
   "cell_type": "markdown",
   "id": "409ad727",
   "metadata": {},
   "source": [
    "We don't have dates in the dataset but the customerID has 2 parts that could potentially have a meaning and might be worth extracting. Let's check!</br>"
   ]
  },
  {
   "cell_type": "code",
   "execution_count": 43,
   "id": "50f10951",
   "metadata": {},
   "outputs": [
    {
     "data": {
      "text/plain": [
       "0    7590-VHVEG\n",
       "1    5575-GNVDE\n",
       "Name: customerID, dtype: object"
      ]
     },
     "execution_count": 43,
     "metadata": {},
     "output_type": "execute_result"
    }
   ],
   "source": [
    "data_df['customerID'].head(2)"
   ]
  },
  {
   "cell_type": "markdown",
   "id": "62710e26",
   "metadata": {},
   "source": [
    "we create 2 new columns with each parts of the ID"
   ]
  },
  {
   "cell_type": "code",
   "execution_count": 44,
   "id": "26a4d684",
   "metadata": {},
   "outputs": [],
   "source": [
    "data_df['customerID-part1'] = data_df['customerID'].apply(lambda x: x.split('-')[0])\n",
    "data_df['customerID-part2'] = data_df['customerID'].apply(lambda x: x.split('-')[1])"
   ]
  },
  {
   "cell_type": "markdown",
   "id": "a5fd922e",
   "metadata": {},
   "source": [
    "We check the cardinality of each feature"
   ]
  },
  {
   "cell_type": "code",
   "execution_count": 45,
   "id": "2b2b0def",
   "metadata": {},
   "outputs": [
    {
     "data": {
      "text/plain": [
       "customerID-part1    5076\n",
       "customerID-part2    7026\n",
       "dtype: int64"
      ]
     },
     "execution_count": 45,
     "metadata": {},
     "output_type": "execute_result"
    }
   ],
   "source": [
    "data_df[['customerID-part1', 'customerID-part2']].apply(pd.Series.nunique)"
   ]
  },
  {
   "cell_type": "markdown",
   "id": "6beb14d3",
   "metadata": {},
   "source": [
    "It was worth checking but the high cardinality doesn't suggest it will help the algorithm differentiate 2 records. so we'll ignore that and get rid of the customerID."
   ]
  },
  {
   "cell_type": "code",
   "execution_count": 46,
   "id": "d25c5d50",
   "metadata": {},
   "outputs": [],
   "source": [
    "data_df = data_df.drop(['customerID', 'customerID-part1', 'customerID-part2'], axis=1)"
   ]
  },
  {
   "cell_type": "markdown",
   "id": "fb911540",
   "metadata": {},
   "source": [
    "### Feature building/construction\n",
    "eg: Binning of age. helps with making some models more robust and less prone to overfitting but you loose some info -> tradeoff.</br>\n",
    "\n",
    "What can a human interprete from looking at the data that an algorithm wouldn't be able to see?"
   ]
  },
  {
   "cell_type": "code",
   "execution_count": 47,
   "id": "c5daa115",
   "metadata": {},
   "outputs": [
    {
     "data": {
      "text/plain": [
       "Fiber optic    3093\n",
       "DSL            2416\n",
       "No             1520\n",
       "Name: InternetService, dtype: int64"
      ]
     },
     "execution_count": 47,
     "metadata": {},
     "output_type": "execute_result"
    }
   ],
   "source": [
    "data_df['InternetService'].value_counts()"
   ]
  },
  {
   "cell_type": "markdown",
   "id": "899a7820",
   "metadata": {},
   "source": [
    "We, humans, know that Fiber is around 15 times faster than DSL (6 vs ~90Mbps) but the algorithm won't be able to infer that from that column.</br>\n",
    "Let's assign a number to those categories that represents the speed on a scale (0 for No, 10 for DSL, 150 for Fiber).</br>"
   ]
  },
  {
   "cell_type": "code",
   "execution_count": 48,
   "id": "e855d8a0",
   "metadata": {},
   "outputs": [],
   "source": [
    "data_df['InternetSpeed'] = data_df['InternetService'].apply(lambda x: 0 if x == 'No' else 10 if x == 'DSL' else 150)"
   ]
  },
  {
   "cell_type": "markdown",
   "id": "1a6a71a9",
   "metadata": {},
   "source": [
    "### Feature selection\n",
    "Feature selection is the process of reducing the number of input variables when developing a predictive model. It is desirable to reduce the number of input variables to both reduce the computational cost of modeling and, in some cases, to improve the performance of the model.</br>\n",
    "Indeed, the performance of some models can degrade when including input variables that are not relevant to the target variable."
   ]
  },
  {
   "cell_type": "markdown",
   "id": "c991d90a",
   "metadata": {},
   "source": [
    "Do you remember our correlation matrix? Let's use it again to identify the feature-feature linear dependency and if one is very high that will mean that we can probably drop on of them as they will be redundant to our model."
   ]
  },
  {
   "cell_type": "code",
   "execution_count": 49,
   "id": "1a14a9d3",
   "metadata": {},
   "outputs": [
    {
     "name": "stdout",
     "output_type": "stream",
     "text": [
      "InternetService_No  -  OnlineSecurity_No internet service  -  1.0\n",
      "InternetService_No  -  OnlineBackup_No internet service  -  1.0\n",
      "InternetService_No  -  DeviceProtection_No internet service  -  1.0\n",
      "InternetService_No  -  TechSupport_No internet service  -  1.0\n",
      "InternetService_No  -  StreamingTV_No internet service  -  1.0\n",
      "InternetService_No  -  StreamingMovies_No internet service  -  1.0\n",
      "OnlineSecurity_No internet service  -  InternetService_No  -  1.0\n",
      "OnlineSecurity_No internet service  -  OnlineBackup_No internet service  -  1.0\n",
      "OnlineSecurity_No internet service  -  DeviceProtection_No internet service  -  1.0\n",
      "OnlineSecurity_No internet service  -  TechSupport_No internet service  -  1.0\n",
      "OnlineSecurity_No internet service  -  StreamingTV_No internet service  -  1.0\n",
      "OnlineSecurity_No internet service  -  StreamingMovies_No internet service  -  1.0\n",
      "OnlineBackup_No internet service  -  InternetService_No  -  1.0\n",
      "OnlineBackup_No internet service  -  OnlineSecurity_No internet service  -  1.0\n",
      "OnlineBackup_No internet service  -  DeviceProtection_No internet service  -  1.0\n",
      "OnlineBackup_No internet service  -  TechSupport_No internet service  -  1.0\n",
      "OnlineBackup_No internet service  -  StreamingTV_No internet service  -  1.0\n",
      "OnlineBackup_No internet service  -  StreamingMovies_No internet service  -  1.0\n",
      "DeviceProtection_No internet service  -  InternetService_No  -  1.0\n",
      "DeviceProtection_No internet service  -  OnlineSecurity_No internet service  -  1.0\n",
      "DeviceProtection_No internet service  -  OnlineBackup_No internet service  -  1.0\n",
      "DeviceProtection_No internet service  -  TechSupport_No internet service  -  1.0\n",
      "DeviceProtection_No internet service  -  StreamingTV_No internet service  -  1.0\n",
      "DeviceProtection_No internet service  -  StreamingMovies_No internet service  -  1.0\n",
      "TechSupport_No internet service  -  InternetService_No  -  1.0\n",
      "TechSupport_No internet service  -  OnlineSecurity_No internet service  -  1.0\n",
      "TechSupport_No internet service  -  OnlineBackup_No internet service  -  1.0\n",
      "TechSupport_No internet service  -  DeviceProtection_No internet service  -  1.0\n",
      "TechSupport_No internet service  -  StreamingTV_No internet service  -  1.0\n",
      "TechSupport_No internet service  -  StreamingMovies_No internet service  -  1.0\n",
      "StreamingTV_No internet service  -  InternetService_No  -  1.0\n",
      "StreamingTV_No internet service  -  OnlineSecurity_No internet service  -  1.0\n",
      "StreamingTV_No internet service  -  OnlineBackup_No internet service  -  1.0\n",
      "StreamingTV_No internet service  -  DeviceProtection_No internet service  -  1.0\n",
      "StreamingTV_No internet service  -  TechSupport_No internet service  -  1.0\n",
      "StreamingTV_No internet service  -  StreamingMovies_No internet service  -  1.0\n",
      "StreamingMovies_No internet service  -  InternetService_No  -  1.0\n",
      "StreamingMovies_No internet service  -  OnlineSecurity_No internet service  -  1.0\n",
      "StreamingMovies_No internet service  -  OnlineBackup_No internet service  -  1.0\n",
      "StreamingMovies_No internet service  -  DeviceProtection_No internet service  -  1.0\n",
      "StreamingMovies_No internet service  -  TechSupport_No internet service  -  1.0\n",
      "StreamingMovies_No internet service  -  StreamingTV_No internet service  -  1.0\n"
     ]
    }
   ],
   "source": [
    "threshold = 0.99\n",
    "for rowIndex, row in corrmat.iterrows(): #iterate over rows\n",
    "    for columnIndex, value in row.items():\n",
    "        if rowIndex != columnIndex and value > threshold:\n",
    "            print(f\"{rowIndex}  -  {columnIndex}  -  {value}\")"
   ]
  },
  {
   "cell_type": "markdown",
   "id": "cec5fd6a",
   "metadata": {},
   "source": [
    "We can see that we have 6 strongly correlated features that are directly connected with the InternetService_No"
   ]
  },
  {
   "cell_type": "markdown",
   "id": "68c6d4c8",
   "metadata": {},
   "source": [
    "# Encoding Categorical Features"
   ]
  },
  {
   "cell_type": "code",
   "execution_count": 50,
   "id": "873cf675",
   "metadata": {},
   "outputs": [
    {
     "name": "stdout",
     "output_type": "stream",
     "text": [
      "(7029, 42)\n"
     ]
    }
   ],
   "source": [
    "encoded_data_df = encode_categorical_features(data_df)"
   ]
  },
  {
   "cell_type": "code",
   "execution_count": 51,
   "id": "264e6735",
   "metadata": {},
   "outputs": [],
   "source": [
    "cols_to_drop = ['OnlineSecurity_No internet service', 'OnlineBackup_No internet service', 'DeviceProtection_No internet service', \n",
    "                'TechSupport_No internet service', 'StreamingTV_No internet service', 'StreamingMovies_No internet service']\n",
    "encoded_data_df = encoded_data_df.drop(cols_to_drop, axis=1)"
   ]
  },
  {
   "cell_type": "code",
   "execution_count": 52,
   "id": "c6e2838e",
   "metadata": {},
   "outputs": [
    {
     "data": {
      "text/plain": [
       "(7029, 36)"
      ]
     },
     "execution_count": 52,
     "metadata": {},
     "output_type": "execute_result"
    }
   ],
   "source": [
    "encoded_data_df.shape"
   ]
  },
  {
   "cell_type": "code",
   "execution_count": 53,
   "id": "fc951e7e",
   "metadata": {},
   "outputs": [
    {
     "data": {
      "text/html": [
       "<div>\n",
       "<style scoped>\n",
       "    .dataframe tbody tr th:only-of-type {\n",
       "        vertical-align: middle;\n",
       "    }\n",
       "\n",
       "    .dataframe tbody tr th {\n",
       "        vertical-align: top;\n",
       "    }\n",
       "\n",
       "    .dataframe thead th {\n",
       "        text-align: right;\n",
       "    }\n",
       "</style>\n",
       "<table border=\"1\" class=\"dataframe\">\n",
       "  <thead>\n",
       "    <tr style=\"text-align: right;\">\n",
       "      <th></th>\n",
       "      <th>gender</th>\n",
       "      <th>SeniorCitizen</th>\n",
       "      <th>Partner</th>\n",
       "      <th>Dependents</th>\n",
       "      <th>tenure</th>\n",
       "      <th>PhoneService</th>\n",
       "      <th>PaperlessBilling</th>\n",
       "      <th>MonthlyCharges</th>\n",
       "      <th>TotalCharges</th>\n",
       "      <th>Churn</th>\n",
       "      <th>InternetSpeed</th>\n",
       "      <th>MultipleLines_No</th>\n",
       "      <th>MultipleLines_No phone service</th>\n",
       "      <th>MultipleLines_Yes</th>\n",
       "      <th>InternetService_DSL</th>\n",
       "      <th>InternetService_Fiber optic</th>\n",
       "      <th>InternetService_No</th>\n",
       "      <th>OnlineSecurity_No</th>\n",
       "      <th>OnlineSecurity_Yes</th>\n",
       "      <th>OnlineBackup_No</th>\n",
       "      <th>OnlineBackup_Yes</th>\n",
       "      <th>DeviceProtection_No</th>\n",
       "      <th>DeviceProtection_Yes</th>\n",
       "      <th>TechSupport_No</th>\n",
       "      <th>TechSupport_Yes</th>\n",
       "      <th>StreamingTV_No</th>\n",
       "      <th>StreamingTV_Yes</th>\n",
       "      <th>StreamingMovies_No</th>\n",
       "      <th>StreamingMovies_Yes</th>\n",
       "      <th>Contract_Month-to-month</th>\n",
       "      <th>Contract_One year</th>\n",
       "      <th>Contract_Two year</th>\n",
       "      <th>PaymentMethod_Bank transfer (automatic)</th>\n",
       "      <th>PaymentMethod_Credit card (automatic)</th>\n",
       "      <th>PaymentMethod_Electronic check</th>\n",
       "      <th>PaymentMethod_Mailed check</th>\n",
       "    </tr>\n",
       "  </thead>\n",
       "  <tbody>\n",
       "    <tr>\n",
       "      <th>0</th>\n",
       "      <td>1</td>\n",
       "      <td>0</td>\n",
       "      <td>1</td>\n",
       "      <td>0</td>\n",
       "      <td>1.0</td>\n",
       "      <td>0</td>\n",
       "      <td>1</td>\n",
       "      <td>29.85</td>\n",
       "      <td>29.85</td>\n",
       "      <td>0</td>\n",
       "      <td>10</td>\n",
       "      <td>0</td>\n",
       "      <td>1</td>\n",
       "      <td>0</td>\n",
       "      <td>1</td>\n",
       "      <td>0</td>\n",
       "      <td>0</td>\n",
       "      <td>1</td>\n",
       "      <td>0</td>\n",
       "      <td>0</td>\n",
       "      <td>1</td>\n",
       "      <td>1</td>\n",
       "      <td>0</td>\n",
       "      <td>1</td>\n",
       "      <td>0</td>\n",
       "      <td>1</td>\n",
       "      <td>0</td>\n",
       "      <td>1</td>\n",
       "      <td>0</td>\n",
       "      <td>1</td>\n",
       "      <td>0</td>\n",
       "      <td>0</td>\n",
       "      <td>0</td>\n",
       "      <td>0</td>\n",
       "      <td>1</td>\n",
       "      <td>0</td>\n",
       "    </tr>\n",
       "    <tr>\n",
       "      <th>1</th>\n",
       "      <td>0</td>\n",
       "      <td>0</td>\n",
       "      <td>0</td>\n",
       "      <td>0</td>\n",
       "      <td>34.0</td>\n",
       "      <td>1</td>\n",
       "      <td>0</td>\n",
       "      <td>56.95</td>\n",
       "      <td>1889.50</td>\n",
       "      <td>0</td>\n",
       "      <td>10</td>\n",
       "      <td>1</td>\n",
       "      <td>0</td>\n",
       "      <td>0</td>\n",
       "      <td>1</td>\n",
       "      <td>0</td>\n",
       "      <td>0</td>\n",
       "      <td>0</td>\n",
       "      <td>1</td>\n",
       "      <td>1</td>\n",
       "      <td>0</td>\n",
       "      <td>0</td>\n",
       "      <td>1</td>\n",
       "      <td>1</td>\n",
       "      <td>0</td>\n",
       "      <td>1</td>\n",
       "      <td>0</td>\n",
       "      <td>1</td>\n",
       "      <td>0</td>\n",
       "      <td>0</td>\n",
       "      <td>1</td>\n",
       "      <td>0</td>\n",
       "      <td>0</td>\n",
       "      <td>0</td>\n",
       "      <td>0</td>\n",
       "      <td>1</td>\n",
       "    </tr>\n",
       "    <tr>\n",
       "      <th>2</th>\n",
       "      <td>0</td>\n",
       "      <td>0</td>\n",
       "      <td>0</td>\n",
       "      <td>0</td>\n",
       "      <td>2.0</td>\n",
       "      <td>1</td>\n",
       "      <td>1</td>\n",
       "      <td>53.85</td>\n",
       "      <td>108.15</td>\n",
       "      <td>1</td>\n",
       "      <td>10</td>\n",
       "      <td>1</td>\n",
       "      <td>0</td>\n",
       "      <td>0</td>\n",
       "      <td>1</td>\n",
       "      <td>0</td>\n",
       "      <td>0</td>\n",
       "      <td>0</td>\n",
       "      <td>1</td>\n",
       "      <td>0</td>\n",
       "      <td>1</td>\n",
       "      <td>1</td>\n",
       "      <td>0</td>\n",
       "      <td>1</td>\n",
       "      <td>0</td>\n",
       "      <td>1</td>\n",
       "      <td>0</td>\n",
       "      <td>1</td>\n",
       "      <td>0</td>\n",
       "      <td>1</td>\n",
       "      <td>0</td>\n",
       "      <td>0</td>\n",
       "      <td>0</td>\n",
       "      <td>0</td>\n",
       "      <td>0</td>\n",
       "      <td>1</td>\n",
       "    </tr>\n",
       "    <tr>\n",
       "      <th>3</th>\n",
       "      <td>0</td>\n",
       "      <td>0</td>\n",
       "      <td>0</td>\n",
       "      <td>0</td>\n",
       "      <td>45.0</td>\n",
       "      <td>0</td>\n",
       "      <td>0</td>\n",
       "      <td>42.30</td>\n",
       "      <td>1840.75</td>\n",
       "      <td>0</td>\n",
       "      <td>10</td>\n",
       "      <td>0</td>\n",
       "      <td>1</td>\n",
       "      <td>0</td>\n",
       "      <td>1</td>\n",
       "      <td>0</td>\n",
       "      <td>0</td>\n",
       "      <td>0</td>\n",
       "      <td>1</td>\n",
       "      <td>1</td>\n",
       "      <td>0</td>\n",
       "      <td>0</td>\n",
       "      <td>1</td>\n",
       "      <td>0</td>\n",
       "      <td>1</td>\n",
       "      <td>1</td>\n",
       "      <td>0</td>\n",
       "      <td>1</td>\n",
       "      <td>0</td>\n",
       "      <td>0</td>\n",
       "      <td>1</td>\n",
       "      <td>0</td>\n",
       "      <td>1</td>\n",
       "      <td>0</td>\n",
       "      <td>0</td>\n",
       "      <td>0</td>\n",
       "    </tr>\n",
       "    <tr>\n",
       "      <th>4</th>\n",
       "      <td>1</td>\n",
       "      <td>0</td>\n",
       "      <td>0</td>\n",
       "      <td>0</td>\n",
       "      <td>2.0</td>\n",
       "      <td>1</td>\n",
       "      <td>1</td>\n",
       "      <td>70.70</td>\n",
       "      <td>151.65</td>\n",
       "      <td>1</td>\n",
       "      <td>150</td>\n",
       "      <td>1</td>\n",
       "      <td>0</td>\n",
       "      <td>0</td>\n",
       "      <td>0</td>\n",
       "      <td>1</td>\n",
       "      <td>0</td>\n",
       "      <td>1</td>\n",
       "      <td>0</td>\n",
       "      <td>1</td>\n",
       "      <td>0</td>\n",
       "      <td>1</td>\n",
       "      <td>0</td>\n",
       "      <td>1</td>\n",
       "      <td>0</td>\n",
       "      <td>1</td>\n",
       "      <td>0</td>\n",
       "      <td>1</td>\n",
       "      <td>0</td>\n",
       "      <td>1</td>\n",
       "      <td>0</td>\n",
       "      <td>0</td>\n",
       "      <td>0</td>\n",
       "      <td>0</td>\n",
       "      <td>1</td>\n",
       "      <td>0</td>\n",
       "    </tr>\n",
       "  </tbody>\n",
       "</table>\n",
       "</div>"
      ],
      "text/plain": [
       "   gender  SeniorCitizen  Partner  Dependents  tenure  PhoneService  \\\n",
       "0       1              0        1           0     1.0             0   \n",
       "1       0              0        0           0    34.0             1   \n",
       "2       0              0        0           0     2.0             1   \n",
       "3       0              0        0           0    45.0             0   \n",
       "4       1              0        0           0     2.0             1   \n",
       "\n",
       "   PaperlessBilling  MonthlyCharges  TotalCharges  Churn  InternetSpeed  \\\n",
       "0                 1           29.85         29.85      0             10   \n",
       "1                 0           56.95       1889.50      0             10   \n",
       "2                 1           53.85        108.15      1             10   \n",
       "3                 0           42.30       1840.75      0             10   \n",
       "4                 1           70.70        151.65      1            150   \n",
       "\n",
       "   MultipleLines_No  MultipleLines_No phone service  MultipleLines_Yes  \\\n",
       "0                 0                               1                  0   \n",
       "1                 1                               0                  0   \n",
       "2                 1                               0                  0   \n",
       "3                 0                               1                  0   \n",
       "4                 1                               0                  0   \n",
       "\n",
       "   InternetService_DSL  InternetService_Fiber optic  InternetService_No  \\\n",
       "0                    1                            0                   0   \n",
       "1                    1                            0                   0   \n",
       "2                    1                            0                   0   \n",
       "3                    1                            0                   0   \n",
       "4                    0                            1                   0   \n",
       "\n",
       "   OnlineSecurity_No  OnlineSecurity_Yes  OnlineBackup_No  OnlineBackup_Yes  \\\n",
       "0                  1                   0                0                 1   \n",
       "1                  0                   1                1                 0   \n",
       "2                  0                   1                0                 1   \n",
       "3                  0                   1                1                 0   \n",
       "4                  1                   0                1                 0   \n",
       "\n",
       "   DeviceProtection_No  DeviceProtection_Yes  TechSupport_No  TechSupport_Yes  \\\n",
       "0                    1                     0               1                0   \n",
       "1                    0                     1               1                0   \n",
       "2                    1                     0               1                0   \n",
       "3                    0                     1               0                1   \n",
       "4                    1                     0               1                0   \n",
       "\n",
       "   StreamingTV_No  StreamingTV_Yes  StreamingMovies_No  StreamingMovies_Yes  \\\n",
       "0               1                0                   1                    0   \n",
       "1               1                0                   1                    0   \n",
       "2               1                0                   1                    0   \n",
       "3               1                0                   1                    0   \n",
       "4               1                0                   1                    0   \n",
       "\n",
       "   Contract_Month-to-month  Contract_One year  Contract_Two year  \\\n",
       "0                        1                  0                  0   \n",
       "1                        0                  1                  0   \n",
       "2                        1                  0                  0   \n",
       "3                        0                  1                  0   \n",
       "4                        1                  0                  0   \n",
       "\n",
       "   PaymentMethod_Bank transfer (automatic)  \\\n",
       "0                                        0   \n",
       "1                                        0   \n",
       "2                                        0   \n",
       "3                                        1   \n",
       "4                                        0   \n",
       "\n",
       "   PaymentMethod_Credit card (automatic)  PaymentMethod_Electronic check  \\\n",
       "0                                      0                               1   \n",
       "1                                      0                               0   \n",
       "2                                      0                               0   \n",
       "3                                      0                               0   \n",
       "4                                      0                               1   \n",
       "\n",
       "   PaymentMethod_Mailed check  \n",
       "0                           0  \n",
       "1                           1  \n",
       "2                           1  \n",
       "3                           0  \n",
       "4                           0  "
      ]
     },
     "execution_count": 53,
     "metadata": {},
     "output_type": "execute_result"
    }
   ],
   "source": [
    "encoded_data_df.head(5)"
   ]
  },
  {
   "cell_type": "markdown",
   "id": "b1da57d7",
   "metadata": {},
   "source": [
    "# Splitting Datasets into Training/Validation/Test"
   ]
  },
  {
   "cell_type": "markdown",
   "id": "8417bcd7",
   "metadata": {},
   "source": [
    "<img src='img/Screen Shot 2021-09-18 at 11.45.26 am.png' width=800 align='left'>"
   ]
  },
  {
   "cell_type": "markdown",
   "id": "1a4bf3a6",
   "metadata": {},
   "source": [
    "we use a sklearn function for the split and do not forget shuffling your data before splitting to make sure your observations are evenly distributed across train and test.\n",
    "\n",
    "we aim at doing a 80/10/10 for our train/validation/test sets."
   ]
  },
  {
   "cell_type": "code",
   "execution_count": 54,
   "id": "5e87f939",
   "metadata": {},
   "outputs": [],
   "source": [
    "from sklearn.model_selection import train_test_split\n",
    "\n",
    "#separating our input data from the labels\n",
    "encoded_data_df_Y = encoded_data_df['Churn'].copy()\n",
    "encoded_data_df_X = encoded_data_df.drop('Churn', axis=1)\n",
    "\n",
    "#we do a first 80/20 split between training set and the rest (= val + test) AND we shuffle\n",
    "train_x, rest_x, train_y, rest_y = train_test_split(encoded_data_df_X, encoded_data_df_Y, train_size=0.8, shuffle=True)\n",
    "\n",
    "#we split the previous 20% of the dataset in half to get test and validation, no need to shuffle again\n",
    "val_x, test_x, val_y, test_y,  = train_test_split(rest_x, rest_y, test_size=0.5, shuffle=False)"
   ]
  },
  {
   "cell_type": "code",
   "execution_count": 55,
   "id": "3e7e3c1d",
   "metadata": {},
   "outputs": [
    {
     "name": "stdout",
     "output_type": "stream",
     "text": [
      "train x/y - (5623, 35) / (5623,)\n",
      "val x/y - (703, 35) / (703,)\n",
      "test x/y - (703, 35) / (703,)\n"
     ]
    }
   ],
   "source": [
    "print(f'train x/y - {train_x.shape} / {train_y.shape}')\n",
    "print(f'val x/y - {val_x.shape} / {val_y.shape}')\n",
    "print(f'test x/y - {test_x.shape} / {test_y.shape}')"
   ]
  },
  {
   "cell_type": "markdown",
   "id": "935156c3",
   "metadata": {},
   "source": [
    "# Decision trees & XGBoost - (This will be covered in details during the Thursday Tabular ML session)"
   ]
  },
  {
   "cell_type": "markdown",
   "id": "46230b1b",
   "metadata": {},
   "source": [
    "- Xgboost - most popular algorithm for classification models on tabular data\n",
    "- Decision Trees\n",
    "- Ensemble models\n",
    "- bagging vs boosting decision trees"
   ]
  },
  {
   "cell_type": "markdown",
   "id": "59daba75",
   "metadata": {},
   "source": [
    "<img src='img/Screen Shot 2021-09-19 at 5.54.23 pm.png' width=800 align='left'>"
   ]
  },
  {
   "cell_type": "markdown",
   "id": "39caef60",
   "metadata": {},
   "source": [
    "# Training your model with XGBoost"
   ]
  },
  {
   "cell_type": "code",
   "execution_count": 56,
   "id": "645936b2",
   "metadata": {},
   "outputs": [
    {
     "name": "stdout",
     "output_type": "stream",
     "text": [
      "Looking in indexes: https://pypi.org/simple, https://pip.repos.neuron.amazonaws.com\n",
      "Requirement already satisfied: xgboost in /home/ec2-user/anaconda3/envs/python3/lib/python3.6/site-packages (1.4.2)\n",
      "Requirement already satisfied: scipy in /home/ec2-user/anaconda3/envs/python3/lib/python3.6/site-packages (from xgboost) (1.5.3)\n",
      "Requirement already satisfied: numpy in /home/ec2-user/anaconda3/envs/python3/lib/python3.6/site-packages (from xgboost) (1.19.5)\n"
     ]
    }
   ],
   "source": [
    "!pip install xgboost"
   ]
  },
  {
   "cell_type": "markdown",
   "id": "5bd7a05f",
   "metadata": {},
   "source": [
    "\n",
    "<b>Classifier configuration notes:</b>\n",
    "- objective: \"binary:logistic\" because it's a binary problem (0,1) that will output a probability. you should use 'multi:softprob' when solving a multiclass problem.\n",
    "- random_state: a way to \"fix\" the randomness within the algorithm to get consistent results from one training round to another\n",
    "- n_estimators: number of sub trees\n",
    "- max_depth: maximum number of \"split\" in our sub trees\n",
    "- min_child_weight: threshold telling the algo to stop trying to split once the sample size in a leaf goes below the given threshold\n",
    "- learning_rate: shrinks the feature weights to make the boosting process more conservative.\n",
    "- scale_pos_weight: it  is our way to put more weight on positive observations to help with unbalanced datasets. We basically tell the algorithm to focus more on the observations that are positive. = sum(negative instances) / sum(positive instances)\n",
    "\n",
    "<b>fit method notes:</b>\n",
    "- eval_metric=\"aucpr\"  (area under the curve precision recall)\n",
    "- early_stopping_rounds: if no improvement is recorded after 10 rounds of tree creation then stop\n",
    "\n",
    "XGBoost documentation:</br>\n",
    "https://xgboost.readthedocs.io/en/latest/python/python_api.html"
   ]
  },
  {
   "cell_type": "code",
   "execution_count": 57,
   "id": "9474f895",
   "metadata": {},
   "outputs": [
    {
     "name": "stdout",
     "output_type": "stream",
     "text": [
      "[0]\tvalidation_0-aucpr:0.64967\n",
      "[1]\tvalidation_0-aucpr:0.65800\n",
      "[2]\tvalidation_0-aucpr:0.66624\n",
      "[3]\tvalidation_0-aucpr:0.68534\n",
      "[4]\tvalidation_0-aucpr:0.69355\n",
      "[5]\tvalidation_0-aucpr:0.69612\n",
      "[6]\tvalidation_0-aucpr:0.69789\n",
      "[7]\tvalidation_0-aucpr:0.70246\n",
      "[8]\tvalidation_0-aucpr:0.69946\n",
      "[9]\tvalidation_0-aucpr:0.70816\n",
      "[10]\tvalidation_0-aucpr:0.70875\n",
      "[11]\tvalidation_0-aucpr:0.70666\n",
      "[12]\tvalidation_0-aucpr:0.70749\n",
      "[13]\tvalidation_0-aucpr:0.70984\n",
      "[14]\tvalidation_0-aucpr:0.71464\n",
      "[15]\tvalidation_0-aucpr:0.71586\n",
      "[16]\tvalidation_0-aucpr:0.71775\n",
      "[17]\tvalidation_0-aucpr:0.71806\n",
      "[18]\tvalidation_0-aucpr:0.71883\n",
      "[19]\tvalidation_0-aucpr:0.71644\n",
      "[20]\tvalidation_0-aucpr:0.71549\n",
      "[21]\tvalidation_0-aucpr:0.71445\n",
      "[22]\tvalidation_0-aucpr:0.71891\n",
      "[23]\tvalidation_0-aucpr:0.72194\n",
      "[24]\tvalidation_0-aucpr:0.72051\n",
      "[25]\tvalidation_0-aucpr:0.72105\n",
      "[26]\tvalidation_0-aucpr:0.72072\n",
      "[27]\tvalidation_0-aucpr:0.72215\n",
      "[28]\tvalidation_0-aucpr:0.72257\n",
      "[29]\tvalidation_0-aucpr:0.72373\n",
      "[30]\tvalidation_0-aucpr:0.72333\n",
      "[31]\tvalidation_0-aucpr:0.72124\n",
      "[32]\tvalidation_0-aucpr:0.72019\n",
      "[33]\tvalidation_0-aucpr:0.72110\n",
      "[34]\tvalidation_0-aucpr:0.72306\n",
      "[35]\tvalidation_0-aucpr:0.72214\n",
      "[36]\tvalidation_0-aucpr:0.72152\n",
      "[37]\tvalidation_0-aucpr:0.72029\n",
      "[38]\tvalidation_0-aucpr:0.72220\n"
     ]
    }
   ],
   "source": [
    "import xgboost as xgb\n",
    "\n",
    "#count(negative instances) / count(positive instances)\n",
    "scale_pos_weight = encoded_data_df['Churn'].value_counts()[0]/encoded_data_df['Churn'].value_counts()[1]\n",
    "\n",
    "#used for evaluation of the trees/estimators\n",
    "eval_set = [(val_x, val_y)]\n",
    "\n",
    "#configure the xgb classifier object\n",
    "xgbClassifier = xgb.XGBClassifier(objective=\"binary:logistic\", \n",
    "                                  random_state=33, \n",
    "                                  n_estimators=50, \n",
    "                                  max_depth=4, \n",
    "                                  learning_rate=0.3, \n",
    "                                  min_child_weight=2, \n",
    "                                  scale_pos_weight=scale_pos_weight,\n",
    "                                  eval_metric='aucpr')\n",
    "\n",
    "# \"fit\" the model on the data = launch the training process.\n",
    "fit_model = xgbClassifier.fit(train_x, train_y, eval_set=eval_set, verbose=True, early_stopping_rounds=10)"
   ]
  },
  {
   "cell_type": "markdown",
   "id": "af29b711",
   "metadata": {},
   "source": [
    "We generate predictions for the train dataset to see how it fitted the training data"
   ]
  },
  {
   "cell_type": "code",
   "execution_count": 58,
   "id": "07ca63bf",
   "metadata": {},
   "outputs": [],
   "source": [
    "pred_train_y = xgbClassifier.predict(train_x)"
   ]
  },
  {
   "cell_type": "markdown",
   "id": "d34ac1cc",
   "metadata": {},
   "source": [
    "We generate predictions for the test dataset"
   ]
  },
  {
   "cell_type": "code",
   "execution_count": 59,
   "id": "08e53321",
   "metadata": {},
   "outputs": [],
   "source": [
    "pred_test_y = xgbClassifier.predict(test_x)"
   ]
  },
  {
   "cell_type": "markdown",
   "id": "02d4d4d2",
   "metadata": {},
   "source": [
    "# Model Evaluation"
   ]
  },
  {
   "cell_type": "markdown",
   "id": "fb4370a4",
   "metadata": {},
   "source": [
    "## Feature importance/weight"
   ]
  },
  {
   "cell_type": "markdown",
   "id": "e31ed62e",
   "metadata": {},
   "source": [
    "You can use plot_important to understand which features are especially important.</br>\n",
    "By default, this method calculate \"importance\" based on the ”weight”. The weight is the number of times a feature appears in a tree."
   ]
  },
  {
   "cell_type": "code",
   "execution_count": 60,
   "id": "154a0752",
   "metadata": {},
   "outputs": [
    {
     "data": {
      "image/png": "[encoded data removed]",
      "text/plain": [
       "<Figure size 432x288 with 1 Axes>"
      ]
     },
     "metadata": {
      "needs_background": "light"
     },
     "output_type": "display_data"
    }
   ],
   "source": [
    "xgb.plot_importance(fit_model,max_num_features=20)\n",
    "plt.show()"
   ]
  },
  {
   "cell_type": "markdown",
   "id": "74e278b0",
   "metadata": {},
   "source": [
    "## Visual representation of your trees"
   ]
  },
  {
   "cell_type": "code",
   "execution_count": 61,
   "id": "f017964f",
   "metadata": {},
   "outputs": [
    {
     "name": "stdout",
     "output_type": "stream",
     "text": [
      "Looking in indexes: https://pypi.org/simple, https://pip.repos.neuron.amazonaws.com\n",
      "Requirement already satisfied: graphviz in /home/ec2-user/anaconda3/envs/python3/lib/python3.6/site-packages (0.17)\n"
     ]
    }
   ],
   "source": [
    "!pip install graphviz"
   ]
  },
  {
   "cell_type": "code",
   "execution_count": 62,
   "id": "69fd360f",
   "metadata": {},
   "outputs": [
    {
     "name": "stdout",
     "output_type": "stream",
     "text": [
      "Number of sub trees: 40\n",
      "best sub decision tree: 29\n"
     ]
    }
   ],
   "source": [
    "print(f'Number of sub trees: {len(fit_model.get_booster().get_dump())}')\n",
    "print(f'best sub decision tree: {fit_model.best_iteration}')"
   ]
  },
  {
   "cell_type": "code",
   "execution_count": 63,
   "id": "40d02707",
   "metadata": {},
   "outputs": [
    {
     "data": {
      "image/svg+xml": [
       "<?xml version=\"1.0\" encoding=\"UTF-8\" standalone=\"no\"?>\n",
       "<!DOCTYPE svg PUBLIC \"-//W3C//DTD SVG 1.1//EN\"\n",
       " \"http://www.w3.org/Graphics/SVG/1.1/DTD/svg11.dtd\">\n",
       "<!-- Generated by graphviz version 2.46.1 (20210222.2046)\n",
       " -->\n",
       "<!-- Pages: 1 -->\n",
       "<svg width=\"1862pt\" height=\"638pt\"\n",
       " viewBox=\"0.00 0.00 1862.48 638.00\" xmlns=\"http://www.w3.org/2000/svg\" xmlns:xlink=\"http://www.w3.org/1999/xlink\">\n",
       "<g id=\"graph0\" class=\"graph\" transform=\"scale(1 1) rotate(0) translate(4 634)\">\n",
       "<polygon fill=\"white\" stroke=\"transparent\" points=\"-4,4 -4,-634 1858.48,-634 1858.48,4 -4,4\"/>\n",
       "<!-- 0 -->\n",
       "<g id=\"node1\" class=\"node\">\n",
       "<title>0</title>\n",
       "<ellipse fill=\"none\" stroke=\"black\" cx=\"134.54\" cy=\"-271\" rx=\"134.58\" ry=\"18\"/>\n",
       "<text text-anchor=\"middle\" x=\"134.54\" y=\"-267.3\" font-family=\"Times-Roman\" font-size=\"14.00\">TotalCharges&lt;3311.32495</text>\n",
       "</g>\n",
       "<!-- 1 -->\n",
       "<g id=\"node2\" class=\"node\">\n",
       "<title>1</title>\n",
       "<ellipse fill=\"none\" stroke=\"black\" cx=\"528.61\" cy=\"-321\" rx=\"128.88\" ry=\"18\"/>\n",
       "<text text-anchor=\"middle\" x=\"528.61\" y=\"-317.3\" font-family=\"Times-Roman\" font-size=\"14.00\">TotalCharges&lt;3010.1499</text>\n",
       "</g>\n",
       "<!-- 0&#45;&gt;1 -->\n",
       "<g id=\"edge1\" class=\"edge\">\n",
       "<title>0&#45;&gt;1</title>\n",
       "<path fill=\"none\" stroke=\"#0000ff\" d=\"M232.46,-283.36C290.23,-290.73 363.58,-300.08 422.71,-307.62\"/>\n",
       "<polygon fill=\"#0000ff\" stroke=\"#0000ff\" points=\"422.46,-311.12 432.83,-308.91 423.35,-304.18 422.46,-311.12\"/>\n",
       "<text text-anchor=\"middle\" x=\"331.58\" y=\"-303.8\" font-family=\"Times-Roman\" font-size=\"14.00\">yes, missing</text>\n",
       "</g>\n",
       "<!-- 2 -->\n",
       "<g id=\"node3\" class=\"node\">\n",
       "<title>2</title>\n",
       "<ellipse fill=\"none\" stroke=\"black\" cx=\"528.61\" cy=\"-217\" rx=\"134.58\" ry=\"18\"/>\n",
       "<text text-anchor=\"middle\" x=\"528.61\" y=\"-213.3\" font-family=\"Times-Roman\" font-size=\"14.00\">TotalCharges&lt;3432.32495</text>\n",
       "</g>\n",
       "<!-- 0&#45;&gt;2 -->\n",
       "<g id=\"edge2\" class=\"edge\">\n",
       "<title>0&#45;&gt;2</title>\n",
       "<path fill=\"none\" stroke=\"#ff0000\" d=\"M228.95,-258.13C287.74,-250.04 363.68,-239.58 424.27,-231.23\"/>\n",
       "<polygon fill=\"#ff0000\" stroke=\"#ff0000\" points=\"424.81,-234.69 434.24,-229.86 423.85,-227.76 424.81,-234.69\"/>\n",
       "<text text-anchor=\"middle\" x=\"331.58\" y=\"-251.8\" font-family=\"Times-Roman\" font-size=\"14.00\">no</text>\n",
       "</g>\n",
       "<!-- 3 -->\n",
       "<g id=\"node4\" class=\"node\">\n",
       "<title>3</title>\n",
       "<ellipse fill=\"none\" stroke=\"black\" cx=\"937.64\" cy=\"-467\" rx=\"128.88\" ry=\"18\"/>\n",
       "<text text-anchor=\"middle\" x=\"937.64\" y=\"-463.3\" font-family=\"Times-Roman\" font-size=\"14.00\">TotalCharges&lt;2956.7251</text>\n",
       "</g>\n",
       "<!-- 1&#45;&gt;3 -->\n",
       "<g id=\"edge3\" class=\"edge\">\n",
       "<title>1&#45;&gt;3</title>\n",
       "<path fill=\"none\" stroke=\"#0000ff\" d=\"M576.31,-337.75C651.55,-364.74 799.37,-417.76 880.33,-446.8\"/>\n",
       "<polygon fill=\"#0000ff\" stroke=\"#0000ff\" points=\"879.27,-450.14 889.87,-450.22 881.64,-443.55 879.27,-450.14\"/>\n",
       "<text text-anchor=\"middle\" x=\"725.65\" y=\"-410.8\" font-family=\"Times-Roman\" font-size=\"14.00\">yes, missing</text>\n",
       "</g>\n",
       "<!-- 4 -->\n",
       "<g id=\"node5\" class=\"node\">\n",
       "<title>4</title>\n",
       "<ellipse fill=\"none\" stroke=\"black\" cx=\"937.64\" cy=\"-321\" rx=\"149.47\" ry=\"18\"/>\n",
       "<text text-anchor=\"middle\" x=\"937.64\" y=\"-317.3\" font-family=\"Times-Roman\" font-size=\"14.00\">MonthlyCharges&lt;87.6999969</text>\n",
       "</g>\n",
       "<!-- 1&#45;&gt;4 -->\n",
       "<g id=\"edge4\" class=\"edge\">\n",
       "<title>1&#45;&gt;4</title>\n",
       "<path fill=\"none\" stroke=\"#ff0000\" d=\"M657.56,-321C695.7,-321 737.97,-321 777.83,-321\"/>\n",
       "<polygon fill=\"#ff0000\" stroke=\"#ff0000\" points=\"777.91,-324.5 787.91,-321 777.91,-317.5 777.91,-324.5\"/>\n",
       "<text text-anchor=\"middle\" x=\"725.65\" y=\"-324.8\" font-family=\"Times-Roman\" font-size=\"14.00\">no</text>\n",
       "</g>\n",
       "<!-- 5 -->\n",
       "<g id=\"node18\" class=\"node\">\n",
       "<title>5</title>\n",
       "<ellipse fill=\"none\" stroke=\"black\" cx=\"937.64\" cy=\"-217\" rx=\"111.28\" ry=\"18\"/>\n",
       "<text text-anchor=\"middle\" x=\"937.64\" y=\"-213.3\" font-family=\"Times-Roman\" font-size=\"14.00\">MultipleLines_No&lt;0.5</text>\n",
       "</g>\n",
       "<!-- 2&#45;&gt;5 -->\n",
       "<g id=\"edge17\" class=\"edge\">\n",
       "<title>2&#45;&gt;5</title>\n",
       "<path fill=\"none\" stroke=\"#0000ff\" d=\"M663.17,-217C712.51,-217 768.09,-217 816.19,-217\"/>\n",
       "<polygon fill=\"#0000ff\" stroke=\"#0000ff\" points=\"816.34,-220.5 826.34,-217 816.34,-213.5 816.34,-220.5\"/>\n",
       "<text text-anchor=\"middle\" x=\"725.65\" y=\"-220.8\" font-family=\"Times-Roman\" font-size=\"14.00\">yes, missing</text>\n",
       "</g>\n",
       "<!-- 6 -->\n",
       "<g id=\"node19\" class=\"node\">\n",
       "<title>6</title>\n",
       "<ellipse fill=\"none\" stroke=\"black\" cx=\"937.64\" cy=\"-126\" rx=\"134.58\" ry=\"18\"/>\n",
       "<text text-anchor=\"middle\" x=\"937.64\" y=\"-122.3\" font-family=\"Times-Roman\" font-size=\"14.00\">TotalCharges&lt;3516.57495</text>\n",
       "</g>\n",
       "<!-- 2&#45;&gt;6 -->\n",
       "<g id=\"edge18\" class=\"edge\">\n",
       "<title>2&#45;&gt;6</title>\n",
       "<path fill=\"none\" stroke=\"#ff0000\" d=\"M598.66,-201.56C670.4,-185.52 782.49,-160.46 857.69,-143.65\"/>\n",
       "<polygon fill=\"#ff0000\" stroke=\"#ff0000\" points=\"858.6,-147.03 867.59,-141.44 857.07,-140.2 858.6,-147.03\"/>\n",
       "<text text-anchor=\"middle\" x=\"725.65\" y=\"-185.8\" font-family=\"Times-Roman\" font-size=\"14.00\">no</text>\n",
       "</g>\n",
       "<!-- 7 -->\n",
       "<g id=\"node6\" class=\"node\">\n",
       "<title>7</title>\n",
       "<ellipse fill=\"none\" stroke=\"black\" cx=\"1361.61\" cy=\"-558\" rx=\"69.59\" ry=\"18\"/>\n",
       "<text text-anchor=\"middle\" x=\"1361.61\" y=\"-554.3\" font-family=\"Times-Roman\" font-size=\"14.00\">tenure&lt;61.5</text>\n",
       "</g>\n",
       "<!-- 3&#45;&gt;7 -->\n",
       "<g id=\"edge5\" class=\"edge\">\n",
       "<title>3&#45;&gt;7</title>\n",
       "<path fill=\"none\" stroke=\"#0000ff\" d=\"M1008.79,-482.13C1089.31,-499.49 1220.19,-527.72 1297.59,-544.41\"/>\n",
       "<polygon fill=\"#0000ff\" stroke=\"#0000ff\" points=\"1297.16,-547.9 1307.68,-546.58 1298.64,-541.05 1297.16,-547.9\"/>\n",
       "<text text-anchor=\"middle\" x=\"1149.63\" y=\"-523.8\" font-family=\"Times-Roman\" font-size=\"14.00\">yes, missing</text>\n",
       "</g>\n",
       "<!-- 8 -->\n",
       "<g id=\"node7\" class=\"node\">\n",
       "<title>8</title>\n",
       "<ellipse fill=\"none\" stroke=\"black\" cx=\"1361.61\" cy=\"-467\" rx=\"69.59\" ry=\"18\"/>\n",
       "<text text-anchor=\"middle\" x=\"1361.61\" y=\"-463.3\" font-family=\"Times-Roman\" font-size=\"14.00\">tenure&lt;31.5</text>\n",
       "</g>\n",
       "<!-- 3&#45;&gt;8 -->\n",
       "<g id=\"edge6\" class=\"edge\">\n",
       "<title>3&#45;&gt;8</title>\n",
       "<path fill=\"none\" stroke=\"#ff0000\" d=\"M1066.39,-467C1136.44,-467 1221.08,-467 1281.56,-467\"/>\n",
       "<polygon fill=\"#ff0000\" stroke=\"#ff0000\" points=\"1281.8,-470.5 1291.8,-467 1281.8,-463.5 1281.8,-470.5\"/>\n",
       "<text text-anchor=\"middle\" x=\"1149.63\" y=\"-470.8\" font-family=\"Times-Roman\" font-size=\"14.00\">no</text>\n",
       "</g>\n",
       "<!-- 9 -->\n",
       "<g id=\"node12\" class=\"node\">\n",
       "<title>9</title>\n",
       "<ellipse fill=\"none\" stroke=\"black\" cx=\"1361.61\" cy=\"-342\" rx=\"149.47\" ry=\"18\"/>\n",
       "<text text-anchor=\"middle\" x=\"1361.61\" y=\"-338.3\" font-family=\"Times-Roman\" font-size=\"14.00\">MonthlyCharges&lt;83.5999985</text>\n",
       "</g>\n",
       "<!-- 4&#45;&gt;9 -->\n",
       "<g id=\"edge11\" class=\"edge\">\n",
       "<title>4&#45;&gt;9</title>\n",
       "<path fill=\"none\" stroke=\"#0000ff\" d=\"M1076.22,-327.85C1120.05,-330.03 1168.7,-332.45 1213.19,-334.66\"/>\n",
       "<polygon fill=\"#0000ff\" stroke=\"#0000ff\" points=\"1213.05,-338.16 1223.21,-335.16 1213.4,-331.17 1213.05,-338.16\"/>\n",
       "<text text-anchor=\"middle\" x=\"1149.63\" y=\"-336.8\" font-family=\"Times-Roman\" font-size=\"14.00\">yes, missing</text>\n",
       "</g>\n",
       "<!-- 10 -->\n",
       "<g id=\"node13\" class=\"node\">\n",
       "<title>10</title>\n",
       "<ellipse fill=\"none\" stroke=\"black\" cx=\"1361.61\" cy=\"-288\" rx=\"149.47\" ry=\"18\"/>\n",
       "<text text-anchor=\"middle\" x=\"1361.61\" y=\"-284.3\" font-family=\"Times-Roman\" font-size=\"14.00\">MonthlyCharges&lt;93.6750031</text>\n",
       "</g>\n",
       "<!-- 4&#45;&gt;10 -->\n",
       "<g id=\"edge12\" class=\"edge\">\n",
       "<title>4&#45;&gt;10</title>\n",
       "<path fill=\"none\" stroke=\"#ff0000\" d=\"M1063.53,-311.23C1114.45,-307.25 1173.45,-302.64 1225.39,-298.58\"/>\n",
       "<polygon fill=\"#ff0000\" stroke=\"#ff0000\" points=\"1225.98,-302.04 1235.68,-297.77 1225.43,-295.06 1225.98,-302.04\"/>\n",
       "<text text-anchor=\"middle\" x=\"1149.63\" y=\"-310.8\" font-family=\"Times-Roman\" font-size=\"14.00\">no</text>\n",
       "</g>\n",
       "<!-- 15 -->\n",
       "<g id=\"node8\" class=\"node\">\n",
       "<title>15</title>\n",
       "<ellipse fill=\"none\" stroke=\"black\" cx=\"1745.29\" cy=\"-612\" rx=\"109.38\" ry=\"18\"/>\n",
       "<text text-anchor=\"middle\" x=\"1745.29\" y=\"-608.3\" font-family=\"Times-Roman\" font-size=\"14.00\">leaf=0.00611181324</text>\n",
       "</g>\n",
       "<!-- 7&#45;&gt;15 -->\n",
       "<g id=\"edge7\" class=\"edge\">\n",
       "<title>7&#45;&gt;15</title>\n",
       "<path fill=\"none\" stroke=\"#0000ff\" d=\"M1423.09,-566.56C1484.5,-575.24 1580.4,-588.81 1651.44,-598.86\"/>\n",
       "<polygon fill=\"#0000ff\" stroke=\"#0000ff\" points=\"1651.34,-602.38 1661.73,-600.32 1652.32,-595.45 1651.34,-602.38\"/>\n",
       "<text text-anchor=\"middle\" x=\"1573.6\" y=\"-595.8\" font-family=\"Times-Roman\" font-size=\"14.00\">yes, missing</text>\n",
       "</g>\n",
       "<!-- 16 -->\n",
       "<g id=\"node9\" class=\"node\">\n",
       "<title>16</title>\n",
       "<ellipse fill=\"none\" stroke=\"black\" cx=\"1745.29\" cy=\"-558\" rx=\"100.98\" ry=\"18\"/>\n",
       "<text text-anchor=\"middle\" x=\"1745.29\" y=\"-554.3\" font-family=\"Times-Roman\" font-size=\"14.00\">leaf=&#45;0.285338134</text>\n",
       "</g>\n",
       "<!-- 7&#45;&gt;16 -->\n",
       "<g id=\"edge8\" class=\"edge\">\n",
       "<title>7&#45;&gt;16</title>\n",
       "<path fill=\"none\" stroke=\"#ff0000\" d=\"M1431.29,-558C1487.62,-558 1568.45,-558 1633.85,-558\"/>\n",
       "<polygon fill=\"#ff0000\" stroke=\"#ff0000\" points=\"1634.21,-561.5 1644.21,-558 1634.21,-554.5 1634.21,-561.5\"/>\n",
       "<text text-anchor=\"middle\" x=\"1573.6\" y=\"-561.8\" font-family=\"Times-Roman\" font-size=\"14.00\">no</text>\n",
       "</g>\n",
       "<!-- 17 -->\n",
       "<g id=\"node10\" class=\"node\">\n",
       "<title>17</title>\n",
       "<ellipse fill=\"none\" stroke=\"black\" cx=\"1745.29\" cy=\"-504\" rx=\"100.98\" ry=\"18\"/>\n",
       "<text text-anchor=\"middle\" x=\"1745.29\" y=\"-500.3\" font-family=\"Times-Roman\" font-size=\"14.00\">leaf=&#45;0.109939151</text>\n",
       "</g>\n",
       "<!-- 8&#45;&gt;17 -->\n",
       "<g id=\"edge9\" class=\"edge\">\n",
       "<title>8&#45;&gt;17</title>\n",
       "<path fill=\"none\" stroke=\"#0000ff\" d=\"M1426.93,-473.23C1486.97,-479.05 1577.41,-487.82 1646.41,-494.51\"/>\n",
       "<polygon fill=\"#0000ff\" stroke=\"#0000ff\" points=\"1646.14,-498 1656.43,-495.48 1646.81,-491.03 1646.14,-498\"/>\n",
       "<text text-anchor=\"middle\" x=\"1573.6\" y=\"-493.8\" font-family=\"Times-Roman\" font-size=\"14.00\">yes, missing</text>\n",
       "</g>\n",
       "<!-- 18 -->\n",
       "<g id=\"node11\" class=\"node\">\n",
       "<title>18</title>\n",
       "<ellipse fill=\"none\" stroke=\"black\" cx=\"1745.29\" cy=\"-450\" rx=\"94.78\" ry=\"18\"/>\n",
       "<text text-anchor=\"middle\" x=\"1745.29\" y=\"-446.3\" font-family=\"Times-Roman\" font-size=\"14.00\">leaf=&#45;0.43577075</text>\n",
       "</g>\n",
       "<!-- 8&#45;&gt;18 -->\n",
       "<g id=\"edge10\" class=\"edge\">\n",
       "<title>8&#45;&gt;18</title>\n",
       "<path fill=\"none\" stroke=\"#ff0000\" d=\"M1430.41,-463.98C1489.29,-461.36 1575.43,-457.52 1642.57,-454.53\"/>\n",
       "<polygon fill=\"#ff0000\" stroke=\"#ff0000\" points=\"1642.92,-458.02 1652.76,-454.08 1642.61,-451.03 1642.92,-458.02\"/>\n",
       "<text text-anchor=\"middle\" x=\"1573.6\" y=\"-462.8\" font-family=\"Times-Roman\" font-size=\"14.00\">no</text>\n",
       "</g>\n",
       "<!-- 19 -->\n",
       "<g id=\"node14\" class=\"node\">\n",
       "<title>19</title>\n",
       "<ellipse fill=\"none\" stroke=\"black\" cx=\"1745.29\" cy=\"-396\" rx=\"103.18\" ry=\"18\"/>\n",
       "<text text-anchor=\"middle\" x=\"1745.29\" y=\"-392.3\" font-family=\"Times-Roman\" font-size=\"14.00\">leaf=0.0982829928</text>\n",
       "</g>\n",
       "<!-- 9&#45;&gt;19 -->\n",
       "<g id=\"edge13\" class=\"edge\">\n",
       "<title>9&#45;&gt;19</title>\n",
       "<path fill=\"none\" stroke=\"#0000ff\" d=\"M1459.42,-355.7C1519.44,-364.19 1596.01,-375.02 1654.64,-383.32\"/>\n",
       "<polygon fill=\"#0000ff\" stroke=\"#0000ff\" points=\"1654.24,-386.79 1664.63,-384.73 1655.22,-379.86 1654.24,-386.79\"/>\n",
       "<text text-anchor=\"middle\" x=\"1573.6\" y=\"-379.8\" font-family=\"Times-Roman\" font-size=\"14.00\">yes, missing</text>\n",
       "</g>\n",
       "<!-- 20 -->\n",
       "<g id=\"node15\" class=\"node\">\n",
       "<title>20</title>\n",
       "<ellipse fill=\"none\" stroke=\"black\" cx=\"1745.29\" cy=\"-342\" rx=\"97.48\" ry=\"18\"/>\n",
       "<text text-anchor=\"middle\" x=\"1745.29\" y=\"-338.3\" font-family=\"Times-Roman\" font-size=\"14.00\">leaf=0.445110887</text>\n",
       "</g>\n",
       "<!-- 9&#45;&gt;20 -->\n",
       "<g id=\"edge14\" class=\"edge\">\n",
       "<title>9&#45;&gt;20</title>\n",
       "<path fill=\"none\" stroke=\"#ff0000\" d=\"M1511.27,-342C1553.35,-342 1598.31,-342 1637.4,-342\"/>\n",
       "<polygon fill=\"#ff0000\" stroke=\"#ff0000\" points=\"1637.73,-345.5 1647.73,-342 1637.73,-338.5 1637.73,-345.5\"/>\n",
       "<text text-anchor=\"middle\" x=\"1573.6\" y=\"-345.8\" font-family=\"Times-Roman\" font-size=\"14.00\">no</text>\n",
       "</g>\n",
       "<!-- 21 -->\n",
       "<g id=\"node16\" class=\"node\">\n",
       "<title>21</title>\n",
       "<ellipse fill=\"none\" stroke=\"black\" cx=\"1745.29\" cy=\"-288\" rx=\"94.78\" ry=\"18\"/>\n",
       "<text text-anchor=\"middle\" x=\"1745.29\" y=\"-284.3\" font-family=\"Times-Roman\" font-size=\"14.00\">leaf=&#45;0.42133832</text>\n",
       "</g>\n",
       "<!-- 10&#45;&gt;21 -->\n",
       "<g id=\"edge15\" class=\"edge\">\n",
       "<title>10&#45;&gt;21</title>\n",
       "<path fill=\"none\" stroke=\"#0000ff\" d=\"M1511.27,-288C1554.31,-288 1600.35,-288 1640.06,-288\"/>\n",
       "<polygon fill=\"#0000ff\" stroke=\"#0000ff\" points=\"1640.27,-291.5 1650.27,-288 1640.27,-284.5 1640.27,-291.5\"/>\n",
       "<text text-anchor=\"middle\" x=\"1573.6\" y=\"-291.8\" font-family=\"Times-Roman\" font-size=\"14.00\">yes, missing</text>\n",
       "</g>\n",
       "<!-- 22 -->\n",
       "<g id=\"node17\" class=\"node\">\n",
       "<title>22</title>\n",
       "<ellipse fill=\"none\" stroke=\"black\" cx=\"1745.29\" cy=\"-234\" rx=\"109.38\" ry=\"18\"/>\n",
       "<text text-anchor=\"middle\" x=\"1745.29\" y=\"-230.3\" font-family=\"Times-Roman\" font-size=\"14.00\">leaf=0.00158089644</text>\n",
       "</g>\n",
       "<!-- 10&#45;&gt;22 -->\n",
       "<g id=\"edge16\" class=\"edge\">\n",
       "<title>10&#45;&gt;22</title>\n",
       "<path fill=\"none\" stroke=\"#ff0000\" d=\"M1459.42,-274.3C1518.5,-265.94 1593.62,-255.32 1651.88,-247.07\"/>\n",
       "<polygon fill=\"#ff0000\" stroke=\"#ff0000\" points=\"1652.4,-250.54 1661.81,-245.67 1651.42,-243.6 1652.4,-250.54\"/>\n",
       "<text text-anchor=\"middle\" x=\"1573.6\" y=\"-267.8\" font-family=\"Times-Roman\" font-size=\"14.00\">no</text>\n",
       "</g>\n",
       "<!-- 11 -->\n",
       "<g id=\"node20\" class=\"node\">\n",
       "<title>11</title>\n",
       "<ellipse fill=\"none\" stroke=\"black\" cx=\"1361.61\" cy=\"-234\" rx=\"100.98\" ry=\"18\"/>\n",
       "<text text-anchor=\"middle\" x=\"1361.61\" y=\"-230.3\" font-family=\"Times-Roman\" font-size=\"14.00\">leaf=&#45;0.344834536</text>\n",
       "</g>\n",
       "<!-- 5&#45;&gt;11 -->\n",
       "<g id=\"edge19\" class=\"edge\">\n",
       "<title>5&#45;&gt;11</title>\n",
       "<path fill=\"none\" stroke=\"#0000ff\" d=\"M1045.67,-221.31C1109.17,-223.87 1189.43,-227.1 1253.03,-229.67\"/>\n",
       "<polygon fill=\"#0000ff\" stroke=\"#0000ff\" points=\"1252.96,-233.17 1263.09,-230.07 1253.24,-226.17 1252.96,-233.17\"/>\n",
       "<text text-anchor=\"middle\" x=\"1149.63\" y=\"-230.8\" font-family=\"Times-Roman\" font-size=\"14.00\">yes, missing</text>\n",
       "</g>\n",
       "<!-- 12 -->\n",
       "<g id=\"node21\" class=\"node\">\n",
       "<title>12</title>\n",
       "<ellipse fill=\"none\" stroke=\"black\" cx=\"1361.61\" cy=\"-180\" rx=\"106.68\" ry=\"18\"/>\n",
       "<text text-anchor=\"middle\" x=\"1361.61\" y=\"-176.3\" font-family=\"Times-Roman\" font-size=\"14.00\">leaf=&#45;0.0137728909</text>\n",
       "</g>\n",
       "<!-- 5&#45;&gt;12 -->\n",
       "<g id=\"edge20\" class=\"edge\">\n",
       "<title>5&#45;&gt;12</title>\n",
       "<path fill=\"none\" stroke=\"#ff0000\" d=\"M1035.71,-208.49C1101.68,-202.7 1188.88,-195.06 1256.32,-189.14\"/>\n",
       "<polygon fill=\"#ff0000\" stroke=\"#ff0000\" points=\"1256.89,-192.61 1266.55,-188.25 1256.28,-185.63 1256.89,-192.61\"/>\n",
       "<text text-anchor=\"middle\" x=\"1149.63\" y=\"-204.8\" font-family=\"Times-Roman\" font-size=\"14.00\">no</text>\n",
       "</g>\n",
       "<!-- 13 -->\n",
       "<g id=\"node22\" class=\"node\">\n",
       "<title>13</title>\n",
       "<ellipse fill=\"none\" stroke=\"black\" cx=\"1361.61\" cy=\"-126\" rx=\"69.59\" ry=\"18\"/>\n",
       "<text text-anchor=\"middle\" x=\"1361.61\" y=\"-122.3\" font-family=\"Times-Roman\" font-size=\"14.00\">tenure&lt;39.5</text>\n",
       "</g>\n",
       "<!-- 6&#45;&gt;13 -->\n",
       "<g id=\"edge21\" class=\"edge\">\n",
       "<title>6&#45;&gt;13</title>\n",
       "<path fill=\"none\" stroke=\"#0000ff\" d=\"M1072.44,-126C1141.33,-126 1222.95,-126 1281.7,-126\"/>\n",
       "<polygon fill=\"#0000ff\" stroke=\"#0000ff\" points=\"1282.03,-129.5 1292.03,-126 1282.03,-122.5 1282.03,-129.5\"/>\n",
       "<text text-anchor=\"middle\" x=\"1149.63\" y=\"-129.8\" font-family=\"Times-Roman\" font-size=\"14.00\">yes, missing</text>\n",
       "</g>\n",
       "<!-- 14 -->\n",
       "<g id=\"node23\" class=\"node\">\n",
       "<title>14</title>\n",
       "<ellipse fill=\"none\" stroke=\"black\" cx=\"1361.61\" cy=\"-72\" rx=\"116.98\" ry=\"18\"/>\n",
       "<text text-anchor=\"middle\" x=\"1361.61\" y=\"-68.3\" font-family=\"Times-Roman\" font-size=\"14.00\">TotalCharges&lt;4042.25</text>\n",
       "</g>\n",
       "<!-- 6&#45;&gt;14 -->\n",
       "<g id=\"edge22\" class=\"edge\">\n",
       "<title>6&#45;&gt;14</title>\n",
       "<path fill=\"none\" stroke=\"#ff0000\" d=\"M1035.45,-113.61C1102.91,-104.98 1192.67,-93.49 1260.78,-84.78\"/>\n",
       "<polygon fill=\"#ff0000\" stroke=\"#ff0000\" points=\"1261.62,-88.2 1271.1,-83.46 1260.73,-81.25 1261.62,-88.2\"/>\n",
       "<text text-anchor=\"middle\" x=\"1149.63\" y=\"-106.8\" font-family=\"Times-Roman\" font-size=\"14.00\">no</text>\n",
       "</g>\n",
       "<!-- 23 -->\n",
       "<g id=\"node24\" class=\"node\">\n",
       "<title>23</title>\n",
       "<ellipse fill=\"none\" stroke=\"black\" cx=\"1745.29\" cy=\"-180\" rx=\"97.48\" ry=\"18\"/>\n",
       "<text text-anchor=\"middle\" x=\"1745.29\" y=\"-176.3\" font-family=\"Times-Roman\" font-size=\"14.00\">leaf=0.267502666</text>\n",
       "</g>\n",
       "<!-- 13&#45;&gt;23 -->\n",
       "<g id=\"edge23\" class=\"edge\">\n",
       "<title>13&#45;&gt;23</title>\n",
       "<path fill=\"none\" stroke=\"#0000ff\" d=\"M1423.09,-134.56C1486.23,-143.49 1585.83,-157.58 1657.39,-167.71\"/>\n",
       "<polygon fill=\"#0000ff\" stroke=\"#0000ff\" points=\"1656.9,-171.17 1667.29,-169.11 1657.88,-164.24 1656.9,-171.17\"/>\n",
       "<text text-anchor=\"middle\" x=\"1573.6\" y=\"-163.8\" font-family=\"Times-Roman\" font-size=\"14.00\">yes, missing</text>\n",
       "</g>\n",
       "<!-- 24 -->\n",
       "<g id=\"node25\" class=\"node\">\n",
       "<title>24</title>\n",
       "<ellipse fill=\"none\" stroke=\"black\" cx=\"1745.29\" cy=\"-126\" rx=\"100.98\" ry=\"18\"/>\n",
       "<text text-anchor=\"middle\" x=\"1745.29\" y=\"-122.3\" font-family=\"Times-Roman\" font-size=\"14.00\">leaf=&#45;0.100018844</text>\n",
       "</g>\n",
       "<!-- 13&#45;&gt;24 -->\n",
       "<g id=\"edge24\" class=\"edge\">\n",
       "<title>13&#45;&gt;24</title>\n",
       "<path fill=\"none\" stroke=\"#ff0000\" d=\"M1431.29,-126C1487.62,-126 1568.45,-126 1633.85,-126\"/>\n",
       "<polygon fill=\"#ff0000\" stroke=\"#ff0000\" points=\"1634.21,-129.5 1644.21,-126 1634.21,-122.5 1634.21,-129.5\"/>\n",
       "<text text-anchor=\"middle\" x=\"1573.6\" y=\"-129.8\" font-family=\"Times-Roman\" font-size=\"14.00\">no</text>\n",
       "</g>\n",
       "<!-- 25 -->\n",
       "<g id=\"node26\" class=\"node\">\n",
       "<title>25</title>\n",
       "<ellipse fill=\"none\" stroke=\"black\" cx=\"1745.29\" cy=\"-72\" rx=\"100.98\" ry=\"18\"/>\n",
       "<text text-anchor=\"middle\" x=\"1745.29\" y=\"-68.3\" font-family=\"Times-Roman\" font-size=\"14.00\">leaf=&#45;0.116385981</text>\n",
       "</g>\n",
       "<!-- 14&#45;&gt;25 -->\n",
       "<g id=\"edge25\" class=\"edge\">\n",
       "<title>14&#45;&gt;25</title>\n",
       "<path fill=\"none\" stroke=\"#0000ff\" d=\"M1478.68,-72C1528.03,-72 1585.3,-72 1634,-72\"/>\n",
       "<polygon fill=\"#0000ff\" stroke=\"#0000ff\" points=\"1634.25,-75.5 1644.25,-72 1634.25,-68.5 1634.25,-75.5\"/>\n",
       "<text text-anchor=\"middle\" x=\"1573.6\" y=\"-75.8\" font-family=\"Times-Roman\" font-size=\"14.00\">yes, missing</text>\n",
       "</g>\n",
       "<!-- 26 -->\n",
       "<g id=\"node27\" class=\"node\">\n",
       "<title>26</title>\n",
       "<ellipse fill=\"none\" stroke=\"black\" cx=\"1745.29\" cy=\"-18\" rx=\"109.38\" ry=\"18\"/>\n",
       "<text text-anchor=\"middle\" x=\"1745.29\" y=\"-14.3\" font-family=\"Times-Roman\" font-size=\"14.00\">leaf=0.00343598961</text>\n",
       "</g>\n",
       "<!-- 14&#45;&gt;26 -->\n",
       "<g id=\"edge26\" class=\"edge\">\n",
       "<title>14&#45;&gt;26</title>\n",
       "<path fill=\"none\" stroke=\"#ff0000\" d=\"M1448.27,-59.88C1508.75,-51.32 1589.73,-39.87 1651.7,-31.1\"/>\n",
       "<polygon fill=\"#ff0000\" stroke=\"#ff0000\" points=\"1652.46,-34.53 1661.87,-29.66 1651.48,-27.6 1652.46,-34.53\"/>\n",
       "<text text-anchor=\"middle\" x=\"1573.6\" y=\"-51.8\" font-family=\"Times-Roman\" font-size=\"14.00\">no</text>\n",
       "</g>\n",
       "</g>\n",
       "</svg>\n"
      ],
      "text/plain": [
       "<graphviz.files.Source at 0x7f018117f048>"
      ]
     },
     "execution_count": 63,
     "metadata": {},
     "output_type": "execute_result"
    }
   ],
   "source": [
    "from xgboost import plot_tree\n",
    "#plot_tree(fit_model, num_trees=1, rankdir='LR')\n",
    "xgb.to_graphviz(fit_model, num_trees=fit_model.best_iteration, rankdir='LR')"
   ]
  },
  {
   "cell_type": "markdown",
   "id": "c2ae0000",
   "metadata": {},
   "source": [
    "Note that the final probability prediction is obtained by taking sum of leaf values (raw scores) in all the trees and then transforming it between 0 and 1 using a sigmoid function. The leaf value (raw score) can be negative, the value 0 actually represents probability being 1/2."
   ]
  },
  {
   "cell_type": "markdown",
   "id": "8a552e7f",
   "metadata": {},
   "source": [
    "## Confusion matrix"
   ]
  },
  {
   "cell_type": "markdown",
   "id": "07b0ea6d",
   "metadata": {},
   "source": [
    "= Best way to evaluate the performance of a classifer model"
   ]
  },
  {
   "cell_type": "markdown",
   "id": "c8961d98",
   "metadata": {},
   "source": [
    "<img src='img/Screen Shot 2021-09-18 at 12.23.15 pm.png' width=800 align='left'>"
   ]
  },
  {
   "cell_type": "markdown",
   "id": "939872a8",
   "metadata": {},
   "source": [
    "<img src='img/Screen Shot 2021-09-19 at 6.02.52 pm.png' width=800 align='left'>"
   ]
  },
  {
   "cell_type": "markdown",
   "id": "d81f5c74",
   "metadata": {},
   "source": [
    "<img src='img/Screen Shot 2021-09-19 at 6.03.14 pm.png' width=800 align='left'>"
   ]
  },
  {
   "cell_type": "markdown",
   "id": "7fcc1f89",
   "metadata": {},
   "source": [
    "<img src='img/Screen Shot 2021-09-19 at 6.03.21 pm.png' width=800 align='left'>"
   ]
  },
  {
   "cell_type": "markdown",
   "id": "92b65561",
   "metadata": {},
   "source": [
    "<img src='img/Screen Shot 2021-09-19 at 6.03.27 pm.png' width=800 align='left'>"
   ]
  },
  {
   "cell_type": "markdown",
   "id": "782e5cdb",
   "metadata": {},
   "source": [
    "<img src='img/Screen Shot 2021-09-19 at 6.08.02 pm.png' width=800 align='left'>"
   ]
  },
  {
   "cell_type": "code",
   "execution_count": 64,
   "id": "7f8013cc",
   "metadata": {},
   "outputs": [],
   "source": [
    "from sklearn.metrics import confusion_matrix\n",
    "from sklearn.metrics import accuracy_score\n",
    "from sklearn.metrics import precision_score\n",
    "from sklearn.metrics import recall_score\n",
    "from sklearn.metrics import f1_score\n",
    "from sklearn.metrics import roc_auc_score"
   ]
  },
  {
   "cell_type": "code",
   "execution_count": 65,
   "id": "b86d9298",
   "metadata": {},
   "outputs": [],
   "source": [
    "def print_confusion_matrix(test_y, pred_y):\n",
    "    tn, fp, fn, tp = confusion_matrix(test_y, pred_y).ravel()\n",
    "    print(f'{tp} | {fn}')\n",
    "    print(f'_________')\n",
    "    print(f'{fp} | {tn}')\n",
    "    \n",
    "def print_main_eval_metrics(test_y, pred_y):\n",
    "    accuracy = accuracy_score(test_y, pred_y)\n",
    "    precision = precision_score(test_y, pred_y)\n",
    "    recall = recall_score(test_y, pred_y)\n",
    "    f1 = f1_score(test_y, pred_y)\n",
    "    roc_auc = roc_auc_score(test_y, pred_y)\n",
    "    print(f' accuracy:{accuracy}, \\n precision:{precision} \\n recall:{recall} \\n f1:{f1} \\n roc_auc:{roc_auc}')"
   ]
  },
  {
   "cell_type": "markdown",
   "id": "ab4a4b4a",
   "metadata": {},
   "source": [
    "Confusion matrix for the test dataset"
   ]
  },
  {
   "cell_type": "code",
   "execution_count": 66,
   "id": "322502cf",
   "metadata": {},
   "outputs": [
    {
     "name": "stdout",
     "output_type": "stream",
     "text": [
      "166 | 36\n",
      "_________\n",
      "131 | 370\n"
     ]
    }
   ],
   "source": [
    "print_confusion_matrix(test_y, pred_test_y)"
   ]
  },
  {
   "cell_type": "markdown",
   "id": "ba21281e",
   "metadata": {},
   "source": [
    "Main metrics for the test dataset"
   ]
  },
  {
   "cell_type": "code",
   "execution_count": 67,
   "id": "142d6fb8",
   "metadata": {},
   "outputs": [
    {
     "name": "stdout",
     "output_type": "stream",
     "text": [
      " accuracy:0.7624466571834992, \n",
      " precision:0.5589225589225589 \n",
      " recall:0.8217821782178217 \n",
      " f1:0.6653306613226453 \n",
      " roc_auc:0.780152566154819\n"
     ]
    }
   ],
   "source": [
    "print_main_eval_metrics(test_y, pred_test_y)"
   ]
  },
  {
   "cell_type": "markdown",
   "id": "b29820a0",
   "metadata": {},
   "source": [
    "Main metrics for the train dataset - good but not overfitted"
   ]
  },
  {
   "cell_type": "code",
   "execution_count": 68,
   "id": "e9cf3501",
   "metadata": {},
   "outputs": [
    {
     "name": "stdout",
     "output_type": "stream",
     "text": [
      " accuracy:0.7896140850080029, \n",
      " precision:0.5648611743286299 \n",
      " recall:0.8453678474114441 \n",
      " f1:0.6772169167803547 \n",
      " roc_auc:0.8076418057755175\n"
     ]
    }
   ],
   "source": [
    "print_main_eval_metrics(train_y, pred_train_y)"
   ]
  },
  {
   "cell_type": "markdown",
   "id": "9c1b0b00",
   "metadata": {},
   "source": [
    "</br>\n",
    "<b>TIPS - When to use F1, Accuracy, ROC AUC, PR AUC? </b></br>\n",
    "\n",
    "https://neptune.ai/blog/f1-score-accuracy-roc-auc-pr-auc</br>\n",
    "\n",
    "\n",
    "Accuracy – balanced dataset, when every class is equally important to you</br>\n",
    "\n",
    "Precision vs Recall - Maximizing precision will minimize the number of false positives, whereas maximizing the recall will minimize the number of false negatives.</br>\n",
    "\n",
    "For customer churn: more interested in recall than precision. not predicting that a customer will Churn is a big miss but predicting that a customer might churn while they do not will just trigger specific retention campaigns that might be unnecessary.</br>\n",
    "\n",
    "F1 – every binary classification problem where you care more about the Positive class.</br>\n",
    "\n",
    "ROC AUC. – DON’T USE when imbalanced dataset. When you care equally about positive and negative. When you care about ranking predictions.</br>\n",
    "https://towardsdatascience.com/understanding-auc-roc-curve-68b2303cc9c5\n",
    "\n",
    "PR AUC – when heavily imbalanced dataset. When you care more about positive than negative.</br>\n"
   ]
  },
  {
   "cell_type": "markdown",
   "id": "f1480725",
   "metadata": {},
   "source": [
    "## KFold cross validation"
   ]
  },
  {
   "cell_type": "markdown",
   "id": "c6e16b91",
   "metadata": {},
   "source": [
    "Problem it solves:</br>\n",
    "Very useful for situation where you have a small dataset. In those cases, splitting your dataset across train/val/test can leave you with little number of observation to feed your model.\n",
    "\n",
    "It ensures that every observation from the original dataset has the chance of appearing in training and test set."
   ]
  },
  {
   "cell_type": "markdown",
   "id": "e0174bb3",
   "metadata": {},
   "source": [
    "<img src='img/Screen Shot 2021-09-18 at 11.45.34 am.png' width=800 align='left'>"
   ]
  },
  {
   "cell_type": "code",
   "execution_count": 69,
   "id": "8476bed9",
   "metadata": {},
   "outputs": [],
   "source": [
    "from sklearn.model_selection import cross_val_score, cross_val_predict\n",
    "from sklearn.metrics import SCORERS\n",
    "\n",
    "#we create a similar classifier object as previously\n",
    "xgbClassifier_cross_val = xgb.XGBClassifier(objective=\"binary:logistic\", \n",
    "                                  random_state=33, \n",
    "                                  n_estimators=50, \n",
    "                                  max_depth=4, \n",
    "                                  learning_rate=0.3, \n",
    "                                  min_child_weight=2, \n",
    "                                  scale_pos_weight=scale_pos_weight,\n",
    "                                  eval_metric='aucpr')\n",
    "\n",
    "# we use the full dataset this time: encoded_data_df_X and encoded_data_df_Y\n",
    "\n",
    "#we do a cross validation and get the scores first\n",
    "scores = cross_val_score(xgbClassifier_cross_val, encoded_data_df_X, encoded_data_df_Y, cv=5, scoring = \"recall\")\n",
    "\n",
    "#we generate cross-validated estimates for each input data point \n",
    "xval_pred_y = cross_val_predict(xgbClassifier_cross_val, encoded_data_df_X, encoded_data_df_Y, cv=5)\n",
    "\n",
    "#to display the different available metrics, use: SCORERS.keys()"
   ]
  },
  {
   "cell_type": "code",
   "execution_count": 70,
   "id": "3cc52855",
   "metadata": {},
   "outputs": [
    {
     "name": "stdout",
     "output_type": "stream",
     "text": [
      "recall across all iterations: [0.78820375 0.77540107 0.75668449 0.76737968 0.72654155]\n"
     ]
    }
   ],
   "source": [
    "print(f'recall across all iterations: {scores}')"
   ]
  },
  {
   "cell_type": "code",
   "execution_count": 71,
   "id": "0fd4b01e",
   "metadata": {},
   "outputs": [
    {
     "name": "stdout",
     "output_type": "stream",
     "text": [
      "1425 | 443\n",
      "_________\n",
      "1303 | 3858\n"
     ]
    }
   ],
   "source": [
    "print_confusion_matrix(encoded_data_df_Y, xval_pred_y)"
   ]
  },
  {
   "cell_type": "code",
   "execution_count": 72,
   "id": "482d2556",
   "metadata": {},
   "outputs": [
    {
     "name": "stdout",
     "output_type": "stream",
     "text": [
      " accuracy:0.7516005121638925, \n",
      " precision:0.5223607038123167 \n",
      " recall:0.762847965738758 \n",
      " f1:0.6201044386422976 \n",
      " roc_auc:0.7551887571379317\n"
     ]
    }
   ],
   "source": [
    "print_main_eval_metrics(encoded_data_df_Y, xval_pred_y)"
   ]
  },
  {
   "cell_type": "markdown",
   "id": "c1a4eeb8",
   "metadata": {},
   "source": [
    "# Intuition about Underfitting and Overfitting"
   ]
  },
  {
   "cell_type": "markdown",
   "id": "b46ff55d",
   "metadata": {},
   "source": [
    "<img src='img/Screen Shot 2021-09-19 at 11.59.58 am.png' width=800 align='left'>"
   ]
  },
  {
   "cell_type": "markdown",
   "id": "1c1c5990",
   "metadata": {},
   "source": [
    "<img src='img/Screen Shot 2021-09-19 at 12.00.05 pm.png' width=800 align='left'>"
   ]
  },
  {
   "cell_type": "markdown",
   "id": "e3ffbb08",
   "metadata": {},
   "source": [
    "<img src='img/Screen Shot 2021-09-19 at 12.00.18 pm.png' width=800 align='left'>"
   ]
  },
  {
   "cell_type": "markdown",
   "id": "ff569c3d",
   "metadata": {},
   "source": [
    "Let's generate an overfitted model!"
   ]
  },
  {
   "cell_type": "code",
   "execution_count": 73,
   "id": "7dc032c7",
   "metadata": {},
   "outputs": [],
   "source": [
    "xgbClassifier_overfit = xgb.XGBClassifier(objective=\"binary:logistic\", random_state=33, max_depth=20, reg_lambda=0, n_estimators=400)\n",
    "overfit_model = xgbClassifier_overfit.fit(train_x, train_y, eval_metric=\"aucpr\")"
   ]
  },
  {
   "cell_type": "markdown",
   "id": "bc003dff",
   "metadata": {},
   "source": [
    "We generate predictions on both the train and test set"
   ]
  },
  {
   "cell_type": "code",
   "execution_count": 74,
   "id": "fef1a0b0",
   "metadata": {},
   "outputs": [
    {
     "name": "stdout",
     "output_type": "stream",
     "text": [
      "Number of sub trees: 400\n"
     ]
    }
   ],
   "source": [
    "print(f'Number of sub trees: {len(overfit_model.get_booster().get_dump())}')"
   ]
  },
  {
   "cell_type": "code",
   "execution_count": 75,
   "id": "618fa584",
   "metadata": {},
   "outputs": [],
   "source": [
    "over_pred_test_y = xgbClassifier_overfit.predict(test_x)\n",
    "over_pred_train_y = xgbClassifier_overfit.predict(train_x)"
   ]
  },
  {
   "cell_type": "markdown",
   "id": "cdb7d344",
   "metadata": {},
   "source": [
    "Eval metrics on the training dataset. We see a close to perfect accuracy and f1 score"
   ]
  },
  {
   "cell_type": "code",
   "execution_count": 76,
   "id": "29867be9",
   "metadata": {},
   "outputs": [
    {
     "name": "stdout",
     "output_type": "stream",
     "text": [
      " accuracy:0.9978659078783567, \n",
      " precision:0.9959128065395095 \n",
      " recall:0.9959128065395095 \n",
      " f1:0.9959128065395095 \n",
      " roc_auc:0.9972343816091049\n"
     ]
    }
   ],
   "source": [
    "print_main_eval_metrics(train_y, over_pred_train_y)"
   ]
  },
  {
   "cell_type": "code",
   "execution_count": 77,
   "id": "fad72ecf",
   "metadata": {},
   "outputs": [
    {
     "name": "stdout",
     "output_type": "stream",
     "text": [
      " accuracy:0.7596017069701281, \n",
      " precision:0.6037735849056604 \n",
      " recall:0.4752475247524752 \n",
      " f1:0.5318559556786704 \n",
      " roc_auc:0.6747495108792316\n"
     ]
    }
   ],
   "source": [
    "print_main_eval_metrics(test_y, over_pred_test_y)"
   ]
  },
  {
   "cell_type": "markdown",
   "id": "e8606e1e",
   "metadata": {},
   "source": [
    "# Quick explanation of Regularisation"
   ]
  },
  {
   "cell_type": "markdown",
   "id": "f823850f",
   "metadata": {},
   "source": [
    "Regularisation is a way to keep our model's parameter/weights \"in check\" and not too large. It helps preventing overfitting.</br>\n",
    "L2 regression is the most known technique.</br>\n",
    "For tree based methods, it means not having too many \"splits\" by defining a minimum gain or other methods.\n",
    "For other types of algorithms, like in linear regression, L2 regression is an additional penalty that is added to the quality metrics (eg: RSS) that forces the algorithm to keep the weights relatively small, and hence avoid "
   ]
  },
  {
   "cell_type": "markdown",
   "id": "3289953e",
   "metadata": {},
   "source": [
    "# Hyperparameters tuning - More details on that on Thursday ML Tabular session"
   ]
  },
  {
   "cell_type": "markdown",
   "id": "c744d5a1",
   "metadata": {},
   "source": [
    "<img src='img/Screen Shot 2021-09-19 at 5.37.35 pm.png' width=800 align='left'>"
   ]
  },
  {
   "cell_type": "code",
   "execution_count": 80,
   "id": "dae3c11e",
   "metadata": {},
   "outputs": [
    {
     "name": "stdout",
     "output_type": "stream",
     "text": [
      "Fitting 5 folds for each of 50 candidates, totalling 250 fits\n",
      "[0]\tvalidation_0-aucpr:0.64739\n",
      "[1]\tvalidation_0-aucpr:0.66317\n",
      "[2]\tvalidation_0-aucpr:0.66609\n",
      "[3]\tvalidation_0-aucpr:0.68106\n",
      "[4]\tvalidation_0-aucpr:0.68170\n",
      "[5]\tvalidation_0-aucpr:0.68601\n",
      "[6]\tvalidation_0-aucpr:0.66988\n",
      "[7]\tvalidation_0-aucpr:0.67130\n",
      "[8]\tvalidation_0-aucpr:0.66769\n",
      "[9]\tvalidation_0-aucpr:0.66794\n",
      "[10]\tvalidation_0-aucpr:0.67212\n",
      "[11]\tvalidation_0-aucpr:0.67163\n",
      "[12]\tvalidation_0-aucpr:0.67079\n",
      "[13]\tvalidation_0-aucpr:0.66196\n",
      "[14]\tvalidation_0-aucpr:0.66562\n",
      "[15]\tvalidation_0-aucpr:0.66708\n"
     ]
    },
    {
     "data": {
      "text/plain": [
       "RandomizedSearchCV(cv=5,\n",
       "                   estimator=XGBClassifier(base_score=None, booster=None,\n",
       "                                           colsample_bylevel=None,\n",
       "                                           colsample_bynode=None,\n",
       "                                           colsample_bytree=None,\n",
       "                                           eval_metric='aucpr', gamma=None,\n",
       "                                           gpu_id=None, importance_type='gain',\n",
       "                                           interaction_constraints=None,\n",
       "                                           learning_rate=None,\n",
       "                                           max_delta_step=None, max_depth=None,\n",
       "                                           min_child_weight=None, missing=nan,\n",
       "                                           monotone_constraints=No...\n",
       "                                        'max_depth': array([ 3,  4,  5,  6,  7,  8,  9, 10]),\n",
       "                                        'min_child_weight': array([1.        , 1.11111111, 1.22222222, 1.33333333, 1.44444444,\n",
       "       1.55555556, 1.66666667, 1.77777778, 1.88888889, 2.        ]),\n",
       "                                        'n_estimators': array([10, 20, 30, 40, 50]),\n",
       "                                        'reg_lambda': array([0.75      , 0.83333333, 0.91666667, 1.        , 1.08333333,\n",
       "       1.16666667, 1.25      , 1.33333333, 1.41666667, 1.5       ])},\n",
       "                   random_state=33, return_train_score=True, verbose=1)"
      ]
     },
     "execution_count": 80,
     "metadata": {},
     "output_type": "execute_result"
    }
   ],
   "source": [
    "from sklearn.model_selection import RandomizedSearchCV, GridSearchCV\n",
    "\n",
    "params = {'max_depth': np.linspace(3,10, 8, dtype=int),\n",
    "          'n_estimators':np.linspace(10,50, 5, dtype=int),\n",
    "         'reg_lambda':np.linspace(0.75, 1.5, 10, dtype=float),\n",
    "         'min_child_weight':np.linspace(1, 2, 10, dtype=float),\n",
    "         'learning_rate':np.linspace(0.2, 0.4, 10, dtype=float)}\n",
    "\n",
    "eval_set = [(val_x, val_y)]\n",
    "\n",
    "xgbClassifier_HPO = xgb.XGBClassifier(objective=\"binary:logistic\", \n",
    "                                  random_state=33, \n",
    "                                  scale_pos_weight=scale_pos_weight,\n",
    "                                  eval_metric='aucpr')\n",
    "\n",
    "search = RandomizedSearchCV(xgbClassifier_HPO, param_distributions=params, random_state=33, n_iter=50,  cv=5, verbose=1, n_jobs=4, return_train_score=True)\n",
    "\n",
    "search.fit(train_x, train_y, eval_set=eval_set, early_stopping_rounds=10)\n"
   ]
  },
  {
   "cell_type": "code",
   "execution_count": 81,
   "id": "6276bb3e",
   "metadata": {},
   "outputs": [
    {
     "name": "stdout",
     "output_type": "stream",
     "text": [
      "best_params:{'reg_lambda': 1.0833333333333333, 'n_estimators': 30, 'min_child_weight': 1.4444444444444444, 'max_depth': 10, 'learning_rate': 0.3111111111111111}\n",
      "best_score:0.7688083827599841\n"
     ]
    }
   ],
   "source": [
    "print(f\"best_params:{search.best_params_}\")\n",
    "print(f\"best_score:{search.best_score_}\")"
   ]
  },
  {
   "cell_type": "code",
   "execution_count": 82,
   "id": "92200179",
   "metadata": {},
   "outputs": [],
   "source": [
    "pred_HPO_test_y = search.best_estimator_.predict(test_x)"
   ]
  },
  {
   "cell_type": "code",
   "execution_count": 83,
   "id": "c544638c",
   "metadata": {},
   "outputs": [
    {
     "name": "stdout",
     "output_type": "stream",
     "text": [
      " accuracy:0.7368421052631579, \n",
      " precision:0.5320754716981132 \n",
      " recall:0.698019801980198 \n",
      " f1:0.6038543897216274 \n",
      " roc_auc:0.7252574059801189\n"
     ]
    }
   ],
   "source": [
    "print_main_eval_metrics(test_y, pred_HPO_test_y)"
   ]
  },
  {
   "cell_type": "markdown",
   "id": "c27ba8ec",
   "metadata": {},
   "source": [
    "# CONCLUSION"
   ]
  },
  {
   "cell_type": "markdown",
   "id": "908be436",
   "metadata": {},
   "source": [
    "You experienced first hand the fact that we spent most of our time preparing the data as opposed to training our model.\n",
    "\n",
    "XGBoost is the most popular algorithm for tabular classification problems. Other well known approaches: Random Forest (Decision tree with baggin), Logistic regression.\n",
    "\n",
    "For those interested in diving deeper into building model for solving problems related to tabular data -> join Romina's session on Thursday morning. </br>\n",
    "More details on Decision Trees, boosting vs bagging approaches and KNN (K Nearest Neighbour) notably."
   ]
  },
  {
   "cell_type": "markdown",
   "id": "6416a1d6",
   "metadata": {},
   "source": [
    "# Challenge: optimise further your model and post your best recall score in the slack channel!"
   ]
  },
  {
   "cell_type": "code",
   "execution_count": null,
   "id": "c7d2fcaa",
   "metadata": {},
   "outputs": [],
   "source": []
  },
  {
   "cell_type": "markdown",
   "id": "19f4c4af",
   "metadata": {},
   "source": [
    "# ....and don't forget to turn off your instance to not incur further costs!"
   ]
  },
  {
   "cell_type": "code",
   "execution_count": null,
   "id": "f70d8abe",
   "metadata": {},
   "outputs": [],
   "source": []
  },
  {
   "cell_type": "code",
   "execution_count": null,
   "id": "8a1dc6cf",
   "metadata": {},
   "outputs": [],
   "source": []
  }
 ],
 "metadata": {
  "kernelspec": {
   "display_name": "conda_python3",
   "language": "python",
   "name": "conda_python3"
  },
  "language_info": {
   "codemirror_mode": {
    "name": "ipython",
    "version": 3
   },
   "file_extension": ".py",
   "mimetype": "text/x-python",
   "name": "python",
   "nbconvert_exporter": "python",
   "pygments_lexer": "ipython3",
   "version": "3.6.13"
  }
 },
 "nbformat": 4,
 "nbformat_minor": 5
}
