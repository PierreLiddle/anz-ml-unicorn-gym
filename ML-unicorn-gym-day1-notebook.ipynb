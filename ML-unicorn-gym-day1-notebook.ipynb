{
 "cells": [
  {
   "cell_type": "markdown",
   "id": "dc1aa459",
   "metadata": {},
   "source": [
    "# Customer Churn example\n",
    "To illustrate all the steps part of building a model, we'll build a customer churn model out of a Telco customer dataset.\n",
    "We'll look into the existing features available to us and will later build an XGBoost model to predict the \"Churn\" column which is the label/target of interest.\n",
    "\n",
    "The dataset is public and can be found here:\n",
    "https://github.com/IBM/telco-customer-churn-on-icp4d"
   ]
  },
  {
   "cell_type": "markdown",
   "id": "4a2a4850",
   "metadata": {},
   "source": [
    "# Jupyter Notebook quick intro"
   ]
  },
  {
   "cell_type": "markdown",
   "id": "c34590f5",
   "metadata": {},
   "source": [
    "Code vs Markdown Cells (raw only used if you want to export notebook with NBConvert)</br>\n",
    "Shift + Return to execute a cell</br>\n",
    "Tab - auto-completion</br>\n",
    "Jupyter vs JupyterLab vs Sagemaker Studio</br>\n",
    "</br>\n",
    "Escape + ??</br>\n",
    "Escape\tenter command mode</br>\n",
    "Escape + d + d\tdelete selected cell</br>\n",
    "Escape + y\tchange cell to code</br>\n",
    "Escape + m\tchange cell to markdown</br>\n",
    "Escape + r\tchange cell to raw</br>\n",
    "Escape + 1\tchange cell to Heading 1</br>\n",
    "Escape + n\tchange cell to heading n</br>\n",
    "Escape + b\tcreate cell below</br>\n",
    "Escape + a\tInsert cell above</br>"
   ]
  },
  {
   "cell_type": "markdown",
   "id": "b18e3820",
   "metadata": {},
   "source": [
    "# Let's get started!"
   ]
  },
  {
   "cell_type": "markdown",
   "id": "90e0a193",
   "metadata": {},
   "source": [
    "<img src='img/Screen Shot 2021-09-15 at 12.06.44 pm.png' width=1000 align='left'>"
   ]
  },
  {
   "cell_type": "markdown",
   "id": "577c60cf",
   "metadata": {},
   "source": [
    "## Load the dataset"
   ]
  },
  {
   "cell_type": "code",
   "execution_count": 1,
   "id": "7343e7f7",
   "metadata": {},
   "outputs": [],
   "source": [
    "import warnings\n",
    "warnings.filterwarnings(\"ignore\")\n",
    "\n",
    "import pandas as pd\n",
    "pd.set_option('display.max_columns', 100)"
   ]
  },
  {
   "cell_type": "code",
   "execution_count": 2,
   "id": "bb4b85d8",
   "metadata": {},
   "outputs": [],
   "source": [
    "data_df = pd.read_csv('./data/Telco-Customer-Churn-with-null-and-outliers.csv')"
   ]
  },
  {
   "cell_type": "markdown",
   "id": "1722f320",
   "metadata": {},
   "source": [
    "## Pandas\n",
    "Most popular python data analysis tool/library. </br>\n",
    "Main object to store/manipulate data = DataFrame (similar in some ways to Spark)"
   ]
  },
  {
   "cell_type": "markdown",
   "id": "8ed5366d",
   "metadata": {},
   "source": [
    "## Exploratory Data Analysis (EDA)"
   ]
  },
  {
   "cell_type": "markdown",
   "id": "f04995c4",
   "metadata": {},
   "source": [
    "<img src='img/Screen Shot 2021-09-15 at 12.22.59 pm.png' width=800 align='left'>"
   ]
  },
  {
   "cell_type": "markdown",
   "id": "30740b57",
   "metadata": {},
   "source": [
    "### Getting the shape of the dataset\n",
    "-> 7043 rows and 21 columns/features"
   ]
  },
  {
   "cell_type": "code",
   "execution_count": 3,
   "id": "0d7f6004",
   "metadata": {},
   "outputs": [
    {
     "data": {
      "text/plain": [
       "(7043, 21)"
      ]
     },
     "execution_count": 3,
     "metadata": {},
     "output_type": "execute_result"
    }
   ],
   "source": [
    "data_df.shape"
   ]
  },
  {
   "cell_type": "markdown",
   "id": "b775cd25",
   "metadata": {},
   "source": [
    "### Display the first 5 line of the dataset\n",
    "similarly, to display the last 5 lines of the dataset you'd use data_df.tail(5)"
   ]
  },
  {
   "cell_type": "code",
   "execution_count": 4,
   "id": "2bffbc1b",
   "metadata": {},
   "outputs": [
    {
     "data": {
      "text/html": [
       "<div>\n",
       "<style scoped>\n",
       "    .dataframe tbody tr th:only-of-type {\n",
       "        vertical-align: middle;\n",
       "    }\n",
       "\n",
       "    .dataframe tbody tr th {\n",
       "        vertical-align: top;\n",
       "    }\n",
       "\n",
       "    .dataframe thead th {\n",
       "        text-align: right;\n",
       "    }\n",
       "</style>\n",
       "<table border=\"1\" class=\"dataframe\">\n",
       "  <thead>\n",
       "    <tr style=\"text-align: right;\">\n",
       "      <th></th>\n",
       "      <th>customerID</th>\n",
       "      <th>gender</th>\n",
       "      <th>SeniorCitizen</th>\n",
       "      <th>Partner</th>\n",
       "      <th>Dependents</th>\n",
       "      <th>tenure</th>\n",
       "      <th>PhoneService</th>\n",
       "      <th>MultipleLines</th>\n",
       "      <th>InternetService</th>\n",
       "      <th>OnlineSecurity</th>\n",
       "      <th>OnlineBackup</th>\n",
       "      <th>DeviceProtection</th>\n",
       "      <th>TechSupport</th>\n",
       "      <th>StreamingTV</th>\n",
       "      <th>StreamingMovies</th>\n",
       "      <th>Contract</th>\n",
       "      <th>PaperlessBilling</th>\n",
       "      <th>PaymentMethod</th>\n",
       "      <th>MonthlyCharges</th>\n",
       "      <th>TotalCharges</th>\n",
       "      <th>Churn</th>\n",
       "    </tr>\n",
       "  </thead>\n",
       "  <tbody>\n",
       "    <tr>\n",
       "      <th>0</th>\n",
       "      <td>7590-VHVEG</td>\n",
       "      <td>Female</td>\n",
       "      <td>0</td>\n",
       "      <td>Yes</td>\n",
       "      <td>No</td>\n",
       "      <td>1.0</td>\n",
       "      <td>No</td>\n",
       "      <td>No phone service</td>\n",
       "      <td>DSL</td>\n",
       "      <td>No</td>\n",
       "      <td>Yes</td>\n",
       "      <td>No</td>\n",
       "      <td>No</td>\n",
       "      <td>No</td>\n",
       "      <td>No</td>\n",
       "      <td>Month-to-month</td>\n",
       "      <td>Yes</td>\n",
       "      <td>Electronic check</td>\n",
       "      <td>29.85</td>\n",
       "      <td>29.85</td>\n",
       "      <td>No</td>\n",
       "    </tr>\n",
       "    <tr>\n",
       "      <th>1</th>\n",
       "      <td>5575-GNVDE</td>\n",
       "      <td>Male</td>\n",
       "      <td>0</td>\n",
       "      <td>No</td>\n",
       "      <td>No</td>\n",
       "      <td>34.0</td>\n",
       "      <td>Yes</td>\n",
       "      <td>No</td>\n",
       "      <td>DSL</td>\n",
       "      <td>Yes</td>\n",
       "      <td>No</td>\n",
       "      <td>Yes</td>\n",
       "      <td>No</td>\n",
       "      <td>No</td>\n",
       "      <td>No</td>\n",
       "      <td>One year</td>\n",
       "      <td>No</td>\n",
       "      <td>Mailed check</td>\n",
       "      <td>56.95</td>\n",
       "      <td>1889.50</td>\n",
       "      <td>No</td>\n",
       "    </tr>\n",
       "    <tr>\n",
       "      <th>2</th>\n",
       "      <td>3668-QPYBK</td>\n",
       "      <td>Male</td>\n",
       "      <td>0</td>\n",
       "      <td>No</td>\n",
       "      <td>No</td>\n",
       "      <td>2.0</td>\n",
       "      <td>Yes</td>\n",
       "      <td>No</td>\n",
       "      <td>DSL</td>\n",
       "      <td>Yes</td>\n",
       "      <td>Yes</td>\n",
       "      <td>No</td>\n",
       "      <td>No</td>\n",
       "      <td>No</td>\n",
       "      <td>No</td>\n",
       "      <td>Month-to-month</td>\n",
       "      <td>Yes</td>\n",
       "      <td>Mailed check</td>\n",
       "      <td>53.85</td>\n",
       "      <td>108.15</td>\n",
       "      <td>Yes</td>\n",
       "    </tr>\n",
       "    <tr>\n",
       "      <th>3</th>\n",
       "      <td>7795-CFOCW</td>\n",
       "      <td>Male</td>\n",
       "      <td>0</td>\n",
       "      <td>No</td>\n",
       "      <td>No</td>\n",
       "      <td>45.0</td>\n",
       "      <td>No</td>\n",
       "      <td>No phone service</td>\n",
       "      <td>DSL</td>\n",
       "      <td>Yes</td>\n",
       "      <td>No</td>\n",
       "      <td>Yes</td>\n",
       "      <td>Yes</td>\n",
       "      <td>No</td>\n",
       "      <td>No</td>\n",
       "      <td>One year</td>\n",
       "      <td>No</td>\n",
       "      <td>Bank transfer (automatic)</td>\n",
       "      <td>42.30</td>\n",
       "      <td>1840.75</td>\n",
       "      <td>No</td>\n",
       "    </tr>\n",
       "    <tr>\n",
       "      <th>4</th>\n",
       "      <td>9237-HQITU</td>\n",
       "      <td>Female</td>\n",
       "      <td>0</td>\n",
       "      <td>No</td>\n",
       "      <td>No</td>\n",
       "      <td>2.0</td>\n",
       "      <td>Yes</td>\n",
       "      <td>No</td>\n",
       "      <td>Fiber optic</td>\n",
       "      <td>No</td>\n",
       "      <td>No</td>\n",
       "      <td>No</td>\n",
       "      <td>No</td>\n",
       "      <td>No</td>\n",
       "      <td>No</td>\n",
       "      <td>Month-to-month</td>\n",
       "      <td>Yes</td>\n",
       "      <td>Electronic check</td>\n",
       "      <td>70.70</td>\n",
       "      <td>151.65</td>\n",
       "      <td>Yes</td>\n",
       "    </tr>\n",
       "  </tbody>\n",
       "</table>\n",
       "</div>"
      ],
      "text/plain": [
       "   customerID  gender  SeniorCitizen Partner Dependents  tenure PhoneService  \\\n",
       "0  7590-VHVEG  Female              0     Yes         No     1.0           No   \n",
       "1  5575-GNVDE    Male              0      No         No    34.0          Yes   \n",
       "2  3668-QPYBK    Male              0      No         No     2.0          Yes   \n",
       "3  7795-CFOCW    Male              0      No         No    45.0           No   \n",
       "4  9237-HQITU  Female              0      No         No     2.0          Yes   \n",
       "\n",
       "      MultipleLines InternetService OnlineSecurity OnlineBackup  \\\n",
       "0  No phone service             DSL             No          Yes   \n",
       "1                No             DSL            Yes           No   \n",
       "2                No             DSL            Yes          Yes   \n",
       "3  No phone service             DSL            Yes           No   \n",
       "4                No     Fiber optic             No           No   \n",
       "\n",
       "  DeviceProtection TechSupport StreamingTV StreamingMovies        Contract  \\\n",
       "0               No          No          No              No  Month-to-month   \n",
       "1              Yes          No          No              No        One year   \n",
       "2               No          No          No              No  Month-to-month   \n",
       "3              Yes         Yes          No              No        One year   \n",
       "4               No          No          No              No  Month-to-month   \n",
       "\n",
       "  PaperlessBilling              PaymentMethod  MonthlyCharges  TotalCharges  \\\n",
       "0              Yes           Electronic check           29.85         29.85   \n",
       "1               No               Mailed check           56.95       1889.50   \n",
       "2              Yes               Mailed check           53.85        108.15   \n",
       "3               No  Bank transfer (automatic)           42.30       1840.75   \n",
       "4              Yes           Electronic check           70.70        151.65   \n",
       "\n",
       "  Churn  \n",
       "0    No  \n",
       "1    No  \n",
       "2   Yes  \n",
       "3    No  \n",
       "4   Yes  "
      ]
     },
     "execution_count": 4,
     "metadata": {},
     "output_type": "execute_result"
    }
   ],
   "source": [
    "data_df.head(5)"
   ]
  },
  {
   "cell_type": "markdown",
   "id": "2b4a1080",
   "metadata": {},
   "source": [
    "### playing with the data"
   ]
  },
  {
   "cell_type": "markdown",
   "id": "14306180",
   "metadata": {},
   "source": [
    "Select a column only. Note that the below return a pandas series which is a different type of object than a Dataframe."
   ]
  },
  {
   "cell_type": "code",
   "execution_count": 5,
   "id": "66d14f4f",
   "metadata": {},
   "outputs": [
    {
     "data": {
      "text/plain": [
       "0    Female\n",
       "1      Male\n",
       "Name: gender, dtype: object"
      ]
     },
     "execution_count": 5,
     "metadata": {},
     "output_type": "execute_result"
    }
   ],
   "source": [
    "#data_df['gender']\n",
    "data_df['gender'].head(2)"
   ]
  },
  {
   "cell_type": "markdown",
   "id": "eb34b7ef",
   "metadata": {},
   "source": [
    "Filter a column on a specific value"
   ]
  },
  {
   "cell_type": "code",
   "execution_count": 6,
   "id": "8471eb05",
   "metadata": {},
   "outputs": [
    {
     "data": {
      "text/html": [
       "<div>\n",
       "<style scoped>\n",
       "    .dataframe tbody tr th:only-of-type {\n",
       "        vertical-align: middle;\n",
       "    }\n",
       "\n",
       "    .dataframe tbody tr th {\n",
       "        vertical-align: top;\n",
       "    }\n",
       "\n",
       "    .dataframe thead th {\n",
       "        text-align: right;\n",
       "    }\n",
       "</style>\n",
       "<table border=\"1\" class=\"dataframe\">\n",
       "  <thead>\n",
       "    <tr style=\"text-align: right;\">\n",
       "      <th></th>\n",
       "      <th>customerID</th>\n",
       "      <th>gender</th>\n",
       "      <th>SeniorCitizen</th>\n",
       "      <th>Partner</th>\n",
       "      <th>Dependents</th>\n",
       "      <th>tenure</th>\n",
       "      <th>PhoneService</th>\n",
       "      <th>MultipleLines</th>\n",
       "      <th>InternetService</th>\n",
       "      <th>OnlineSecurity</th>\n",
       "      <th>OnlineBackup</th>\n",
       "      <th>DeviceProtection</th>\n",
       "      <th>TechSupport</th>\n",
       "      <th>StreamingTV</th>\n",
       "      <th>StreamingMovies</th>\n",
       "      <th>Contract</th>\n",
       "      <th>PaperlessBilling</th>\n",
       "      <th>PaymentMethod</th>\n",
       "      <th>MonthlyCharges</th>\n",
       "      <th>TotalCharges</th>\n",
       "      <th>Churn</th>\n",
       "    </tr>\n",
       "  </thead>\n",
       "  <tbody>\n",
       "    <tr>\n",
       "      <th>0</th>\n",
       "      <td>7590-VHVEG</td>\n",
       "      <td>Female</td>\n",
       "      <td>0</td>\n",
       "      <td>Yes</td>\n",
       "      <td>No</td>\n",
       "      <td>1.0</td>\n",
       "      <td>No</td>\n",
       "      <td>No phone service</td>\n",
       "      <td>DSL</td>\n",
       "      <td>No</td>\n",
       "      <td>Yes</td>\n",
       "      <td>No</td>\n",
       "      <td>No</td>\n",
       "      <td>No</td>\n",
       "      <td>No</td>\n",
       "      <td>Month-to-month</td>\n",
       "      <td>Yes</td>\n",
       "      <td>Electronic check</td>\n",
       "      <td>29.85</td>\n",
       "      <td>29.85</td>\n",
       "      <td>No</td>\n",
       "    </tr>\n",
       "    <tr>\n",
       "      <th>4</th>\n",
       "      <td>9237-HQITU</td>\n",
       "      <td>Female</td>\n",
       "      <td>0</td>\n",
       "      <td>No</td>\n",
       "      <td>No</td>\n",
       "      <td>2.0</td>\n",
       "      <td>Yes</td>\n",
       "      <td>No</td>\n",
       "      <td>Fiber optic</td>\n",
       "      <td>No</td>\n",
       "      <td>No</td>\n",
       "      <td>No</td>\n",
       "      <td>No</td>\n",
       "      <td>No</td>\n",
       "      <td>No</td>\n",
       "      <td>Month-to-month</td>\n",
       "      <td>Yes</td>\n",
       "      <td>Electronic check</td>\n",
       "      <td>70.70</td>\n",
       "      <td>151.65</td>\n",
       "      <td>Yes</td>\n",
       "    </tr>\n",
       "  </tbody>\n",
       "</table>\n",
       "</div>"
      ],
      "text/plain": [
       "   customerID  gender  SeniorCitizen Partner Dependents  tenure PhoneService  \\\n",
       "0  7590-VHVEG  Female              0     Yes         No     1.0           No   \n",
       "4  9237-HQITU  Female              0      No         No     2.0          Yes   \n",
       "\n",
       "      MultipleLines InternetService OnlineSecurity OnlineBackup  \\\n",
       "0  No phone service             DSL             No          Yes   \n",
       "4                No     Fiber optic             No           No   \n",
       "\n",
       "  DeviceProtection TechSupport StreamingTV StreamingMovies        Contract  \\\n",
       "0               No          No          No              No  Month-to-month   \n",
       "4               No          No          No              No  Month-to-month   \n",
       "\n",
       "  PaperlessBilling     PaymentMethod  MonthlyCharges  TotalCharges Churn  \n",
       "0              Yes  Electronic check           29.85         29.85    No  \n",
       "4              Yes  Electronic check           70.70        151.65   Yes  "
      ]
     },
     "execution_count": 6,
     "metadata": {},
     "output_type": "execute_result"
    }
   ],
   "source": [
    "data_df[data_df.gender == 'Female'].head(2)"
   ]
  },
  {
   "cell_type": "markdown",
   "id": "325fd5d4",
   "metadata": {},
   "source": [
    "### Get a view of the column type and presence of null values\n",
    "We can notice that Dtype are either int/float so numerical values or object, meaning they are considered as categorical value by pandas.</br>\n",
    "We can also notice that the tenure column/feature has some null value."
   ]
  },
  {
   "cell_type": "code",
   "execution_count": 7,
   "id": "c5b2c5bb",
   "metadata": {},
   "outputs": [
    {
     "name": "stdout",
     "output_type": "stream",
     "text": [
      "<class 'pandas.core.frame.DataFrame'>\n",
      "RangeIndex: 7043 entries, 0 to 7042\n",
      "Data columns (total 21 columns):\n",
      " #   Column            Non-Null Count  Dtype  \n",
      "---  ------            --------------  -----  \n",
      " 0   customerID        7043 non-null   object \n",
      " 1   gender            7043 non-null   object \n",
      " 2   SeniorCitizen     7043 non-null   int64  \n",
      " 3   Partner           7043 non-null   object \n",
      " 4   Dependents        7043 non-null   object \n",
      " 5   tenure            6992 non-null   float64\n",
      " 6   PhoneService      7043 non-null   object \n",
      " 7   MultipleLines     7043 non-null   object \n",
      " 8   InternetService   7043 non-null   object \n",
      " 9   OnlineSecurity    7043 non-null   object \n",
      " 10  OnlineBackup      7043 non-null   object \n",
      " 11  DeviceProtection  7043 non-null   object \n",
      " 12  TechSupport       7043 non-null   object \n",
      " 13  StreamingTV       7043 non-null   object \n",
      " 14  StreamingMovies   7043 non-null   object \n",
      " 15  Contract          7043 non-null   object \n",
      " 16  PaperlessBilling  7043 non-null   object \n",
      " 17  PaymentMethod     7043 non-null   object \n",
      " 18  MonthlyCharges    7043 non-null   float64\n",
      " 19  TotalCharges      7032 non-null   float64\n",
      " 20  Churn             7043 non-null   object \n",
      "dtypes: float64(3), int64(1), object(17)\n",
      "memory usage: 1.1+ MB\n"
     ]
    }
   ],
   "source": [
    "data_df.info()"
   ]
  },
  {
   "cell_type": "markdown",
   "id": "28d7dcff",
   "metadata": {},
   "source": [
    "In case TotalCharges is detected as an object, use the below line to cast it to numeric.the coerce parameter will input a NaN when not able to cast the value into a numeric.\n",
    "\n",
    "#data_df.TotalCharges = pd.to_numeric(data_df.TotalCharges, errors='coerce')"
   ]
  },
  {
   "cell_type": "markdown",
   "id": "fd302ddb",
   "metadata": {},
   "source": [
    "### For numeric columns, describe() gives you mean, standard deviation, min,max etc"
   ]
  },
  {
   "cell_type": "code",
   "execution_count": 8,
   "id": "62d5e7aa",
   "metadata": {},
   "outputs": [
    {
     "data": {
      "text/html": [
       "<div>\n",
       "<style scoped>\n",
       "    .dataframe tbody tr th:only-of-type {\n",
       "        vertical-align: middle;\n",
       "    }\n",
       "\n",
       "    .dataframe tbody tr th {\n",
       "        vertical-align: top;\n",
       "    }\n",
       "\n",
       "    .dataframe thead th {\n",
       "        text-align: right;\n",
       "    }\n",
       "</style>\n",
       "<table border=\"1\" class=\"dataframe\">\n",
       "  <thead>\n",
       "    <tr style=\"text-align: right;\">\n",
       "      <th></th>\n",
       "      <th>SeniorCitizen</th>\n",
       "      <th>tenure</th>\n",
       "      <th>MonthlyCharges</th>\n",
       "      <th>TotalCharges</th>\n",
       "    </tr>\n",
       "  </thead>\n",
       "  <tbody>\n",
       "    <tr>\n",
       "      <th>count</th>\n",
       "      <td>7043.000000</td>\n",
       "      <td>6992.000000</td>\n",
       "      <td>7043.000000</td>\n",
       "      <td>7032.000000</td>\n",
       "    </tr>\n",
       "    <tr>\n",
       "      <th>mean</th>\n",
       "      <td>0.162147</td>\n",
       "      <td>32.356836</td>\n",
       "      <td>64.761692</td>\n",
       "      <td>2291.462607</td>\n",
       "    </tr>\n",
       "    <tr>\n",
       "      <th>std</th>\n",
       "      <td>0.368612</td>\n",
       "      <td>24.548507</td>\n",
       "      <td>30.090047</td>\n",
       "      <td>2299.341231</td>\n",
       "    </tr>\n",
       "    <tr>\n",
       "      <th>min</th>\n",
       "      <td>0.000000</td>\n",
       "      <td>0.000000</td>\n",
       "      <td>18.250000</td>\n",
       "      <td>18.800000</td>\n",
       "    </tr>\n",
       "    <tr>\n",
       "      <th>25%</th>\n",
       "      <td>0.000000</td>\n",
       "      <td>9.000000</td>\n",
       "      <td>35.500000</td>\n",
       "      <td>401.450000</td>\n",
       "    </tr>\n",
       "    <tr>\n",
       "      <th>50%</th>\n",
       "      <td>0.000000</td>\n",
       "      <td>29.000000</td>\n",
       "      <td>70.350000</td>\n",
       "      <td>1398.425000</td>\n",
       "    </tr>\n",
       "    <tr>\n",
       "      <th>75%</th>\n",
       "      <td>0.000000</td>\n",
       "      <td>55.000000</td>\n",
       "      <td>89.850000</td>\n",
       "      <td>3801.400000</td>\n",
       "    </tr>\n",
       "    <tr>\n",
       "      <th>max</th>\n",
       "      <td>1.000000</td>\n",
       "      <td>72.000000</td>\n",
       "      <td>118.750000</td>\n",
       "      <td>22000.000000</td>\n",
       "    </tr>\n",
       "  </tbody>\n",
       "</table>\n",
       "</div>"
      ],
      "text/plain": [
       "       SeniorCitizen       tenure  MonthlyCharges  TotalCharges\n",
       "count    7043.000000  6992.000000     7043.000000   7032.000000\n",
       "mean        0.162147    32.356836       64.761692   2291.462607\n",
       "std         0.368612    24.548507       30.090047   2299.341231\n",
       "min         0.000000     0.000000       18.250000     18.800000\n",
       "25%         0.000000     9.000000       35.500000    401.450000\n",
       "50%         0.000000    29.000000       70.350000   1398.425000\n",
       "75%         0.000000    55.000000       89.850000   3801.400000\n",
       "max         1.000000    72.000000      118.750000  22000.000000"
      ]
     },
     "execution_count": 8,
     "metadata": {},
     "output_type": "execute_result"
    }
   ],
   "source": [
    "data_df.describe()"
   ]
  },
  {
   "cell_type": "markdown",
   "id": "7355678a",
   "metadata": {},
   "source": [
    "### Get the different values for a specific categorical feature/column\n",
    "Note: data_df.gender is equivalent to data_df['gender']"
   ]
  },
  {
   "cell_type": "code",
   "execution_count": 9,
   "id": "2c43cfd5",
   "metadata": {},
   "outputs": [
    {
     "data": {
      "text/plain": [
       "Male      3555\n",
       "Female    3488\n",
       "Name: gender, dtype: int64"
      ]
     },
     "execution_count": 9,
     "metadata": {},
     "output_type": "execute_result"
    }
   ],
   "source": [
    "data_df.gender.value_counts()"
   ]
  },
  {
   "cell_type": "markdown",
   "id": "16e71f87",
   "metadata": {},
   "source": [
    "### Get the cardinality of those categorical features\n",
    "Note: will be useful later when encoding those features into numerical representations"
   ]
  },
  {
   "cell_type": "code",
   "execution_count": 10,
   "id": "a01bd92c",
   "metadata": {},
   "outputs": [
    {
     "data": {
      "text/plain": [
       "customerID          7043\n",
       "gender                 2\n",
       "SeniorCitizen          2\n",
       "Partner                2\n",
       "Dependents             2\n",
       "tenure                73\n",
       "PhoneService           2\n",
       "MultipleLines          3\n",
       "InternetService        3\n",
       "OnlineSecurity         3\n",
       "OnlineBackup           3\n",
       "DeviceProtection       3\n",
       "TechSupport            3\n",
       "StreamingTV            3\n",
       "StreamingMovies        3\n",
       "Contract               3\n",
       "PaperlessBilling       2\n",
       "PaymentMethod          4\n",
       "MonthlyCharges      1585\n",
       "TotalCharges        6530\n",
       "Churn                  2\n",
       "dtype: int64"
      ]
     },
     "execution_count": 10,
     "metadata": {},
     "output_type": "execute_result"
    }
   ],
   "source": [
    "cardinality_pd_series = data_df.apply(pd.Series.nunique)\n",
    "cardinality_pd_series"
   ]
  },
  {
   "cell_type": "markdown",
   "id": "a07dc63a",
   "metadata": {},
   "source": [
    "</br>We notice that a few of those features have yes/no values (cardinality = 2) so we'll turn those into 0/1 values"
   ]
  },
  {
   "cell_type": "code",
   "execution_count": 11,
   "id": "659cede1",
   "metadata": {},
   "outputs": [],
   "source": [
    "list_of_cols_to_transform = ['Partner', 'Dependents', 'PhoneService', 'PaperlessBilling', 'Churn']"
   ]
  },
  {
   "cell_type": "code",
   "execution_count": 12,
   "id": "6c250c27",
   "metadata": {},
   "outputs": [],
   "source": [
    "for col in list_of_cols_to_transform:\n",
    "    data_df[col] = data_df[col].apply(lambda x: 0 if str(x).lower() == 'no' else 1)\n",
    "    data_df[col] = pd.to_numeric(data_df[col])"
   ]
  },
  {
   "cell_type": "code",
   "execution_count": 13,
   "id": "5acb3c68",
   "metadata": {},
   "outputs": [],
   "source": [
    "data_df['gender'] = data_df['gender'].apply(lambda x: 0 if str(x).lower() == 'male' else 1)\n",
    "data_df['gender'] = pd.to_numeric(data_df['gender'])"
   ]
  },
  {
   "cell_type": "markdown",
   "id": "94780a18",
   "metadata": {},
   "source": [
    "### Now let's draw some graphs!! \n",
    "Notes:</br>\n",
    "Matplotlib is the goto library to draw graph in jupyter notebooks. </br>\n",
    "Seaborn is a wrapper around matplotlib simplifying its usage.</br>\n",
    "The plot method on Series and DataFrame is just a simple wrapper around plt.plot </br>"
   ]
  },
  {
   "cell_type": "code",
   "execution_count": 14,
   "id": "4a4598cc",
   "metadata": {},
   "outputs": [],
   "source": [
    "import matplotlib.pyplot as plt\n",
    "%matplotlib inline\n",
    "\n",
    "import seaborn as sns"
   ]
  },
  {
   "cell_type": "markdown",
   "id": "fc186c37",
   "metadata": {},
   "source": [
    "### Univariate stats - Simple bar chart to look at one single column/feature"
   ]
  },
  {
   "cell_type": "code",
   "execution_count": 15,
   "id": "1ca5adc3",
   "metadata": {},
   "outputs": [
    {
     "data": {
      "image/png": "[encoded data removed]",
      "text/plain": [
       "<Figure size 432x288 with 1 Axes>"
      ]
     },
     "metadata": {
      "needs_background": "light"
     },
     "output_type": "display_data"
    }
   ],
   "source": [
    "data_df.gender.value_counts().plot.bar()\n",
    "plt.show()"
   ]
  },
  {
   "cell_type": "code",
   "execution_count": 16,
   "id": "b44a0cf4",
   "metadata": {},
   "outputs": [
    {
     "data": {
      "image/png": "[encoded data removed]",
      "text/plain": [
       "<Figure size 432x288 with 1 Axes>"
      ]
     },
     "metadata": {
      "needs_background": "light"
     },
     "output_type": "display_data"
    }
   ],
   "source": [
    "sns.countplot(x='gender', data=data_df)\n",
    "plt.show()"
   ]
  },
  {
   "cell_type": "markdown",
   "id": "2016c78a",
   "metadata": {},
   "source": [
    "### Looking at he distribution of the tenure\n",
    "Histograms show distribution of numeric data. Data is divided into \"buckets\" or \"bins\"."
   ]
  },
  {
   "cell_type": "code",
   "execution_count": 17,
   "id": "3f9fe0d6",
   "metadata": {},
   "outputs": [
    {
     "data": {
      "image/png": "[encoded data removed]",
      "text/plain": [
       "<Figure size 432x288 with 1 Axes>"
      ]
     },
     "metadata": {
      "needs_background": "light"
     },
     "output_type": "display_data"
    }
   ],
   "source": [
    "sns.distplot(data_df['tenure'], bins=50, kde=False)\n",
    "# equivalent: data_df['tenure'].plot.hist(bins=30)\n",
    "plt.show()"
   ]
  },
  {
   "cell_type": "markdown",
   "id": "291558a3",
   "metadata": {},
   "source": [
    "### Looking at the composition of certain features"
   ]
  },
  {
   "cell_type": "code",
   "execution_count": 18,
   "id": "e41f725e",
   "metadata": {},
   "outputs": [
    {
     "data": {
      "image/png": "[encoded data removed]",
      "text/plain": [
       "<Figure size 432x288 with 1 Axes>"
      ]
     },
     "metadata": {},
     "output_type": "display_data"
    }
   ],
   "source": [
    "data_df['InternetService'].value_counts().plot.pie(y='InternetService')\n",
    "plt.show()"
   ]
  },
  {
   "cell_type": "markdown",
   "id": "fa56b820",
   "metadata": {},
   "source": [
    "### FacetGrid charts with seaborn\n",
    "Note:</br>\n",
    "- useful to identify differences across a combination of categorical features.</br> \n",
    "- be careful if you have high cardinality in those features, it will take a long time.</br>\n",
    "- In that example, we can see that the month to month contracts have a higher Churn ratio, especially the contracts with no internet."
   ]
  },
  {
   "cell_type": "code",
   "execution_count": 19,
   "id": "06927095",
   "metadata": {},
   "outputs": [
    {
     "data": {
      "image/png": "[encoded data removed]",
      "text/plain": [
       "<Figure size 958.4x475.2 with 9 Axes>"
      ]
     },
     "metadata": {
      "needs_background": "light"
     },
     "output_type": "display_data"
    }
   ],
   "source": [
    "grid = sns.FacetGrid(data_df, col='Contract', row='InternetService', height=2.2, aspect=2)\n",
    "grid.map(sns.countplot, 'Churn')\n",
    "grid.add_legend();\n",
    "plt.show()"
   ]
  },
  {
   "cell_type": "markdown",
   "id": "eacd8672",
   "metadata": {},
   "source": [
    "### Looking at the relationship between 2 variables"
   ]
  },
  {
   "cell_type": "markdown",
   "id": "420c9f65",
   "metadata": {},
   "source": [
    "#### Scatter plot\n",
    "Shows how strongly pairs of features are related.\n",
    "In that example, we show the obvious correlation between totalcharges and monthly charges as well as few outliers"
   ]
  },
  {
   "cell_type": "code",
   "execution_count": 20,
   "id": "89d640c7",
   "metadata": {},
   "outputs": [
    {
     "data": {
      "image/png": "[encoded data removed]",
      "text/plain": [
       "<Figure size 432x288 with 1 Axes>"
      ]
     },
     "metadata": {
      "needs_background": "light"
     },
     "output_type": "display_data"
    }
   ],
   "source": [
    "#plt.xticks(rotation=90)\n",
    "sns.scatterplot(data=data_df.sample(frac=1), x='TotalCharges', y='MonthlyCharges')\n",
    "plt.show()"
   ]
  },
  {
   "cell_type": "markdown",
   "id": "339f6322",
   "metadata": {},
   "source": [
    "<img src='img/Screen Shot 2021-09-15 at 5.48.53 pm.png' width=800 align='left'>"
   ]
  },
  {
   "cell_type": "markdown",
   "id": "19d37986",
   "metadata": {},
   "source": [
    "<img src='img/Screen Shot 2021-09-15 at 5.48.25 pm.png' width=800 align='left'>"
   ]
  },
  {
   "cell_type": "markdown",
   "id": "a4930cd1",
   "metadata": {},
   "source": [
    "### Let's generate a correlation matrix for our dataset"
   ]
  },
  {
   "cell_type": "markdown",
   "id": "c7cc7c6e",
   "metadata": {},
   "source": [
    "to generate a correlation matrix, we need numerical values so we need to transform our categorical features into numerical one.</br>\n",
    "For that, we generate the one hot encoding representation of those categorical features.</br>"
   ]
  },
  {
   "cell_type": "markdown",
   "id": "b9de053d",
   "metadata": {},
   "source": [
    "### Quick side explanation on categorical features encoding\n",
    "we'll use that for the correlation matrix but especially just before training our model once we're done with the feature engineering."
   ]
  },
  {
   "cell_type": "markdown",
   "id": "e2fdfde1",
   "metadata": {},
   "source": [
    "<img src='img/Screen Shot 2021-09-17 at 11.20.26 am.png' width=800 align='left'>"
   ]
  },
  {
   "cell_type": "markdown",
   "id": "579c7302",
   "metadata": {},
   "source": [
    "<img src='img/Screen Shot 2021-09-17 at 11.20.38 am.png' width=800 align='left'>"
   ]
  },
  {
   "cell_type": "markdown",
   "id": "6a602a8a",
   "metadata": {},
   "source": [
    "Example:"
   ]
  },
  {
   "cell_type": "markdown",
   "id": "28b5b5ac",
   "metadata": {},
   "source": [
    "<img src='img/Screen Shot 2021-10-07 at 6.18.27 pm.png' width=800 align='left'/>"
   ]
  },
  {
   "cell_type": "code",
   "execution_count": 21,
   "id": "8828ad75",
   "metadata": {},
   "outputs": [],
   "source": [
    "from sklearn.preprocessing import LabelEncoder\n",
    "\n",
    "def encode_categorical_features(df):\n",
    "    #getting a list of categorical columns\n",
    "    categorical_col = []\n",
    "    for col in df.columns:\n",
    "        col_dtype = df[col].dtype\n",
    "        if col_dtype == 'object':\n",
    "            categorical_col.append(col)\n",
    "         \n",
    "    #generating the one hot encoded features        \n",
    "    df = pd.get_dummies(df, columns=categorical_col)\n",
    "                           \n",
    "    print(df.shape)\n",
    "    return df"
   ]
  },
  {
   "cell_type": "code",
   "execution_count": 22,
   "id": "f07ecff9",
   "metadata": {},
   "outputs": [
    {
     "name": "stdout",
     "output_type": "stream",
     "text": [
      "(7043, 41)\n"
     ]
    }
   ],
   "source": [
    "#dropping the customerID as it is of no use for the correlation matrix\n",
    "corr_data_df = encode_categorical_features(data_df.drop('customerID', axis=1))"
   ]
  },
  {
   "cell_type": "code",
   "execution_count": 71,
   "id": "229b9012",
   "metadata": {},
   "outputs": [
    {
     "data": {
      "text/html": [
       "<div>\n",
       "<style scoped>\n",
       "    .dataframe tbody tr th:only-of-type {\n",
       "        vertical-align: middle;\n",
       "    }\n",
       "\n",
       "    .dataframe tbody tr th {\n",
       "        vertical-align: top;\n",
       "    }\n",
       "\n",
       "    .dataframe thead th {\n",
       "        text-align: right;\n",
       "    }\n",
       "</style>\n",
       "<table border=\"1\" class=\"dataframe\">\n",
       "  <thead>\n",
       "    <tr style=\"text-align: right;\">\n",
       "      <th></th>\n",
       "      <th>gender</th>\n",
       "      <th>SeniorCitizen</th>\n",
       "      <th>Partner</th>\n",
       "      <th>Dependents</th>\n",
       "      <th>tenure</th>\n",
       "      <th>PhoneService</th>\n",
       "      <th>MultipleLines</th>\n",
       "      <th>InternetService</th>\n",
       "      <th>OnlineSecurity</th>\n",
       "      <th>OnlineBackup</th>\n",
       "      <th>DeviceProtection</th>\n",
       "      <th>TechSupport</th>\n",
       "      <th>StreamingTV</th>\n",
       "      <th>StreamingMovies</th>\n",
       "      <th>Contract</th>\n",
       "      <th>PaperlessBilling</th>\n",
       "      <th>PaymentMethod</th>\n",
       "      <th>MonthlyCharges</th>\n",
       "      <th>TotalCharges</th>\n",
       "      <th>Churn</th>\n",
       "      <th>InternetSpeed</th>\n",
       "    </tr>\n",
       "  </thead>\n",
       "  <tbody>\n",
       "    <tr>\n",
       "      <th>0</th>\n",
       "      <td>1</td>\n",
       "      <td>0</td>\n",
       "      <td>1</td>\n",
       "      <td>0</td>\n",
       "      <td>1.0</td>\n",
       "      <td>0</td>\n",
       "      <td>No phone service</td>\n",
       "      <td>DSL</td>\n",
       "      <td>No</td>\n",
       "      <td>Yes</td>\n",
       "      <td>No</td>\n",
       "      <td>No</td>\n",
       "      <td>No</td>\n",
       "      <td>No</td>\n",
       "      <td>Month-to-month</td>\n",
       "      <td>1</td>\n",
       "      <td>Electronic check</td>\n",
       "      <td>29.85</td>\n",
       "      <td>29.85</td>\n",
       "      <td>0</td>\n",
       "      <td>10</td>\n",
       "    </tr>\n",
       "    <tr>\n",
       "      <th>1</th>\n",
       "      <td>0</td>\n",
       "      <td>0</td>\n",
       "      <td>0</td>\n",
       "      <td>0</td>\n",
       "      <td>34.0</td>\n",
       "      <td>1</td>\n",
       "      <td>No</td>\n",
       "      <td>DSL</td>\n",
       "      <td>Yes</td>\n",
       "      <td>No</td>\n",
       "      <td>Yes</td>\n",
       "      <td>No</td>\n",
       "      <td>No</td>\n",
       "      <td>No</td>\n",
       "      <td>One year</td>\n",
       "      <td>0</td>\n",
       "      <td>Mailed check</td>\n",
       "      <td>56.95</td>\n",
       "      <td>1889.50</td>\n",
       "      <td>0</td>\n",
       "      <td>10</td>\n",
       "    </tr>\n",
       "    <tr>\n",
       "      <th>2</th>\n",
       "      <td>0</td>\n",
       "      <td>0</td>\n",
       "      <td>0</td>\n",
       "      <td>0</td>\n",
       "      <td>2.0</td>\n",
       "      <td>1</td>\n",
       "      <td>No</td>\n",
       "      <td>DSL</td>\n",
       "      <td>Yes</td>\n",
       "      <td>Yes</td>\n",
       "      <td>No</td>\n",
       "      <td>No</td>\n",
       "      <td>No</td>\n",
       "      <td>No</td>\n",
       "      <td>Month-to-month</td>\n",
       "      <td>1</td>\n",
       "      <td>Mailed check</td>\n",
       "      <td>53.85</td>\n",
       "      <td>108.15</td>\n",
       "      <td>1</td>\n",
       "      <td>10</td>\n",
       "    </tr>\n",
       "    <tr>\n",
       "      <th>3</th>\n",
       "      <td>0</td>\n",
       "      <td>0</td>\n",
       "      <td>0</td>\n",
       "      <td>0</td>\n",
       "      <td>45.0</td>\n",
       "      <td>0</td>\n",
       "      <td>No phone service</td>\n",
       "      <td>DSL</td>\n",
       "      <td>Yes</td>\n",
       "      <td>No</td>\n",
       "      <td>Yes</td>\n",
       "      <td>Yes</td>\n",
       "      <td>No</td>\n",
       "      <td>No</td>\n",
       "      <td>One year</td>\n",
       "      <td>0</td>\n",
       "      <td>Bank transfer (automatic)</td>\n",
       "      <td>42.30</td>\n",
       "      <td>1840.75</td>\n",
       "      <td>0</td>\n",
       "      <td>10</td>\n",
       "    </tr>\n",
       "    <tr>\n",
       "      <th>4</th>\n",
       "      <td>1</td>\n",
       "      <td>0</td>\n",
       "      <td>0</td>\n",
       "      <td>0</td>\n",
       "      <td>2.0</td>\n",
       "      <td>1</td>\n",
       "      <td>No</td>\n",
       "      <td>Fiber optic</td>\n",
       "      <td>No</td>\n",
       "      <td>No</td>\n",
       "      <td>No</td>\n",
       "      <td>No</td>\n",
       "      <td>No</td>\n",
       "      <td>No</td>\n",
       "      <td>Month-to-month</td>\n",
       "      <td>1</td>\n",
       "      <td>Electronic check</td>\n",
       "      <td>70.70</td>\n",
       "      <td>151.65</td>\n",
       "      <td>1</td>\n",
       "      <td>150</td>\n",
       "    </tr>\n",
       "  </tbody>\n",
       "</table>\n",
       "</div>"
      ],
      "text/plain": [
       "   gender  SeniorCitizen  Partner  Dependents  tenure  PhoneService  \\\n",
       "0       1              0        1           0     1.0             0   \n",
       "1       0              0        0           0    34.0             1   \n",
       "2       0              0        0           0     2.0             1   \n",
       "3       0              0        0           0    45.0             0   \n",
       "4       1              0        0           0     2.0             1   \n",
       "\n",
       "      MultipleLines InternetService OnlineSecurity OnlineBackup  \\\n",
       "0  No phone service             DSL             No          Yes   \n",
       "1                No             DSL            Yes           No   \n",
       "2                No             DSL            Yes          Yes   \n",
       "3  No phone service             DSL            Yes           No   \n",
       "4                No     Fiber optic             No           No   \n",
       "\n",
       "  DeviceProtection TechSupport StreamingTV StreamingMovies        Contract  \\\n",
       "0               No          No          No              No  Month-to-month   \n",
       "1              Yes          No          No              No        One year   \n",
       "2               No          No          No              No  Month-to-month   \n",
       "3              Yes         Yes          No              No        One year   \n",
       "4               No          No          No              No  Month-to-month   \n",
       "\n",
       "   PaperlessBilling              PaymentMethod  MonthlyCharges  TotalCharges  \\\n",
       "0                 1           Electronic check           29.85         29.85   \n",
       "1                 0               Mailed check           56.95       1889.50   \n",
       "2                 1               Mailed check           53.85        108.15   \n",
       "3                 0  Bank transfer (automatic)           42.30       1840.75   \n",
       "4                 1           Electronic check           70.70        151.65   \n",
       "\n",
       "   Churn  InternetSpeed  \n",
       "0      0             10  \n",
       "1      0             10  \n",
       "2      1             10  \n",
       "3      0             10  \n",
       "4      1            150  "
      ]
     },
     "execution_count": 71,
     "metadata": {},
     "output_type": "execute_result"
    }
   ],
   "source": [
    "data_df.head()"
   ]
  },
  {
   "cell_type": "code",
   "execution_count": 72,
   "id": "6f15467c",
   "metadata": {},
   "outputs": [
    {
     "data": {
      "text/html": [
       "<div>\n",
       "<style scoped>\n",
       "    .dataframe tbody tr th:only-of-type {\n",
       "        vertical-align: middle;\n",
       "    }\n",
       "\n",
       "    .dataframe tbody tr th {\n",
       "        vertical-align: top;\n",
       "    }\n",
       "\n",
       "    .dataframe thead th {\n",
       "        text-align: right;\n",
       "    }\n",
       "</style>\n",
       "<table border=\"1\" class=\"dataframe\">\n",
       "  <thead>\n",
       "    <tr style=\"text-align: right;\">\n",
       "      <th></th>\n",
       "      <th>gender</th>\n",
       "      <th>SeniorCitizen</th>\n",
       "      <th>Partner</th>\n",
       "      <th>Dependents</th>\n",
       "      <th>tenure</th>\n",
       "      <th>PhoneService</th>\n",
       "      <th>PaperlessBilling</th>\n",
       "      <th>MonthlyCharges</th>\n",
       "      <th>TotalCharges</th>\n",
       "      <th>Churn</th>\n",
       "      <th>MultipleLines_No</th>\n",
       "      <th>MultipleLines_No phone service</th>\n",
       "      <th>MultipleLines_Yes</th>\n",
       "      <th>InternetService_DSL</th>\n",
       "      <th>InternetService_Fiber optic</th>\n",
       "      <th>InternetService_No</th>\n",
       "      <th>OnlineSecurity_No</th>\n",
       "      <th>OnlineSecurity_No internet service</th>\n",
       "      <th>OnlineSecurity_Yes</th>\n",
       "      <th>OnlineBackup_No</th>\n",
       "      <th>OnlineBackup_No internet service</th>\n",
       "      <th>OnlineBackup_Yes</th>\n",
       "      <th>DeviceProtection_No</th>\n",
       "      <th>DeviceProtection_No internet service</th>\n",
       "      <th>DeviceProtection_Yes</th>\n",
       "      <th>TechSupport_No</th>\n",
       "      <th>TechSupport_No internet service</th>\n",
       "      <th>TechSupport_Yes</th>\n",
       "      <th>StreamingTV_No</th>\n",
       "      <th>StreamingTV_No internet service</th>\n",
       "      <th>StreamingTV_Yes</th>\n",
       "      <th>StreamingMovies_No</th>\n",
       "      <th>StreamingMovies_No internet service</th>\n",
       "      <th>StreamingMovies_Yes</th>\n",
       "      <th>Contract_Month-to-month</th>\n",
       "      <th>Contract_One year</th>\n",
       "      <th>Contract_Two year</th>\n",
       "      <th>PaymentMethod_Bank transfer (automatic)</th>\n",
       "      <th>PaymentMethod_Credit card (automatic)</th>\n",
       "      <th>PaymentMethod_Electronic check</th>\n",
       "      <th>PaymentMethod_Mailed check</th>\n",
       "    </tr>\n",
       "  </thead>\n",
       "  <tbody>\n",
       "    <tr>\n",
       "      <th>0</th>\n",
       "      <td>1</td>\n",
       "      <td>0</td>\n",
       "      <td>1</td>\n",
       "      <td>0</td>\n",
       "      <td>1.0</td>\n",
       "      <td>0</td>\n",
       "      <td>1</td>\n",
       "      <td>29.85</td>\n",
       "      <td>29.85</td>\n",
       "      <td>0</td>\n",
       "      <td>0</td>\n",
       "      <td>1</td>\n",
       "      <td>0</td>\n",
       "      <td>1</td>\n",
       "      <td>0</td>\n",
       "      <td>0</td>\n",
       "      <td>1</td>\n",
       "      <td>0</td>\n",
       "      <td>0</td>\n",
       "      <td>0</td>\n",
       "      <td>0</td>\n",
       "      <td>1</td>\n",
       "      <td>1</td>\n",
       "      <td>0</td>\n",
       "      <td>0</td>\n",
       "      <td>1</td>\n",
       "      <td>0</td>\n",
       "      <td>0</td>\n",
       "      <td>1</td>\n",
       "      <td>0</td>\n",
       "      <td>0</td>\n",
       "      <td>1</td>\n",
       "      <td>0</td>\n",
       "      <td>0</td>\n",
       "      <td>1</td>\n",
       "      <td>0</td>\n",
       "      <td>0</td>\n",
       "      <td>0</td>\n",
       "      <td>0</td>\n",
       "      <td>1</td>\n",
       "      <td>0</td>\n",
       "    </tr>\n",
       "    <tr>\n",
       "      <th>1</th>\n",
       "      <td>0</td>\n",
       "      <td>0</td>\n",
       "      <td>0</td>\n",
       "      <td>0</td>\n",
       "      <td>34.0</td>\n",
       "      <td>1</td>\n",
       "      <td>0</td>\n",
       "      <td>56.95</td>\n",
       "      <td>1889.50</td>\n",
       "      <td>0</td>\n",
       "      <td>1</td>\n",
       "      <td>0</td>\n",
       "      <td>0</td>\n",
       "      <td>1</td>\n",
       "      <td>0</td>\n",
       "      <td>0</td>\n",
       "      <td>0</td>\n",
       "      <td>0</td>\n",
       "      <td>1</td>\n",
       "      <td>1</td>\n",
       "      <td>0</td>\n",
       "      <td>0</td>\n",
       "      <td>0</td>\n",
       "      <td>0</td>\n",
       "      <td>1</td>\n",
       "      <td>1</td>\n",
       "      <td>0</td>\n",
       "      <td>0</td>\n",
       "      <td>1</td>\n",
       "      <td>0</td>\n",
       "      <td>0</td>\n",
       "      <td>1</td>\n",
       "      <td>0</td>\n",
       "      <td>0</td>\n",
       "      <td>0</td>\n",
       "      <td>1</td>\n",
       "      <td>0</td>\n",
       "      <td>0</td>\n",
       "      <td>0</td>\n",
       "      <td>0</td>\n",
       "      <td>1</td>\n",
       "    </tr>\n",
       "    <tr>\n",
       "      <th>2</th>\n",
       "      <td>0</td>\n",
       "      <td>0</td>\n",
       "      <td>0</td>\n",
       "      <td>0</td>\n",
       "      <td>2.0</td>\n",
       "      <td>1</td>\n",
       "      <td>1</td>\n",
       "      <td>53.85</td>\n",
       "      <td>108.15</td>\n",
       "      <td>1</td>\n",
       "      <td>1</td>\n",
       "      <td>0</td>\n",
       "      <td>0</td>\n",
       "      <td>1</td>\n",
       "      <td>0</td>\n",
       "      <td>0</td>\n",
       "      <td>0</td>\n",
       "      <td>0</td>\n",
       "      <td>1</td>\n",
       "      <td>0</td>\n",
       "      <td>0</td>\n",
       "      <td>1</td>\n",
       "      <td>1</td>\n",
       "      <td>0</td>\n",
       "      <td>0</td>\n",
       "      <td>1</td>\n",
       "      <td>0</td>\n",
       "      <td>0</td>\n",
       "      <td>1</td>\n",
       "      <td>0</td>\n",
       "      <td>0</td>\n",
       "      <td>1</td>\n",
       "      <td>0</td>\n",
       "      <td>0</td>\n",
       "      <td>1</td>\n",
       "      <td>0</td>\n",
       "      <td>0</td>\n",
       "      <td>0</td>\n",
       "      <td>0</td>\n",
       "      <td>0</td>\n",
       "      <td>1</td>\n",
       "    </tr>\n",
       "    <tr>\n",
       "      <th>3</th>\n",
       "      <td>0</td>\n",
       "      <td>0</td>\n",
       "      <td>0</td>\n",
       "      <td>0</td>\n",
       "      <td>45.0</td>\n",
       "      <td>0</td>\n",
       "      <td>0</td>\n",
       "      <td>42.30</td>\n",
       "      <td>1840.75</td>\n",
       "      <td>0</td>\n",
       "      <td>0</td>\n",
       "      <td>1</td>\n",
       "      <td>0</td>\n",
       "      <td>1</td>\n",
       "      <td>0</td>\n",
       "      <td>0</td>\n",
       "      <td>0</td>\n",
       "      <td>0</td>\n",
       "      <td>1</td>\n",
       "      <td>1</td>\n",
       "      <td>0</td>\n",
       "      <td>0</td>\n",
       "      <td>0</td>\n",
       "      <td>0</td>\n",
       "      <td>1</td>\n",
       "      <td>0</td>\n",
       "      <td>0</td>\n",
       "      <td>1</td>\n",
       "      <td>1</td>\n",
       "      <td>0</td>\n",
       "      <td>0</td>\n",
       "      <td>1</td>\n",
       "      <td>0</td>\n",
       "      <td>0</td>\n",
       "      <td>0</td>\n",
       "      <td>1</td>\n",
       "      <td>0</td>\n",
       "      <td>1</td>\n",
       "      <td>0</td>\n",
       "      <td>0</td>\n",
       "      <td>0</td>\n",
       "    </tr>\n",
       "    <tr>\n",
       "      <th>4</th>\n",
       "      <td>1</td>\n",
       "      <td>0</td>\n",
       "      <td>0</td>\n",
       "      <td>0</td>\n",
       "      <td>2.0</td>\n",
       "      <td>1</td>\n",
       "      <td>1</td>\n",
       "      <td>70.70</td>\n",
       "      <td>151.65</td>\n",
       "      <td>1</td>\n",
       "      <td>1</td>\n",
       "      <td>0</td>\n",
       "      <td>0</td>\n",
       "      <td>0</td>\n",
       "      <td>1</td>\n",
       "      <td>0</td>\n",
       "      <td>1</td>\n",
       "      <td>0</td>\n",
       "      <td>0</td>\n",
       "      <td>1</td>\n",
       "      <td>0</td>\n",
       "      <td>0</td>\n",
       "      <td>1</td>\n",
       "      <td>0</td>\n",
       "      <td>0</td>\n",
       "      <td>1</td>\n",
       "      <td>0</td>\n",
       "      <td>0</td>\n",
       "      <td>1</td>\n",
       "      <td>0</td>\n",
       "      <td>0</td>\n",
       "      <td>1</td>\n",
       "      <td>0</td>\n",
       "      <td>0</td>\n",
       "      <td>1</td>\n",
       "      <td>0</td>\n",
       "      <td>0</td>\n",
       "      <td>0</td>\n",
       "      <td>0</td>\n",
       "      <td>1</td>\n",
       "      <td>0</td>\n",
       "    </tr>\n",
       "  </tbody>\n",
       "</table>\n",
       "</div>"
      ],
      "text/plain": [
       "   gender  SeniorCitizen  Partner  Dependents  tenure  PhoneService  \\\n",
       "0       1              0        1           0     1.0             0   \n",
       "1       0              0        0           0    34.0             1   \n",
       "2       0              0        0           0     2.0             1   \n",
       "3       0              0        0           0    45.0             0   \n",
       "4       1              0        0           0     2.0             1   \n",
       "\n",
       "   PaperlessBilling  MonthlyCharges  TotalCharges  Churn  MultipleLines_No  \\\n",
       "0                 1           29.85         29.85      0                 0   \n",
       "1                 0           56.95       1889.50      0                 1   \n",
       "2                 1           53.85        108.15      1                 1   \n",
       "3                 0           42.30       1840.75      0                 0   \n",
       "4                 1           70.70        151.65      1                 1   \n",
       "\n",
       "   MultipleLines_No phone service  MultipleLines_Yes  InternetService_DSL  \\\n",
       "0                               1                  0                    1   \n",
       "1                               0                  0                    1   \n",
       "2                               0                  0                    1   \n",
       "3                               1                  0                    1   \n",
       "4                               0                  0                    0   \n",
       "\n",
       "   InternetService_Fiber optic  InternetService_No  OnlineSecurity_No  \\\n",
       "0                            0                   0                  1   \n",
       "1                            0                   0                  0   \n",
       "2                            0                   0                  0   \n",
       "3                            0                   0                  0   \n",
       "4                            1                   0                  1   \n",
       "\n",
       "   OnlineSecurity_No internet service  OnlineSecurity_Yes  OnlineBackup_No  \\\n",
       "0                                   0                   0                0   \n",
       "1                                   0                   1                1   \n",
       "2                                   0                   1                0   \n",
       "3                                   0                   1                1   \n",
       "4                                   0                   0                1   \n",
       "\n",
       "   OnlineBackup_No internet service  OnlineBackup_Yes  DeviceProtection_No  \\\n",
       "0                                 0                 1                    1   \n",
       "1                                 0                 0                    0   \n",
       "2                                 0                 1                    1   \n",
       "3                                 0                 0                    0   \n",
       "4                                 0                 0                    1   \n",
       "\n",
       "   DeviceProtection_No internet service  DeviceProtection_Yes  TechSupport_No  \\\n",
       "0                                     0                     0               1   \n",
       "1                                     0                     1               1   \n",
       "2                                     0                     0               1   \n",
       "3                                     0                     1               0   \n",
       "4                                     0                     0               1   \n",
       "\n",
       "   TechSupport_No internet service  TechSupport_Yes  StreamingTV_No  \\\n",
       "0                                0                0               1   \n",
       "1                                0                0               1   \n",
       "2                                0                0               1   \n",
       "3                                0                1               1   \n",
       "4                                0                0               1   \n",
       "\n",
       "   StreamingTV_No internet service  StreamingTV_Yes  StreamingMovies_No  \\\n",
       "0                                0                0                   1   \n",
       "1                                0                0                   1   \n",
       "2                                0                0                   1   \n",
       "3                                0                0                   1   \n",
       "4                                0                0                   1   \n",
       "\n",
       "   StreamingMovies_No internet service  StreamingMovies_Yes  \\\n",
       "0                                    0                    0   \n",
       "1                                    0                    0   \n",
       "2                                    0                    0   \n",
       "3                                    0                    0   \n",
       "4                                    0                    0   \n",
       "\n",
       "   Contract_Month-to-month  Contract_One year  Contract_Two year  \\\n",
       "0                        1                  0                  0   \n",
       "1                        0                  1                  0   \n",
       "2                        1                  0                  0   \n",
       "3                        0                  1                  0   \n",
       "4                        1                  0                  0   \n",
       "\n",
       "   PaymentMethod_Bank transfer (automatic)  \\\n",
       "0                                        0   \n",
       "1                                        0   \n",
       "2                                        0   \n",
       "3                                        1   \n",
       "4                                        0   \n",
       "\n",
       "   PaymentMethod_Credit card (automatic)  PaymentMethod_Electronic check  \\\n",
       "0                                      0                               1   \n",
       "1                                      0                               0   \n",
       "2                                      0                               0   \n",
       "3                                      0                               0   \n",
       "4                                      0                               1   \n",
       "\n",
       "   PaymentMethod_Mailed check  \n",
       "0                           0  \n",
       "1                           1  \n",
       "2                           1  \n",
       "3                           0  \n",
       "4                           0  "
      ]
     },
     "execution_count": 72,
     "metadata": {},
     "output_type": "execute_result"
    }
   ],
   "source": [
    "corr_data_df.head(5)"
   ]
  },
  {
   "cell_type": "markdown",
   "id": "5a11cdf2",
   "metadata": {},
   "source": [
    "We generate the correlation matrix"
   ]
  },
  {
   "cell_type": "code",
   "execution_count": 23,
   "id": "b90e3550",
   "metadata": {},
   "outputs": [],
   "source": [
    "corrmat = corr_data_df.corr()"
   ]
  },
  {
   "cell_type": "markdown",
   "id": "793a9da7",
   "metadata": {},
   "source": [
    "We identify the top 5 feature-label pairs with the highest correlation (=Pearson score), positive or negative (absolute value)."
   ]
  },
  {
   "cell_type": "code",
   "execution_count": 24,
   "id": "1d8ab2ee",
   "metadata": {},
   "outputs": [
    {
     "data": {
      "text/plain": [
       "Contract_Month-to-month        0.405103\n",
       "tenure                         0.352447\n",
       "OnlineSecurity_No              0.342637\n",
       "TechSupport_No                 0.337281\n",
       "InternetService_Fiber optic    0.308020\n",
       "Name: Churn, dtype: float64"
      ]
     },
     "execution_count": 24,
     "metadata": {},
     "output_type": "execute_result"
    }
   ],
   "source": [
    "corrmat['Churn'].apply(lambda x: abs(x)).sort_values(ascending=False).drop('Churn').head(5)"
   ]
  },
  {
   "cell_type": "markdown",
   "id": "9195b8b3",
   "metadata": {},
   "source": [
    "This tells us that those 5 features have the highest linear dependency (direct relationship) with the target amongst all features."
   ]
  },
  {
   "cell_type": "markdown",
   "id": "6a0b0b0b",
   "metadata": {},
   "source": [
    "We generate a heatmap to visualise the pairs correlation. "
   ]
  },
  {
   "cell_type": "code",
   "execution_count": 25,
   "id": "247ed469",
   "metadata": {},
   "outputs": [
    {
     "data": {
      "image/png": "[encoded data removed]",
      "text/plain": [
       "<Figure size 3600x3600 with 2 Axes>"
      ]
     },
     "metadata": {
      "needs_background": "light"
     },
     "output_type": "display_data"
    }
   ],
   "source": [
    "import numpy as np\n",
    "mask = np.triu(np.ones_like(corrmat, dtype=np.bool))\n",
    "plt.figure(figsize=(50,50))\n",
    "g = sns.heatmap(corrmat,annot=False,cmap=\"RdYlGn\", mask=mask, vmax=.3, center=0,square=True, linewidths=.5, cbar_kws={\"shrink\": .5})"
   ]
  },
  {
   "cell_type": "markdown",
   "id": "4d5b0d30",
   "metadata": {},
   "source": [
    "# Your Turn! explore a bit the dataset by generating few graphs based on what we've seen."
   ]
  },
  {
   "cell_type": "code",
   "execution_count": null,
   "id": "59a17584",
   "metadata": {},
   "outputs": [],
   "source": []
  },
  {
   "cell_type": "markdown",
   "id": "23c2106d",
   "metadata": {},
   "source": [
    "# Imbalanced Dataset"
   ]
  },
  {
   "cell_type": "code",
   "execution_count": 26,
   "id": "456e41a0",
   "metadata": {},
   "outputs": [
    {
     "data": {
      "image/png": "[encoded data removed]",
      "text/plain": [
       "<Figure size 432x288 with 1 Axes>"
      ]
     },
     "metadata": {
      "needs_background": "light"
     },
     "output_type": "display_data"
    }
   ],
   "source": [
    "sns.countplot(x='Churn', data=data_df)\n",
    "plt.show()"
   ]
  },
  {
   "cell_type": "markdown",
   "id": "2f2cea91",
   "metadata": {},
   "source": [
    "Class imbalance is a surprisingly common problem in machine learning (specifically in classification), occurring in datasets with a disproportionate ratio of observations in each class.</br>\n",
    "\n",
    "That is, the # of samples per class is not equally distributed.</br>\n",
    "\n",
    "The ML model may not work well for the infrequent classes, as there are not enough samples to learn patterns from, would be hard for the classifier to identify / match those patterns </br>\n",
    "\n",
    "Apart from changing performance metrics from accuracy to precision, recall, and/or f1 score, other ways to address class imbalance are basically related to balancing either the the dataset or the way ML alg learn from the dataset:</br>\n"
   ]
  },
  {
   "cell_type": "markdown",
   "id": "e21d6214",
   "metadata": {},
   "source": [
    "<img src='img/Screen Shot 2021-09-16 at 2.10.05 pm.png' width=800 align='left'>"
   ]
  },
  {
   "cell_type": "markdown",
   "id": "32d97ac4",
   "metadata": {},
   "source": [
    "</br>\n",
    "We'll later use the XGBoost algorithm to build our model. XGBoost has similar mechanism (scale_pos_weight hyperparameter) to handle imbalanced datasets.\n",
    "</br>"
   ]
  },
  {
   "cell_type": "markdown",
   "id": "659d9d98",
   "metadata": {},
   "source": [
    "# Handling Missing Data"
   ]
  },
  {
   "cell_type": "markdown",
   "id": "d66c7a48",
   "metadata": {},
   "source": [
    "<img src='img/Screen Shot 2021-09-16 at 2.14.05 pm.png' width=800 align='left'>"
   ]
  },
  {
   "cell_type": "code",
   "execution_count": 27,
   "id": "c404be9d",
   "metadata": {},
   "outputs": [
    {
     "name": "stdout",
     "output_type": "stream",
     "text": [
      "<class 'pandas.core.frame.DataFrame'>\n",
      "RangeIndex: 7043 entries, 0 to 7042\n",
      "Data columns (total 21 columns):\n",
      " #   Column            Non-Null Count  Dtype  \n",
      "---  ------            --------------  -----  \n",
      " 0   customerID        7043 non-null   object \n",
      " 1   gender            7043 non-null   int64  \n",
      " 2   SeniorCitizen     7043 non-null   int64  \n",
      " 3   Partner           7043 non-null   int64  \n",
      " 4   Dependents        7043 non-null   int64  \n",
      " 5   tenure            6992 non-null   float64\n",
      " 6   PhoneService      7043 non-null   int64  \n",
      " 7   MultipleLines     7043 non-null   object \n",
      " 8   InternetService   7043 non-null   object \n",
      " 9   OnlineSecurity    7043 non-null   object \n",
      " 10  OnlineBackup      7043 non-null   object \n",
      " 11  DeviceProtection  7043 non-null   object \n",
      " 12  TechSupport       7043 non-null   object \n",
      " 13  StreamingTV       7043 non-null   object \n",
      " 14  StreamingMovies   7043 non-null   object \n",
      " 15  Contract          7043 non-null   object \n",
      " 16  PaperlessBilling  7043 non-null   int64  \n",
      " 17  PaymentMethod     7043 non-null   object \n",
      " 18  MonthlyCharges    7043 non-null   float64\n",
      " 19  TotalCharges      7032 non-null   float64\n",
      " 20  Churn             7043 non-null   int64  \n",
      "dtypes: float64(3), int64(7), object(11)\n",
      "memory usage: 1.1+ MB\n"
     ]
    }
   ],
   "source": [
    "data_df.info()"
   ]
  },
  {
   "cell_type": "markdown",
   "id": "42cfbefc",
   "metadata": {},
   "source": [
    "isna() return True/False for each row if value NaN. The below filter the dataframe on "
   ]
  },
  {
   "cell_type": "code",
   "execution_count": 28,
   "id": "1e77c5e9",
   "metadata": {},
   "outputs": [
    {
     "data": {
      "text/html": [
       "<div>\n",
       "<style scoped>\n",
       "    .dataframe tbody tr th:only-of-type {\n",
       "        vertical-align: middle;\n",
       "    }\n",
       "\n",
       "    .dataframe tbody tr th {\n",
       "        vertical-align: top;\n",
       "    }\n",
       "\n",
       "    .dataframe thead th {\n",
       "        text-align: right;\n",
       "    }\n",
       "</style>\n",
       "<table border=\"1\" class=\"dataframe\">\n",
       "  <thead>\n",
       "    <tr style=\"text-align: right;\">\n",
       "      <th></th>\n",
       "      <th>customerID</th>\n",
       "      <th>gender</th>\n",
       "      <th>SeniorCitizen</th>\n",
       "      <th>Partner</th>\n",
       "      <th>Dependents</th>\n",
       "      <th>tenure</th>\n",
       "      <th>PhoneService</th>\n",
       "      <th>MultipleLines</th>\n",
       "      <th>InternetService</th>\n",
       "      <th>OnlineSecurity</th>\n",
       "      <th>OnlineBackup</th>\n",
       "      <th>DeviceProtection</th>\n",
       "      <th>TechSupport</th>\n",
       "      <th>StreamingTV</th>\n",
       "      <th>StreamingMovies</th>\n",
       "      <th>Contract</th>\n",
       "      <th>PaperlessBilling</th>\n",
       "      <th>PaymentMethod</th>\n",
       "      <th>MonthlyCharges</th>\n",
       "      <th>TotalCharges</th>\n",
       "      <th>Churn</th>\n",
       "    </tr>\n",
       "  </thead>\n",
       "  <tbody>\n",
       "    <tr>\n",
       "      <th>90</th>\n",
       "      <td>4767-HZZHQ</td>\n",
       "      <td>0</td>\n",
       "      <td>0</td>\n",
       "      <td>1</td>\n",
       "      <td>1</td>\n",
       "      <td>NaN</td>\n",
       "      <td>1</td>\n",
       "      <td>No</td>\n",
       "      <td>Fiber optic</td>\n",
       "      <td>No</td>\n",
       "      <td>Yes</td>\n",
       "      <td>Yes</td>\n",
       "      <td>No</td>\n",
       "      <td>No</td>\n",
       "      <td>No</td>\n",
       "      <td>Month-to-month</td>\n",
       "      <td>0</td>\n",
       "      <td>Bank transfer (automatic)</td>\n",
       "      <td>82.05</td>\n",
       "      <td>2570.20</td>\n",
       "      <td>0</td>\n",
       "    </tr>\n",
       "    <tr>\n",
       "      <th>123</th>\n",
       "      <td>6497-TILVL</td>\n",
       "      <td>1</td>\n",
       "      <td>0</td>\n",
       "      <td>1</td>\n",
       "      <td>1</td>\n",
       "      <td>NaN</td>\n",
       "      <td>1</td>\n",
       "      <td>No</td>\n",
       "      <td>DSL</td>\n",
       "      <td>Yes</td>\n",
       "      <td>No</td>\n",
       "      <td>No</td>\n",
       "      <td>No</td>\n",
       "      <td>No</td>\n",
       "      <td>No</td>\n",
       "      <td>Month-to-month</td>\n",
       "      <td>0</td>\n",
       "      <td>Mailed check</td>\n",
       "      <td>50.70</td>\n",
       "      <td>350.35</td>\n",
       "      <td>0</td>\n",
       "    </tr>\n",
       "    <tr>\n",
       "      <th>205</th>\n",
       "      <td>7674-YTAFD</td>\n",
       "      <td>1</td>\n",
       "      <td>0</td>\n",
       "      <td>0</td>\n",
       "      <td>0</td>\n",
       "      <td>NaN</td>\n",
       "      <td>1</td>\n",
       "      <td>No</td>\n",
       "      <td>Fiber optic</td>\n",
       "      <td>No</td>\n",
       "      <td>Yes</td>\n",
       "      <td>No</td>\n",
       "      <td>Yes</td>\n",
       "      <td>No</td>\n",
       "      <td>No</td>\n",
       "      <td>One year</td>\n",
       "      <td>1</td>\n",
       "      <td>Bank transfer (automatic)</td>\n",
       "      <td>79.95</td>\n",
       "      <td>2684.85</td>\n",
       "      <td>0</td>\n",
       "    </tr>\n",
       "    <tr>\n",
       "      <th>343</th>\n",
       "      <td>9639-BUJXT</td>\n",
       "      <td>0</td>\n",
       "      <td>0</td>\n",
       "      <td>0</td>\n",
       "      <td>0</td>\n",
       "      <td>NaN</td>\n",
       "      <td>1</td>\n",
       "      <td>No</td>\n",
       "      <td>No</td>\n",
       "      <td>No internet service</td>\n",
       "      <td>No internet service</td>\n",
       "      <td>No internet service</td>\n",
       "      <td>No internet service</td>\n",
       "      <td>No internet service</td>\n",
       "      <td>No internet service</td>\n",
       "      <td>One year</td>\n",
       "      <td>0</td>\n",
       "      <td>Mailed check</td>\n",
       "      <td>20.50</td>\n",
       "      <td>1328.15</td>\n",
       "      <td>0</td>\n",
       "    </tr>\n",
       "    <tr>\n",
       "      <th>443</th>\n",
       "      <td>2937-FTHUR</td>\n",
       "      <td>1</td>\n",
       "      <td>0</td>\n",
       "      <td>0</td>\n",
       "      <td>1</td>\n",
       "      <td>NaN</td>\n",
       "      <td>1</td>\n",
       "      <td>Yes</td>\n",
       "      <td>DSL</td>\n",
       "      <td>Yes</td>\n",
       "      <td>No</td>\n",
       "      <td>No</td>\n",
       "      <td>No</td>\n",
       "      <td>No</td>\n",
       "      <td>Yes</td>\n",
       "      <td>Month-to-month</td>\n",
       "      <td>0</td>\n",
       "      <td>Electronic check</td>\n",
       "      <td>64.80</td>\n",
       "      <td>1166.70</td>\n",
       "      <td>0</td>\n",
       "    </tr>\n",
       "  </tbody>\n",
       "</table>\n",
       "</div>"
      ],
      "text/plain": [
       "     customerID  gender  SeniorCitizen  Partner  Dependents  tenure  \\\n",
       "90   4767-HZZHQ       0              0        1           1     NaN   \n",
       "123  6497-TILVL       1              0        1           1     NaN   \n",
       "205  7674-YTAFD       1              0        0           0     NaN   \n",
       "343  9639-BUJXT       0              0        0           0     NaN   \n",
       "443  2937-FTHUR       1              0        0           1     NaN   \n",
       "\n",
       "     PhoneService MultipleLines InternetService       OnlineSecurity  \\\n",
       "90              1            No     Fiber optic                   No   \n",
       "123             1            No             DSL                  Yes   \n",
       "205             1            No     Fiber optic                   No   \n",
       "343             1            No              No  No internet service   \n",
       "443             1           Yes             DSL                  Yes   \n",
       "\n",
       "            OnlineBackup     DeviceProtection          TechSupport  \\\n",
       "90                   Yes                  Yes                   No   \n",
       "123                   No                   No                   No   \n",
       "205                  Yes                   No                  Yes   \n",
       "343  No internet service  No internet service  No internet service   \n",
       "443                   No                   No                   No   \n",
       "\n",
       "             StreamingTV      StreamingMovies        Contract  \\\n",
       "90                    No                   No  Month-to-month   \n",
       "123                   No                   No  Month-to-month   \n",
       "205                   No                   No        One year   \n",
       "343  No internet service  No internet service        One year   \n",
       "443                   No                  Yes  Month-to-month   \n",
       "\n",
       "     PaperlessBilling              PaymentMethod  MonthlyCharges  \\\n",
       "90                  0  Bank transfer (automatic)           82.05   \n",
       "123                 0               Mailed check           50.70   \n",
       "205                 1  Bank transfer (automatic)           79.95   \n",
       "343                 0               Mailed check           20.50   \n",
       "443                 0           Electronic check           64.80   \n",
       "\n",
       "     TotalCharges  Churn  \n",
       "90        2570.20      0  \n",
       "123        350.35      0  \n",
       "205       2684.85      0  \n",
       "343       1328.15      0  \n",
       "443       1166.70      0  "
      ]
     },
     "execution_count": 28,
     "metadata": {},
     "output_type": "execute_result"
    }
   ],
   "source": [
    "data_df[data_df['tenure'].isna()].head(5)"
   ]
  },
  {
   "cell_type": "markdown",
   "id": "64c0b1ac",
   "metadata": {},
   "source": [
    "Simply replacing NaN values with the mean tenure"
   ]
  },
  {
   "cell_type": "code",
   "execution_count": 29,
   "id": "d44ff3f9",
   "metadata": {},
   "outputs": [],
   "source": [
    "data_df['tenure'] = data_df['tenure'].fillna(data_df['tenure'].mean())"
   ]
  },
  {
   "cell_type": "markdown",
   "id": "09a8891f",
   "metadata": {},
   "source": [
    "Look also at: sklearn.impute</br>\n",
    "https://scikit-learn.org/stable/modules/classes.html#module-sklearn.impute</br>\n",
    "\n",
    "SimpleImputer - does substitution with simple strategies: mean, median, most_frequent, constant.</br>\n",
    "others: IterativeImputer, KNNImputer</br>"
   ]
  },
  {
   "cell_type": "markdown",
   "id": "5ad07d02",
   "metadata": {},
   "source": [
    "# Feature Scaling/Normalisation - (will be covered in more details during the Thursday Tabular ML session)"
   ]
  },
  {
   "cell_type": "markdown",
   "id": "75dd2b9f",
   "metadata": {},
   "source": [
    "<img src='img/Screen Shot 2021-09-16 at 4.51.33 pm.png' width=800 align='left'>"
   ]
  },
  {
   "cell_type": "markdown",
   "id": "720ee9cc",
   "metadata": {},
   "source": [
    "We won't need it for our XGBoost example but here is the code snippet if you ever need it."
   ]
  },
  {
   "cell_type": "code",
   "execution_count": 30,
   "id": "e6ec09c8",
   "metadata": {},
   "outputs": [
    {
     "data": {
      "text/plain": [
       "array([0.01388889, 0.11542289, 0.0005027 ])"
      ]
     },
     "execution_count": 30,
     "metadata": {},
     "output_type": "execute_result"
    }
   ],
   "source": [
    "from sklearn.preprocessing import MinMaxScaler\n",
    "\n",
    "scaler = MinMaxScaler(feature_range=(0, 1))\n",
    "scaled_features_df = scaler.fit_transform(data_df[[\"tenure\", \"MonthlyCharges\", \"TotalCharges\"]])\n",
    "scaled_features_df[0]"
   ]
  },
  {
   "cell_type": "markdown",
   "id": "e8374a5a",
   "metadata": {},
   "source": [
    "# Dealing with Outliers\n",
    "Outliers are extreme values that deviate from other observations on data , they may indicate a variability in a measurement, experimental errors or a novelty. In other words, an outlier is an observation that diverges from an overall pattern on a sample. Careful not to mistake outliers with true data.</br>\n",
    "for \"Univariate\" outliers, we can draw graph, histogram to identify those visually and drop them. using percentile is another method</br>\n",
    "for \"Multivariate\" ones, it's much harder.</br>"
   ]
  },
  {
   "cell_type": "code",
   "execution_count": 31,
   "id": "b89d6b45",
   "metadata": {},
   "outputs": [
    {
     "data": {
      "image/png": "[encoded data removed]",
      "text/plain": [
       "<Figure size 432x288 with 1 Axes>"
      ]
     },
     "metadata": {
      "needs_background": "light"
     },
     "output_type": "display_data"
    }
   ],
   "source": [
    "sns.distplot(data_df['TotalCharges'], bins=50, kde=False)\n",
    "plt.show()"
   ]
  },
  {
   "cell_type": "code",
   "execution_count": 32,
   "id": "1b69b3be",
   "metadata": {},
   "outputs": [
    {
     "name": "stdout",
     "output_type": "stream",
     "text": [
      "Number of observations in the 99th percentile:71\n"
     ]
    }
   ],
   "source": [
    "top_percentile = data_df['TotalCharges'].quantile(.99)\n",
    "number_in_to_percentile = data_df[data_df['TotalCharges'] >= top_percentile].shape[0]\n",
    "print(f'Number of observations in the 99th percentile:{number_in_to_percentile}')"
   ]
  },
  {
   "cell_type": "markdown",
   "id": "8ec80373",
   "metadata": {},
   "source": [
    "### Z-score\n",
    "Z-score is a common method to flag if a value is an outlier.</br>\n",
    "Z-Score is essentially how many standard deviations away is my actual value from the mean value.</br>\n",
    "(standard deviation being a measure of how dispersed the data is in relation to the mean)."
   ]
  },
  {
   "cell_type": "markdown",
   "id": "5085e0ac",
   "metadata": {},
   "source": [
    "We just create a new column with the z-score for each TotalCharges value"
   ]
  },
  {
   "cell_type": "code",
   "execution_count": 33,
   "id": "afaccab6",
   "metadata": {},
   "outputs": [],
   "source": [
    "data_df['TotalCharges_zscore'] = (data_df['TotalCharges'] - data_df['TotalCharges'].mean())/data_df['TotalCharges'].std(ddof=0)"
   ]
  },
  {
   "cell_type": "markdown",
   "id": "556dda9d",
   "metadata": {},
   "source": [
    "We filter the dataframe to keep the observations which are deviating from the mean value by 3 times the standard deviation."
   ]
  },
  {
   "cell_type": "code",
   "execution_count": 34,
   "id": "dfb9a915",
   "metadata": {},
   "outputs": [
    {
     "data": {
      "text/html": [
       "<div>\n",
       "<style scoped>\n",
       "    .dataframe tbody tr th:only-of-type {\n",
       "        vertical-align: middle;\n",
       "    }\n",
       "\n",
       "    .dataframe tbody tr th {\n",
       "        vertical-align: top;\n",
       "    }\n",
       "\n",
       "    .dataframe thead th {\n",
       "        text-align: right;\n",
       "    }\n",
       "</style>\n",
       "<table border=\"1\" class=\"dataframe\">\n",
       "  <thead>\n",
       "    <tr style=\"text-align: right;\">\n",
       "      <th></th>\n",
       "      <th>customerID</th>\n",
       "      <th>gender</th>\n",
       "      <th>SeniorCitizen</th>\n",
       "      <th>Partner</th>\n",
       "      <th>Dependents</th>\n",
       "      <th>tenure</th>\n",
       "      <th>PhoneService</th>\n",
       "      <th>MultipleLines</th>\n",
       "      <th>InternetService</th>\n",
       "      <th>OnlineSecurity</th>\n",
       "      <th>OnlineBackup</th>\n",
       "      <th>DeviceProtection</th>\n",
       "      <th>TechSupport</th>\n",
       "      <th>StreamingTV</th>\n",
       "      <th>StreamingMovies</th>\n",
       "      <th>Contract</th>\n",
       "      <th>PaperlessBilling</th>\n",
       "      <th>PaymentMethod</th>\n",
       "      <th>MonthlyCharges</th>\n",
       "      <th>TotalCharges</th>\n",
       "      <th>Churn</th>\n",
       "      <th>TotalCharges_zscore</th>\n",
       "    </tr>\n",
       "  </thead>\n",
       "  <tbody>\n",
       "    <tr>\n",
       "      <th>45</th>\n",
       "      <td>3714-NTNFO</td>\n",
       "      <td>1</td>\n",
       "      <td>0</td>\n",
       "      <td>0</td>\n",
       "      <td>0</td>\n",
       "      <td>49.0</td>\n",
       "      <td>1</td>\n",
       "      <td>Yes</td>\n",
       "      <td>Fiber optic</td>\n",
       "      <td>No</td>\n",
       "      <td>No</td>\n",
       "      <td>No</td>\n",
       "      <td>No</td>\n",
       "      <td>No</td>\n",
       "      <td>Yes</td>\n",
       "      <td>Month-to-month</td>\n",
       "      <td>1</td>\n",
       "      <td>Electronic check</td>\n",
       "      <td>84.50</td>\n",
       "      <td>20000.0</td>\n",
       "      <td>0</td>\n",
       "      <td>7.702118</td>\n",
       "    </tr>\n",
       "    <tr>\n",
       "      <th>2000</th>\n",
       "      <td>7020-OZKXZ</td>\n",
       "      <td>1</td>\n",
       "      <td>1</td>\n",
       "      <td>0</td>\n",
       "      <td>0</td>\n",
       "      <td>9.0</td>\n",
       "      <td>1</td>\n",
       "      <td>No</td>\n",
       "      <td>Fiber optic</td>\n",
       "      <td>No</td>\n",
       "      <td>No</td>\n",
       "      <td>Yes</td>\n",
       "      <td>No</td>\n",
       "      <td>No</td>\n",
       "      <td>No</td>\n",
       "      <td>Month-to-month</td>\n",
       "      <td>0</td>\n",
       "      <td>Credit card (automatic)</td>\n",
       "      <td>75.50</td>\n",
       "      <td>22000.0</td>\n",
       "      <td>0</td>\n",
       "      <td>8.571994</td>\n",
       "    </tr>\n",
       "    <tr>\n",
       "      <th>3000</th>\n",
       "      <td>7613-LLQFO</td>\n",
       "      <td>0</td>\n",
       "      <td>0</td>\n",
       "      <td>0</td>\n",
       "      <td>0</td>\n",
       "      <td>12.0</td>\n",
       "      <td>1</td>\n",
       "      <td>Yes</td>\n",
       "      <td>Fiber optic</td>\n",
       "      <td>No</td>\n",
       "      <td>No</td>\n",
       "      <td>No</td>\n",
       "      <td>No</td>\n",
       "      <td>Yes</td>\n",
       "      <td>No</td>\n",
       "      <td>Month-to-month</td>\n",
       "      <td>1</td>\n",
       "      <td>Electronic check</td>\n",
       "      <td>84.45</td>\n",
       "      <td>21000.0</td>\n",
       "      <td>1</td>\n",
       "      <td>8.137056</td>\n",
       "    </tr>\n",
       "  </tbody>\n",
       "</table>\n",
       "</div>"
      ],
      "text/plain": [
       "      customerID  gender  SeniorCitizen  Partner  Dependents  tenure  \\\n",
       "45    3714-NTNFO       1              0        0           0    49.0   \n",
       "2000  7020-OZKXZ       1              1        0           0     9.0   \n",
       "3000  7613-LLQFO       0              0        0           0    12.0   \n",
       "\n",
       "      PhoneService MultipleLines InternetService OnlineSecurity OnlineBackup  \\\n",
       "45               1           Yes     Fiber optic             No           No   \n",
       "2000             1            No     Fiber optic             No           No   \n",
       "3000             1           Yes     Fiber optic             No           No   \n",
       "\n",
       "     DeviceProtection TechSupport StreamingTV StreamingMovies        Contract  \\\n",
       "45                 No          No          No             Yes  Month-to-month   \n",
       "2000              Yes          No          No              No  Month-to-month   \n",
       "3000               No          No         Yes              No  Month-to-month   \n",
       "\n",
       "      PaperlessBilling            PaymentMethod  MonthlyCharges  TotalCharges  \\\n",
       "45                   1         Electronic check           84.50       20000.0   \n",
       "2000                 0  Credit card (automatic)           75.50       22000.0   \n",
       "3000                 1         Electronic check           84.45       21000.0   \n",
       "\n",
       "      Churn  TotalCharges_zscore  \n",
       "45        0             7.702118  \n",
       "2000      0             8.571994  \n",
       "3000      1             8.137056  "
      ]
     },
     "execution_count": 34,
     "metadata": {},
     "output_type": "execute_result"
    }
   ],
   "source": [
    "data_df[abs(data_df['TotalCharges_zscore']) > 3]"
   ]
  },
  {
   "cell_type": "markdown",
   "id": "634539d7",
   "metadata": {},
   "source": [
    "In that case we simply delete those outliers"
   ]
  },
  {
   "cell_type": "code",
   "execution_count": 35,
   "id": "8c343ebd",
   "metadata": {},
   "outputs": [],
   "source": [
    "data_df = data_df.drop([45,2000,3000], axis=0)"
   ]
  },
  {
   "cell_type": "markdown",
   "id": "e276b2ac",
   "metadata": {},
   "source": [
    "Dropping the Z-score column too as we don't need it anymore"
   ]
  },
  {
   "cell_type": "code",
   "execution_count": 36,
   "id": "06685981",
   "metadata": {},
   "outputs": [],
   "source": [
    "data_df = data_df.drop('TotalCharges_zscore', axis=1)"
   ]
  },
  {
   "cell_type": "markdown",
   "id": "c26aafec",
   "metadata": {},
   "source": [
    "# Feature Engineering\n",
    "\n",
    "Your ML model is as good as your data!!</br>\n",
    "\n",
    "Feature engineering is the process of using domain knowledge to extract features (characteristics, properties, attributes) from raw data."
   ]
  },
  {
   "cell_type": "markdown",
   "id": "30f9515f",
   "metadata": {},
   "source": [
    "<img src='img/Screen Shot 2021-09-16 at 4.57.52 pm.png' width=800 align='left'>"
   ]
  },
  {
   "cell_type": "markdown",
   "id": "085981d7",
   "metadata": {},
   "source": [
    "### Feature selection\n",
    "Feature selection is the process of reducing the number of input variables when developing a predictive model. It is desirable to reduce the number of input variables to both reduce the computational cost of modeling and, in some cases, to improve the performance of the model.</br>\n",
    "Indeed, the performance of some models can degrade when including input variables that are not relevant to the target variable."
   ]
  },
  {
   "cell_type": "markdown",
   "id": "7cd093c6",
   "metadata": {},
   "source": [
    "Do you remember our correlation matrix? Let's use it again to identify the feature-feature linear dependency and if one is very high that will mean that we can probably drop on of them as they will be redundant to our model."
   ]
  },
  {
   "cell_type": "code",
   "execution_count": 37,
   "id": "06ec7b70",
   "metadata": {},
   "outputs": [
    {
     "name": "stdout",
     "output_type": "stream",
     "text": [
      "InternetService_No  -  OnlineSecurity_No internet service  -  1.0\n",
      "InternetService_No  -  OnlineBackup_No internet service  -  1.0\n",
      "InternetService_No  -  DeviceProtection_No internet service  -  1.0\n",
      "InternetService_No  -  TechSupport_No internet service  -  1.0\n",
      "InternetService_No  -  StreamingTV_No internet service  -  1.0\n",
      "InternetService_No  -  StreamingMovies_No internet service  -  1.0\n",
      "OnlineSecurity_No internet service  -  InternetService_No  -  1.0\n",
      "OnlineSecurity_No internet service  -  OnlineBackup_No internet service  -  1.0\n",
      "OnlineSecurity_No internet service  -  DeviceProtection_No internet service  -  1.0\n",
      "OnlineSecurity_No internet service  -  TechSupport_No internet service  -  1.0\n",
      "OnlineSecurity_No internet service  -  StreamingTV_No internet service  -  1.0\n",
      "OnlineSecurity_No internet service  -  StreamingMovies_No internet service  -  1.0\n",
      "OnlineBackup_No internet service  -  InternetService_No  -  1.0\n",
      "OnlineBackup_No internet service  -  OnlineSecurity_No internet service  -  1.0\n",
      "OnlineBackup_No internet service  -  DeviceProtection_No internet service  -  1.0\n",
      "OnlineBackup_No internet service  -  TechSupport_No internet service  -  1.0\n",
      "OnlineBackup_No internet service  -  StreamingTV_No internet service  -  1.0\n",
      "OnlineBackup_No internet service  -  StreamingMovies_No internet service  -  1.0\n",
      "DeviceProtection_No internet service  -  InternetService_No  -  1.0\n",
      "DeviceProtection_No internet service  -  OnlineSecurity_No internet service  -  1.0\n",
      "DeviceProtection_No internet service  -  OnlineBackup_No internet service  -  1.0\n",
      "DeviceProtection_No internet service  -  TechSupport_No internet service  -  1.0\n",
      "DeviceProtection_No internet service  -  StreamingTV_No internet service  -  1.0\n",
      "DeviceProtection_No internet service  -  StreamingMovies_No internet service  -  1.0\n",
      "TechSupport_No internet service  -  InternetService_No  -  1.0\n",
      "TechSupport_No internet service  -  OnlineSecurity_No internet service  -  1.0\n",
      "TechSupport_No internet service  -  OnlineBackup_No internet service  -  1.0\n",
      "TechSupport_No internet service  -  DeviceProtection_No internet service  -  1.0\n",
      "TechSupport_No internet service  -  StreamingTV_No internet service  -  1.0\n",
      "TechSupport_No internet service  -  StreamingMovies_No internet service  -  1.0\n",
      "StreamingTV_No internet service  -  InternetService_No  -  1.0\n",
      "StreamingTV_No internet service  -  OnlineSecurity_No internet service  -  1.0\n",
      "StreamingTV_No internet service  -  OnlineBackup_No internet service  -  1.0\n",
      "StreamingTV_No internet service  -  DeviceProtection_No internet service  -  1.0\n",
      "StreamingTV_No internet service  -  TechSupport_No internet service  -  1.0\n",
      "StreamingTV_No internet service  -  StreamingMovies_No internet service  -  1.0\n",
      "StreamingMovies_No internet service  -  InternetService_No  -  1.0\n",
      "StreamingMovies_No internet service  -  OnlineSecurity_No internet service  -  1.0\n",
      "StreamingMovies_No internet service  -  OnlineBackup_No internet service  -  1.0\n",
      "StreamingMovies_No internet service  -  DeviceProtection_No internet service  -  1.0\n",
      "StreamingMovies_No internet service  -  TechSupport_No internet service  -  1.0\n",
      "StreamingMovies_No internet service  -  StreamingTV_No internet service  -  1.0\n"
     ]
    }
   ],
   "source": [
    "threshold = 0.99\n",
    "for rowIndex, row in corrmat.iterrows(): #iterate over rows\n",
    "    for columnIndex, value in row.items():\n",
    "        if rowIndex != columnIndex and value > threshold:\n",
    "            print(f\"{rowIndex}  -  {columnIndex}  -  {value}\")"
   ]
  },
  {
   "cell_type": "markdown",
   "id": "a6435737",
   "metadata": {},
   "source": [
    "We can see that we have 5 strongly correlated features that are directly connected with the InternetService_No"
   ]
  },
  {
   "cell_type": "markdown",
   "id": "4774367a",
   "metadata": {},
   "source": [
    "### Feature extraction\n",
    "e.g. date -> week day, month, year, season."
   ]
  },
  {
   "cell_type": "markdown",
   "id": "c7bc4c50",
   "metadata": {},
   "source": [
    "We don't have dates in the dataset but the customerID has 2 parts that could potentially have a meaning and might be worth extracting. Let's check!</br>"
   ]
  },
  {
   "cell_type": "code",
   "execution_count": 38,
   "id": "93b74fe8",
   "metadata": {},
   "outputs": [
    {
     "data": {
      "text/plain": [
       "0    7590-VHVEG\n",
       "1    5575-GNVDE\n",
       "Name: customerID, dtype: object"
      ]
     },
     "execution_count": 38,
     "metadata": {},
     "output_type": "execute_result"
    }
   ],
   "source": [
    "data_df['customerID'].head(2)"
   ]
  },
  {
   "cell_type": "markdown",
   "id": "0922ec9e",
   "metadata": {},
   "source": [
    "we create 2 new columns with each parts of the ID"
   ]
  },
  {
   "cell_type": "code",
   "execution_count": 39,
   "id": "9edc14d3",
   "metadata": {},
   "outputs": [],
   "source": [
    "data_df['customerID-part1'] = data_df['customerID'].apply(lambda x: x.split('-')[0])\n",
    "data_df['customerID-part2'] = data_df['customerID'].apply(lambda x: x.split('-')[1])"
   ]
  },
  {
   "cell_type": "markdown",
   "id": "5513442d",
   "metadata": {},
   "source": [
    "We check the cardinality of each feature"
   ]
  },
  {
   "cell_type": "code",
   "execution_count": 40,
   "id": "f299d012",
   "metadata": {},
   "outputs": [
    {
     "data": {
      "text/plain": [
       "customerID-part1    5082\n",
       "customerID-part2    7037\n",
       "dtype: int64"
      ]
     },
     "execution_count": 40,
     "metadata": {},
     "output_type": "execute_result"
    }
   ],
   "source": [
    "data_df[['customerID-part1', 'customerID-part2']].apply(pd.Series.nunique)"
   ]
  },
  {
   "cell_type": "markdown",
   "id": "3af277ae",
   "metadata": {},
   "source": [
    "It was worth checking but the high cardinality doesn't suggest it will help the algorithm differentiate 2 records. so we'll ignore that and get rid of the customerID."
   ]
  },
  {
   "cell_type": "code",
   "execution_count": 41,
   "id": "b36cbde3",
   "metadata": {},
   "outputs": [],
   "source": [
    "data_df = data_df.drop(['customerID', 'customerID-part1', 'customerID-part2'], axis=1)"
   ]
  },
  {
   "cell_type": "markdown",
   "id": "c9852b8e",
   "metadata": {},
   "source": [
    "### Feature building/construction\n",
    "eg: Binning of age. helps with making some models more robust and less prone to overfitting but you loose some info -> tradeoff.</br>\n",
    "\n",
    "What can a human interprete from looking at the data that an algorithm wouldn't be able to see?"
   ]
  },
  {
   "cell_type": "code",
   "execution_count": 42,
   "id": "7b2c5753",
   "metadata": {},
   "outputs": [
    {
     "data": {
      "text/plain": [
       "Fiber optic    3093\n",
       "DSL            2421\n",
       "No             1526\n",
       "Name: InternetService, dtype: int64"
      ]
     },
     "execution_count": 42,
     "metadata": {},
     "output_type": "execute_result"
    }
   ],
   "source": [
    "data_df['InternetService'].value_counts()"
   ]
  },
  {
   "cell_type": "markdown",
   "id": "c218ef35",
   "metadata": {},
   "source": [
    "We, humans, know that Fiber is around 15 times faster than DSL (6 vs ~90Mbps) but the algorithm won't be able to infer that from that column.</br>\n",
    "Let's assign a number to those categories that represents the speed on a scale (0 for No, 10 for DSL, 150 for Fiber).</br>"
   ]
  },
  {
   "cell_type": "code",
   "execution_count": 43,
   "id": "9f95124a",
   "metadata": {},
   "outputs": [],
   "source": [
    "data_df['InternetSpeed'] = data_df['InternetService'].apply(lambda x: 0 if x == 'No' else 10 if x == 'DSL' else 150)"
   ]
  },
  {
   "cell_type": "markdown",
   "id": "ee5c0c2f",
   "metadata": {},
   "source": [
    "# Encoding Categorical Features"
   ]
  },
  {
   "cell_type": "code",
   "execution_count": 44,
   "id": "cd308032",
   "metadata": {},
   "outputs": [
    {
     "name": "stdout",
     "output_type": "stream",
     "text": [
      "(7040, 42)\n"
     ]
    }
   ],
   "source": [
    "encoded_data_df = encode_categorical_features(data_df)"
   ]
  },
  {
   "cell_type": "code",
   "execution_count": 45,
   "id": "a272fdd0",
   "metadata": {},
   "outputs": [],
   "source": [
    "cols_to_drop = ['OnlineSecurity_No internet service', 'OnlineBackup_No internet service', 'OnlineBackup_No internet service', \n",
    "               'DeviceProtection_No internet service', 'TechSupport_No internet service', 'StreamingTV_No internet service', 'StreamingMovies_No internet service']\n",
    "encoded_data_df = encoded_data_df.drop(cols_to_drop, axis=1)"
   ]
  },
  {
   "cell_type": "code",
   "execution_count": 46,
   "id": "cb818cdb",
   "metadata": {},
   "outputs": [
    {
     "data": {
      "text/html": [
       "<div>\n",
       "<style scoped>\n",
       "    .dataframe tbody tr th:only-of-type {\n",
       "        vertical-align: middle;\n",
       "    }\n",
       "\n",
       "    .dataframe tbody tr th {\n",
       "        vertical-align: top;\n",
       "    }\n",
       "\n",
       "    .dataframe thead th {\n",
       "        text-align: right;\n",
       "    }\n",
       "</style>\n",
       "<table border=\"1\" class=\"dataframe\">\n",
       "  <thead>\n",
       "    <tr style=\"text-align: right;\">\n",
       "      <th></th>\n",
       "      <th>gender</th>\n",
       "      <th>SeniorCitizen</th>\n",
       "      <th>Partner</th>\n",
       "      <th>Dependents</th>\n",
       "      <th>tenure</th>\n",
       "      <th>PhoneService</th>\n",
       "      <th>PaperlessBilling</th>\n",
       "      <th>MonthlyCharges</th>\n",
       "      <th>TotalCharges</th>\n",
       "      <th>Churn</th>\n",
       "      <th>InternetSpeed</th>\n",
       "      <th>MultipleLines_No</th>\n",
       "      <th>MultipleLines_No phone service</th>\n",
       "      <th>MultipleLines_Yes</th>\n",
       "      <th>InternetService_DSL</th>\n",
       "      <th>InternetService_Fiber optic</th>\n",
       "      <th>InternetService_No</th>\n",
       "      <th>OnlineSecurity_No</th>\n",
       "      <th>OnlineSecurity_Yes</th>\n",
       "      <th>OnlineBackup_No</th>\n",
       "      <th>OnlineBackup_Yes</th>\n",
       "      <th>DeviceProtection_No</th>\n",
       "      <th>DeviceProtection_Yes</th>\n",
       "      <th>TechSupport_No</th>\n",
       "      <th>TechSupport_Yes</th>\n",
       "      <th>StreamingTV_No</th>\n",
       "      <th>StreamingTV_Yes</th>\n",
       "      <th>StreamingMovies_No</th>\n",
       "      <th>StreamingMovies_Yes</th>\n",
       "      <th>Contract_Month-to-month</th>\n",
       "      <th>Contract_One year</th>\n",
       "      <th>Contract_Two year</th>\n",
       "      <th>PaymentMethod_Bank transfer (automatic)</th>\n",
       "      <th>PaymentMethod_Credit card (automatic)</th>\n",
       "      <th>PaymentMethod_Electronic check</th>\n",
       "      <th>PaymentMethod_Mailed check</th>\n",
       "    </tr>\n",
       "  </thead>\n",
       "  <tbody>\n",
       "    <tr>\n",
       "      <th>0</th>\n",
       "      <td>1</td>\n",
       "      <td>0</td>\n",
       "      <td>1</td>\n",
       "      <td>0</td>\n",
       "      <td>1.0</td>\n",
       "      <td>0</td>\n",
       "      <td>1</td>\n",
       "      <td>29.85</td>\n",
       "      <td>29.85</td>\n",
       "      <td>0</td>\n",
       "      <td>10</td>\n",
       "      <td>0</td>\n",
       "      <td>1</td>\n",
       "      <td>0</td>\n",
       "      <td>1</td>\n",
       "      <td>0</td>\n",
       "      <td>0</td>\n",
       "      <td>1</td>\n",
       "      <td>0</td>\n",
       "      <td>0</td>\n",
       "      <td>1</td>\n",
       "      <td>1</td>\n",
       "      <td>0</td>\n",
       "      <td>1</td>\n",
       "      <td>0</td>\n",
       "      <td>1</td>\n",
       "      <td>0</td>\n",
       "      <td>1</td>\n",
       "      <td>0</td>\n",
       "      <td>1</td>\n",
       "      <td>0</td>\n",
       "      <td>0</td>\n",
       "      <td>0</td>\n",
       "      <td>0</td>\n",
       "      <td>1</td>\n",
       "      <td>0</td>\n",
       "    </tr>\n",
       "    <tr>\n",
       "      <th>1</th>\n",
       "      <td>0</td>\n",
       "      <td>0</td>\n",
       "      <td>0</td>\n",
       "      <td>0</td>\n",
       "      <td>34.0</td>\n",
       "      <td>1</td>\n",
       "      <td>0</td>\n",
       "      <td>56.95</td>\n",
       "      <td>1889.50</td>\n",
       "      <td>0</td>\n",
       "      <td>10</td>\n",
       "      <td>1</td>\n",
       "      <td>0</td>\n",
       "      <td>0</td>\n",
       "      <td>1</td>\n",
       "      <td>0</td>\n",
       "      <td>0</td>\n",
       "      <td>0</td>\n",
       "      <td>1</td>\n",
       "      <td>1</td>\n",
       "      <td>0</td>\n",
       "      <td>0</td>\n",
       "      <td>1</td>\n",
       "      <td>1</td>\n",
       "      <td>0</td>\n",
       "      <td>1</td>\n",
       "      <td>0</td>\n",
       "      <td>1</td>\n",
       "      <td>0</td>\n",
       "      <td>0</td>\n",
       "      <td>1</td>\n",
       "      <td>0</td>\n",
       "      <td>0</td>\n",
       "      <td>0</td>\n",
       "      <td>0</td>\n",
       "      <td>1</td>\n",
       "    </tr>\n",
       "    <tr>\n",
       "      <th>2</th>\n",
       "      <td>0</td>\n",
       "      <td>0</td>\n",
       "      <td>0</td>\n",
       "      <td>0</td>\n",
       "      <td>2.0</td>\n",
       "      <td>1</td>\n",
       "      <td>1</td>\n",
       "      <td>53.85</td>\n",
       "      <td>108.15</td>\n",
       "      <td>1</td>\n",
       "      <td>10</td>\n",
       "      <td>1</td>\n",
       "      <td>0</td>\n",
       "      <td>0</td>\n",
       "      <td>1</td>\n",
       "      <td>0</td>\n",
       "      <td>0</td>\n",
       "      <td>0</td>\n",
       "      <td>1</td>\n",
       "      <td>0</td>\n",
       "      <td>1</td>\n",
       "      <td>1</td>\n",
       "      <td>0</td>\n",
       "      <td>1</td>\n",
       "      <td>0</td>\n",
       "      <td>1</td>\n",
       "      <td>0</td>\n",
       "      <td>1</td>\n",
       "      <td>0</td>\n",
       "      <td>1</td>\n",
       "      <td>0</td>\n",
       "      <td>0</td>\n",
       "      <td>0</td>\n",
       "      <td>0</td>\n",
       "      <td>0</td>\n",
       "      <td>1</td>\n",
       "    </tr>\n",
       "    <tr>\n",
       "      <th>3</th>\n",
       "      <td>0</td>\n",
       "      <td>0</td>\n",
       "      <td>0</td>\n",
       "      <td>0</td>\n",
       "      <td>45.0</td>\n",
       "      <td>0</td>\n",
       "      <td>0</td>\n",
       "      <td>42.30</td>\n",
       "      <td>1840.75</td>\n",
       "      <td>0</td>\n",
       "      <td>10</td>\n",
       "      <td>0</td>\n",
       "      <td>1</td>\n",
       "      <td>0</td>\n",
       "      <td>1</td>\n",
       "      <td>0</td>\n",
       "      <td>0</td>\n",
       "      <td>0</td>\n",
       "      <td>1</td>\n",
       "      <td>1</td>\n",
       "      <td>0</td>\n",
       "      <td>0</td>\n",
       "      <td>1</td>\n",
       "      <td>0</td>\n",
       "      <td>1</td>\n",
       "      <td>1</td>\n",
       "      <td>0</td>\n",
       "      <td>1</td>\n",
       "      <td>0</td>\n",
       "      <td>0</td>\n",
       "      <td>1</td>\n",
       "      <td>0</td>\n",
       "      <td>1</td>\n",
       "      <td>0</td>\n",
       "      <td>0</td>\n",
       "      <td>0</td>\n",
       "    </tr>\n",
       "    <tr>\n",
       "      <th>4</th>\n",
       "      <td>1</td>\n",
       "      <td>0</td>\n",
       "      <td>0</td>\n",
       "      <td>0</td>\n",
       "      <td>2.0</td>\n",
       "      <td>1</td>\n",
       "      <td>1</td>\n",
       "      <td>70.70</td>\n",
       "      <td>151.65</td>\n",
       "      <td>1</td>\n",
       "      <td>150</td>\n",
       "      <td>1</td>\n",
       "      <td>0</td>\n",
       "      <td>0</td>\n",
       "      <td>0</td>\n",
       "      <td>1</td>\n",
       "      <td>0</td>\n",
       "      <td>1</td>\n",
       "      <td>0</td>\n",
       "      <td>1</td>\n",
       "      <td>0</td>\n",
       "      <td>1</td>\n",
       "      <td>0</td>\n",
       "      <td>1</td>\n",
       "      <td>0</td>\n",
       "      <td>1</td>\n",
       "      <td>0</td>\n",
       "      <td>1</td>\n",
       "      <td>0</td>\n",
       "      <td>1</td>\n",
       "      <td>0</td>\n",
       "      <td>0</td>\n",
       "      <td>0</td>\n",
       "      <td>0</td>\n",
       "      <td>1</td>\n",
       "      <td>0</td>\n",
       "    </tr>\n",
       "  </tbody>\n",
       "</table>\n",
       "</div>"
      ],
      "text/plain": [
       "   gender  SeniorCitizen  Partner  Dependents  tenure  PhoneService  \\\n",
       "0       1              0        1           0     1.0             0   \n",
       "1       0              0        0           0    34.0             1   \n",
       "2       0              0        0           0     2.0             1   \n",
       "3       0              0        0           0    45.0             0   \n",
       "4       1              0        0           0     2.0             1   \n",
       "\n",
       "   PaperlessBilling  MonthlyCharges  TotalCharges  Churn  InternetSpeed  \\\n",
       "0                 1           29.85         29.85      0             10   \n",
       "1                 0           56.95       1889.50      0             10   \n",
       "2                 1           53.85        108.15      1             10   \n",
       "3                 0           42.30       1840.75      0             10   \n",
       "4                 1           70.70        151.65      1            150   \n",
       "\n",
       "   MultipleLines_No  MultipleLines_No phone service  MultipleLines_Yes  \\\n",
       "0                 0                               1                  0   \n",
       "1                 1                               0                  0   \n",
       "2                 1                               0                  0   \n",
       "3                 0                               1                  0   \n",
       "4                 1                               0                  0   \n",
       "\n",
       "   InternetService_DSL  InternetService_Fiber optic  InternetService_No  \\\n",
       "0                    1                            0                   0   \n",
       "1                    1                            0                   0   \n",
       "2                    1                            0                   0   \n",
       "3                    1                            0                   0   \n",
       "4                    0                            1                   0   \n",
       "\n",
       "   OnlineSecurity_No  OnlineSecurity_Yes  OnlineBackup_No  OnlineBackup_Yes  \\\n",
       "0                  1                   0                0                 1   \n",
       "1                  0                   1                1                 0   \n",
       "2                  0                   1                0                 1   \n",
       "3                  0                   1                1                 0   \n",
       "4                  1                   0                1                 0   \n",
       "\n",
       "   DeviceProtection_No  DeviceProtection_Yes  TechSupport_No  TechSupport_Yes  \\\n",
       "0                    1                     0               1                0   \n",
       "1                    0                     1               1                0   \n",
       "2                    1                     0               1                0   \n",
       "3                    0                     1               0                1   \n",
       "4                    1                     0               1                0   \n",
       "\n",
       "   StreamingTV_No  StreamingTV_Yes  StreamingMovies_No  StreamingMovies_Yes  \\\n",
       "0               1                0                   1                    0   \n",
       "1               1                0                   1                    0   \n",
       "2               1                0                   1                    0   \n",
       "3               1                0                   1                    0   \n",
       "4               1                0                   1                    0   \n",
       "\n",
       "   Contract_Month-to-month  Contract_One year  Contract_Two year  \\\n",
       "0                        1                  0                  0   \n",
       "1                        0                  1                  0   \n",
       "2                        1                  0                  0   \n",
       "3                        0                  1                  0   \n",
       "4                        1                  0                  0   \n",
       "\n",
       "   PaymentMethod_Bank transfer (automatic)  \\\n",
       "0                                        0   \n",
       "1                                        0   \n",
       "2                                        0   \n",
       "3                                        1   \n",
       "4                                        0   \n",
       "\n",
       "   PaymentMethod_Credit card (automatic)  PaymentMethod_Electronic check  \\\n",
       "0                                      0                               1   \n",
       "1                                      0                               0   \n",
       "2                                      0                               0   \n",
       "3                                      0                               0   \n",
       "4                                      0                               1   \n",
       "\n",
       "   PaymentMethod_Mailed check  \n",
       "0                           0  \n",
       "1                           1  \n",
       "2                           1  \n",
       "3                           0  \n",
       "4                           0  "
      ]
     },
     "execution_count": 46,
     "metadata": {},
     "output_type": "execute_result"
    }
   ],
   "source": [
    "encoded_data_df.head(5)"
   ]
  },
  {
   "cell_type": "markdown",
   "id": "abffabe2",
   "metadata": {},
   "source": [
    "# Splitting Datasets into Training/Validation/Test"
   ]
  },
  {
   "cell_type": "markdown",
   "id": "4b9dc6fe",
   "metadata": {},
   "source": [
    "<img src='img/Screen Shot 2021-09-18 at 11.45.26 am.png' width=800 align='left'>"
   ]
  },
  {
   "cell_type": "markdown",
   "id": "0c871f15",
   "metadata": {},
   "source": [
    "we use a sklearn function for the split and do not forget shuffling your data before splitting to make sure your observations are evenly distributed across train and test."
   ]
  },
  {
   "cell_type": "code",
   "execution_count": 47,
   "id": "b7e0a074",
   "metadata": {},
   "outputs": [],
   "source": [
    "from sklearn.model_selection import train_test_split\n",
    "train_df, test_df = train_test_split(encoded_data_df, test_size=0.2, shuffle=True)"
   ]
  },
  {
   "cell_type": "code",
   "execution_count": 48,
   "id": "8c2fb490",
   "metadata": {},
   "outputs": [
    {
     "name": "stdout",
     "output_type": "stream",
     "text": [
      "(5632, 36)\n",
      "(1408, 36)\n"
     ]
    }
   ],
   "source": [
    "print(train_df.shape)\n",
    "print(test_df.shape)"
   ]
  },
  {
   "cell_type": "markdown",
   "id": "40c31df4",
   "metadata": {},
   "source": [
    "We now separate our features from the target/label in preparation for training"
   ]
  },
  {
   "cell_type": "code",
   "execution_count": 49,
   "id": "91d558a9",
   "metadata": {},
   "outputs": [],
   "source": [
    "train_y = train_df['Churn'].copy()\n",
    "train_x = train_df.drop('Churn', axis=1)\n",
    "\n",
    "test_y = test_df['Churn'].copy()\n",
    "test_x = test_df.drop('Churn', axis=1)"
   ]
  },
  {
   "cell_type": "markdown",
   "id": "2a7a2044",
   "metadata": {},
   "source": [
    "# Decision trees & XGBoost - (This will be covered in details during the Thursday Tabular ML session)"
   ]
  },
  {
   "cell_type": "markdown",
   "id": "4ab13877",
   "metadata": {},
   "source": [
    "<img src='img/Screen Shot 2021-09-19 at 5.54.23 pm.png' width=800 align='left'>"
   ]
  },
  {
   "cell_type": "markdown",
   "id": "3d455014",
   "metadata": {},
   "source": [
    "# Training your model with XGBoost\n",
    "XGBoost documentation:</br>\n",
    "https://xgboost.readthedocs.io/en/latest/python/python_api.html"
   ]
  },
  {
   "cell_type": "code",
   "execution_count": 50,
   "id": "dd481a5c",
   "metadata": {},
   "outputs": [
    {
     "name": "stdout",
     "output_type": "stream",
     "text": [
      "Looking in indexes: https://pypi.org/simple, https://pip.repos.neuron.amazonaws.com\n",
      "Requirement already satisfied: xgboost in /home/ec2-user/anaconda3/envs/python3/lib/python3.6/site-packages (1.4.2)\n",
      "Requirement already satisfied: numpy in /home/ec2-user/anaconda3/envs/python3/lib/python3.6/site-packages (from xgboost) (1.19.5)\n",
      "Requirement already satisfied: scipy in /home/ec2-user/anaconda3/envs/python3/lib/python3.6/site-packages (from xgboost) (1.5.3)\n"
     ]
    }
   ],
   "source": [
    "!pip install xgboost"
   ]
  },
  {
   "cell_type": "markdown",
   "id": "59f8bd9b",
   "metadata": {},
   "source": [
    "</br>\n",
    "The default objective for XGBoost is 'binary:logistic' which is for binary classification.</br>\n",
    "Note that you should use 'multi:softprob' when solving a multiclass problem."
   ]
  },
  {
   "cell_type": "code",
   "execution_count": null,
   "id": "7a6e5498",
   "metadata": {},
   "outputs": [],
   "source": []
  },
  {
   "cell_type": "code",
   "execution_count": 51,
   "id": "96a968d5",
   "metadata": {},
   "outputs": [
    {
     "name": "stdout",
     "output_type": "stream",
     "text": [
      "[0]\tvalidation_0-aucpr:0.65914\n",
      "[1]\tvalidation_0-aucpr:0.66048\n",
      "[2]\tvalidation_0-aucpr:0.65899\n",
      "[3]\tvalidation_0-aucpr:0.66246\n",
      "[4]\tvalidation_0-aucpr:0.67063\n",
      "[5]\tvalidation_0-aucpr:0.67213\n",
      "[6]\tvalidation_0-aucpr:0.66791\n",
      "[7]\tvalidation_0-aucpr:0.67249\n",
      "[8]\tvalidation_0-aucpr:0.67259\n",
      "[9]\tvalidation_0-aucpr:0.67385\n",
      "[10]\tvalidation_0-aucpr:0.67534\n",
      "[11]\tvalidation_0-aucpr:0.67398\n",
      "[12]\tvalidation_0-aucpr:0.67266\n",
      "[13]\tvalidation_0-aucpr:0.67514\n",
      "[14]\tvalidation_0-aucpr:0.67367\n",
      "[15]\tvalidation_0-aucpr:0.67481\n",
      "[16]\tvalidation_0-aucpr:0.67531\n",
      "[17]\tvalidation_0-aucpr:0.67489\n",
      "[18]\tvalidation_0-aucpr:0.67442\n",
      "[19]\tvalidation_0-aucpr:0.67327\n"
     ]
    }
   ],
   "source": [
    "import xgboost as xgb\n",
    "\n",
    "#scale_pos_weight is our way to put more weight on positive observations to help with unbalanced datasets. We basicall tell the algorithm to focus more on the observations that are positive.\n",
    "#sum(negative instances) / sum(positive instances)\n",
    "scale_pos_weight = encoded_data_df['Churn'].value_counts()[0]/encoded_data_df['Churn'].value_counts()[1]\n",
    "\n",
    "eval_set = [(test_x, test_y)]\n",
    "xgbClassifier = xgb.XGBClassifier(objective=\"binary:logistic\", \n",
    "                                  random_state=33, \n",
    "                                  n_estimators=50, \n",
    "                                  max_depth=4, \n",
    "                                  learning_rate=0.3, \n",
    "                                  min_child_weight=2, \n",
    "                                  scale_pos_weight=scale_pos_weight)\n",
    "fit_model = xgbClassifier.fit(train_x, train_y, eval_set=eval_set, eval_metric=\"aucpr\", verbose=True, early_stopping_rounds=10)"
   ]
  },
  {
   "cell_type": "markdown",
   "id": "3e82964f",
   "metadata": {},
   "source": [
    "We generate predictions for the train dataset to see how it fitted the training data"
   ]
  },
  {
   "cell_type": "code",
   "execution_count": 52,
   "id": "d409c1cf",
   "metadata": {},
   "outputs": [],
   "source": [
    "pred_train_y = xgbClassifier.predict(train_x)"
   ]
  },
  {
   "cell_type": "markdown",
   "id": "85cacf90",
   "metadata": {},
   "source": [
    "We generate predictions for the test dataset"
   ]
  },
  {
   "cell_type": "code",
   "execution_count": 53,
   "id": "5a70c242",
   "metadata": {},
   "outputs": [],
   "source": [
    "pred_test_y = xgbClassifier.predict(test_x)"
   ]
  },
  {
   "cell_type": "markdown",
   "id": "a19a99e1",
   "metadata": {},
   "source": [
    "# Model Evaluation"
   ]
  },
  {
   "cell_type": "markdown",
   "id": "38b61805",
   "metadata": {},
   "source": [
    "You can use plot_important to understand which features are especially important.</br>\n",
    "By default, this method calculate \"importance\" based on the ”weight”. The weight is the number of times a feature appears in a tree."
   ]
  },
  {
   "cell_type": "code",
   "execution_count": 54,
   "id": "3e9f0d6e",
   "metadata": {},
   "outputs": [
    {
     "data": {
      "image/png": "[encoded data removed]",
      "text/plain": [
       "<Figure size 432x288 with 1 Axes>"
      ]
     },
     "metadata": {
      "needs_background": "light"
     },
     "output_type": "display_data"
    }
   ],
   "source": [
    "xgb.plot_importance(fit_model,max_num_features=20)\n",
    "plt.rcParams[\"figure.figsize\"] = (5,10)\n",
    "plt.show()"
   ]
  },
  {
   "cell_type": "code",
   "execution_count": 55,
   "id": "0276b120",
   "metadata": {},
   "outputs": [
    {
     "name": "stdout",
     "output_type": "stream",
     "text": [
      "Looking in indexes: https://pypi.org/simple, https://pip.repos.neuron.amazonaws.com\n",
      "Requirement already satisfied: graphviz in /home/ec2-user/anaconda3/envs/python3/lib/python3.6/site-packages (0.17)\n"
     ]
    }
   ],
   "source": [
    "!pip install graphviz"
   ]
  },
  {
   "cell_type": "code",
   "execution_count": 56,
   "id": "0fc7d39d",
   "metadata": {},
   "outputs": [
    {
     "data": {
      "image/svg+xml": [
       "<?xml version=\"1.0\" encoding=\"UTF-8\" standalone=\"no\"?>\n",
       "<!DOCTYPE svg PUBLIC \"-//W3C//DTD SVG 1.1//EN\"\n",
       " \"http://www.w3.org/Graphics/SVG/1.1/DTD/svg11.dtd\">\n",
       "<!-- Generated by graphviz version 2.46.1 (20210222.2046)\n",
       " -->\n",
       "<!-- Pages: 1 -->\n",
       "<svg width=\"1955pt\" height=\"854pt\"\n",
       " viewBox=\"0.00 0.00 1954.77 854.00\" xmlns=\"http://www.w3.org/2000/svg\" xmlns:xlink=\"http://www.w3.org/1999/xlink\">\n",
       "<g id=\"graph0\" class=\"graph\" transform=\"scale(1 1) rotate(0) translate(4 850)\">\n",
       "<polygon fill=\"white\" stroke=\"transparent\" points=\"-4,4 -4,-850 1950.77,-850 1950.77,4 -4,4\"/>\n",
       "<!-- 0 -->\n",
       "<g id=\"node1\" class=\"node\">\n",
       "<title>0</title>\n",
       "<ellipse fill=\"none\" stroke=\"black\" cx=\"152.74\" cy=\"-458\" rx=\"152.97\" ry=\"18\"/>\n",
       "<text text-anchor=\"middle\" x=\"152.74\" y=\"-454.3\" font-family=\"Times-Roman\" font-size=\"14.00\">Contract_Month&#45;to&#45;month&lt;0.5</text>\n",
       "</g>\n",
       "<!-- 1 -->\n",
       "<g id=\"node2\" class=\"node\">\n",
       "<title>1</title>\n",
       "<ellipse fill=\"none\" stroke=\"black\" cx=\"579.96\" cy=\"-543\" rx=\"149.47\" ry=\"18\"/>\n",
       "<text text-anchor=\"middle\" x=\"579.96\" y=\"-539.3\" font-family=\"Times-Roman\" font-size=\"14.00\">MonthlyCharges&lt;93.6750031</text>\n",
       "</g>\n",
       "<!-- 0&#45;&gt;1 -->\n",
       "<g id=\"edge1\" class=\"edge\">\n",
       "<title>0&#45;&gt;1</title>\n",
       "<path fill=\"none\" stroke=\"#0000ff\" d=\"M231.23,-473.49C304.83,-488.2 415.29,-510.28 491.89,-525.59\"/>\n",
       "<polygon fill=\"#0000ff\" stroke=\"#0000ff\" points=\"491.5,-529.09 501.99,-527.62 492.87,-522.22 491.5,-529.09\"/>\n",
       "<text text-anchor=\"middle\" x=\"367.97\" y=\"-511.8\" font-family=\"Times-Roman\" font-size=\"14.00\">yes, missing</text>\n",
       "</g>\n",
       "<!-- 2 -->\n",
       "<g id=\"node3\" class=\"node\">\n",
       "<title>2</title>\n",
       "<ellipse fill=\"none\" stroke=\"black\" cx=\"579.96\" cy=\"-323\" rx=\"96.68\" ry=\"18\"/>\n",
       "<text text-anchor=\"middle\" x=\"579.96\" y=\"-319.3\" font-family=\"Times-Roman\" font-size=\"14.00\">InternetSpeed&lt;80</text>\n",
       "</g>\n",
       "<!-- 0&#45;&gt;2 -->\n",
       "<g id=\"edge2\" class=\"edge\">\n",
       "<title>0&#45;&gt;2</title>\n",
       "<path fill=\"none\" stroke=\"#ff0000\" d=\"M207.16,-441.04C287.11,-415.66 437.33,-367.96 520.26,-341.64\"/>\n",
       "<polygon fill=\"#ff0000\" stroke=\"#ff0000\" points=\"521.55,-344.9 530.03,-338.54 519.44,-338.23 521.55,-344.9\"/>\n",
       "<text text-anchor=\"middle\" x=\"367.97\" y=\"-405.8\" font-family=\"Times-Roman\" font-size=\"14.00\">no</text>\n",
       "</g>\n",
       "<!-- 3 -->\n",
       "<g id=\"node4\" class=\"node\">\n",
       "<title>3</title>\n",
       "<ellipse fill=\"none\" stroke=\"black\" cx=\"974.69\" cy=\"-693\" rx=\"120.48\" ry=\"18\"/>\n",
       "<text text-anchor=\"middle\" x=\"974.69\" y=\"-689.3\" font-family=\"Times-Roman\" font-size=\"14.00\">Contract_One year&lt;0.5</text>\n",
       "</g>\n",
       "<!-- 1&#45;&gt;3 -->\n",
       "<g id=\"edge3\" class=\"edge\">\n",
       "<title>1&#45;&gt;3</title>\n",
       "<path fill=\"none\" stroke=\"#0000ff\" d=\"M626.01,-560.21C698.85,-588.03 842.18,-642.77 920.13,-672.54\"/>\n",
       "<polygon fill=\"#0000ff\" stroke=\"#0000ff\" points=\"919.17,-675.92 929.76,-676.22 921.67,-669.39 919.17,-675.92\"/>\n",
       "<text text-anchor=\"middle\" x=\"791.95\" y=\"-643.8\" font-family=\"Times-Roman\" font-size=\"14.00\">yes, missing</text>\n",
       "</g>\n",
       "<!-- 4 -->\n",
       "<g id=\"node5\" class=\"node\">\n",
       "<title>4</title>\n",
       "<ellipse fill=\"none\" stroke=\"black\" cx=\"974.69\" cy=\"-543\" rx=\"120.48\" ry=\"18\"/>\n",
       "<text text-anchor=\"middle\" x=\"974.69\" y=\"-539.3\" font-family=\"Times-Roman\" font-size=\"14.00\">Contract_One year&lt;0.5</text>\n",
       "</g>\n",
       "<!-- 1&#45;&gt;4 -->\n",
       "<g id=\"edge4\" class=\"edge\">\n",
       "<title>1&#45;&gt;4</title>\n",
       "<path fill=\"none\" stroke=\"#ff0000\" d=\"M729.71,-543C767.32,-543 807.4,-543 843.98,-543\"/>\n",
       "<polygon fill=\"#ff0000\" stroke=\"#ff0000\" points=\"844.2,-546.5 854.2,-543 844.2,-539.5 844.2,-546.5\"/>\n",
       "<text text-anchor=\"middle\" x=\"791.95\" y=\"-546.8\" font-family=\"Times-Roman\" font-size=\"14.00\">no</text>\n",
       "</g>\n",
       "<!-- 5 -->\n",
       "<g id=\"node18\" class=\"node\">\n",
       "<title>5</title>\n",
       "<ellipse fill=\"none\" stroke=\"black\" cx=\"974.69\" cy=\"-323\" rx=\"63.89\" ry=\"18\"/>\n",
       "<text text-anchor=\"middle\" x=\"974.69\" y=\"-319.3\" font-family=\"Times-Roman\" font-size=\"14.00\">tenure&lt;5.5</text>\n",
       "</g>\n",
       "<!-- 2&#45;&gt;5 -->\n",
       "<g id=\"edge17\" class=\"edge\">\n",
       "<title>2&#45;&gt;5</title>\n",
       "<path fill=\"none\" stroke=\"#0000ff\" d=\"M677.03,-323C745.97,-323 837.46,-323 900.52,-323\"/>\n",
       "<polygon fill=\"#0000ff\" stroke=\"#0000ff\" points=\"900.77,-326.5 910.77,-323 900.77,-319.5 900.77,-326.5\"/>\n",
       "<text text-anchor=\"middle\" x=\"791.95\" y=\"-326.8\" font-family=\"Times-Roman\" font-size=\"14.00\">yes, missing</text>\n",
       "</g>\n",
       "<!-- 6 -->\n",
       "<g id=\"node19\" class=\"node\">\n",
       "<title>6</title>\n",
       "<ellipse fill=\"none\" stroke=\"black\" cx=\"974.69\" cy=\"-163\" rx=\"69.59\" ry=\"18\"/>\n",
       "<text text-anchor=\"middle\" x=\"974.69\" y=\"-159.3\" font-family=\"Times-Roman\" font-size=\"14.00\">tenure&lt;15.5</text>\n",
       "</g>\n",
       "<!-- 2&#45;&gt;6 -->\n",
       "<g id=\"edge18\" class=\"edge\">\n",
       "<title>2&#45;&gt;6</title>\n",
       "<path fill=\"none\" stroke=\"#ff0000\" d=\"M621.14,-306.63C694.35,-276.8 849.07,-213.77 926.89,-182.06\"/>\n",
       "<polygon fill=\"#ff0000\" stroke=\"#ff0000\" points=\"928.51,-185.19 936.45,-178.17 925.86,-178.7 928.51,-185.19\"/>\n",
       "<text text-anchor=\"middle\" x=\"791.95\" y=\"-255.8\" font-family=\"Times-Roman\" font-size=\"14.00\">no</text>\n",
       "</g>\n",
       "<!-- 7 -->\n",
       "<g id=\"node6\" class=\"node\">\n",
       "<title>7</title>\n",
       "<ellipse fill=\"none\" stroke=\"black\" cx=\"1408.41\" cy=\"-774\" rx=\"149.47\" ry=\"18\"/>\n",
       "<text text-anchor=\"middle\" x=\"1408.41\" y=\"-770.3\" font-family=\"Times-Roman\" font-size=\"14.00\">MonthlyCharges&lt;92.4250031</text>\n",
       "</g>\n",
       "<!-- 3&#45;&gt;7 -->\n",
       "<g id=\"edge5\" class=\"edge\">\n",
       "<title>3&#45;&gt;7</title>\n",
       "<path fill=\"none\" stroke=\"#0000ff\" d=\"M1050.39,-707.02C1124.34,-720.89 1237.63,-742.15 1316.7,-756.98\"/>\n",
       "<polygon fill=\"#0000ff\" stroke=\"#0000ff\" points=\"1316.18,-760.44 1326.66,-758.85 1317.47,-753.56 1316.18,-760.44\"/>\n",
       "<text text-anchor=\"middle\" x=\"1157.43\" y=\"-736.8\" font-family=\"Times-Roman\" font-size=\"14.00\">yes, missing</text>\n",
       "</g>\n",
       "<!-- 8 -->\n",
       "<g id=\"node7\" class=\"node\">\n",
       "<title>8</title>\n",
       "<ellipse fill=\"none\" stroke=\"black\" cx=\"1408.41\" cy=\"-693\" rx=\"133.78\" ry=\"18\"/>\n",
       "<text text-anchor=\"middle\" x=\"1408.41\" y=\"-689.3\" font-family=\"Times-Roman\" font-size=\"14.00\">StreamingMovies_Yes&lt;0.5</text>\n",
       "</g>\n",
       "<!-- 3&#45;&gt;8 -->\n",
       "<g id=\"edge6\" class=\"edge\">\n",
       "<title>3&#45;&gt;8</title>\n",
       "<path fill=\"none\" stroke=\"#ff0000\" d=\"M1095.08,-693C1147.48,-693 1209.41,-693 1264.26,-693\"/>\n",
       "<polygon fill=\"#ff0000\" stroke=\"#ff0000\" points=\"1264.41,-696.5 1274.41,-693 1264.41,-689.5 1264.41,-696.5\"/>\n",
       "<text text-anchor=\"middle\" x=\"1157.43\" y=\"-696.8\" font-family=\"Times-Roman\" font-size=\"14.00\">no</text>\n",
       "</g>\n",
       "<!-- 9 -->\n",
       "<g id=\"node12\" class=\"node\">\n",
       "<title>9</title>\n",
       "<ellipse fill=\"none\" stroke=\"black\" cx=\"1408.41\" cy=\"-558\" rx=\"149.47\" ry=\"18\"/>\n",
       "<text text-anchor=\"middle\" x=\"1408.41\" y=\"-554.3\" font-family=\"Times-Roman\" font-size=\"14.00\">MonthlyCharges&lt;94.1750031</text>\n",
       "</g>\n",
       "<!-- 4&#45;&gt;9 -->\n",
       "<g id=\"edge11\" class=\"edge\">\n",
       "<title>4&#45;&gt;9</title>\n",
       "<path fill=\"none\" stroke=\"#0000ff\" d=\"M1091.95,-547.04C1141.81,-548.77 1200.74,-550.82 1254.1,-552.67\"/>\n",
       "<polygon fill=\"#0000ff\" stroke=\"#0000ff\" points=\"1254.23,-556.18 1264.34,-553.03 1254.47,-549.18 1254.23,-556.18\"/>\n",
       "<text text-anchor=\"middle\" x=\"1157.43\" y=\"-553.8\" font-family=\"Times-Roman\" font-size=\"14.00\">yes, missing</text>\n",
       "</g>\n",
       "<!-- 10 -->\n",
       "<g id=\"node13\" class=\"node\">\n",
       "<title>10</title>\n",
       "<ellipse fill=\"none\" stroke=\"black\" cx=\"1408.41\" cy=\"-504\" rx=\"149.47\" ry=\"18\"/>\n",
       "<text text-anchor=\"middle\" x=\"1408.41\" y=\"-500.3\" font-family=\"Times-Roman\" font-size=\"14.00\">MonthlyCharges&lt;99.1750031</text>\n",
       "</g>\n",
       "<!-- 4&#45;&gt;10 -->\n",
       "<g id=\"edge12\" class=\"edge\">\n",
       "<title>4&#45;&gt;10</title>\n",
       "<path fill=\"none\" stroke=\"#ff0000\" d=\"M1071.26,-532.21C1085.23,-530.73 1099.44,-529.29 1112.93,-528 1164.52,-523.08 1221.26,-518.3 1271.05,-514.33\"/>\n",
       "<polygon fill=\"#ff0000\" stroke=\"#ff0000\" points=\"1271.54,-517.8 1281.23,-513.52 1270.99,-510.82 1271.54,-517.8\"/>\n",
       "<text text-anchor=\"middle\" x=\"1157.43\" y=\"-531.8\" font-family=\"Times-Roman\" font-size=\"14.00\">no</text>\n",
       "</g>\n",
       "<!-- 15 -->\n",
       "<g id=\"node8\" class=\"node\">\n",
       "<title>15</title>\n",
       "<ellipse fill=\"none\" stroke=\"black\" cx=\"1834.33\" cy=\"-828\" rx=\"100.98\" ry=\"18\"/>\n",
       "<text text-anchor=\"middle\" x=\"1834.33\" y=\"-824.3\" font-family=\"Times-Roman\" font-size=\"14.00\">leaf=&#45;0.553756356</text>\n",
       "</g>\n",
       "<!-- 7&#45;&gt;15 -->\n",
       "<g id=\"edge7\" class=\"edge\">\n",
       "<title>7&#45;&gt;15</title>\n",
       "<path fill=\"none\" stroke=\"#0000ff\" d=\"M1511.76,-787.04C1581.79,-795.96 1673.85,-807.68 1741.52,-816.3\"/>\n",
       "<polygon fill=\"#0000ff\" stroke=\"#0000ff\" points=\"1741.38,-819.81 1751.74,-817.61 1742.26,-812.87 1741.38,-819.81\"/>\n",
       "<text text-anchor=\"middle\" x=\"1659.39\" y=\"-813.8\" font-family=\"Times-Roman\" font-size=\"14.00\">yes, missing</text>\n",
       "</g>\n",
       "<!-- 16 -->\n",
       "<g id=\"node9\" class=\"node\">\n",
       "<title>16</title>\n",
       "<ellipse fill=\"none\" stroke=\"black\" cx=\"1834.33\" cy=\"-774\" rx=\"100.98\" ry=\"18\"/>\n",
       "<text text-anchor=\"middle\" x=\"1834.33\" y=\"-770.3\" font-family=\"Times-Roman\" font-size=\"14.00\">leaf=&#45;0.212527201</text>\n",
       "</g>\n",
       "<!-- 7&#45;&gt;16 -->\n",
       "<g id=\"edge8\" class=\"edge\">\n",
       "<title>7&#45;&gt;16</title>\n",
       "<path fill=\"none\" stroke=\"#ff0000\" d=\"M1557.97,-774C1612.34,-774 1672.84,-774 1723.25,-774\"/>\n",
       "<polygon fill=\"#ff0000\" stroke=\"#ff0000\" points=\"1723.52,-777.5 1733.52,-774 1723.52,-770.5 1723.52,-777.5\"/>\n",
       "<text text-anchor=\"middle\" x=\"1659.39\" y=\"-777.8\" font-family=\"Times-Roman\" font-size=\"14.00\">no</text>\n",
       "</g>\n",
       "<!-- 17 -->\n",
       "<g id=\"node10\" class=\"node\">\n",
       "<title>17</title>\n",
       "<ellipse fill=\"none\" stroke=\"black\" cx=\"1834.33\" cy=\"-720\" rx=\"100.98\" ry=\"18\"/>\n",
       "<text text-anchor=\"middle\" x=\"1834.33\" y=\"-716.3\" font-family=\"Times-Roman\" font-size=\"14.00\">leaf=&#45;0.465475291</text>\n",
       "</g>\n",
       "<!-- 8&#45;&gt;17 -->\n",
       "<g id=\"edge9\" class=\"edge\">\n",
       "<title>8&#45;&gt;17</title>\n",
       "<path fill=\"none\" stroke=\"#0000ff\" d=\"M1529.75,-700.66C1592.58,-704.67 1668.7,-709.51 1729,-713.36\"/>\n",
       "<polygon fill=\"#0000ff\" stroke=\"#0000ff\" points=\"1729.1,-716.87 1739.3,-714.01 1729.55,-709.88 1729.1,-716.87\"/>\n",
       "<text text-anchor=\"middle\" x=\"1659.39\" y=\"-714.8\" font-family=\"Times-Roman\" font-size=\"14.00\">yes, missing</text>\n",
       "</g>\n",
       "<!-- 18 -->\n",
       "<g id=\"node11\" class=\"node\">\n",
       "<title>18</title>\n",
       "<ellipse fill=\"none\" stroke=\"black\" cx=\"1834.33\" cy=\"-666\" rx=\"100.98\" ry=\"18\"/>\n",
       "<text text-anchor=\"middle\" x=\"1834.33\" y=\"-662.3\" font-family=\"Times-Roman\" font-size=\"14.00\">leaf=&#45;0.235902086</text>\n",
       "</g>\n",
       "<!-- 8&#45;&gt;18 -->\n",
       "<g id=\"edge10\" class=\"edge\">\n",
       "<title>8&#45;&gt;18</title>\n",
       "<path fill=\"none\" stroke=\"#ff0000\" d=\"M1529.75,-685.34C1592.58,-681.33 1668.7,-676.49 1729,-672.64\"/>\n",
       "<polygon fill=\"#ff0000\" stroke=\"#ff0000\" points=\"1729.55,-676.12 1739.3,-671.99 1729.1,-669.13 1729.55,-676.12\"/>\n",
       "<text text-anchor=\"middle\" x=\"1659.39\" y=\"-682.8\" font-family=\"Times-Roman\" font-size=\"14.00\">no</text>\n",
       "</g>\n",
       "<!-- 19 -->\n",
       "<g id=\"node14\" class=\"node\">\n",
       "<title>19</title>\n",
       "<ellipse fill=\"none\" stroke=\"black\" cx=\"1834.33\" cy=\"-612\" rx=\"97.48\" ry=\"18\"/>\n",
       "<text text-anchor=\"middle\" x=\"1834.33\" y=\"-608.3\" font-family=\"Times-Roman\" font-size=\"14.00\">leaf=0.264481366</text>\n",
       "</g>\n",
       "<!-- 9&#45;&gt;19 -->\n",
       "<g id=\"edge13\" class=\"edge\">\n",
       "<title>9&#45;&gt;19</title>\n",
       "<path fill=\"none\" stroke=\"#0000ff\" d=\"M1511.76,-571.04C1582.37,-580.03 1675.38,-591.88 1743.2,-600.52\"/>\n",
       "<polygon fill=\"#0000ff\" stroke=\"#0000ff\" points=\"1743.08,-604.03 1753.44,-601.82 1743.96,-597.09 1743.08,-604.03\"/>\n",
       "<text text-anchor=\"middle\" x=\"1659.39\" y=\"-597.8\" font-family=\"Times-Roman\" font-size=\"14.00\">yes, missing</text>\n",
       "</g>\n",
       "<!-- 20 -->\n",
       "<g id=\"node15\" class=\"node\">\n",
       "<title>20</title>\n",
       "<ellipse fill=\"none\" stroke=\"black\" cx=\"1834.33\" cy=\"-558\" rx=\"100.98\" ry=\"18\"/>\n",
       "<text text-anchor=\"middle\" x=\"1834.33\" y=\"-554.3\" font-family=\"Times-Roman\" font-size=\"14.00\">leaf=&#45;0.390284687</text>\n",
       "</g>\n",
       "<!-- 9&#45;&gt;20 -->\n",
       "<g id=\"edge14\" class=\"edge\">\n",
       "<title>9&#45;&gt;20</title>\n",
       "<path fill=\"none\" stroke=\"#ff0000\" d=\"M1557.97,-558C1612.34,-558 1672.84,-558 1723.25,-558\"/>\n",
       "<polygon fill=\"#ff0000\" stroke=\"#ff0000\" points=\"1723.52,-561.5 1733.52,-558 1723.52,-554.5 1723.52,-561.5\"/>\n",
       "<text text-anchor=\"middle\" x=\"1659.39\" y=\"-561.8\" font-family=\"Times-Roman\" font-size=\"14.00\">no</text>\n",
       "</g>\n",
       "<!-- 21 -->\n",
       "<g id=\"node16\" class=\"node\">\n",
       "<title>21</title>\n",
       "<ellipse fill=\"none\" stroke=\"black\" cx=\"1834.33\" cy=\"-504\" rx=\"100.98\" ry=\"18\"/>\n",
       "<text text-anchor=\"middle\" x=\"1834.33\" y=\"-500.3\" font-family=\"Times-Roman\" font-size=\"14.00\">leaf=&#45;0.259702623</text>\n",
       "</g>\n",
       "<!-- 10&#45;&gt;21 -->\n",
       "<g id=\"edge15\" class=\"edge\">\n",
       "<title>10&#45;&gt;21</title>\n",
       "<path fill=\"none\" stroke=\"#0000ff\" d=\"M1557.97,-504C1612.34,-504 1672.84,-504 1723.25,-504\"/>\n",
       "<polygon fill=\"#0000ff\" stroke=\"#0000ff\" points=\"1723.52,-507.5 1733.52,-504 1723.52,-500.5 1723.52,-507.5\"/>\n",
       "<text text-anchor=\"middle\" x=\"1659.39\" y=\"-507.8\" font-family=\"Times-Roman\" font-size=\"14.00\">yes, missing</text>\n",
       "</g>\n",
       "<!-- 22 -->\n",
       "<g id=\"node17\" class=\"node\">\n",
       "<title>22</title>\n",
       "<ellipse fill=\"none\" stroke=\"black\" cx=\"1834.33\" cy=\"-450\" rx=\"112.38\" ry=\"18\"/>\n",
       "<text text-anchor=\"middle\" x=\"1834.33\" y=\"-446.3\" font-family=\"Times-Roman\" font-size=\"14.00\">leaf=&#45;0.00155872048</text>\n",
       "</g>\n",
       "<!-- 10&#45;&gt;22 -->\n",
       "<g id=\"edge16\" class=\"edge\">\n",
       "<title>10&#45;&gt;22</title>\n",
       "<path fill=\"none\" stroke=\"#ff0000\" d=\"M1511.76,-490.96C1579.81,-482.29 1668.66,-470.98 1735.72,-462.43\"/>\n",
       "<polygon fill=\"#ff0000\" stroke=\"#ff0000\" points=\"1736.39,-465.88 1745.87,-461.14 1735.5,-458.93 1736.39,-465.88\"/>\n",
       "<text text-anchor=\"middle\" x=\"1659.39\" y=\"-480.8\" font-family=\"Times-Roman\" font-size=\"14.00\">no</text>\n",
       "</g>\n",
       "<!-- 11 -->\n",
       "<g id=\"node20\" class=\"node\">\n",
       "<title>11</title>\n",
       "<ellipse fill=\"none\" stroke=\"black\" cx=\"1408.41\" cy=\"-342\" rx=\"108.58\" ry=\"18\"/>\n",
       "<text text-anchor=\"middle\" x=\"1408.41\" y=\"-338.3\" font-family=\"Times-Roman\" font-size=\"14.00\">TechSupport_No&lt;0.5</text>\n",
       "</g>\n",
       "<!-- 5&#45;&gt;11 -->\n",
       "<g id=\"edge19\" class=\"edge\">\n",
       "<title>5&#45;&gt;11</title>\n",
       "<path fill=\"none\" stroke=\"#0000ff\" d=\"M1038,-325.74C1104.51,-328.67 1211.34,-333.37 1293.04,-336.97\"/>\n",
       "<polygon fill=\"#0000ff\" stroke=\"#0000ff\" points=\"1293.24,-340.48 1303.39,-337.42 1293.55,-333.49 1293.24,-340.48\"/>\n",
       "<text text-anchor=\"middle\" x=\"1157.43\" y=\"-335.8\" font-family=\"Times-Roman\" font-size=\"14.00\">yes, missing</text>\n",
       "</g>\n",
       "<!-- 12 -->\n",
       "<g id=\"node21\" class=\"node\">\n",
       "<title>12</title>\n",
       "<ellipse fill=\"none\" stroke=\"black\" cx=\"1408.41\" cy=\"-288\" rx=\"114.28\" ry=\"18\"/>\n",
       "<text text-anchor=\"middle\" x=\"1408.41\" y=\"-284.3\" font-family=\"Times-Roman\" font-size=\"14.00\">OnlineBackup_No&lt;0.5</text>\n",
       "</g>\n",
       "<!-- 5&#45;&gt;12 -->\n",
       "<g id=\"edge20\" class=\"edge\">\n",
       "<title>5&#45;&gt;12</title>\n",
       "<path fill=\"none\" stroke=\"#ff0000\" d=\"M1035.11,-317.11C1059.25,-314.79 1087.41,-312.16 1112.93,-310 1172.44,-304.96 1238.77,-299.95 1293.39,-295.99\"/>\n",
       "<polygon fill=\"#ff0000\" stroke=\"#ff0000\" points=\"1293.73,-299.47 1303.45,-295.26 1293.22,-292.49 1293.73,-299.47\"/>\n",
       "<text text-anchor=\"middle\" x=\"1157.43\" y=\"-313.8\" font-family=\"Times-Roman\" font-size=\"14.00\">no</text>\n",
       "</g>\n",
       "<!-- 13 -->\n",
       "<g id=\"node26\" class=\"node\">\n",
       "<title>13</title>\n",
       "<ellipse fill=\"none\" stroke=\"black\" cx=\"1408.41\" cy=\"-163\" rx=\"96.68\" ry=\"18\"/>\n",
       "<text text-anchor=\"middle\" x=\"1408.41\" y=\"-159.3\" font-family=\"Times-Roman\" font-size=\"14.00\">TotalCharges&lt;120</text>\n",
       "</g>\n",
       "<!-- 6&#45;&gt;13 -->\n",
       "<g id=\"edge25\" class=\"edge\">\n",
       "<title>6&#45;&gt;13</title>\n",
       "<path fill=\"none\" stroke=\"#0000ff\" d=\"M1044.57,-163C1113.74,-163 1221.27,-163 1301.33,-163\"/>\n",
       "<polygon fill=\"#0000ff\" stroke=\"#0000ff\" points=\"1301.45,-166.5 1311.45,-163 1301.45,-159.5 1301.45,-166.5\"/>\n",
       "<text text-anchor=\"middle\" x=\"1157.43\" y=\"-166.8\" font-family=\"Times-Roman\" font-size=\"14.00\">yes, missing</text>\n",
       "</g>\n",
       "<!-- 14 -->\n",
       "<g id=\"node27\" class=\"node\">\n",
       "<title>14</title>\n",
       "<ellipse fill=\"none\" stroke=\"black\" cx=\"1408.41\" cy=\"-72\" rx=\"188.47\" ry=\"18\"/>\n",
       "<text text-anchor=\"middle\" x=\"1408.41\" y=\"-68.3\" font-family=\"Times-Roman\" font-size=\"14.00\">PaymentMethod_Electronic check&lt;0.5</text>\n",
       "</g>\n",
       "<!-- 6&#45;&gt;14 -->\n",
       "<g id=\"edge26\" class=\"edge\">\n",
       "<title>6&#45;&gt;14</title>\n",
       "<path fill=\"none\" stroke=\"#ff0000\" d=\"M1029.06,-151.75C1101.72,-136.43 1232.69,-108.83 1319.85,-90.46\"/>\n",
       "<polygon fill=\"#ff0000\" stroke=\"#ff0000\" points=\"1320.66,-93.86 1329.73,-88.37 1319.22,-87.01 1320.66,-93.86\"/>\n",
       "<text text-anchor=\"middle\" x=\"1157.43\" y=\"-136.8\" font-family=\"Times-Roman\" font-size=\"14.00\">no</text>\n",
       "</g>\n",
       "<!-- 23 -->\n",
       "<g id=\"node22\" class=\"node\">\n",
       "<title>23</title>\n",
       "<ellipse fill=\"none\" stroke=\"black\" cx=\"1834.33\" cy=\"-396\" rx=\"103.18\" ry=\"18\"/>\n",
       "<text text-anchor=\"middle\" x=\"1834.33\" y=\"-392.3\" font-family=\"Times-Roman\" font-size=\"14.00\">leaf=0.0421434008</text>\n",
       "</g>\n",
       "<!-- 11&#45;&gt;23 -->\n",
       "<g id=\"edge21\" class=\"edge\">\n",
       "<title>11&#45;&gt;23</title>\n",
       "<path fill=\"none\" stroke=\"#0000ff\" d=\"M1494.94,-352.9C1566.09,-361.96 1667.18,-374.84 1740.33,-384.15\"/>\n",
       "<polygon fill=\"#0000ff\" stroke=\"#0000ff\" points=\"1740.09,-387.65 1750.46,-385.44 1740.98,-380.71 1740.09,-387.65\"/>\n",
       "<text text-anchor=\"middle\" x=\"1659.39\" y=\"-381.8\" font-family=\"Times-Roman\" font-size=\"14.00\">yes, missing</text>\n",
       "</g>\n",
       "<!-- 24 -->\n",
       "<g id=\"node23\" class=\"node\">\n",
       "<title>24</title>\n",
       "<ellipse fill=\"none\" stroke=\"black\" cx=\"1834.33\" cy=\"-342\" rx=\"97.48\" ry=\"18\"/>\n",
       "<text text-anchor=\"middle\" x=\"1834.33\" y=\"-338.3\" font-family=\"Times-Roman\" font-size=\"14.00\">leaf=0.322539449</text>\n",
       "</g>\n",
       "<!-- 11&#45;&gt;24 -->\n",
       "<g id=\"edge22\" class=\"edge\">\n",
       "<title>11&#45;&gt;24</title>\n",
       "<path fill=\"none\" stroke=\"#ff0000\" d=\"M1517.2,-342C1581.35,-342 1662.44,-342 1726.43,-342\"/>\n",
       "<polygon fill=\"#ff0000\" stroke=\"#ff0000\" points=\"1726.55,-345.5 1736.55,-342 1726.55,-338.5 1726.55,-345.5\"/>\n",
       "<text text-anchor=\"middle\" x=\"1659.39\" y=\"-345.8\" font-family=\"Times-Roman\" font-size=\"14.00\">no</text>\n",
       "</g>\n",
       "<!-- 25 -->\n",
       "<g id=\"node24\" class=\"node\">\n",
       "<title>25</title>\n",
       "<ellipse fill=\"none\" stroke=\"black\" cx=\"1834.33\" cy=\"-288\" rx=\"100.98\" ry=\"18\"/>\n",
       "<text text-anchor=\"middle\" x=\"1834.33\" y=\"-284.3\" font-family=\"Times-Roman\" font-size=\"14.00\">leaf=&#45;0.251370996</text>\n",
       "</g>\n",
       "<!-- 12&#45;&gt;25 -->\n",
       "<g id=\"edge23\" class=\"edge\">\n",
       "<title>12&#45;&gt;25</title>\n",
       "<path fill=\"none\" stroke=\"#0000ff\" d=\"M1523.01,-288C1585.16,-288 1661.8,-288 1723.37,-288\"/>\n",
       "<polygon fill=\"#0000ff\" stroke=\"#0000ff\" points=\"1723.5,-291.5 1733.5,-288 1723.5,-284.5 1723.5,-291.5\"/>\n",
       "<text text-anchor=\"middle\" x=\"1659.39\" y=\"-291.8\" font-family=\"Times-Roman\" font-size=\"14.00\">yes, missing</text>\n",
       "</g>\n",
       "<!-- 26 -->\n",
       "<g id=\"node25\" class=\"node\">\n",
       "<title>26</title>\n",
       "<ellipse fill=\"none\" stroke=\"black\" cx=\"1834.33\" cy=\"-234\" rx=\"112.38\" ry=\"18\"/>\n",
       "<text text-anchor=\"middle\" x=\"1834.33\" y=\"-230.3\" font-family=\"Times-Roman\" font-size=\"14.00\">leaf=&#45;0.00355526176</text>\n",
       "</g>\n",
       "<!-- 12&#45;&gt;26 -->\n",
       "<g id=\"edge24\" class=\"edge\">\n",
       "<title>12&#45;&gt;26</title>\n",
       "<path fill=\"none\" stroke=\"#ff0000\" d=\"M1497.76,-276.75C1567.29,-267.89 1664.09,-255.56 1735.86,-246.42\"/>\n",
       "<polygon fill=\"#ff0000\" stroke=\"#ff0000\" points=\"1736.34,-249.88 1745.82,-245.15 1735.46,-242.94 1736.34,-249.88\"/>\n",
       "<text text-anchor=\"middle\" x=\"1659.39\" y=\"-264.8\" font-family=\"Times-Roman\" font-size=\"14.00\">no</text>\n",
       "</g>\n",
       "<!-- 27 -->\n",
       "<g id=\"node28\" class=\"node\">\n",
       "<title>27</title>\n",
       "<ellipse fill=\"none\" stroke=\"black\" cx=\"1834.33\" cy=\"-180\" rx=\"97.48\" ry=\"18\"/>\n",
       "<text text-anchor=\"middle\" x=\"1834.33\" y=\"-176.3\" font-family=\"Times-Roman\" font-size=\"14.00\">leaf=0.523765862</text>\n",
       "</g>\n",
       "<!-- 13&#45;&gt;27 -->\n",
       "<g id=\"edge27\" class=\"edge\">\n",
       "<title>13&#45;&gt;27</title>\n",
       "<path fill=\"none\" stroke=\"#ff0000\" d=\"M1503.23,-166.76C1569.94,-169.44 1659.59,-173.03 1728.63,-175.8\"/>\n",
       "<polygon fill=\"#ff0000\" stroke=\"#ff0000\" points=\"1728.53,-179.3 1738.66,-176.2 1728.81,-172.31 1728.53,-179.3\"/>\n",
       "<text text-anchor=\"middle\" x=\"1659.39\" y=\"-177.8\" font-family=\"Times-Roman\" font-size=\"14.00\">yes</text>\n",
       "</g>\n",
       "<!-- 28 -->\n",
       "<g id=\"node29\" class=\"node\">\n",
       "<title>28</title>\n",
       "<ellipse fill=\"none\" stroke=\"black\" cx=\"1834.33\" cy=\"-126\" rx=\"97.48\" ry=\"18\"/>\n",
       "<text text-anchor=\"middle\" x=\"1834.33\" y=\"-122.3\" font-family=\"Times-Roman\" font-size=\"14.00\">leaf=0.389942884</text>\n",
       "</g>\n",
       "<!-- 13&#45;&gt;28 -->\n",
       "<g id=\"edge28\" class=\"edge\">\n",
       "<title>13&#45;&gt;28</title>\n",
       "<path fill=\"none\" stroke=\"#0000ff\" d=\"M1496.47,-155.4C1566.02,-149.33 1663.44,-140.83 1735.64,-134.53\"/>\n",
       "<polygon fill=\"#0000ff\" stroke=\"#0000ff\" points=\"1735.99,-138.01 1745.65,-133.65 1735.39,-131.04 1735.99,-138.01\"/>\n",
       "<text text-anchor=\"middle\" x=\"1659.39\" y=\"-147.8\" font-family=\"Times-Roman\" font-size=\"14.00\">no, missing</text>\n",
       "</g>\n",
       "<!-- 29 -->\n",
       "<g id=\"node30\" class=\"node\">\n",
       "<title>29</title>\n",
       "<ellipse fill=\"none\" stroke=\"black\" cx=\"1834.33\" cy=\"-72\" rx=\"103.18\" ry=\"18\"/>\n",
       "<text text-anchor=\"middle\" x=\"1834.33\" y=\"-68.3\" font-family=\"Times-Roman\" font-size=\"14.00\">leaf=0.0637966767</text>\n",
       "</g>\n",
       "<!-- 14&#45;&gt;29 -->\n",
       "<g id=\"edge29\" class=\"edge\">\n",
       "<title>14&#45;&gt;29</title>\n",
       "<path fill=\"none\" stroke=\"#0000ff\" d=\"M1597.2,-72C1639.38,-72 1682.86,-72 1720.83,-72\"/>\n",
       "<polygon fill=\"#0000ff\" stroke=\"#0000ff\" points=\"1720.88,-75.5 1730.88,-72 1720.88,-68.5 1720.88,-75.5\"/>\n",
       "<text text-anchor=\"middle\" x=\"1659.39\" y=\"-75.8\" font-family=\"Times-Roman\" font-size=\"14.00\">yes, missing</text>\n",
       "</g>\n",
       "<!-- 30 -->\n",
       "<g id=\"node31\" class=\"node\">\n",
       "<title>30</title>\n",
       "<ellipse fill=\"none\" stroke=\"black\" cx=\"1834.33\" cy=\"-18\" rx=\"91.78\" ry=\"18\"/>\n",
       "<text text-anchor=\"middle\" x=\"1834.33\" y=\"-14.3\" font-family=\"Times-Roman\" font-size=\"14.00\">leaf=0.28607288</text>\n",
       "</g>\n",
       "<!-- 14&#45;&gt;30 -->\n",
       "<g id=\"edge30\" class=\"edge\">\n",
       "<title>14&#45;&gt;30</title>\n",
       "<path fill=\"none\" stroke=\"#ff0000\" d=\"M1522.18,-57.64C1592.61,-48.66 1681.9,-37.29 1746.75,-29.03\"/>\n",
       "<polygon fill=\"#ff0000\" stroke=\"#ff0000\" points=\"1747.47,-32.47 1756.95,-27.73 1746.58,-25.52 1747.47,-32.47\"/>\n",
       "<text text-anchor=\"middle\" x=\"1659.39\" y=\"-48.8\" font-family=\"Times-Roman\" font-size=\"14.00\">no</text>\n",
       "</g>\n",
       "</g>\n",
       "</svg>\n"
      ],
      "text/plain": [
       "<graphviz.files.Source at 0x7f7682b9e940>"
      ]
     },
     "execution_count": 56,
     "metadata": {},
     "output_type": "execute_result"
    }
   ],
   "source": [
    "from xgboost import plot_tree\n",
    "#plot_tree(fit_model, num_trees=1, rankdir='LR')\n",
    "xgb.to_graphviz(fit_model, num_trees=0, rankdir='LR')"
   ]
  },
  {
   "cell_type": "markdown",
   "id": "4db69f99",
   "metadata": {},
   "source": [
    "Note that the final probability prediction is obtained by taking sum of leaf values (raw scores) in all the trees and then transforming it between 0 and 1 using a sigmoid function. The leaf value (raw score) can be negative, the value 0 actually represents probability being 1/2."
   ]
  },
  {
   "cell_type": "markdown",
   "id": "14554f5e",
   "metadata": {},
   "source": [
    "### Confusion matrix"
   ]
  },
  {
   "cell_type": "markdown",
   "id": "216bae07",
   "metadata": {},
   "source": [
    "<img src='img/Screen Shot 2021-09-18 at 12.23.15 pm.png' width=800 align='left'>"
   ]
  },
  {
   "cell_type": "markdown",
   "id": "d9faa463",
   "metadata": {},
   "source": [
    "<img src='img/Screen Shot 2021-09-19 at 6.02.52 pm.png' width=800 align='left'>"
   ]
  },
  {
   "cell_type": "markdown",
   "id": "95a31409",
   "metadata": {},
   "source": [
    "<img src='img/Screen Shot 2021-09-19 at 6.03.14 pm.png' width=800 align='left'>"
   ]
  },
  {
   "cell_type": "markdown",
   "id": "595ccc17",
   "metadata": {},
   "source": [
    "<img src='img/Screen Shot 2021-09-19 at 6.03.21 pm.png' width=800 align='left'>"
   ]
  },
  {
   "cell_type": "markdown",
   "id": "1d0581c7",
   "metadata": {},
   "source": [
    "<img src='img/Screen Shot 2021-09-19 at 6.03.27 pm.png' width=800 align='left'>"
   ]
  },
  {
   "cell_type": "markdown",
   "id": "5299767a",
   "metadata": {},
   "source": [
    "<img src='img/Screen Shot 2021-09-19 at 6.08.02 pm.png' width=800 align='left'>"
   ]
  },
  {
   "cell_type": "code",
   "execution_count": 57,
   "id": "5848bf03",
   "metadata": {},
   "outputs": [],
   "source": [
    "from sklearn.metrics import confusion_matrix\n",
    "from sklearn.metrics import accuracy_score\n",
    "from sklearn.metrics import precision_score\n",
    "from sklearn.metrics import recall_score\n",
    "from sklearn.metrics import f1_score\n",
    "from sklearn.metrics import roc_auc_score"
   ]
  },
  {
   "cell_type": "code",
   "execution_count": 58,
   "id": "e9514232",
   "metadata": {},
   "outputs": [],
   "source": [
    "def print_confusion_matrix(test_y, pred_y):\n",
    "    tn, fp, fn, tp = confusion_matrix(test_y, pred_y).ravel()\n",
    "    print(f'{tp} | {fn}')\n",
    "    print(f'_________')\n",
    "    print(f'{fp} | {tn}')\n",
    "    \n",
    "def print_main_eval_metrics(test_y, pred_y):\n",
    "    accuracy = accuracy_score(test_y, pred_y)\n",
    "    precision = precision_score(test_y, pred_y)\n",
    "    recall = recall_score(test_y, pred_y)\n",
    "    f1 = f1_score(test_y, pred_y)\n",
    "    roc_auc = roc_auc_score(test_y, pred_y)\n",
    "    print(f' accuracy:{accuracy}, \\n precision:{precision} \\n recall:{recall} \\n f1:{f1} \\n roc_auc:{roc_auc}')"
   ]
  },
  {
   "cell_type": "markdown",
   "id": "7b9e6b57",
   "metadata": {},
   "source": [
    "Confusion matrix for the test dataset"
   ]
  },
  {
   "cell_type": "code",
   "execution_count": 59,
   "id": "70923dce",
   "metadata": {},
   "outputs": [
    {
     "name": "stdout",
     "output_type": "stream",
     "text": [
      "275 | 75\n",
      "_________\n",
      "258 | 800\n"
     ]
    }
   ],
   "source": [
    "print_confusion_matrix(test_y, pred_test_y)"
   ]
  },
  {
   "cell_type": "markdown",
   "id": "d9293f78",
   "metadata": {},
   "source": [
    "Main metrics for the test dataset"
   ]
  },
  {
   "cell_type": "code",
   "execution_count": 60,
   "id": "1135aabb",
   "metadata": {},
   "outputs": [
    {
     "name": "stdout",
     "output_type": "stream",
     "text": [
      " accuracy:0.7634943181818182, \n",
      " precision:0.5159474671669794 \n",
      " recall:0.7857142857142857 \n",
      " f1:0.622876557191393 \n",
      " roc_auc:0.7709289765055359\n"
     ]
    }
   ],
   "source": [
    "print_main_eval_metrics(test_y, pred_test_y)"
   ]
  },
  {
   "cell_type": "markdown",
   "id": "d4efc367",
   "metadata": {},
   "source": [
    "Main metrics for the train dataset - good but not overfitted"
   ]
  },
  {
   "cell_type": "code",
   "execution_count": 61,
   "id": "6733d40f",
   "metadata": {},
   "outputs": [
    {
     "name": "stdout",
     "output_type": "stream",
     "text": [
      " accuracy:0.7677556818181818, \n",
      " precision:0.5448717948717948 \n",
      " recall:0.8399209486166008 \n",
      " f1:0.660964230171073 \n",
      " roc_auc:0.7905244023588595\n"
     ]
    }
   ],
   "source": [
    "print_main_eval_metrics(train_y, pred_train_y)"
   ]
  },
  {
   "cell_type": "markdown",
   "id": "077823a4",
   "metadata": {},
   "source": [
    "</br>\n",
    "<b>TIPS - When to use F1, Accuracy, ROC AUC, PR AUC? </b></br>\n",
    "\n",
    "https://neptune.ai/blog/f1-score-accuracy-roc-auc-pr-auc</br>\n",
    "\n",
    "\n",
    "Accuracy – balanced dataset, when every class is equally important to you</br>\n",
    "\n",
    "Precision vs Recall - Maximizing precision will minimize the number of false positives, whereas maximizing the recall will minimize the number of false negatives.</br>\n",
    "\n",
    "For customer churn: more interested in recall than precision. not predicting that a customer will Churn is a big miss but predicting that a customer might churn while they do not will just trigger specific retention campaigns that might be unnecessary.</br>\n",
    "\n",
    "F1 – every binary classification problem where you care more about the Positive class.</br>\n",
    "\n",
    "ROC AUC. – DON’T USE when imbalanced dataset. When you care equally about positive and negative. When you care about ranking predictions.</br>\n",
    "https://towardsdatascience.com/understanding-auc-roc-curve-68b2303cc9c5\n",
    "\n",
    "PR AUC – when heavily imbalanced dataset. When you care more about positive than negative.</br>\n"
   ]
  },
  {
   "cell_type": "markdown",
   "id": "aa7ba248",
   "metadata": {},
   "source": [
    "<img src='img/Screen Shot 2021-09-18 at 11.45.34 am.png' width=800 align='left'>"
   ]
  },
  {
   "cell_type": "code",
   "execution_count": 62,
   "id": "6fe61fbf",
   "metadata": {},
   "outputs": [],
   "source": [
    "from sklearn.model_selection import cross_val_score\n",
    "import xgboost as xgb\n",
    "xgbClassifier = xgb.XGBClassifier(objective=\"binary:logistic\", random_state=42, eval_metric='aucpr')\n",
    "\n",
    "scores = cross_val_score(xgbClassifier, train_x, train_y, cv=15, scoring = \"average_precision\")\n",
    "#sklearn.metrics.SCORERS.keys()"
   ]
  },
  {
   "cell_type": "code",
   "execution_count": 63,
   "id": "000c70a2",
   "metadata": {},
   "outputs": [
    {
     "name": "stdout",
     "output_type": "stream",
     "text": [
      "average precision across all rounds: 0.621740282303629\n"
     ]
    }
   ],
   "source": [
    "print(f'average precision across all rounds: {scores.mean()}')"
   ]
  },
  {
   "cell_type": "markdown",
   "id": "3374965d",
   "metadata": {},
   "source": [
    "# Underfitting/Overfitting"
   ]
  },
  {
   "cell_type": "markdown",
   "id": "022bc15f",
   "metadata": {},
   "source": [
    "<img src='img/Screen Shot 2021-09-19 at 11.59.58 am.png' width=800 align='left'>"
   ]
  },
  {
   "cell_type": "markdown",
   "id": "0171fd3f",
   "metadata": {},
   "source": [
    "<img src='img/Screen Shot 2021-09-19 at 12.00.05 pm.png' width=800 align='left'>"
   ]
  },
  {
   "cell_type": "markdown",
   "id": "e225cb70",
   "metadata": {},
   "source": [
    "<img src='img/Screen Shot 2021-09-19 at 12.00.18 pm.png' width=800 align='left'>"
   ]
  },
  {
   "cell_type": "markdown",
   "id": "7902cdc9",
   "metadata": {},
   "source": [
    "Let's generate an overfitted model!"
   ]
  },
  {
   "cell_type": "code",
   "execution_count": 64,
   "id": "835d91af",
   "metadata": {},
   "outputs": [
    {
     "data": {
      "text/plain": [
       "XGBClassifier(base_score=0.5, booster='gbtree', colsample_bylevel=1,\n",
       "              colsample_bynode=1, colsample_bytree=1, gamma=0, gpu_id=-1,\n",
       "              importance_type='gain', interaction_constraints='',\n",
       "              learning_rate=0.300000012, max_delta_step=0, max_depth=20,\n",
       "              min_child_weight=1, missing=nan, monotone_constraints='()',\n",
       "              n_estimators=400, n_jobs=4, num_parallel_tree=1, random_state=42,\n",
       "              reg_alpha=0, reg_lambda=0, scale_pos_weight=1, subsample=1,\n",
       "              tree_method='exact', validate_parameters=1, verbosity=None)"
      ]
     },
     "execution_count": 64,
     "metadata": {},
     "output_type": "execute_result"
    }
   ],
   "source": [
    "xgbClassifier_overfit = xgb.XGBClassifier(objective=\"binary:logistic\", random_state=42, max_depth=20, reg_lambda=0, n_estimators=400)\n",
    "xgbClassifier_overfit.fit(train_x, train_y, eval_metric=\"aucpr\")"
   ]
  },
  {
   "cell_type": "markdown",
   "id": "d58ea629",
   "metadata": {},
   "source": [
    "We generate predictions on both the train and test set"
   ]
  },
  {
   "cell_type": "code",
   "execution_count": 65,
   "id": "c38117e7",
   "metadata": {},
   "outputs": [],
   "source": [
    "over_pred_test_y = xgbClassifier_overfit.predict(test_x)\n",
    "over_pred_train_y = xgbClassifier_overfit.predict(train_x)"
   ]
  },
  {
   "cell_type": "markdown",
   "id": "23fdf904",
   "metadata": {},
   "source": [
    "Eval metrics on the training dataset. We see a close to perfect accuracy and f1 score"
   ]
  },
  {
   "cell_type": "code",
   "execution_count": 66,
   "id": "429d317e",
   "metadata": {},
   "outputs": [
    {
     "name": "stdout",
     "output_type": "stream",
     "text": [
      " accuracy:0.998046875, \n",
      " precision:0.9973597359735974 \n",
      " recall:0.9953886693017128 \n",
      " f1:0.9963732278272337 \n",
      " roc_auc:0.9972081897796848\n"
     ]
    }
   ],
   "source": [
    "print_main_eval_metrics(train_y, over_pred_train_y)"
   ]
  },
  {
   "cell_type": "code",
   "execution_count": 67,
   "id": "8db98613",
   "metadata": {},
   "outputs": [
    {
     "name": "stdout",
     "output_type": "stream",
     "text": [
      " accuracy:0.7869318181818182, \n",
      " precision:0.5850340136054422 \n",
      " recall:0.49142857142857144 \n",
      " f1:0.5341614906832298 \n",
      " roc_auc:0.6880583310829058\n"
     ]
    }
   ],
   "source": [
    "print_main_eval_metrics(test_y, over_pred_test_y)"
   ]
  },
  {
   "cell_type": "markdown",
   "id": "d80b38c4",
   "metadata": {},
   "source": [
    "# Quick explanation of Regularisation"
   ]
  },
  {
   "cell_type": "markdown",
   "id": "b6c965c4",
   "metadata": {},
   "source": [
    "Regularisation is a way to keep our model's parameter/weights \"in check\" and not too large. It helps preventing overfitting.</br>\n",
    "L2 regression is the most known technique.</br>\n",
    "For tree based methods, it means not having too many \"splits\" by defining a minimum gain or other methods.\n",
    "For other types of algorithms, like in linear regression, L2 regression is an additional penalty that is added to the quality metrics (eg: RSS) that forces the algorithm to keep the weights relatively small, and hence avoid "
   ]
  },
  {
   "cell_type": "markdown",
   "id": "07b665ae",
   "metadata": {},
   "source": [
    "# Hyperparameters tuning - More details on that on Thursday ML Tabular session"
   ]
  },
  {
   "cell_type": "markdown",
   "id": "bdfa8f77",
   "metadata": {},
   "source": [
    "<img src='img/Screen Shot 2021-09-19 at 5.37.35 pm.png' width=800 align='left'>"
   ]
  },
  {
   "cell_type": "code",
   "execution_count": 68,
   "id": "e45e8553",
   "metadata": {},
   "outputs": [
    {
     "name": "stdout",
     "output_type": "stream",
     "text": [
      "Fitting 5 folds for each of 50 candidates, totalling 250 fits\n",
      "[0]\tvalidation_0-aucpr:0.65767\n",
      "[1]\tvalidation_0-aucpr:0.65950\n",
      "[2]\tvalidation_0-aucpr:0.66155\n",
      "[3]\tvalidation_0-aucpr:0.66659\n",
      "[4]\tvalidation_0-aucpr:0.66416\n",
      "[5]\tvalidation_0-aucpr:0.67163\n",
      "[6]\tvalidation_0-aucpr:0.67564\n",
      "[7]\tvalidation_0-aucpr:0.67672\n",
      "[8]\tvalidation_0-aucpr:0.66956\n",
      "[9]\tvalidation_0-aucpr:0.66959\n",
      "[10]\tvalidation_0-aucpr:0.67027\n",
      "[11]\tvalidation_0-aucpr:0.67252\n",
      "[12]\tvalidation_0-aucpr:0.67221\n",
      "[13]\tvalidation_0-aucpr:0.67205\n",
      "[14]\tvalidation_0-aucpr:0.67221\n",
      "[15]\tvalidation_0-aucpr:0.67033\n",
      "[16]\tvalidation_0-aucpr:0.66447\n",
      "[17]\tvalidation_0-aucpr:0.66421\n"
     ]
    },
    {
     "data": {
      "text/plain": [
       "RandomizedSearchCV(cv=5,\n",
       "                   estimator=XGBClassifier(base_score=None, booster=None,\n",
       "                                           colsample_bylevel=None,\n",
       "                                           colsample_bynode=None,\n",
       "                                           colsample_bytree=None,\n",
       "                                           eval_metric='aucpr', gamma=None,\n",
       "                                           gpu_id=None, importance_type='gain',\n",
       "                                           interaction_constraints=None,\n",
       "                                           learning_rate=None,\n",
       "                                           max_delta_step=None, max_depth=None,\n",
       "                                           min_child_weight=None, missing=nan,\n",
       "                                           monotone_constraints=No...\n",
       "                                           random_state=42, reg_alpha=None,\n",
       "                                           reg_lambda=None,\n",
       "                                           scale_pos_weight=2.7687366167023555,\n",
       "                                           subsample=None, tree_method=None,\n",
       "                                           validate_parameters=None,\n",
       "                                           verbosity=None),\n",
       "                   n_iter=50, n_jobs=2,\n",
       "                   param_distributions={'max_depth': [3, 4, 5, 6, 7],\n",
       "                                        'min_child_weight': [1, 2],\n",
       "                                        'n_estimators': [20, 30, 40, 50],\n",
       "                                        'reg_lambda': [0.75, 1, 1.25]},\n",
       "                   random_state=3, return_train_score=True, verbose=1)"
      ]
     },
     "execution_count": 68,
     "metadata": {},
     "output_type": "execute_result"
    }
   ],
   "source": [
    "from sklearn.model_selection import RandomizedSearchCV, GridSearchCV\n",
    "from scipy.stats import uniform\n",
    "from random import randint\n",
    "\n",
    "params = {'max_depth':[3,4,5,6,7],\n",
    "          'n_estimators':[20, 30, 40, 50],\n",
    "         'reg_lambda':[0.75, 1, 1.25],\n",
    "         'min_child_weight':[1,2]}\n",
    "\n",
    "eval_set = [(test_x, test_y)]\n",
    "\n",
    "xgbClassifier_HPO = xgb.XGBClassifier(objective=\"binary:logistic\", random_state=42, eval_metric='aucpr', scale_pos_weight=scale_pos_weight)\n",
    "search = RandomizedSearchCV(xgbClassifier_HPO, param_distributions=params, random_state=3, n_iter=50,  cv=5, verbose=1, n_jobs=2, return_train_score=True)\n",
    "\n",
    "search.fit(train_x, train_y, eval_set=eval_set, eval_metric=\"aucpr\", early_stopping_rounds=10)\n"
   ]
  },
  {
   "cell_type": "code",
   "execution_count": 69,
   "id": "d7adfca4",
   "metadata": {},
   "outputs": [
    {
     "name": "stdout",
     "output_type": "stream",
     "text": [
      "best_params:{'reg_lambda': 1.25, 'n_estimators': 50, 'min_child_weight': 2, 'max_depth': 5}\n",
      "best_score:0.7562183511137098\n"
     ]
    }
   ],
   "source": [
    "print(f\"best_params:{search.best_params_}\")\n",
    "print(f\"best_score:{search.best_score_}\")"
   ]
  },
  {
   "cell_type": "markdown",
   "id": "3d092c70",
   "metadata": {},
   "source": [
    "# CONCLUSION"
   ]
  },
  {
   "cell_type": "markdown",
   "id": "be433eea",
   "metadata": {},
   "source": [
    "XGBoost is the most popular algorithm for tabular classification problems. Other well known approaches: Random Forest (Decision tree with baggin), Logistic regression.\n",
    "\n",
    "hyperparameter tuning.\n",
    "\n",
    "More details on Decision Trees, boosting vs bagging approaches and KNN (K Nearest Neighbour) on Thursday during the ML Tabular session."
   ]
  },
  {
   "cell_type": "markdown",
   "id": "8445ce1a",
   "metadata": {},
   "source": [
    "# Your Turn! Play a bit with different parameters to see if you can improve the metrics"
   ]
  },
  {
   "cell_type": "code",
   "execution_count": null,
   "id": "89c23652",
   "metadata": {},
   "outputs": [],
   "source": []
  }
 ],
 "metadata": {
  "kernelspec": {
   "display_name": "conda_python3",
   "language": "python",
   "name": "conda_python3"
  },
  "language_info": {
   "codemirror_mode": {
    "name": "ipython",
    "version": 3
   },
   "file_extension": ".py",
   "mimetype": "text/x-python",
   "name": "python",
   "nbconvert_exporter": "python",
   "pygments_lexer": "ipython3",
   "version": "3.6.13"
  }
 },
 "nbformat": 4,
 "nbformat_minor": 5
}
